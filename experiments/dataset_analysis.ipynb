{
 "cells": [
  {
   "cell_type": "code",
   "execution_count": 1,
   "metadata": {},
   "outputs": [],
   "source": [
    "%load_ext autoreload\n",
    "%autoreload 2\n",
    "import os\n",
    "import sys\n",
    "\n",
    "module_path = os.path.abspath(os.path.join('..'))\n",
    "if module_path not in sys.path:\n",
    "    sys.path.append(module_path)\n",
    "\n",
    "import pandas as pd\n",
    "import geopandas as gpd\n",
    "import folium\n",
    "from shapely.geometry import LineString\n",
    "from shapely import wkt\n",
    "import numpy as np\n",
    "import swifter\n",
    "\n",
    "from generator import RoadNetwork"
   ]
  },
  {
   "cell_type": "code",
   "execution_count": 2,
   "metadata": {},
   "outputs": [
    {
     "data": {
      "application/vnd.jupyter.widget-view+json": {
       "model_id": "7edb5c7ff3bb4a19b66a630c9b45498d",
       "version_major": 2,
       "version_minor": 0
      },
      "text/plain": [
       "Pandas Apply:   0%|          | 0/1641024 [00:00<?, ?it/s]"
      ]
     },
     "metadata": {},
     "output_type": "display_data"
    }
   ],
   "source": [
    "df = pd.read_csv(\"../datasets/trajectories/Porto/mapped.csv\")\n",
    "df['POLYLINE'] = df['POLYLINE'].swifter.apply(wkt.loads)\n",
    "gdf = gpd.GeoDataFrame(df, crs='epsg:4326', geometry=\"POLYLINE\")"
   ]
  },
  {
   "cell_type": "code",
   "execution_count": 7,
   "metadata": {},
   "outputs": [
    {
     "data": {
      "text/plain": [
       "0          LINESTRING (-8.61864 41.14141, -8.61850 41.141...\n",
       "1          LINESTRING (-8.63985 41.15983, -8.64035 41.159...\n",
       "2          LINESTRING (-8.61296 41.14036, -8.61338 41.140...\n",
       "3          LINESTRING (-8.57468 41.15195, -8.57470 41.151...\n",
       "4          LINESTRING (-8.64599 41.18049, -8.64595 41.180...\n",
       "                                 ...                        \n",
       "1641019    LINESTRING (-8.60697 41.16228, -8.60697 41.162...\n",
       "1641020    LINESTRING (-8.61247 41.14602, -8.61249 41.145...\n",
       "1641021    LINESTRING (-8.61014 41.14084, -8.61017 41.140...\n",
       "1641022    LINESTRING (-8.63071 41.15489, -8.63073 41.154...\n",
       "1641023    LINESTRING (-8.61554 41.14063, -8.61542 41.140...\n",
       "Name: POLYLINE, Length: 1641024, dtype: geometry"
      ]
     },
     "execution_count": 7,
     "metadata": {},
     "output_type": "execute_result"
    }
   ],
   "source": [
    "gdf.head()\n",
    "gdf[\"POLYLINE\"]"
   ]
  },
  {
   "cell_type": "code",
   "execution_count": 3,
   "metadata": {},
   "outputs": [
    {
     "data": {
      "application/vnd.jupyter.widget-view+json": {
       "model_id": "7b166b6c8d9342e8a9a0d8dc4645b5f7",
       "version_major": 2,
       "version_minor": 0
      },
      "text/plain": [
       "Dask Apply:   0%|          | 0/16 [00:00<?, ?it/s]"
      ]
     },
     "metadata": {},
     "output_type": "display_data"
    }
   ],
   "source": [
    "gdf[\"coords\"] = gdf[\"POLYLINE\"].swifter.apply(lambda x: list(x.coords))"
   ]
  },
  {
   "cell_type": "code",
   "execution_count": 9,
   "metadata": {},
   "outputs": [
    {
     "data": {
      "text/html": [
       "<div>\n",
       "<style scoped>\n",
       "    .dataframe tbody tr th:only-of-type {\n",
       "        vertical-align: middle;\n",
       "    }\n",
       "\n",
       "    .dataframe tbody tr th {\n",
       "        vertical-align: top;\n",
       "    }\n",
       "\n",
       "    .dataframe thead th {\n",
       "        text-align: right;\n",
       "    }\n",
       "</style>\n",
       "<table border=\"1\" class=\"dataframe\">\n",
       "  <thead>\n",
       "    <tr style=\"text-align: right;\">\n",
       "      <th></th>\n",
       "      <th>Unnamed: 0</th>\n",
       "      <th>TRIP_ID</th>\n",
       "      <th>CALL_TYPE</th>\n",
       "      <th>ORIGIN_CALL</th>\n",
       "      <th>ORIGIN_STAND</th>\n",
       "      <th>TAXI_ID</th>\n",
       "      <th>TIMESTAMP</th>\n",
       "      <th>DAY_TYPE</th>\n",
       "      <th>MISSING_DATA</th>\n",
       "      <th>POLYLINE</th>\n",
       "      <th>coords</th>\n",
       "    </tr>\n",
       "  </thead>\n",
       "  <tbody>\n",
       "    <tr>\n",
       "      <th>0</th>\n",
       "      <td>0</td>\n",
       "      <td>1372636858620000589</td>\n",
       "      <td>C</td>\n",
       "      <td>NaN</td>\n",
       "      <td>NaN</td>\n",
       "      <td>20000589</td>\n",
       "      <td>1372636858</td>\n",
       "      <td>A</td>\n",
       "      <td>False</td>\n",
       "      <td>LINESTRING (-8.61864 41.14141, -8.61850 41.141...</td>\n",
       "      <td>[(-8.618643, 41.141412), (-8.618499, 41.141376...</td>\n",
       "    </tr>\n",
       "    <tr>\n",
       "      <th>1</th>\n",
       "      <td>1</td>\n",
       "      <td>1372637303620000596</td>\n",
       "      <td>B</td>\n",
       "      <td>NaN</td>\n",
       "      <td>7.0</td>\n",
       "      <td>20000596</td>\n",
       "      <td>1372637303</td>\n",
       "      <td>A</td>\n",
       "      <td>False</td>\n",
       "      <td>LINESTRING (-8.63985 41.15983, -8.64035 41.159...</td>\n",
       "      <td>[(-8.639847, 41.159826), (-8.640351, 41.159871...</td>\n",
       "    </tr>\n",
       "    <tr>\n",
       "      <th>2</th>\n",
       "      <td>2</td>\n",
       "      <td>1372636951620000320</td>\n",
       "      <td>C</td>\n",
       "      <td>NaN</td>\n",
       "      <td>NaN</td>\n",
       "      <td>20000320</td>\n",
       "      <td>1372636951</td>\n",
       "      <td>A</td>\n",
       "      <td>False</td>\n",
       "      <td>LINESTRING (-8.61296 41.14036, -8.61338 41.140...</td>\n",
       "      <td>[(-8.612964, 41.140359), (-8.613378, 41.14035)...</td>\n",
       "    </tr>\n",
       "    <tr>\n",
       "      <th>3</th>\n",
       "      <td>3</td>\n",
       "      <td>1372636854620000520</td>\n",
       "      <td>C</td>\n",
       "      <td>NaN</td>\n",
       "      <td>NaN</td>\n",
       "      <td>20000520</td>\n",
       "      <td>1372636854</td>\n",
       "      <td>A</td>\n",
       "      <td>False</td>\n",
       "      <td>LINESTRING (-8.57468 41.15195, -8.57470 41.151...</td>\n",
       "      <td>[(-8.574678, 41.151951), (-8.574705, 41.151942...</td>\n",
       "    </tr>\n",
       "    <tr>\n",
       "      <th>4</th>\n",
       "      <td>4</td>\n",
       "      <td>1372637091620000337</td>\n",
       "      <td>C</td>\n",
       "      <td>NaN</td>\n",
       "      <td>NaN</td>\n",
       "      <td>20000337</td>\n",
       "      <td>1372637091</td>\n",
       "      <td>A</td>\n",
       "      <td>False</td>\n",
       "      <td>LINESTRING (-8.64599 41.18049, -8.64595 41.180...</td>\n",
       "      <td>[(-8.645994, 41.18049), (-8.645949, 41.180517)...</td>\n",
       "    </tr>\n",
       "  </tbody>\n",
       "</table>\n",
       "</div>"
      ],
      "text/plain": [
       "   Unnamed: 0              TRIP_ID CALL_TYPE  ORIGIN_CALL  ORIGIN_STAND  \\\n",
       "0           0  1372636858620000589         C          NaN           NaN   \n",
       "1           1  1372637303620000596         B          NaN           7.0   \n",
       "2           2  1372636951620000320         C          NaN           NaN   \n",
       "3           3  1372636854620000520         C          NaN           NaN   \n",
       "4           4  1372637091620000337         C          NaN           NaN   \n",
       "\n",
       "    TAXI_ID   TIMESTAMP DAY_TYPE  MISSING_DATA  \\\n",
       "0  20000589  1372636858        A         False   \n",
       "1  20000596  1372637303        A         False   \n",
       "2  20000320  1372636951        A         False   \n",
       "3  20000520  1372636854        A         False   \n",
       "4  20000337  1372637091        A         False   \n",
       "\n",
       "                                            POLYLINE  \\\n",
       "0  LINESTRING (-8.61864 41.14141, -8.61850 41.141...   \n",
       "1  LINESTRING (-8.63985 41.15983, -8.64035 41.159...   \n",
       "2  LINESTRING (-8.61296 41.14036, -8.61338 41.140...   \n",
       "3  LINESTRING (-8.57468 41.15195, -8.57470 41.151...   \n",
       "4  LINESTRING (-8.64599 41.18049, -8.64595 41.180...   \n",
       "\n",
       "                                              coords  \n",
       "0  [(-8.618643, 41.141412), (-8.618499, 41.141376...  \n",
       "1  [(-8.639847, 41.159826), (-8.640351, 41.159871...  \n",
       "2  [(-8.612964, 41.140359), (-8.613378, 41.14035)...  \n",
       "3  [(-8.574678, 41.151951), (-8.574705, 41.151942...  \n",
       "4  [(-8.645994, 41.18049), (-8.645949, 41.180517)...  "
      ]
     },
     "execution_count": 9,
     "metadata": {},
     "output_type": "execute_result"
    }
   ],
   "source": [
    "gdf.head()"
   ]
  },
  {
   "cell_type": "code",
   "execution_count": 4,
   "metadata": {},
   "outputs": [
    {
     "ename": "Error",
     "evalue": "Canceled future for execute_request message before replies were done",
     "output_type": "error",
     "traceback": [
      "Error: Canceled future for execute_request message before replies were done",
      "at t.KernelShellFutureHandler.dispose (/Users/ironmonkeyapps/.vscode/extensions/ms-toolsai.jupyter-2022.3.1000901801/out/extension.js:2:1204175)",
      "at /Users/ironmonkeyapps/.vscode/extensions/ms-toolsai.jupyter-2022.3.1000901801/out/extension.js:2:1223227",
      "at Map.forEach (<anonymous>)",
      "at v._clearKernelState (/Users/ironmonkeyapps/.vscode/extensions/ms-toolsai.jupyter-2022.3.1000901801/out/extension.js:2:1223212)",
      "at v.dispose (/Users/ironmonkeyapps/.vscode/extensions/ms-toolsai.jupyter-2022.3.1000901801/out/extension.js:2:1216694)",
      "at /Users/ironmonkeyapps/.vscode/extensions/ms-toolsai.jupyter-2022.3.1000901801/out/extension.js:2:533674",
      "at t.swallowExceptions (/Users/ironmonkeyapps/.vscode/extensions/ms-toolsai.jupyter-2022.3.1000901801/out/extension.js:2:913059)",
      "at dispose (/Users/ironmonkeyapps/.vscode/extensions/ms-toolsai.jupyter-2022.3.1000901801/out/extension.js:2:533652)",
      "at t.RawSession.dispose (/Users/ironmonkeyapps/.vscode/extensions/ms-toolsai.jupyter-2022.3.1000901801/out/extension.js:2:537330)",
      "at runMicrotasks (<anonymous>)",
      "at processTicksAndRejections (node:internal/process/task_queues:96:5)"
     ]
    }
   ],
   "source": [
    "# Folium Heat Map\n",
    "from folium import plugins\n",
    "from folium.plugins import HeatMap\n",
    "\n",
    "map_porto = folium.Map(location=[41.18049, -8.64599],\n",
    "                    zoom_start = 10)\n",
    "\n",
    "coords = gdf.iloc[:, -1].values\n",
    "coords = np.concatenate(coords)\n",
    "heat_data = [(c[1], c[0]) for c in coords]\n",
    "\n",
    "# Plot it on the map\n",
    "HeatMap(heat_data, radius=10).add_to(map_porto)\n",
    "\n",
    "# Display the map\n",
    "# map_porto\n",
    "map_porto.save(\"heatmap_gps_points_porto.html\")"
   ]
  }
 ],
 "metadata": {
  "interpreter": {
   "hash": "cca546fdd2f6c7730d3bb3f060630f4f24d9be8a642e1cb2079226fa21b70079"
  },
  "kernelspec": {
   "display_name": "Python 3.9.12 ('road-emb')",
   "language": "python",
   "name": "python3"
  },
  "language_info": {
   "codemirror_mode": {
    "name": "ipython",
    "version": 3
   },
   "file_extension": ".py",
   "mimetype": "text/x-python",
   "name": "python",
   "nbconvert_exporter": "python",
   "pygments_lexer": "ipython3",
   "version": "3.9.12"
  },
  "orig_nbformat": 4
 },
 "nbformat": 4,
 "nbformat_minor": 2
}
