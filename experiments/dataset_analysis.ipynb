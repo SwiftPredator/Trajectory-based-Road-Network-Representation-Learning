{
   "cells": [
      {
         "cell_type": "code",
         "execution_count": 2,
         "metadata": {},
         "outputs": [
            {
               "name": "stdout",
               "output_type": "stream",
               "text": [
                  "The autoreload extension is already loaded. To reload it, use:\n",
                  "  %reload_ext autoreload\n"
               ]
            }
         ],
         "source": [
            "%load_ext autoreload\n",
            "%autoreload 2\n",
            "import os\n",
            "import sys\n",
            "\n",
            "module_path = os.path.abspath(os.path.join('..'))\n",
            "if module_path not in sys.path:\n",
            "    sys.path.append(module_path)\n",
            "\n",
            "import pandas as pd\n",
            "import geopandas as gpd\n",
            "import folium\n",
            "from shapely.geometry import LineString, box, Point\n",
            "from shapely import wkt\n",
            "import numpy as np\n",
            "import swifter\n",
            "\n",
            "from generator import RoadNetwork\n"
         ]
      },
      {
         "cell_type": "code",
         "execution_count": 3,
         "metadata": {},
         "outputs": [
            {
               "ename": "WKTReadingError",
               "evalue": "Could not create geometry because of errors while reading input.",
               "output_type": "error",
               "traceback": [
                  "\u001b[0;31m---------------------------------------------------------------------------\u001b[0m",
                  "\u001b[0;31mTypeError\u001b[0m                                 Traceback (most recent call last)",
                  "File \u001b[0;32m~/miniconda3/envs/road/lib/python3.9/site-packages/swifter/swifter.py:239\u001b[0m, in \u001b[0;36mSeriesAccessor.apply\u001b[0;34m(self, func, convert_dtype, args, **kwds)\u001b[0m\n\u001b[1;32m    238\u001b[0m \u001b[39mwith\u001b[39;00m suppress_stdout_stderr_logging():\n\u001b[0;32m--> 239\u001b[0m     tmp_df \u001b[39m=\u001b[39m func(sample, \u001b[39m*\u001b[39;49margs, \u001b[39m*\u001b[39;49m\u001b[39m*\u001b[39;49mkwds)\n\u001b[1;32m    240\u001b[0m     sample_df \u001b[39m=\u001b[39m sample\u001b[39m.\u001b[39mapply(func, convert_dtype\u001b[39m=\u001b[39mconvert_dtype, args\u001b[39m=\u001b[39margs, \u001b[39m*\u001b[39m\u001b[39m*\u001b[39mkwds)\n",
                  "File \u001b[0;32m~/miniconda3/envs/road/lib/python3.9/site-packages/shapely/wkt.py:22\u001b[0m, in \u001b[0;36mloads\u001b[0;34m(data)\u001b[0m\n\u001b[1;32m     10\u001b[0m \u001b[39m\"\"\"\u001b[39;00m\n\u001b[1;32m     11\u001b[0m \u001b[39mLoad a geometry from a WKT string.\u001b[39;00m\n\u001b[1;32m     12\u001b[0m \n\u001b[0;32m   (...)\u001b[0m\n\u001b[1;32m     20\u001b[0m \u001b[39mShapely geometry object\u001b[39;00m\n\u001b[1;32m     21\u001b[0m \u001b[39m\"\"\"\u001b[39;00m\n\u001b[0;32m---> 22\u001b[0m \u001b[39mreturn\u001b[39;00m geos\u001b[39m.\u001b[39;49mWKTReader(geos\u001b[39m.\u001b[39;49mlgeos)\u001b[39m.\u001b[39;49mread(data)\n",
                  "File \u001b[0;32m~/miniconda3/envs/road/lib/python3.9/site-packages/shapely/geos.py:327\u001b[0m, in \u001b[0;36mWKTReader.read\u001b[0;34m(self, text)\u001b[0m\n\u001b[1;32m    326\u001b[0m \u001b[39mif\u001b[39;00m \u001b[39mnot\u001b[39;00m \u001b[39misinstance\u001b[39m(text, \u001b[39mstr\u001b[39m):\n\u001b[0;32m--> 327\u001b[0m     \u001b[39mraise\u001b[39;00m \u001b[39mTypeError\u001b[39;00m(\u001b[39m\"\u001b[39m\u001b[39mOnly str is accepted.\u001b[39m\u001b[39m\"\u001b[39m)\n\u001b[1;32m    328\u001b[0m text \u001b[39m=\u001b[39m text\u001b[39m.\u001b[39mencode()\n",
                  "\u001b[0;31mTypeError\u001b[0m: Only str is accepted.",
                  "\nDuring handling of the above exception, another exception occurred:\n",
                  "\u001b[0;31mWKTReadingError\u001b[0m                           Traceback (most recent call last)",
                  "\u001b[1;32m/home/pheinemeyer/Road-Network-Embedding-Generator/experiments/dataset_analysis.ipynb Cell 2'\u001b[0m in \u001b[0;36m<cell line: 5>\u001b[0;34m()\u001b[0m\n\u001b[1;32m      <a href='vscode-notebook-cell://ssh-remote%2Bpascal02/home/pheinemeyer/Road-Network-Embedding-Generator/experiments/dataset_analysis.ipynb#ch0000001vscode-remote?line=1'>2</a>\u001b[0m df \u001b[39m=\u001b[39m pd\u001b[39m.\u001b[39mread_csv(\u001b[39m\"\u001b[39m\u001b[39m../datasets/trajectories/Porto/train.csv\u001b[39m\u001b[39m\"\u001b[39m)\n\u001b[1;32m      <a href='vscode-notebook-cell://ssh-remote%2Bpascal02/home/pheinemeyer/Road-Network-Embedding-Generator/experiments/dataset_analysis.ipynb#ch0000001vscode-remote?line=2'>3</a>\u001b[0m \u001b[39m# indices = np.random.choice(df.shape[0], int(df.shape[0]/10))\u001b[39;00m\n\u001b[1;32m      <a href='vscode-notebook-cell://ssh-remote%2Bpascal02/home/pheinemeyer/Road-Network-Embedding-Generator/experiments/dataset_analysis.ipynb#ch0000001vscode-remote?line=3'>4</a>\u001b[0m \u001b[39m# df = df.iloc[indices, :].reset_index()\u001b[39;00m\n\u001b[0;32m----> <a href='vscode-notebook-cell://ssh-remote%2Bpascal02/home/pheinemeyer/Road-Network-Embedding-Generator/experiments/dataset_analysis.ipynb#ch0000001vscode-remote?line=4'>5</a>\u001b[0m df[\u001b[39m'\u001b[39m\u001b[39mPOLYLINE\u001b[39m\u001b[39m'\u001b[39m] \u001b[39m=\u001b[39m df[\u001b[39m'\u001b[39;49m\u001b[39mPOLYLINE\u001b[39;49m\u001b[39m'\u001b[39;49m]\u001b[39m.\u001b[39;49mswifter\u001b[39m.\u001b[39;49mapply(wkt\u001b[39m.\u001b[39;49mloads)\n\u001b[1;32m      <a href='vscode-notebook-cell://ssh-remote%2Bpascal02/home/pheinemeyer/Road-Network-Embedding-Generator/experiments/dataset_analysis.ipynb#ch0000001vscode-remote?line=5'>6</a>\u001b[0m gdf \u001b[39m=\u001b[39m gpd\u001b[39m.\u001b[39mGeoDataFrame(df, crs\u001b[39m=\u001b[39m\u001b[39m'\u001b[39m\u001b[39mepsg:4326\u001b[39m\u001b[39m'\u001b[39m, geometry\u001b[39m=\u001b[39m\u001b[39m\"\u001b[39m\u001b[39mPOLYLINE\u001b[39m\u001b[39m\"\u001b[39m)\n\u001b[1;32m      <a href='vscode-notebook-cell://ssh-remote%2Bpascal02/home/pheinemeyer/Road-Network-Embedding-Generator/experiments/dataset_analysis.ipynb#ch0000001vscode-remote?line=6'>7</a>\u001b[0m gdf[\u001b[39m\"\u001b[39m\u001b[39mcoords\u001b[39m\u001b[39m\"\u001b[39m] \u001b[39m=\u001b[39m gdf[\u001b[39m\"\u001b[39m\u001b[39mPOLYLINE\u001b[39m\u001b[39m\"\u001b[39m]\u001b[39m.\u001b[39mswifter\u001b[39m.\u001b[39mapply(\u001b[39mlambda\u001b[39;00m x: \u001b[39mlist\u001b[39m(x\u001b[39m.\u001b[39mcoords))\n",
                  "File \u001b[0;32m~/miniconda3/envs/road/lib/python3.9/site-packages/swifter/swifter.py:248\u001b[0m, in \u001b[0;36mSeriesAccessor.apply\u001b[0;34m(self, func, convert_dtype, args, **kwds)\u001b[0m\n\u001b[1;32m    246\u001b[0m \u001b[39mexcept\u001b[39;00m ERRORS_TO_HANDLE:  \u001b[39m# if can't vectorize, estimate time to pandas apply\u001b[39;00m\n\u001b[1;32m    247\u001b[0m     wrapped \u001b[39m=\u001b[39m \u001b[39mself\u001b[39m\u001b[39m.\u001b[39m_wrapped_apply(func, convert_dtype\u001b[39m=\u001b[39mconvert_dtype, args\u001b[39m=\u001b[39margs, \u001b[39m*\u001b[39m\u001b[39m*\u001b[39mkwds)\n\u001b[0;32m--> 248\u001b[0m     timed \u001b[39m=\u001b[39m timeit\u001b[39m.\u001b[39;49mtimeit(wrapped, number\u001b[39m=\u001b[39;49mN_REPEATS)\n\u001b[1;32m    249\u001b[0m     sample_proc_est \u001b[39m=\u001b[39m timed \u001b[39m/\u001b[39m N_REPEATS\n\u001b[1;32m    250\u001b[0m     est_apply_duration \u001b[39m=\u001b[39m sample_proc_est \u001b[39m/\u001b[39m \u001b[39mself\u001b[39m\u001b[39m.\u001b[39m_SAMPLE_SIZE \u001b[39m*\u001b[39m \u001b[39mself\u001b[39m\u001b[39m.\u001b[39m_nrows\n",
                  "File \u001b[0;32m~/miniconda3/envs/road/lib/python3.9/timeit.py:233\u001b[0m, in \u001b[0;36mtimeit\u001b[0;34m(stmt, setup, timer, number, globals)\u001b[0m\n\u001b[1;32m    230\u001b[0m \u001b[39mdef\u001b[39;00m \u001b[39mtimeit\u001b[39m(stmt\u001b[39m=\u001b[39m\u001b[39m\"\u001b[39m\u001b[39mpass\u001b[39m\u001b[39m\"\u001b[39m, setup\u001b[39m=\u001b[39m\u001b[39m\"\u001b[39m\u001b[39mpass\u001b[39m\u001b[39m\"\u001b[39m, timer\u001b[39m=\u001b[39mdefault_timer,\n\u001b[1;32m    231\u001b[0m            number\u001b[39m=\u001b[39mdefault_number, \u001b[39mglobals\u001b[39m\u001b[39m=\u001b[39m\u001b[39mNone\u001b[39;00m):\n\u001b[1;32m    232\u001b[0m     \u001b[39m\"\"\"Convenience function to create Timer object and call timeit method.\"\"\"\u001b[39;00m\n\u001b[0;32m--> 233\u001b[0m     \u001b[39mreturn\u001b[39;00m Timer(stmt, setup, timer, \u001b[39mglobals\u001b[39;49m)\u001b[39m.\u001b[39;49mtimeit(number)\n",
                  "File \u001b[0;32m~/miniconda3/envs/road/lib/python3.9/timeit.py:177\u001b[0m, in \u001b[0;36mTimer.timeit\u001b[0;34m(self, number)\u001b[0m\n\u001b[1;32m    175\u001b[0m gc\u001b[39m.\u001b[39mdisable()\n\u001b[1;32m    176\u001b[0m \u001b[39mtry\u001b[39;00m:\n\u001b[0;32m--> 177\u001b[0m     timing \u001b[39m=\u001b[39m \u001b[39mself\u001b[39;49m\u001b[39m.\u001b[39;49minner(it, \u001b[39mself\u001b[39;49m\u001b[39m.\u001b[39;49mtimer)\n\u001b[1;32m    178\u001b[0m \u001b[39mfinally\u001b[39;00m:\n\u001b[1;32m    179\u001b[0m     \u001b[39mif\u001b[39;00m gcold:\n",
                  "File \u001b[0;32m<timeit-src>:6\u001b[0m, in \u001b[0;36minner\u001b[0;34m(_it, _timer, _stmt)\u001b[0m\n",
                  "File \u001b[0;32m~/miniconda3/envs/road/lib/python3.9/site-packages/swifter/swifter.py:161\u001b[0m, in \u001b[0;36mSeriesAccessor._wrapped_apply.<locals>.wrapped\u001b[0;34m()\u001b[0m\n\u001b[1;32m    159\u001b[0m \u001b[39mdef\u001b[39;00m \u001b[39mwrapped\u001b[39m():\n\u001b[1;32m    160\u001b[0m     \u001b[39mwith\u001b[39;00m suppress_stdout_stderr_logging():\n\u001b[0;32m--> 161\u001b[0m         \u001b[39mself\u001b[39;49m\u001b[39m.\u001b[39;49m_obj\u001b[39m.\u001b[39;49miloc[\u001b[39mself\u001b[39;49m\u001b[39m.\u001b[39;49m_SAMPLE_INDEX]\u001b[39m.\u001b[39;49mapply(func, convert_dtype\u001b[39m=\u001b[39;49mconvert_dtype, args\u001b[39m=\u001b[39;49margs, \u001b[39m*\u001b[39;49m\u001b[39m*\u001b[39;49mkwds)\n",
                  "File \u001b[0;32m~/miniconda3/envs/road/lib/python3.9/site-packages/pandas/core/series.py:4433\u001b[0m, in \u001b[0;36mSeries.apply\u001b[0;34m(self, func, convert_dtype, args, **kwargs)\u001b[0m\n\u001b[1;32m   4323\u001b[0m \u001b[39mdef\u001b[39;00m \u001b[39mapply\u001b[39m(\n\u001b[1;32m   4324\u001b[0m     \u001b[39mself\u001b[39m,\n\u001b[1;32m   4325\u001b[0m     func: AggFuncType,\n\u001b[0;32m   (...)\u001b[0m\n\u001b[1;32m   4328\u001b[0m     \u001b[39m*\u001b[39m\u001b[39m*\u001b[39mkwargs,\n\u001b[1;32m   4329\u001b[0m ) \u001b[39m-\u001b[39m\u001b[39m>\u001b[39m DataFrame \u001b[39m|\u001b[39m Series:\n\u001b[1;32m   4330\u001b[0m     \u001b[39m\"\"\"\u001b[39;00m\n\u001b[1;32m   4331\u001b[0m \u001b[39m    Invoke function on values of Series.\u001b[39;00m\n\u001b[1;32m   4332\u001b[0m \n\u001b[0;32m   (...)\u001b[0m\n\u001b[1;32m   4431\u001b[0m \u001b[39m    dtype: float64\u001b[39;00m\n\u001b[1;32m   4432\u001b[0m \u001b[39m    \"\"\"\u001b[39;00m\n\u001b[0;32m-> 4433\u001b[0m     \u001b[39mreturn\u001b[39;00m SeriesApply(\u001b[39mself\u001b[39;49m, func, convert_dtype, args, kwargs)\u001b[39m.\u001b[39;49mapply()\n",
                  "File \u001b[0;32m~/miniconda3/envs/road/lib/python3.9/site-packages/pandas/core/apply.py:1082\u001b[0m, in \u001b[0;36mSeriesApply.apply\u001b[0;34m(self)\u001b[0m\n\u001b[1;32m   1078\u001b[0m \u001b[39mif\u001b[39;00m \u001b[39misinstance\u001b[39m(\u001b[39mself\u001b[39m\u001b[39m.\u001b[39mf, \u001b[39mstr\u001b[39m):\n\u001b[1;32m   1079\u001b[0m     \u001b[39m# if we are a string, try to dispatch\u001b[39;00m\n\u001b[1;32m   1080\u001b[0m     \u001b[39mreturn\u001b[39;00m \u001b[39mself\u001b[39m\u001b[39m.\u001b[39mapply_str()\n\u001b[0;32m-> 1082\u001b[0m \u001b[39mreturn\u001b[39;00m \u001b[39mself\u001b[39;49m\u001b[39m.\u001b[39;49mapply_standard()\n",
                  "File \u001b[0;32m~/miniconda3/envs/road/lib/python3.9/site-packages/pandas/core/apply.py:1137\u001b[0m, in \u001b[0;36mSeriesApply.apply_standard\u001b[0;34m(self)\u001b[0m\n\u001b[1;32m   1131\u001b[0m         values \u001b[39m=\u001b[39m obj\u001b[39m.\u001b[39mastype(\u001b[39mobject\u001b[39m)\u001b[39m.\u001b[39m_values\n\u001b[1;32m   1132\u001b[0m         \u001b[39m# error: Argument 2 to \"map_infer\" has incompatible type\u001b[39;00m\n\u001b[1;32m   1133\u001b[0m         \u001b[39m# \"Union[Callable[..., Any], str, List[Union[Callable[..., Any], str]],\u001b[39;00m\n\u001b[1;32m   1134\u001b[0m         \u001b[39m# Dict[Hashable, Union[Union[Callable[..., Any], str],\u001b[39;00m\n\u001b[1;32m   1135\u001b[0m         \u001b[39m# List[Union[Callable[..., Any], str]]]]]\"; expected\u001b[39;00m\n\u001b[1;32m   1136\u001b[0m         \u001b[39m# \"Callable[[Any], Any]\"\u001b[39;00m\n\u001b[0;32m-> 1137\u001b[0m         mapped \u001b[39m=\u001b[39m lib\u001b[39m.\u001b[39;49mmap_infer(\n\u001b[1;32m   1138\u001b[0m             values,\n\u001b[1;32m   1139\u001b[0m             f,  \u001b[39m# type: ignore[arg-type]\u001b[39;49;00m\n\u001b[1;32m   1140\u001b[0m             convert\u001b[39m=\u001b[39;49m\u001b[39mself\u001b[39;49m\u001b[39m.\u001b[39;49mconvert_dtype,\n\u001b[1;32m   1141\u001b[0m         )\n\u001b[1;32m   1143\u001b[0m \u001b[39mif\u001b[39;00m \u001b[39mlen\u001b[39m(mapped) \u001b[39mand\u001b[39;00m \u001b[39misinstance\u001b[39m(mapped[\u001b[39m0\u001b[39m], ABCSeries):\n\u001b[1;32m   1144\u001b[0m     \u001b[39m# GH#43986 Need to do list(mapped) in order to get treated as nested\u001b[39;00m\n\u001b[1;32m   1145\u001b[0m     \u001b[39m#  See also GH#25959 regarding EA support\u001b[39;00m\n\u001b[1;32m   1146\u001b[0m     \u001b[39mreturn\u001b[39;00m obj\u001b[39m.\u001b[39m_constructor_expanddim(\u001b[39mlist\u001b[39m(mapped), index\u001b[39m=\u001b[39mobj\u001b[39m.\u001b[39mindex)\n",
                  "File \u001b[0;32m~/miniconda3/envs/road/lib/python3.9/site-packages/pandas/_libs/lib.pyx:2870\u001b[0m, in \u001b[0;36mpandas._libs.lib.map_infer\u001b[0;34m()\u001b[0m\n",
                  "File \u001b[0;32m~/miniconda3/envs/road/lib/python3.9/site-packages/shapely/wkt.py:22\u001b[0m, in \u001b[0;36mloads\u001b[0;34m(data)\u001b[0m\n\u001b[1;32m      9\u001b[0m \u001b[39mdef\u001b[39;00m \u001b[39mloads\u001b[39m(data):\n\u001b[1;32m     10\u001b[0m     \u001b[39m\"\"\"\u001b[39;00m\n\u001b[1;32m     11\u001b[0m \u001b[39m    Load a geometry from a WKT string.\u001b[39;00m\n\u001b[1;32m     12\u001b[0m \n\u001b[0;32m   (...)\u001b[0m\n\u001b[1;32m     20\u001b[0m \u001b[39m    Shapely geometry object\u001b[39;00m\n\u001b[1;32m     21\u001b[0m \u001b[39m    \"\"\"\u001b[39;00m\n\u001b[0;32m---> 22\u001b[0m     \u001b[39mreturn\u001b[39;00m geos\u001b[39m.\u001b[39;49mWKTReader(geos\u001b[39m.\u001b[39;49mlgeos)\u001b[39m.\u001b[39;49mread(data)\n",
                  "File \u001b[0;32m~/miniconda3/envs/road/lib/python3.9/site-packages/shapely/geos.py:332\u001b[0m, in \u001b[0;36mWKTReader.read\u001b[0;34m(self, text)\u001b[0m\n\u001b[1;32m    330\u001b[0m geom \u001b[39m=\u001b[39m \u001b[39mself\u001b[39m\u001b[39m.\u001b[39m_lgeos\u001b[39m.\u001b[39mGEOSWKTReader_read(\u001b[39mself\u001b[39m\u001b[39m.\u001b[39m_reader, c_string)\n\u001b[1;32m    331\u001b[0m \u001b[39mif\u001b[39;00m \u001b[39mnot\u001b[39;00m geom:\n\u001b[0;32m--> 332\u001b[0m     \u001b[39mraise\u001b[39;00m WKTReadingError(\n\u001b[1;32m    333\u001b[0m         \u001b[39m\"\u001b[39m\u001b[39mCould not create geometry because of errors \u001b[39m\u001b[39m\"\u001b[39m\n\u001b[1;32m    334\u001b[0m         \u001b[39m\"\u001b[39m\u001b[39mwhile reading input.\u001b[39m\u001b[39m\"\u001b[39m)\n\u001b[1;32m    335\u001b[0m \u001b[39m# avoid circular import dependency\u001b[39;00m\n\u001b[1;32m    336\u001b[0m \u001b[39mfrom\u001b[39;00m \u001b[39mshapely\u001b[39;00m\u001b[39m.\u001b[39;00m\u001b[39mgeometry\u001b[39;00m\u001b[39m.\u001b[39;00m\u001b[39mbase\u001b[39;00m \u001b[39mimport\u001b[39;00m geom_factory\n",
                  "\u001b[0;31mWKTReadingError\u001b[0m: Could not create geometry because of errors while reading input."
               ]
            }
         ],
         "source": [
            "# normal train porto dataset\n",
            "df = pd.read_csv(\"../datasets/trajectories/Porto/train.csv\")\n",
            "# indices = np.random.choice(df.shape[0], int(df.shape[0]/10))\n",
            "# df = df.iloc[indices, :].reset_index()\n",
            "df['POLYLINE'] = df['POLYLINE'].swifter.apply(wkt.loads)\n",
            "gdf = gpd.GeoDataFrame(df, crs='epsg:4326', geometry=\"POLYLINE\")\n",
            "gdf[\"coords\"] = gdf[\"POLYLINE\"].swifter.apply(lambda x: list(x.coords))"
         ]
      },
      {
         "cell_type": "code",
         "execution_count": null,
         "metadata": {},
         "outputs": [],
         "source": [
            "from ast import literal_eval\n",
            "# porto clipped dataset with min 10 gps points per trajectory\n",
            "df_c = pd.read_csv(\"../datasets/trajectories/Porto/clipped_porto_10pmin_2mil.csv\")\n",
            "df_c['POLYLINE'] = df_c['POLYLINE'].swifter.apply(wkt.loads)\n",
            "gdf_c = gpd.GeoDataFrame(df_c, crs='epsg:4326', geometry=\"POLYLINE\")\n",
            "gdf_c[\"coords\"] = gdf_c[\"coords\"].swifter.apply(literal_eval)"
         ]
      },
      {
         "cell_type": "code",
         "execution_count": null,
         "metadata": {},
         "outputs": [],
         "source": [
            "print(gdf[\"coords\"].str.len().sum(), gdf_c[\"coords\"].str.len().sum())"
         ]
      },
      {
         "cell_type": "code",
         "execution_count": null,
         "metadata": {},
         "outputs": [],
         "source": [
            "# Folium Heat Map\n",
            "from folium import plugins\n",
            "from folium.plugins import HeatMap\n",
            "from collections import defaultdict\n",
            "import branca.colormap\n",
            "\n",
            "map_porto = folium.Map(location=[41.18049, -8.64599],\n",
            "                    zoom_start = 8)\n",
            "\n",
            "coords = gdf.iloc[:, -1].values\n",
            "print(coords.shape)\n",
            "# cut down to 1/2 random choice, since full data is too big\n",
            "# indices = np.random.choice(coords.shape[0], int(coords.shape[0]/10))\n",
            "# reduced_coords = coords[indices]\n",
            "# print(reduced_coords.shape)\n",
            "coords = np.concatenate(coords)\n",
            "print(coords.shape)\n",
            "\n",
            "heat_data = [(c[1], c[0]) for c in coords]\n",
            "\n",
            "steps=20\n",
            "colormap = branca.colormap.linear.viridis.scale(0, 1).to_step(steps)\n",
            "colormap.caption = 'Density of GPS points with 10m radius'\n",
            "gradient_map=defaultdict(dict)\n",
            "for i in range(steps):\n",
            "    gradient_map[1/steps*i] = colormap.rgb_hex_str(1/steps*i)\n",
            "colormap.add_to(map_porto)\n",
            "\n",
            "HeatMap(heat_data, radius=10, gradient=gradient_map).add_to(map_porto)\n",
            "\n",
            "\n",
            "# Display the map\n",
            "#map_porto.save(\"heatmap_gps_points_porto.html\")\n",
            "map_porto"
         ]
      },
      {
         "cell_type": "code",
         "execution_count": null,
         "metadata": {},
         "outputs": [],
         "source": [
            "\"\"\"\n",
            "Analysis of Road Segment mapping generated by fmm\n",
            "\"\"\"\n",
            "# visualize trajectories that have outlier speed data - one with negative speed and one with inf speed\n",
            "# negative speeds = trajectories where the vehicle is standing\n",
            "df = pd.read_csv(\"../datasets/trajectories/Porto/road-segment-mapping.csv\", sep=\";\")\n",
            "df.dropna(inplace=True)\n",
            "df[\"speed\"] = df[\"speed\"].swifter.apply(literal_eval)\n",
            "df[\"speed_mean\"] = df[\"speed\"].swifter.apply(np.mean)"
         ]
      },
      {
         "cell_type": "code",
         "execution_count": null,
         "metadata": {},
         "outputs": [],
         "source": [
            "# generate samples\n",
            "sample_neg = df[df[\"speed_mean\"] < 0].iloc[3]\n",
            "sample_inf = df[df[\"speed_mean\"] > 1e1].iloc[1]\n",
            "sample_neg[\"mgeom\"] = wkt.loads(sample_neg[\"mgeom\"])\n",
            "sample_inf[\"mgeom\"] = wkt.loads(sample_inf[\"mgeom\"])\n",
            "\n",
            "sample_inf[\"speed_km\"] = np.around(np.array(sample_inf[\"speed\"]) * 111000 * 3.6, decimals=1)\n",
            "step = int(len(list(sample_inf[\"mgeom\"].coords)) / len(sample_inf[\"speed\"]))\n",
            "sample_inf"
         ]
      },
      {
         "cell_type": "code",
         "execution_count": null,
         "metadata": {},
         "outputs": [],
         "source": [
            "# plot supspecious examples\n",
            "m = folium.Map(\n",
            "    location=[41.1372482, -8.689151],\n",
            "    zoom_start=13,\n",
            "    tiles=\"cartodbdark_matter\"\n",
            ")\n",
            "\n",
            "data = [(c[1], c[0]) for c in list(sample_inf[\"mgeom\"].coords)]\n",
            "# d2 = [(c[1], c[0]) for c in list(so[\"geometry\"].coords)]\n",
            "#speed = df_an[\"speed\"][3]\n",
            "folium.PolyLine(data, color=\"green\", weight=2.5, opacity=0.5).add_to(m)\n",
            "#folium.PolyLine(d2, color=\"red\", weight=2.5, opacity=1).add_to(m)\n",
            "for i, speed in enumerate(sample_inf[\"speed_km\"]):\n",
            "    folium.Marker(\n",
            "        location=data[i*7],\n",
            "        popup=str(speed),\n",
            "        icon=folium.DivIcon(html=f\"\"\"<div style=\"font-family: courier new; color: white\">{str(speed)} km/h</div>\"\"\")\n",
            "    ).add_to(m)\n",
            "\n",
            "m"
         ]
      },
      {
         "cell_type": "code",
         "execution_count": null,
         "metadata": {},
         "outputs": [],
         "source": [
            "network = RoadNetwork()\n",
            "network.load(\"../osm_data/porto\")"
         ]
      },
      {
         "cell_type": "code",
         "execution_count": null,
         "metadata": {},
         "outputs": [],
         "source": [
            "node = network.gdf_edges[(network.gdf_edges[\"length\"]>800) & (network.gdf_edges[\"osmid\"].str.len() < 12)].iloc[-1]\n",
            "print(node.dropna().drop([\"geometry\", \"highway_enc\", \"fid\"]))"
         ]
      },
      {
         "cell_type": "code",
         "execution_count": null,
         "metadata": {},
         "outputs": [],
         "source": [
            "# plot osm examples of way and node for prelim section\n",
            "m = folium.Map(\n",
            "    location=[41.1488008, -8.6121386],\n",
            "    zoom_start=13,\n",
            "    tiles=\"cartodbpositron\"\n",
            ")\n",
            "# html = f'''\n",
            "# id: {node.name}<br>\n",
            "# latitude: {node.y}<br>\n",
            "# longitude: {node.x}<br>\n",
            "# highway: {node.highway}<br>\n",
            "# '''\n",
            "\n",
            "# iframe = folium.IFrame(html,\n",
            "#                        width=100,\n",
            "#                        height=100)\n",
            "\n",
            "# popup = folium.Popup(iframe,\n",
            "#                     show=True,\n",
            "#                     max_width=100)\n",
            "\n",
            "# folium.CircleMarker(location=[node.y, node.x],\n",
            "#                         radius=5,\n",
            "#                         #fill=True,\n",
            "#                         #fill_opacity=1,\n",
            "#                         color=\"red\",\n",
            "#                         # fill_color=\"red\",\n",
            "#                         weight=5).add_to(m)\n",
            "\n",
            "data = [(c[1], c[0]) for c in list(node[\"geometry\"].coords)]\n",
            "# d2 = [(c[1], c[0]) for c in list(so[\"geometry\"].coords)]\n",
            "#speed = df_an[\"speed\"][3]\n",
            "folium.PolyLine(data, color=\"red\", weight=5, opacity=0.8).add_to(m)\n",
            "\n",
            "m"
         ]
      },
      {
         "cell_type": "code",
         "execution_count": 4,
         "metadata": {},
         "outputs": [
            {
               "data": {
                  "application/vnd.jupyter.widget-view+json": {
                     "model_id": "7c1893461e014f839fd69f92ba349624",
                     "version_major": 2,
                     "version_minor": 0
                  },
                  "text/plain": [
                     "Pandas Apply:   0%|          | 0/1641024 [00:00<?, ?it/s]"
                  ]
               },
               "metadata": {},
               "output_type": "display_data"
            },
            {
               "data": {
                  "application/vnd.jupyter.widget-view+json": {
                     "model_id": "780ce1012c1242aaa7d5d1410dd5e67a",
                     "version_major": 2,
                     "version_minor": 0
                  },
                  "text/plain": [
                     "Dask Apply:   0%|          | 0/32 [00:00<?, ?it/s]"
                  ]
               },
               "metadata": {},
               "output_type": "display_data"
            }
         ],
         "source": [
            "\"\"\"\n",
            "Generate Sample Image for trajectorie that goes out of network bounds and enters later again (For thesis visualization)\n",
            "\"\"\"\n",
            "\n",
            "df = pd.read_csv(\"../datasets/trajectories/Porto/mapped.csv\")\n",
            "df['POLYLINE'] = df['POLYLINE'].swifter.apply(wkt.loads)\n",
            "gdf = gpd.GeoDataFrame(df, crs='epsg:4326', geometry=\"POLYLINE\")\n",
            "gdf[\"coords\"] = gdf[\"POLYLINE\"].swifter.apply(lambda x: list(x.coords))\n",
            "network = RoadNetwork()\n",
            "network.load(\"../osm_data/porto\")"
         ]
      },
      {
         "cell_type": "code",
         "execution_count": 6,
         "metadata": {},
         "outputs": [],
         "source": [
            "xmin, ymin, xmax, ymax = network.bounds\n",
            "out_of_bounds_traj = gdf.cx[xmax:, ymax:]"
         ]
      },
      {
         "cell_type": "code",
         "execution_count": 167,
         "metadata": {},
         "outputs": [
            {
               "name": "stdout",
               "output_type": "stream",
               "text": [
                  "771842    800824\n",
                  "Name: Unnamed: 0, dtype: int64\n"
               ]
            },
            {
               "data": {
                  "text/html": [
                     "<div style=\"width:100%;\"><div style=\"position:relative;width:100%;height:0;padding-bottom:60%;\"><span style=\"color:#565656\">Make this Notebook Trusted to load map: File -> Trust Notebook</span><iframe srcdoc=\"&lt;!DOCTYPE html&gt;\n",
                     "&lt;head&gt;    \n",
                     "    &lt;meta http-equiv=&quot;content-type&quot; content=&quot;text/html; charset=UTF-8&quot; /&gt;\n",
                     "    \n",
                     "        &lt;script&gt;\n",
                     "            L_NO_TOUCH = false;\n",
                     "            L_DISABLE_3D = false;\n",
                     "        &lt;/script&gt;\n",
                     "    \n",
                     "    &lt;style&gt;html, body {width: 100%;height: 100%;margin: 0;padding: 0;}&lt;/style&gt;\n",
                     "    &lt;style&gt;#map {position:absolute;top:0;bottom:0;right:0;left:0;}&lt;/style&gt;\n",
                     "    &lt;script src=&quot;https://cdn.jsdelivr.net/npm/leaflet@1.6.0/dist/leaflet.js&quot;&gt;&lt;/script&gt;\n",
                     "    &lt;script src=&quot;https://code.jquery.com/jquery-1.12.4.min.js&quot;&gt;&lt;/script&gt;\n",
                     "    &lt;script src=&quot;https://maxcdn.bootstrapcdn.com/bootstrap/3.2.0/js/bootstrap.min.js&quot;&gt;&lt;/script&gt;\n",
                     "    &lt;script src=&quot;https://cdnjs.cloudflare.com/ajax/libs/Leaflet.awesome-markers/2.0.2/leaflet.awesome-markers.js&quot;&gt;&lt;/script&gt;\n",
                     "    &lt;link rel=&quot;stylesheet&quot; href=&quot;https://cdn.jsdelivr.net/npm/leaflet@1.6.0/dist/leaflet.css&quot;/&gt;\n",
                     "    &lt;link rel=&quot;stylesheet&quot; href=&quot;https://maxcdn.bootstrapcdn.com/bootstrap/3.2.0/css/bootstrap.min.css&quot;/&gt;\n",
                     "    &lt;link rel=&quot;stylesheet&quot; href=&quot;https://maxcdn.bootstrapcdn.com/bootstrap/3.2.0/css/bootstrap-theme.min.css&quot;/&gt;\n",
                     "    &lt;link rel=&quot;stylesheet&quot; href=&quot;https://maxcdn.bootstrapcdn.com/font-awesome/4.6.3/css/font-awesome.min.css&quot;/&gt;\n",
                     "    &lt;link rel=&quot;stylesheet&quot; href=&quot;https://cdnjs.cloudflare.com/ajax/libs/Leaflet.awesome-markers/2.0.2/leaflet.awesome-markers.css&quot;/&gt;\n",
                     "    &lt;link rel=&quot;stylesheet&quot; href=&quot;https://cdn.jsdelivr.net/gh/python-visualization/folium/folium/templates/leaflet.awesome.rotate.min.css&quot;/&gt;\n",
                     "    \n",
                     "            &lt;meta name=&quot;viewport&quot; content=&quot;width=device-width,\n",
                     "                initial-scale=1.0, maximum-scale=1.0, user-scalable=no&quot; /&gt;\n",
                     "            &lt;style&gt;\n",
                     "                #map_976b0baaf3889243884c81df2c65c707 {\n",
                     "                    position: relative;\n",
                     "                    width: 100.0%;\n",
                     "                    height: 100.0%;\n",
                     "                    left: 0.0%;\n",
                     "                    top: 0.0%;\n",
                     "                }\n",
                     "            &lt;/style&gt;\n",
                     "        \n",
                     "&lt;/head&gt;\n",
                     "&lt;body&gt;    \n",
                     "    \n",
                     "            &lt;div class=&quot;folium-map&quot; id=&quot;map_976b0baaf3889243884c81df2c65c707&quot; &gt;&lt;/div&gt;\n",
                     "        \n",
                     "&lt;/body&gt;\n",
                     "&lt;script&gt;    \n",
                     "    \n",
                     "            var map_976b0baaf3889243884c81df2c65c707 = L.map(\n",
                     "                &quot;map_976b0baaf3889243884c81df2c65c707&quot;,\n",
                     "                {\n",
                     "                    center: [41.1372482, -8.689151],\n",
                     "                    crs: L.CRS.EPSG3857,\n",
                     "                    zoom: 11,\n",
                     "                    zoomControl: true,\n",
                     "                    preferCanvas: false,\n",
                     "                }\n",
                     "            );\n",
                     "\n",
                     "            \n",
                     "\n",
                     "        \n",
                     "    \n",
                     "            var tile_layer_54b3d6657d9db6e785771bcb19458e83 = L.tileLayer(\n",
                     "                &quot;https://cartodb-basemaps-{s}.global.ssl.fastly.net/light_all/{z}/{x}/{y}.png&quot;,\n",
                     "                {&quot;attribution&quot;: &quot;\\u0026copy; \\u003ca href=\\&quot;http://www.openstreetmap.org/copyright\\&quot;\\u003eOpenStreetMap\\u003c/a\\u003e contributors \\u0026copy; \\u003ca href=\\&quot;http://cartodb.com/attributions\\&quot;\\u003eCartoDB\\u003c/a\\u003e, CartoDB \\u003ca href =\\&quot;http://cartodb.com/attributions\\&quot;\\u003eattributions\\u003c/a\\u003e&quot;, &quot;detectRetina&quot;: false, &quot;maxNativeZoom&quot;: 18, &quot;maxZoom&quot;: 18, &quot;minZoom&quot;: 0, &quot;noWrap&quot;: false, &quot;opacity&quot;: 1, &quot;subdomains&quot;: &quot;abc&quot;, &quot;tms&quot;: false}\n",
                     "            ).addTo(map_976b0baaf3889243884c81df2c65c707);\n",
                     "        \n",
                     "    \n",
                     "            var rectangle_e5501c00873368c387924fe52c427c0c = L.rectangle(\n",
                     "                [[41.1372482, -8.689151], [41.1860028, -8.5488415]],\n",
                     "                {&quot;bubblingMouseEvents&quot;: true, &quot;color&quot;: &quot;#FE4A49&quot;, &quot;dashArray&quot;: &quot;10&quot;, &quot;dashOffset&quot;: null, &quot;fill&quot;: false, &quot;fillColor&quot;: &quot;#FE4A49&quot;, &quot;fillOpacity&quot;: 0.2, &quot;fillRule&quot;: &quot;evenodd&quot;, &quot;lineCap&quot;: &quot;round&quot;, &quot;lineJoin&quot;: &quot;round&quot;, &quot;noClip&quot;: false, &quot;opacity&quot;: 1, &quot;smoothFactor&quot;: 1.0, &quot;stroke&quot;: true, &quot;weight&quot;: 1.5}\n",
                     "            ).addTo(map_976b0baaf3889243884c81df2c65c707);\n",
                     "        \n",
                     "    \n",
                     "            var poly_line_6c8be4b4cfba850d0bc7ad473d9e94d6 = L.polyline(\n",
                     "                [[41.152608, -8.604693], [41.151996, -8.60526], [41.153364, -8.605296], [41.153571, -8.605674], [41.153553, -8.606115], [41.153544, -8.608419], [41.154291, -8.609733], [41.156271, -8.609373], [41.157144, -8.609301], [41.15718, -8.609283], [41.15799, -8.608932], [41.160069, -8.607969], [41.164056, -8.606349], [41.164929, -8.606349], [41.166207, -8.606457], [41.168016, -8.606448], [41.169672, -8.605899], [41.171211, -8.604342], [41.171103, -8.6013], [41.171319, -8.598069], [41.170914, -8.596215], [41.172516, -8.594973], [41.175288, -8.593776], [41.178474, -8.593137], [41.18139, -8.592885], [41.184306, -8.593596]],\n",
                     "                {&quot;bubblingMouseEvents&quot;: true, &quot;color&quot;: &quot;#21918c&quot;, &quot;dashArray&quot;: null, &quot;dashOffset&quot;: null, &quot;fill&quot;: false, &quot;fillColor&quot;: &quot;#21918c&quot;, &quot;fillOpacity&quot;: 0.2, &quot;fillRule&quot;: &quot;evenodd&quot;, &quot;lineCap&quot;: &quot;round&quot;, &quot;lineJoin&quot;: &quot;round&quot;, &quot;noClip&quot;: false, &quot;opacity&quot;: 1, &quot;smoothFactor&quot;: 1.0, &quot;stroke&quot;: true, &quot;weight&quot;: 2.5}\n",
                     "            ).addTo(map_976b0baaf3889243884c81df2c65c707);\n",
                     "        \n",
                     "    \n",
                     "            var poly_line_7b52ea99b6ab8b6e545cd92991741ffb = L.polyline(\n",
                     "                [[41.185647, -8.581419], [41.184441, -8.58204], [41.183559, -8.582337], [41.182956, -8.582544], [41.182902, -8.582589], [41.182812, -8.582661], [41.18265, -8.582751], [41.182344, -8.582949], [41.182263, -8.582895], [41.182254, -8.58285], [41.182209, -8.582805], [41.181642, -8.58294], [41.181399, -8.583102], [41.181381, -8.583183], [41.181372, -8.583201], [41.181372, -8.583219], [41.180841, -8.583381], [41.180499, -8.58339], [41.178033, -8.584479], [41.177403, -8.584893], [41.176287, -8.585487], [41.174613, -8.586423], [41.173038, -8.58717], [41.171715, -8.587953], [41.170617, -8.588628], [41.16951, -8.589618], [41.168988, -8.590536], [41.16816, -8.591958], [41.167278, -8.593659], [41.166621, -8.595756], [41.166072, -8.597439], [41.165595, -8.598726], [41.164776, -8.600292], [41.163354, -8.602128], [41.162157, -8.603703], [41.162076, -8.603865], [41.161932, -8.604783], [41.162004, -8.605278], [41.162058, -8.606475], [41.162373, -8.608041], [41.16249, -8.609346], [41.162607, -8.610417], [41.162346, -8.611101], [41.161779, -8.611299], [41.160519, -8.611569], [41.159322, -8.611857], [41.15736, -8.612604], [41.155659, -8.613234], [41.154813, -8.613315], [41.153571, -8.612928], [41.153616, -8.611308], [41.153526, -8.609247], [41.153481, -8.608203], [41.153418, -8.607141], [41.153418, -8.606547], [41.153409, -8.606475], [41.153418, -8.606466], [41.153427, -8.606457], [41.153418, -8.606394], [41.153418, -8.605296], [41.153157, -8.604783], [41.152536, -8.604729], [41.152545, -8.604756]],\n",
                     "                {&quot;bubblingMouseEvents&quot;: true, &quot;color&quot;: &quot;#21918c&quot;, &quot;dashArray&quot;: null, &quot;dashOffset&quot;: null, &quot;fill&quot;: false, &quot;fillColor&quot;: &quot;#21918c&quot;, &quot;fillOpacity&quot;: 0.2, &quot;fillRule&quot;: &quot;evenodd&quot;, &quot;lineCap&quot;: &quot;round&quot;, &quot;lineJoin&quot;: &quot;round&quot;, &quot;noClip&quot;: false, &quot;opacity&quot;: 1, &quot;smoothFactor&quot;: 1.0, &quot;stroke&quot;: true, &quot;weight&quot;: 2.5}\n",
                     "            ).addTo(map_976b0baaf3889243884c81df2c65c707);\n",
                     "        \n",
                     "    \n",
                     "            var poly_line_d3ce5b36880487550558cef4c6718671 = L.polyline(\n",
                     "                [[41.187645, -8.59464], [41.190282, -8.59392], [41.192514, -8.591958], [41.194449, -8.590761], [41.195547, -8.588196], [41.197806, -8.586126], [41.199012, -8.582472], [41.198634, -8.574228], [41.199264, -8.569341], [41.200848, -8.566056], [41.20155, -8.563023], [41.201559, -8.561322], [41.201514, -8.560539], [41.201343, -8.559315], [41.201235, -8.558622], [41.201244, -8.558658], [41.201208, -8.558442], [41.200974, -8.556867], [41.200893, -8.55558], [41.200389, -8.554545], [41.200497, -8.553267], [41.201685, -8.553339], [41.202162, -8.552727], [41.202936, -8.551332], [41.203854, -8.549361], [41.204457, -8.548533], [41.204763, -8.548209], [41.205168, -8.548254], [41.204925, -8.550099], [41.204844, -8.55081], [41.204601, -8.552961], [41.204475, -8.554959], [41.204952, -8.555769], [41.20641, -8.55585], [41.207499, -8.55585], [41.208372, -8.555742], [41.209776, -8.555499], [41.210766, -8.554473], [41.211153, -8.554428], [41.211324, -8.554698], [41.211396, -8.554887], [41.211414, -8.554959], [41.211378, -8.555112], [41.210802, -8.556066], [41.211522, -8.556282], [41.211549, -8.556264], [41.21154, -8.556264], [41.211639, -8.556246], [41.211666, -8.556246], [41.211648, -8.556255], [41.21163, -8.556255], [41.211594, -8.556264], [41.21154, -8.556282], [41.211504, -8.556291], [41.211531, -8.556273], [41.211585, -8.556282], [41.211549, -8.556255], [41.21154, -8.556282], [41.21154, -8.556282], [41.210964, -8.556309], [41.211135, -8.557587], [41.211567, -8.559666], [41.210748, -8.561187], [41.210478, -8.563104], [41.209848, -8.56458], [41.209641, -8.564742], [41.209371, -8.565021], [41.208435, -8.566389], [41.207958, -8.567154], [41.206923, -8.56719], [41.205843, -8.567685], [41.204898, -8.568936], [41.204232, -8.570034], [41.204106, -8.57016], [41.204115, -8.570205], [41.203611, -8.570979], [41.202603, -8.572239], [41.201622, -8.573427], [41.200128, -8.574786], [41.198553, -8.575803], [41.197086, -8.576154], [41.195628, -8.576955], [41.194593, -8.577693], [41.193756, -8.57853], [41.192586, -8.579583], [41.191362, -8.580132], [41.190309, -8.580285], [41.188761, -8.580618], [41.186961, -8.580609]],\n",
                     "                {&quot;bubblingMouseEvents&quot;: true, &quot;color&quot;: &quot;#440154&quot;, &quot;dashArray&quot;: null, &quot;dashOffset&quot;: null, &quot;fill&quot;: false, &quot;fillColor&quot;: &quot;#440154&quot;, &quot;fillOpacity&quot;: 0.2, &quot;fillRule&quot;: &quot;evenodd&quot;, &quot;lineCap&quot;: &quot;round&quot;, &quot;lineJoin&quot;: &quot;round&quot;, &quot;noClip&quot;: false, &quot;opacity&quot;: 1, &quot;smoothFactor&quot;: 1.0, &quot;stroke&quot;: true, &quot;weight&quot;: 2.5}\n",
                     "            ).addTo(map_976b0baaf3889243884c81df2c65c707);\n",
                     "        \n",
                     "    \n",
                     "            var poly_line_89a8be2af83e73114996073da2da648c = L.polyline(\n",
                     "                [[41.184306, -8.593596], [41.187645, -8.59464]],\n",
                     "                {&quot;bubblingMouseEvents&quot;: true, &quot;color&quot;: &quot;#21918c&quot;, &quot;dashArray&quot;: null, &quot;dashOffset&quot;: null, &quot;fill&quot;: false, &quot;fillColor&quot;: &quot;#21918c&quot;, &quot;fillOpacity&quot;: 0.2, &quot;fillRule&quot;: &quot;evenodd&quot;, &quot;lineCap&quot;: &quot;round&quot;, &quot;lineJoin&quot;: &quot;round&quot;, &quot;noClip&quot;: false, &quot;opacity&quot;: 1, &quot;smoothFactor&quot;: 1.0, &quot;stroke&quot;: true, &quot;weight&quot;: 2.5}\n",
                     "            ).addTo(map_976b0baaf3889243884c81df2c65c707);\n",
                     "        \n",
                     "    \n",
                     "            var poly_line_aa3f37198fcafdc8a9383919ba0140cb = L.polyline(\n",
                     "                [[41.185647, -8.581419], [41.186961, -8.580609]],\n",
                     "                {&quot;bubblingMouseEvents&quot;: true, &quot;color&quot;: &quot;#21918c&quot;, &quot;dashArray&quot;: null, &quot;dashOffset&quot;: null, &quot;fill&quot;: false, &quot;fillColor&quot;: &quot;#21918c&quot;, &quot;fillOpacity&quot;: 0.2, &quot;fillRule&quot;: &quot;evenodd&quot;, &quot;lineCap&quot;: &quot;round&quot;, &quot;lineJoin&quot;: &quot;round&quot;, &quot;noClip&quot;: false, &quot;opacity&quot;: 1, &quot;smoothFactor&quot;: 1.0, &quot;stroke&quot;: true, &quot;weight&quot;: 2.5}\n",
                     "            ).addTo(map_976b0baaf3889243884c81df2c65c707);\n",
                     "        \n",
                     "&lt;/script&gt;\" style=\"position:absolute;width:100%;height:100%;left:0;top:0;border:none !important;\" allowfullscreen webkitallowfullscreen mozallowfullscreen></iframe></div></div>"
                  ],
                  "text/plain": [
                     "<folium.folium.Map at 0x7f0cb0319be0>"
                  ]
               },
               "execution_count": 167,
               "metadata": {},
               "output_type": "execute_result"
            }
         ],
         "source": [
            "# sample = out_of_bounds_traj.iloc[np.random.randint(0, out_of_bounds_traj.shape[0])]\n",
            "sample = out_of_bounds_traj[out_of_bounds_traj[\"Unnamed: 0\"]==800824]\n",
            "\n",
            "m = folium.Map(\n",
            "    location=[41.1372482, -8.689151],\n",
            "    zoom_start=11,\n",
            "    tiles=\"cartodbpositron\"\n",
            ")\n",
            "# filter points \n",
            "in_data, out_data = [[], []], []\n",
            "bbox = box(*network.bounds)\n",
            "found_out = False\n",
            "for c in sample.coords.values[0]:\n",
            "    point = Point(c[0], c[1])\n",
            "    if point.within(bbox):\n",
            "        index = 0 if not found_out else 1\n",
            "        in_data[index].append((c[1], c[0]))\n",
            "    else:\n",
            "        found_out = True\n",
            "        out_data.append((c[1], c[0]))\n",
            "data = [(c[1], c[0]) for c in sample.coords]\n",
            "folium.Rectangle([(ymin, xmin), (ymax, xmax)], color=\"#FE4A49\", weight=1.5, opacity=1, dash_array='10').add_to(m)\n",
            "for ind in in_data:\n",
            "    folium.PolyLine(ind, color=\"#21918c\", weight=2.5, opacity=1).add_to(m)\n",
            "folium.PolyLine(out_data, color=\"#440154\", weight=2.5, opacity=1).add_to(m)\n",
            "folium.PolyLine([in_data[0][-1], out_data[0]], color=\"#21918c\", weight=2.5, opacity=1).add_to(m)\n",
            "folium.PolyLine([in_data[1][0], out_data[-1]], color=\"#21918c\", weight=2.5, opacity=1).add_to(m)\n",
            "print(sample[\"Unnamed: 0\"])\n",
            "# folium.PolyLine(data, color=\"red\", weight=2.5, opacity=1).add_to(m)\n",
            "# 1047783 573146 800824\n",
            "\n",
            "m"
         ]
      },
      {
         "cell_type": "code",
         "execution_count": null,
         "metadata": {},
         "outputs": [],
         "source": []
      }
   ],
   "metadata": {
      "interpreter": {
         "hash": "088070de2c6b4023b2f7ae556c412f86bcd02589c7bdb3766a0caf3cf4813fbd"
      },
      "kernelspec": {
         "display_name": "Python 3.9.12 ('road')",
         "language": "python",
         "name": "python3"
      },
      "language_info": {
         "codemirror_mode": {
            "name": "ipython",
            "version": 3
         },
         "file_extension": ".py",
         "mimetype": "text/x-python",
         "name": "python",
         "nbconvert_exporter": "python",
         "pygments_lexer": "ipython3",
         "version": "3.9.13"
      },
      "orig_nbformat": 4
   },
   "nbformat": 4,
   "nbformat_minor": 2
}
