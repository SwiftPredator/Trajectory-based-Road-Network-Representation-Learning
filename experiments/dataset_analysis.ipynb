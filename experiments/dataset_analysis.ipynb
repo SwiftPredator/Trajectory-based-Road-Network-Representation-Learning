{
 "cells": [
  {
   "cell_type": "code",
   "execution_count": null,
   "metadata": {},
   "outputs": [],
   "source": [
    "%load_ext autoreload\n",
    "%autoreload 2\n",
    "import os\n",
    "import sys\n",
    "\n",
    "module_path = os.path.abspath(os.path.join('..'))\n",
    "if module_path not in sys.path:\n",
    "    sys.path.append(module_path)\n",
    "\n",
    "import pandas as pd\n",
    "import geopandas as gpd\n",
    "import folium\n",
    "from shapely.geometry import LineString\n",
    "from shapely import wkt\n",
    "import numpy as np\n",
    "import swifter\n",
    "\n",
    "from generator import RoadNetwork"
   ]
  },
  {
   "cell_type": "code",
   "execution_count": null,
   "metadata": {},
   "outputs": [],
   "source": [
    "df = pd.read_csv(\"../datasets/trajectories/Porto/mapped.csv\")\n",
    "df['POLYLINE'] = df['POLYLINE'].swifter.apply(wkt.loads)\n",
    "gdf = gpd.GeoDataFrame(df, crs='epsg:4326', geometry=\"POLYLINE\")"
   ]
  },
  {
   "cell_type": "code",
   "execution_count": null,
   "metadata": {},
   "outputs": [],
   "source": [
    "gdf.head()\n",
    "gdf[\"POLYLINE\"]"
   ]
  },
  {
   "cell_type": "code",
   "execution_count": null,
   "metadata": {},
   "outputs": [],
   "source": [
    "gdf[\"coords\"] = gdf[\"POLYLINE\"].swifter.apply(lambda x: list(x.coords))"
   ]
  },
  {
   "cell_type": "code",
   "execution_count": null,
   "metadata": {},
   "outputs": [],
   "source": [
    "gdf.head()"
   ]
  },
  {
   "cell_type": "code",
   "execution_count": null,
   "metadata": {},
   "outputs": [],
   "source": [
    "# Folium Heat Map\n",
    "from folium import plugins\n",
    "from folium.plugins import HeatMap\n",
    "from collections import defaultdict\n",
    "import branca.colormap\n",
    "\n",
    "map_porto = folium.Map(location=[41.18049, -8.64599],\n",
    "                    zoom_start = 8)\n",
    "\n",
    "coords = gdf.iloc[:, -1].values\n",
    "print(coords.shape)\n",
    "# cut down to 1/2 random choice, since full data is too big\n",
    "indices = np.random.choice(coords.shape[0], int(coords.shape[0]/10))\n",
    "reduced_coords = coords[indices]\n",
    "print(reduced_coords.shape)\n",
    "coords = np.concatenate(reduced_coords)\n",
    "print(coords.shape)\n",
    "\n",
    "heat_data = [(c[1], c[0]) for c in coords]\n",
    "\n",
    "steps=20\n",
    "colormap = branca.colormap.linear.viridis.scale(0, 1).to_step(steps)\n",
    "colormap.caption = 'Density of GPS points with 10m radius'\n",
    "gradient_map=defaultdict(dict)\n",
    "for i in range(steps):\n",
    "    gradient_map[1/steps*i] = colormap.rgb_hex_str(1/steps*i)\n",
    "colormap.add_to(map_porto)\n",
    "\n",
    "HeatMap(heat_data, radius=10, gradient=gradient_map).add_to(map_porto)\n",
    "\n",
    "\n",
    "# Display the map\n",
    "#map_porto.save(\"heatmap_gps_points_porto.html\")\n",
    "map_porto"
   ]
  },
  {
   "cell_type": "code",
   "execution_count": null,
   "metadata": {},
   "outputs": [],
   "source": [
    "map_porto.save('heatmap_gps_sample.html')"
   ]
  }
 ],
 "metadata": {
  "interpreter": {
   "hash": "cca546fdd2f6c7730d3bb3f060630f4f24d9be8a642e1cb2079226fa21b70079"
  },
  "kernelspec": {
   "display_name": "Python 3.9.12 ('road-emb')",
   "language": "python",
   "name": "python3"
  },
  "language_info": {
   "codemirror_mode": {
    "name": "ipython",
    "version": 3
   },
   "file_extension": ".py",
   "mimetype": "text/x-python",
   "name": "python",
   "nbconvert_exporter": "python",
   "pygments_lexer": "ipython3",
   "version": "3.9.12"
  },
  "orig_nbformat": 4
 },
 "nbformat": 4,
 "nbformat_minor": 2
}
