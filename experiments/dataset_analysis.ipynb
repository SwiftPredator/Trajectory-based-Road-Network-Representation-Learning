{
   "cells": [
      {
         "cell_type": "code",
         "execution_count": 1,
         "metadata": {},
         "outputs": [],
         "source": [
            "%load_ext autoreload\n",
            "%autoreload 2\n",
            "import os\n",
            "import sys\n",
            "\n",
            "module_path = os.path.abspath(os.path.join('..'))\n",
            "if module_path not in sys.path:\n",
            "    sys.path.append(module_path)\n",
            "\n",
            "import pandas as pd\n",
            "import geopandas as gpd\n",
            "import folium\n",
            "from shapely.geometry import LineString, box, Point\n",
            "from shapely import wkt\n",
            "import numpy as np\n",
            "import swifter\n",
            "import osmnx as ox\n",
            "\n",
            "from generator import RoadNetwork\n",
            "from generator.preprocess import convert_polyline\n"
         ]
      },
      {
         "cell_type": "code",
         "execution_count": 2,
         "metadata": {},
         "outputs": [],
         "source": [
            "# normal train porto dataset\n",
            "df = pd.read_csv(\"../datasets/trajectories/sf/all_gps_points.csv\", sep=\";\") #../datasets/trajectories/porto/train.csv\n",
            "# indices = np.random.choice(df.shape[0], int(df.shape[0]/10))\n",
            "# df = df.iloc[indices, :].reset_index()"
         ]
      },
      {
         "cell_type": "code",
         "execution_count": 7,
         "metadata": {},
         "outputs": [
            {
               "data": {
                  "text/html": [
                     "<div>\n",
                     "<style scoped>\n",
                     "    .dataframe tbody tr th:only-of-type {\n",
                     "        vertical-align: middle;\n",
                     "    }\n",
                     "\n",
                     "    .dataframe tbody tr th {\n",
                     "        vertical-align: top;\n",
                     "    }\n",
                     "\n",
                     "    .dataframe thead th {\n",
                     "        text-align: right;\n",
                     "    }\n",
                     "</style>\n",
                     "<table border=\"1\" class=\"dataframe\">\n",
                     "  <thead>\n",
                     "    <tr style=\"text-align: right;\">\n",
                     "      <th></th>\n",
                     "      <th>POLYLINE</th>\n",
                     "      <th>timestamp</th>\n",
                     "    </tr>\n",
                     "  </thead>\n",
                     "  <tbody>\n",
                     "    <tr>\n",
                     "      <th>0</th>\n",
                     "      <td>LINESTRING (-122.41527 37.7874, -122.40859 37....</td>\n",
                     "      <td>[0 60 120 185 240 300]</td>\n",
                     "    </tr>\n",
                     "    <tr>\n",
                     "      <th>1</th>\n",
                     "      <td>LINESTRING (-122.39951 37.78881, -122.4032 37....</td>\n",
                     "      <td>[0 369 370 371 372 437 494 551 601 661 699]</td>\n",
                     "    </tr>\n",
                     "    <tr>\n",
                     "      <th>2</th>\n",
                     "      <td>LINESTRING (-122.41304 37.78711, -122.41499 37...</td>\n",
                     "      <td>[0 39 101 159 219 260]</td>\n",
                     "    </tr>\n",
                     "    <tr>\n",
                     "      <th>3</th>\n",
                     "      <td>LINESTRING (-122.40998 37.80838, -122.41186 37...</td>\n",
                     "      <td>[0 76 130 204 252 311 372 452 501 539]</td>\n",
                     "    </tr>\n",
                     "    <tr>\n",
                     "      <th>4</th>\n",
                     "      <td>LINESTRING (-122.40998 37.80839, -122.41113 37...</td>\n",
                     "      <td>[0 114 144 246 318 365 426 471]</td>\n",
                     "    </tr>\n",
                     "    <tr>\n",
                     "      <th>...</th>\n",
                     "      <td>...</td>\n",
                     "      <td>...</td>\n",
                     "    </tr>\n",
                     "    <tr>\n",
                     "      <th>407148</th>\n",
                     "      <td>LINESTRING (-122.43085 37.77202, -122.42726 37...</td>\n",
                     "      <td>[0 65 112 172 233 262 318 384 436 480 579 633 ...</td>\n",
                     "    </tr>\n",
                     "    <tr>\n",
                     "      <th>407149</th>\n",
                     "      <td>LINESTRING (-122.40082 37.79218, -122.40131 37...</td>\n",
                     "      <td>[0 61 128 180 241 300 368 416]</td>\n",
                     "    </tr>\n",
                     "    <tr>\n",
                     "      <th>407150</th>\n",
                     "      <td>LINESTRING (-122.4051 37.78521, -122.40291 37....</td>\n",
                     "      <td>[0 60 120 190 244 316 360 431 491 550 615 670 ...</td>\n",
                     "    </tr>\n",
                     "    <tr>\n",
                     "      <th>407151</th>\n",
                     "      <td>LINESTRING (-122.38849 37.61609, -122.39863 37...</td>\n",
                     "      <td>[0 65 114 255 386 428 542 666 718 789 840 902 ...</td>\n",
                     "    </tr>\n",
                     "    <tr>\n",
                     "      <th>407152</th>\n",
                     "      <td>LINESTRING (-122.40079 37.79498, -122.39996 37...</td>\n",
                     "      <td>[0 79 120 203 204 264 331 379 436 471 531 575 ...</td>\n",
                     "    </tr>\n",
                     "  </tbody>\n",
                     "</table>\n",
                     "<p>407153 rows × 2 columns</p>\n",
                     "</div>"
                  ],
                  "text/plain": [
                     "                                                 POLYLINE  \\\n",
                     "0       LINESTRING (-122.41527 37.7874, -122.40859 37....   \n",
                     "1       LINESTRING (-122.39951 37.78881, -122.4032 37....   \n",
                     "2       LINESTRING (-122.41304 37.78711, -122.41499 37...   \n",
                     "3       LINESTRING (-122.40998 37.80838, -122.41186 37...   \n",
                     "4       LINESTRING (-122.40998 37.80839, -122.41113 37...   \n",
                     "...                                                   ...   \n",
                     "407148  LINESTRING (-122.43085 37.77202, -122.42726 37...   \n",
                     "407149  LINESTRING (-122.40082 37.79218, -122.40131 37...   \n",
                     "407150  LINESTRING (-122.4051 37.78521, -122.40291 37....   \n",
                     "407151  LINESTRING (-122.38849 37.61609, -122.39863 37...   \n",
                     "407152  LINESTRING (-122.40079 37.79498, -122.39996 37...   \n",
                     "\n",
                     "                                                timestamp  \n",
                     "0                                  [0 60 120 185 240 300]  \n",
                     "1             [0 369 370 371 372 437 494 551 601 661 699]  \n",
                     "2                                  [0 39 101 159 219 260]  \n",
                     "3                  [0 76 130 204 252 311 372 452 501 539]  \n",
                     "4                         [0 114 144 246 318 365 426 471]  \n",
                     "...                                                   ...  \n",
                     "407148  [0 65 112 172 233 262 318 384 436 480 579 633 ...  \n",
                     "407149                     [0 61 128 180 241 300 368 416]  \n",
                     "407150  [0 60 120 190 244 316 360 431 491 550 615 670 ...  \n",
                     "407151  [0 65 114 255 386 428 542 666 718 789 840 902 ...  \n",
                     "407152  [0 79 120 203 204 264 331 379 436 471 531 575 ...  \n",
                     "\n",
                     "[407153 rows x 2 columns]"
                  ]
               },
               "execution_count": 7,
               "metadata": {},
               "output_type": "execute_result"
            }
         ],
         "source": [
            "df"
         ]
      },
      {
         "cell_type": "code",
         "execution_count": 8,
         "metadata": {},
         "outputs": [
            {
               "ename": "TypeError",
               "evalue": "Input must be valid geometry objects: LINESTRING (-122.41527 37.7874, -122.40859 37.78833, -122.40405 37.78945, -122.40471 37.79305, -122.40521 37.79657, -122.40646 37.79779)",
               "output_type": "error",
               "traceback": [
                  "\u001b[0;31m---------------------------------------------------------------------------\u001b[0m",
                  "\u001b[0;31mTypeError\u001b[0m                                 Traceback (most recent call last)",
                  "\u001b[1;32m/home/pheinemeyer/Road-Network-Embedding-Generator/experiments/dataset_analysis.ipynb Cell 4\u001b[0m in \u001b[0;36m<cell line: 2>\u001b[0;34m()\u001b[0m\n\u001b[1;32m      <a href='vscode-notebook-cell://ssh-remote%2Bpascal02/home/pheinemeyer/Road-Network-Embedding-Generator/experiments/dataset_analysis.ipynb#W2sdnNjb2RlLXJlbW90ZQ%3D%3D?line=0'>1</a>\u001b[0m \u001b[39m#df['POLYLINE'].swifter.apply(wkt.loads) # df = convert_polyline(df, 5)\u001b[39;00m\n\u001b[0;32m----> <a href='vscode-notebook-cell://ssh-remote%2Bpascal02/home/pheinemeyer/Road-Network-Embedding-Generator/experiments/dataset_analysis.ipynb#W2sdnNjb2RlLXJlbW90ZQ%3D%3D?line=1'>2</a>\u001b[0m gdf \u001b[39m=\u001b[39m gpd\u001b[39m.\u001b[39;49mGeoDataFrame(df, crs\u001b[39m=\u001b[39;49m\u001b[39m'\u001b[39;49m\u001b[39mepsg:4326\u001b[39;49m\u001b[39m'\u001b[39;49m, geometry\u001b[39m=\u001b[39;49m\u001b[39m\"\u001b[39;49m\u001b[39mPOLYLINE\u001b[39;49m\u001b[39m\"\u001b[39;49m)\n\u001b[1;32m      <a href='vscode-notebook-cell://ssh-remote%2Bpascal02/home/pheinemeyer/Road-Network-Embedding-Generator/experiments/dataset_analysis.ipynb#W2sdnNjb2RlLXJlbW90ZQ%3D%3D?line=2'>3</a>\u001b[0m gdf[\u001b[39m\"\u001b[39m\u001b[39mcoords\u001b[39m\u001b[39m\"\u001b[39m] \u001b[39m=\u001b[39m gdf[\u001b[39m\"\u001b[39m\u001b[39mPOLYLINE\u001b[39m\u001b[39m\"\u001b[39m]\u001b[39m.\u001b[39mswifter\u001b[39m.\u001b[39mapply(\u001b[39mlambda\u001b[39;00m x: \u001b[39mlist\u001b[39m(x\u001b[39m.\u001b[39mcoords))\n",
                  "File \u001b[0;32m~/miniconda3/envs/road/lib/python3.9/site-packages/geopandas/geodataframe.py:184\u001b[0m, in \u001b[0;36mGeoDataFrame.__init__\u001b[0;34m(self, data, geometry, crs, *args, **kwargs)\u001b[0m\n\u001b[1;32m    182\u001b[0m         _crs_mismatch_warning()\n\u001b[1;32m    183\u001b[0m         \u001b[39m# TODO: raise error in 0.9 or 0.10.\u001b[39;00m\n\u001b[0;32m--> 184\u001b[0m     \u001b[39mself\u001b[39;49m\u001b[39m.\u001b[39;49mset_geometry(geometry, inplace\u001b[39m=\u001b[39;49m\u001b[39mTrue\u001b[39;49;00m)\n\u001b[1;32m    186\u001b[0m \u001b[39mif\u001b[39;00m geometry \u001b[39mis\u001b[39;00m \u001b[39mNone\u001b[39;00m \u001b[39mand\u001b[39;00m crs:\n\u001b[1;32m    187\u001b[0m     warnings\u001b[39m.\u001b[39mwarn(\n\u001b[1;32m    188\u001b[0m         \u001b[39m\"\u001b[39m\u001b[39mAssigning CRS to a GeoDataFrame without a geometry column is now \u001b[39m\u001b[39m\"\u001b[39m\n\u001b[1;32m    189\u001b[0m         \u001b[39m\"\u001b[39m\u001b[39mdeprecated and will not be supported in the future.\u001b[39m\u001b[39m\"\u001b[39m,\n\u001b[1;32m    190\u001b[0m         \u001b[39mFutureWarning\u001b[39;00m,\n\u001b[1;32m    191\u001b[0m         stacklevel\u001b[39m=\u001b[39m\u001b[39m2\u001b[39m,\n\u001b[1;32m    192\u001b[0m     )\n",
                  "File \u001b[0;32m~/miniconda3/envs/road/lib/python3.9/site-packages/geopandas/geodataframe.py:318\u001b[0m, in \u001b[0;36mGeoDataFrame.set_geometry\u001b[0;34m(self, col, drop, inplace, crs)\u001b[0m\n\u001b[1;32m    315\u001b[0m     level\u001b[39m.\u001b[39mcrs \u001b[39m=\u001b[39m crs\n\u001b[1;32m    317\u001b[0m \u001b[39m# Check that we are using a listlike of geometries\u001b[39;00m\n\u001b[0;32m--> 318\u001b[0m level \u001b[39m=\u001b[39m _ensure_geometry(level, crs\u001b[39m=\u001b[39;49mcrs)\n\u001b[1;32m    319\u001b[0m index \u001b[39m=\u001b[39m frame\u001b[39m.\u001b[39mindex\n\u001b[1;32m    320\u001b[0m frame[geo_column_name] \u001b[39m=\u001b[39m level\n",
                  "File \u001b[0;32m~/miniconda3/envs/road/lib/python3.9/site-packages/geopandas/geodataframe.py:43\u001b[0m, in \u001b[0;36m_ensure_geometry\u001b[0;34m(data, crs)\u001b[0m\n\u001b[1;32m     41\u001b[0m \u001b[39melse\u001b[39;00m:\n\u001b[1;32m     42\u001b[0m     \u001b[39mif\u001b[39;00m \u001b[39misinstance\u001b[39m(data, Series):\n\u001b[0;32m---> 43\u001b[0m         out \u001b[39m=\u001b[39m from_shapely(np\u001b[39m.\u001b[39;49masarray(data), crs\u001b[39m=\u001b[39;49mcrs)\n\u001b[1;32m     44\u001b[0m         \u001b[39mreturn\u001b[39;00m GeoSeries(out, index\u001b[39m=\u001b[39mdata\u001b[39m.\u001b[39mindex, name\u001b[39m=\u001b[39mdata\u001b[39m.\u001b[39mname)\n\u001b[1;32m     45\u001b[0m     \u001b[39melse\u001b[39;00m:\n",
                  "File \u001b[0;32m~/miniconda3/envs/road/lib/python3.9/site-packages/geopandas/array.py:151\u001b[0m, in \u001b[0;36mfrom_shapely\u001b[0;34m(data, crs)\u001b[0m\n\u001b[1;32m    135\u001b[0m \u001b[39mdef\u001b[39;00m \u001b[39mfrom_shapely\u001b[39m(data, crs\u001b[39m=\u001b[39m\u001b[39mNone\u001b[39;00m):\n\u001b[1;32m    136\u001b[0m     \u001b[39m\"\"\"\u001b[39;00m\n\u001b[1;32m    137\u001b[0m \u001b[39m    Convert a list or array of shapely objects to a GeometryArray.\u001b[39;00m\n\u001b[1;32m    138\u001b[0m \n\u001b[0;32m   (...)\u001b[0m\n\u001b[1;32m    149\u001b[0m \n\u001b[1;32m    150\u001b[0m \u001b[39m    \"\"\"\u001b[39;00m\n\u001b[0;32m--> 151\u001b[0m     \u001b[39mreturn\u001b[39;00m GeometryArray(vectorized\u001b[39m.\u001b[39;49mfrom_shapely(data), crs\u001b[39m=\u001b[39mcrs)\n",
                  "File \u001b[0;32m~/miniconda3/envs/road/lib/python3.9/site-packages/geopandas/_vectorized.py:136\u001b[0m, in \u001b[0;36mfrom_shapely\u001b[0;34m(data)\u001b[0m\n\u001b[1;32m    134\u001b[0m         out\u001b[39m.\u001b[39mappend(\u001b[39mNone\u001b[39;00m)\n\u001b[1;32m    135\u001b[0m     \u001b[39melse\u001b[39;00m:\n\u001b[0;32m--> 136\u001b[0m         \u001b[39mraise\u001b[39;00m \u001b[39mTypeError\u001b[39;00m(\u001b[39m\"\u001b[39m\u001b[39mInput must be valid geometry objects: \u001b[39m\u001b[39m{0}\u001b[39;00m\u001b[39m\"\u001b[39m\u001b[39m.\u001b[39mformat(geom))\n\u001b[1;32m    138\u001b[0m \u001b[39mif\u001b[39;00m compat\u001b[39m.\u001b[39mUSE_PYGEOS:\n\u001b[1;32m    139\u001b[0m     \u001b[39mreturn\u001b[39;00m np\u001b[39m.\u001b[39marray(out, dtype\u001b[39m=\u001b[39m\u001b[39mobject\u001b[39m)\n",
                  "\u001b[0;31mTypeError\u001b[0m: Input must be valid geometry objects: LINESTRING (-122.41527 37.7874, -122.40859 37.78833, -122.40405 37.78945, -122.40471 37.79305, -122.40521 37.79657, -122.40646 37.79779)"
               ]
            }
         ],
         "source": [
            "#df['POLYLINE'].swifter.apply(wkt.loads) # df = convert_polyline(df, 5)\n",
            "gdf = gpd.GeoDataFrame(df, crs='epsg:4326', geometry=\"POLYLINE\")\n",
            "gdf[\"coords\"] = gdf[\"POLYLINE\"].swifter.apply(lambda x: list(x.coords))"
         ]
      },
      {
         "cell_type": "code",
         "execution_count": 4,
         "metadata": {},
         "outputs": [
            {
               "data": {
                  "application/vnd.jupyter.widget-view+json": {
                     "model_id": "c5395150a0b443adbb97e3a7253d3dee",
                     "version_major": 2,
                     "version_minor": 0
                  },
                  "text/plain": [
                     "Pandas Apply:   0%|          | 0/418139 [00:00<?, ?it/s]"
                  ]
               },
               "metadata": {},
               "output_type": "display_data"
            },
            {
               "data": {
                  "application/vnd.jupyter.widget-view+json": {
                     "model_id": "d4ac706835ab45d98ccffd4b2d8b15c8",
                     "version_major": 2,
                     "version_minor": 0
                  },
                  "text/plain": [
                     "Dask Apply:   0%|          | 0/32 [00:00<?, ?it/s]"
                  ]
               },
               "metadata": {},
               "output_type": "display_data"
            }
         ],
         "source": [
            "from ast import literal_eval\n",
            "# porto clipped dataset with min 10 gps points per trajectory\n",
            "df_c = pd.read_csv(\"../datasets/trajectories/sf/mapped_id_poly_clipped_corrected.csv\", sep=\";\")\n",
            "df_c['POLYLINE'] = df_c['POLYLINE'].swifter.apply(wkt.loads)\n",
            "gdf_c = gpd.GeoDataFrame(df_c, crs='epsg:4326', geometry=\"POLYLINE\")\n",
            "gdf_c[\"coords\"] = gdf_c[\"POLYLINE\"].swifter.apply(lambda x: list(x.coords))"
         ]
      },
      {
         "cell_type": "code",
         "execution_count": null,
         "metadata": {},
         "outputs": [],
         "source": [
            "print(gdf[\"coords\"].str.len().sum(), gdf_c[\"coords\"].str.len().sum())"
         ]
      },
      {
         "cell_type": "code",
         "execution_count": 12,
         "metadata": {},
         "outputs": [],
         "source": [
            "network = RoadNetwork()\n",
            "network.load(\"../osm_data/porto\")"
         ]
      },
      {
         "cell_type": "code",
         "execution_count": null,
         "metadata": {},
         "outputs": [],
         "source": [
            "# Folium Heat Map\n",
            "from folium import plugins\n",
            "from folium.plugins import HeatMap\n",
            "from collections import defaultdict\n",
            "import branca.colormap\n",
            "\n",
            "map = folium.Map(location=[41.18049, -8.64599],\n",
            "                    zoom_start = 8)\n",
            "\n",
            "xmin, ymin, xmax, ymax = network.bounds\n",
            "coords = gdf_c.iloc[:, -1].values\n",
            "print(coords.shape)\n",
            "# cut down to 1/2 random choice, since full data is too big\n",
            "indices = np.random.choice(coords.shape[0], int(coords.shape[0]/5))\n",
            "coords = coords[indices]\n",
            "# print(reduced_coords.shape)\n",
            "coords = np.concatenate(coords)\n",
            "print(coords.shape)\n",
            "\n",
            "heat_data = [(c[1], c[0]) for c in coords]\n",
            "\n",
            "steps=20\n",
            "colormap = branca.colormap.linear.viridis.scale(0, 1).to_step(steps)\n",
            "colormap.caption = 'Density of GPS points with 10m radius'\n",
            "gradient_map=defaultdict(dict)s\n",
            "for i in range(steps):\n",
            "    gradient_map[1/steps*i] = colormap.rgb_hex_str(1/steps*i)\n",
            "colormap.add_to(map)\n",
            "\n",
            "HeatMap(heat_data, radius=10, gradient=gradient_map).add_to(map)\n",
            "folium.Rectangle([(ymin, xmin), (ymax, xmax)], color=\"#FE4A49\", weight=4, opacity=1).add_to(map)\n",
            "\n",
            "# Display the map\n",
            "#map_porto.save(\"heatmap_gps_points_porto.html\")\n",
            "map"
         ]
      },
      {
         "cell_type": "code",
         "execution_count": null,
         "metadata": {},
         "outputs": [],
         "source": [
            "\"\"\"\n",
            "Analysis of Road Segment mapping generated by fmm\n",
            "\"\"\"\n",
            "# visualize trajectories that have outlier speed data - one with negative speed and one with inf speed\n",
            "# negative speeds = trajectories where the vehicle is standing\n",
            "df = pd.read_csv(\"../datasets/trajectories/Porto/road-segment-mapping.csv\", sep=\";\")\n",
            "df.dropna(inplace=True)\n",
            "df[\"speed\"] = df[\"speed\"].swifter.apply(literal_eval)\n",
            "df[\"speed_mean\"] = df[\"speed\"].swifter.apply(np.mean)"
         ]
      },
      {
         "cell_type": "code",
         "execution_count": null,
         "metadata": {},
         "outputs": [],
         "source": [
            "# generate samples\n",
            "sample_neg = df[df[\"speed_mean\"] < 0].iloc[3]\n",
            "sample_inf = df[df[\"speed_mean\"] > 1e1].iloc[1]\n",
            "sample_neg[\"mgeom\"] = wkt.loads(sample_neg[\"mgeom\"])\n",
            "sample_inf[\"mgeom\"] = wkt.loads(sample_inf[\"mgeom\"])\n",
            "\n",
            "sample_inf[\"speed_km\"] = np.around(np.array(sample_inf[\"speed\"]) * 111000 * 3.6, decimals=1)\n",
            "step = int(len(list(sample_inf[\"mgeom\"].coords)) / len(sample_inf[\"speed\"]))\n",
            "sample_inf"
         ]
      },
      {
         "cell_type": "code",
         "execution_count": null,
         "metadata": {},
         "outputs": [],
         "source": [
            "# plot supspecious examples\n",
            "m = folium.Map(\n",
            "    location=[41.1372482, -8.689151],\n",
            "    zoom_start=13,\n",
            "    tiles=\"cartodbdark_matter\"\n",
            ")\n",
            "\n",
            "data = [(c[1], c[0]) for c in list(sample_inf[\"mgeom\"].coords)]\n",
            "# d2 = [(c[1], c[0]) for c in list(so[\"geometry\"].coords)]\n",
            "#speed = df_an[\"speed\"][3]\n",
            "folium.PolyLine(data, color=\"green\", weight=2.5, opacity=0.5).add_to(m)\n",
            "#folium.PolyLine(d2, color=\"red\", weight=2.5, opacity=1).add_to(m)\n",
            "for i, speed in enumerate(sample_inf[\"speed_km\"]):\n",
            "    folium.Marker(\n",
            "        location=data[i*7],\n",
            "        popup=str(speed),\n",
            "        icon=folium.DivIcon(html=f\"\"\"<div style=\"font-family: courier new; color: white\">{str(speed)} km/h</div>\"\"\")\n",
            "    ).add_to(m)\n",
            "\n",
            "m"
         ]
      },
      {
         "cell_type": "code",
         "execution_count": null,
         "metadata": {},
         "outputs": [],
         "source": [
            "network = RoadNetwork()\n",
            "network.load(\"../osm_data/porto\")"
         ]
      },
      {
         "cell_type": "code",
         "execution_count": null,
         "metadata": {},
         "outputs": [],
         "source": [
            "node = network.gdf_edges[(network.gdf_edges[\"length\"]>800) & (network.gdf_edges[\"osmid\"].str.len() < 12)].iloc[-1]\n",
            "print(node.dropna().drop([\"geometry\", \"highway_enc\", \"fid\"]))"
         ]
      },
      {
         "cell_type": "code",
         "execution_count": null,
         "metadata": {},
         "outputs": [],
         "source": [
            "# plot osm examples of way and node for prelim section\n",
            "m = folium.Map(\n",
            "    location=[41.1488008, -8.6121386],\n",
            "    zoom_start=13,\n",
            "    tiles=\"cartodbpositron\"\n",
            ")\n",
            "# html = f'''\n",
            "# id: {node.name}<br>\n",
            "# latitude: {node.y}<br>\n",
            "# longitude: {node.x}<br>\n",
            "# highway: {node.highway}<br>\n",
            "# '''\n",
            "\n",
            "# iframe = folium.IFrame(html,\n",
            "#                        width=100,\n",
            "#                        height=100)\n",
            "\n",
            "# popup = folium.Popup(iframe,\n",
            "#                     show=True,\n",
            "#                     max_width=100)\n",
            "\n",
            "# folium.CircleMarker(location=[node.y, node.x],\n",
            "#                         radius=5,\n",
            "#                         #fill=True,\n",
            "#                         #fill_opacity=1,\n",
            "#                         color=\"red\",\n",
            "#                         # fill_color=\"red\",\n",
            "#                         weight=5).add_to(m)\n",
            "\n",
            "data = [(c[1], c[0]) for c in list(node[\"geometry\"].coords)]\n",
            "# d2 = [(c[1], c[0]) for c in list(so[\"geometry\"].coords)]\n",
            "#speed = df_an[\"speed\"][3]\n",
            "folium.PolyLine(data, color=\"red\", weight=5, opacity=0.8).add_to(m)\n",
            "\n",
            "m"
         ]
      },
      {
         "cell_type": "code",
         "execution_count": 4,
         "metadata": {},
         "outputs": [
            {
               "data": {
                  "application/vnd.jupyter.widget-view+json": {
                     "model_id": "7c1893461e014f839fd69f92ba349624",
                     "version_major": 2,
                     "version_minor": 0
                  },
                  "text/plain": [
                     "Pandas Apply:   0%|          | 0/1641024 [00:00<?, ?it/s]"
                  ]
               },
               "metadata": {},
               "output_type": "display_data"
            },
            {
               "data": {
                  "application/vnd.jupyter.widget-view+json": {
                     "model_id": "780ce1012c1242aaa7d5d1410dd5e67a",
                     "version_major": 2,
                     "version_minor": 0
                  },
                  "text/plain": [
                     "Dask Apply:   0%|          | 0/32 [00:00<?, ?it/s]"
                  ]
               },
               "metadata": {},
               "output_type": "display_data"
            }
         ],
         "source": [
            "\"\"\"\n",
            "Generate Sample Image for trajectorie that goes out of network bounds and enters later again (For thesis visualization)\n",
            "\"\"\"\n",
            "\n",
            "df = pd.read_csv(\"../datasets/trajectories/Porto/mapped.csv\")\n",
            "df['POLYLINE'] = df['POLYLINE'].swifter.apply(wkt.loads)\n",
            "gdf = gpd.GeoDataFrame(df, crs='epsg:4326', geometry=\"POLYLINE\")\n",
            "gdf[\"coords\"] = gdf[\"POLYLINE\"].swifter.apply(lambda x: list(x.coords))\n",
            "network = RoadNetwork()\n",
            "network.load(\"../osm_data/porto\")"
         ]
      },
      {
         "cell_type": "code",
         "execution_count": 6,
         "metadata": {},
         "outputs": [],
         "source": [
            "xmin, ymin, xmax, ymax = network.bounds\n",
            "out_of_bounds_traj = gdf.cx[xmax:, ymax:]"
         ]
      },
      {
         "cell_type": "code",
         "execution_count": null,
         "metadata": {},
         "outputs": [],
         "source": [
            "# sample = out_of_bounds_traj.iloc[np.random.randint(0, out_of_bounds_traj.shape[0])]\n",
            "sample = out_of_bounds_traj[out_of_bounds_traj[\"Unnamed: 0\"]==800824]\n",
            "\n",
            "m = folium.Map(\n",
            "    location=[41.1372482, -8.689151],\n",
            "    zoom_start=11,\n",
            "    tiles=\"cartodbpositron\"\n",
            ")\n",
            "# filter points \n",
            "in_data, out_data = [[], []], []\n",
            "bbox = box(*network.bounds)\n",
            "found_out = False\n",
            "for c in sample.coords.values[0]:\n",
            "    point = Point(c[0], c[1])\n",
            "    if point.within(bbox):\n",
            "        index = 0 if not found_out else 1\n",
            "        in_data[index].append((c[1], c[0]))\n",
            "    else:\n",
            "        found_out = True\n",
            "        out_data.append((c[1], c[0]))\n",
            "data = [(c[1], c[0]) for c in sample.coords]\n",
            "folium.Rectangle([(ymin, xmin), (ymax, xmax)], color=\"#FE4A49\", weight=1.5, opacity=1, dash_array='10').add_to(m)\n",
            "for ind in in_data:\n",
            "    folium.PolyLine(ind, color=\"#21918c\", weight=2.5, opacity=1).add_to(m)\n",
            "folium.PolyLine(out_data, color=\"#440154\", weight=2.5, opacity=1).add_to(m)\n",
            "folium.PolyLine([in_data[0][-1], out_data[0]], color=\"#21918c\", weight=2.5, opacity=1).add_to(m)\n",
            "folium.PolyLine([in_data[1][0], out_data[-1]], color=\"#21918c\", weight=2.5, opacity=1).add_to(m)\n",
            "print(sample[\"Unnamed: 0\"])\n",
            "# folium.PolyLine(data, color=\"red\", weight=2.5, opacity=1).add_to(m)\n",
            "# 1047783 573146 800824\n",
            "\n",
            "m"
         ]
      },
      {
         "cell_type": "code",
         "execution_count": 3,
         "metadata": {},
         "outputs": [
            {
               "data": {
                  "application/vnd.jupyter.widget-view+json": {
                     "model_id": "a7ba449c6b3d4e2e829c29d1ac02ba88",
                     "version_major": 2,
                     "version_minor": 0
                  },
                  "text/plain": [
                     "Pandas Apply:   0%|          | 0/153576 [00:00<?, ?it/s]"
                  ]
               },
               "metadata": {},
               "output_type": "display_data"
            },
            {
               "data": {
                  "application/vnd.jupyter.widget-view+json": {
                     "model_id": "8e93039332f74c82b2ec98500e9e55a3",
                     "version_major": 2,
                     "version_minor": 0
                  },
                  "text/plain": [
                     "Dask Apply:   0%|          | 0/12 [00:00<?, ?it/s]"
                  ]
               },
               "metadata": {},
               "output_type": "display_data"
            }
         ],
         "source": [
            "# Hannover small analysis\n",
            "from ast import literal_eval\n",
            "# porto clipped dataset with min 10 gps points per trajectory\n",
            "df_c = pd.read_csv(\"../datasets/trajectories/hanover/mapped_id_poly_clipped.csv\", sep=\";\")\n",
            "df_c['POLYLINE'] = df_c['POLYLINE'].swifter.apply(wkt.loads)\n",
            "gdf = gpd.GeoDataFrame(df_c, crs='epsg:4326', geometry=\"POLYLINE\")\n",
            "gdf[\"coords\"] = gdf[\"POLYLINE\"].swifter.apply(lambda x: list(x.coords))"
         ]
      },
      {
         "cell_type": "code",
         "execution_count": null,
         "metadata": {},
         "outputs": [],
         "source": [
            "# plot supspecious examples\n",
            "m = folium.Map(\n",
            "    location=[41.1372482, -8.689151],\n",
            "    zoom_start=13,\n",
            "    tiles=\"cartodbdark_matter\"\n",
            ")\n",
            "\n",
            "sample = gdf.iloc[100]\n",
            "data = [(c[1], c[0]) for c in list(sample[\"coords\"])]\n",
            "# d2 = [(c[1], c[0]) for c in list(so[\"geometry\"].coords)]\n",
            "#speed = df_an[\"speed\"][3]\n",
            "folium.PolyLine(data, color=\"green\", weight=2.5, opacity=0.5).add_to(m)\n",
            "\n",
            "m"
         ]
      },
      {
         "cell_type": "code",
         "execution_count": null,
         "metadata": {},
         "outputs": [],
         "source": [
            "# network = RoadNetwork()\n",
            "# network.load(\"../osm_data/hanover\")\n",
            "network = RoadNetwork(\"Hanover, Germany\", network_type=\"drive\", retain_all=False, truncate_by_edge=False)\n",
            "\n",
            "ox.folium.plot_graph_folium(network.G)"
         ]
      },
      {
         "cell_type": "code",
         "execution_count": 14,
         "metadata": {},
         "outputs": [],
         "source": [
            "network.save(path=\"../osm_data/hanover\")"
         ]
      }
   ],
   "metadata": {
      "interpreter": {
         "hash": "088070de2c6b4023b2f7ae556c412f86bcd02589c7bdb3766a0caf3cf4813fbd"
      },
      "kernelspec": {
         "display_name": "Python 3.9.12 ('road')",
         "language": "python",
         "name": "python3"
      },
      "language_info": {
         "codemirror_mode": {
            "name": "ipython",
            "version": 3
         },
         "file_extension": ".py",
         "mimetype": "text/x-python",
         "name": "python",
         "nbconvert_exporter": "python",
         "pygments_lexer": "ipython3",
         "version": "3.9.13"
      },
      "orig_nbformat": 4
   },
   "nbformat": 4,
   "nbformat_minor": 2
}
