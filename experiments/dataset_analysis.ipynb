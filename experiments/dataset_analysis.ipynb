{
 "cells": [
  {
   "cell_type": "code",
   "execution_count": 4,
   "metadata": {},
   "outputs": [
    {
     "name": "stdout",
     "output_type": "stream",
     "text": [
      "The autoreload extension is already loaded. To reload it, use:\n",
      "  %reload_ext autoreload\n"
     ]
    }
   ],
   "source": [
    "%load_ext autoreload\n",
    "%autoreload 2\n",
    "import os\n",
    "import sys\n",
    "\n",
    "module_path = os.path.abspath(os.path.join('..'))\n",
    "if module_path not in sys.path:\n",
    "    sys.path.append(module_path)\n",
    "\n",
    "import pandas as pd\n",
    "import geopandas as gpd\n",
    "import folium\n",
    "from shapely.geometry import LineString\n",
    "from shapely import wkt\n",
    "import numpy as np\n",
    "import swifter\n"
   ]
  },
  {
   "cell_type": "code",
   "execution_count": 6,
   "metadata": {},
   "outputs": [],
   "source": [
    "df = pd.read_csv(\"../datasets/trajectories/Porto/train.csv\")\n",
    "def convert_to_line_string(x):\n",
    "    m = np.matrix(x).reshape(-1, 2)\n",
    "    if m.shape[0] >= 10:\n",
    "        line = LineString(m)\n",
    "        return line\n",
    "    return -1\n",
    "\n",
    "df = df[df[\"MISSING_DATA\"] == False]\n",
    "df[\"POLYLINE\"] = df[\"POLYLINE\"].swifter.apply(convert_to_line_string)\n",
    "df = df[df[\"POLYLINE\"] != -1]\n",
    "\n",
    "df.to_csv(\"../datasets/trajectories/Porto/mapped.csv\")"
   ]
  },
  {
   "cell_type": "code",
   "execution_count": 5,
   "metadata": {},
   "outputs": [
    {
     "ename": "FileNotFoundError",
     "evalue": "[Errno 2] No such file or directory: '../datasets/trajectories/Porto/mapped.csv'",
     "output_type": "error",
     "traceback": [
      "\u001b[0;31m---------------------------------------------------------------------------\u001b[0m",
      "\u001b[0;31mFileNotFoundError\u001b[0m                         Traceback (most recent call last)",
      "\u001b[1;32m/home/pheinemeyer/Road-Network-Embedding-Generator/experiments/dataset_analysis.ipynb Cell 2'\u001b[0m in \u001b[0;36m<cell line: 1>\u001b[0;34m()\u001b[0m\n\u001b[0;32m----> <a href='vscode-notebook-cell://ssh-remote%2Bpascal04/home/pheinemeyer/Road-Network-Embedding-Generator/experiments/dataset_analysis.ipynb#ch0000001vscode-remote?line=0'>1</a>\u001b[0m df \u001b[39m=\u001b[39m pd\u001b[39m.\u001b[39;49mread_csv(\u001b[39m\"\u001b[39;49m\u001b[39m../datasets/trajectories/Porto/mapped.csv\u001b[39;49m\u001b[39m\"\u001b[39;49m)\n\u001b[1;32m      <a href='vscode-notebook-cell://ssh-remote%2Bpascal04/home/pheinemeyer/Road-Network-Embedding-Generator/experiments/dataset_analysis.ipynb#ch0000001vscode-remote?line=1'>2</a>\u001b[0m df[\u001b[39m'\u001b[39m\u001b[39mPOLYLINE\u001b[39m\u001b[39m'\u001b[39m] \u001b[39m=\u001b[39m df[\u001b[39m'\u001b[39m\u001b[39mPOLYLINE\u001b[39m\u001b[39m'\u001b[39m]\u001b[39m.\u001b[39mswifter\u001b[39m.\u001b[39mapply(wkt\u001b[39m.\u001b[39mloads)\n\u001b[1;32m      <a href='vscode-notebook-cell://ssh-remote%2Bpascal04/home/pheinemeyer/Road-Network-Embedding-Generator/experiments/dataset_analysis.ipynb#ch0000001vscode-remote?line=2'>3</a>\u001b[0m gdf \u001b[39m=\u001b[39m gpd\u001b[39m.\u001b[39mGeoDataFrame(df, crs\u001b[39m=\u001b[39m\u001b[39m'\u001b[39m\u001b[39mepsg:4326\u001b[39m\u001b[39m'\u001b[39m, geometry\u001b[39m=\u001b[39m\u001b[39m\"\u001b[39m\u001b[39mPOLYLINE\u001b[39m\u001b[39m\"\u001b[39m)\n",
      "File \u001b[0;32m~/miniconda3/envs/road-emb/lib/python3.9/site-packages/pandas/io/parsers.py:610\u001b[0m, in \u001b[0;36mread_csv\u001b[0;34m(filepath_or_buffer, sep, delimiter, header, names, index_col, usecols, squeeze, prefix, mangle_dupe_cols, dtype, engine, converters, true_values, false_values, skipinitialspace, skiprows, skipfooter, nrows, na_values, keep_default_na, na_filter, verbose, skip_blank_lines, parse_dates, infer_datetime_format, keep_date_col, date_parser, dayfirst, cache_dates, iterator, chunksize, compression, thousands, decimal, lineterminator, quotechar, quoting, doublequote, escapechar, comment, encoding, dialect, error_bad_lines, warn_bad_lines, delim_whitespace, low_memory, memory_map, float_precision, storage_options)\u001b[0m\n\u001b[1;32m    <a href='file:///home/pheinemeyer/miniconda3/envs/road-emb/lib/python3.9/site-packages/pandas/io/parsers.py?line=604'>605</a>\u001b[0m kwds_defaults \u001b[39m=\u001b[39m _refine_defaults_read(\n\u001b[1;32m    <a href='file:///home/pheinemeyer/miniconda3/envs/road-emb/lib/python3.9/site-packages/pandas/io/parsers.py?line=605'>606</a>\u001b[0m     dialect, delimiter, delim_whitespace, engine, sep, defaults\u001b[39m=\u001b[39m{\u001b[39m\"\u001b[39m\u001b[39mdelimiter\u001b[39m\u001b[39m\"\u001b[39m: \u001b[39m\"\u001b[39m\u001b[39m,\u001b[39m\u001b[39m\"\u001b[39m}\n\u001b[1;32m    <a href='file:///home/pheinemeyer/miniconda3/envs/road-emb/lib/python3.9/site-packages/pandas/io/parsers.py?line=606'>607</a>\u001b[0m )\n\u001b[1;32m    <a href='file:///home/pheinemeyer/miniconda3/envs/road-emb/lib/python3.9/site-packages/pandas/io/parsers.py?line=607'>608</a>\u001b[0m kwds\u001b[39m.\u001b[39mupdate(kwds_defaults)\n\u001b[0;32m--> <a href='file:///home/pheinemeyer/miniconda3/envs/road-emb/lib/python3.9/site-packages/pandas/io/parsers.py?line=609'>610</a>\u001b[0m \u001b[39mreturn\u001b[39;00m _read(filepath_or_buffer, kwds)\n",
      "File \u001b[0;32m~/miniconda3/envs/road-emb/lib/python3.9/site-packages/pandas/io/parsers.py:462\u001b[0m, in \u001b[0;36m_read\u001b[0;34m(filepath_or_buffer, kwds)\u001b[0m\n\u001b[1;32m    <a href='file:///home/pheinemeyer/miniconda3/envs/road-emb/lib/python3.9/site-packages/pandas/io/parsers.py?line=458'>459</a>\u001b[0m _validate_names(kwds\u001b[39m.\u001b[39mget(\u001b[39m\"\u001b[39m\u001b[39mnames\u001b[39m\u001b[39m\"\u001b[39m, \u001b[39mNone\u001b[39;00m))\n\u001b[1;32m    <a href='file:///home/pheinemeyer/miniconda3/envs/road-emb/lib/python3.9/site-packages/pandas/io/parsers.py?line=460'>461</a>\u001b[0m \u001b[39m# Create the parser.\u001b[39;00m\n\u001b[0;32m--> <a href='file:///home/pheinemeyer/miniconda3/envs/road-emb/lib/python3.9/site-packages/pandas/io/parsers.py?line=461'>462</a>\u001b[0m parser \u001b[39m=\u001b[39m TextFileReader(filepath_or_buffer, \u001b[39m*\u001b[39;49m\u001b[39m*\u001b[39;49mkwds)\n\u001b[1;32m    <a href='file:///home/pheinemeyer/miniconda3/envs/road-emb/lib/python3.9/site-packages/pandas/io/parsers.py?line=463'>464</a>\u001b[0m \u001b[39mif\u001b[39;00m chunksize \u001b[39mor\u001b[39;00m iterator:\n\u001b[1;32m    <a href='file:///home/pheinemeyer/miniconda3/envs/road-emb/lib/python3.9/site-packages/pandas/io/parsers.py?line=464'>465</a>\u001b[0m     \u001b[39mreturn\u001b[39;00m parser\n",
      "File \u001b[0;32m~/miniconda3/envs/road-emb/lib/python3.9/site-packages/pandas/io/parsers.py:819\u001b[0m, in \u001b[0;36mTextFileReader.__init__\u001b[0;34m(self, f, engine, **kwds)\u001b[0m\n\u001b[1;32m    <a href='file:///home/pheinemeyer/miniconda3/envs/road-emb/lib/python3.9/site-packages/pandas/io/parsers.py?line=815'>816</a>\u001b[0m \u001b[39mif\u001b[39;00m \u001b[39m\"\u001b[39m\u001b[39mhas_index_names\u001b[39m\u001b[39m\"\u001b[39m \u001b[39min\u001b[39;00m kwds:\n\u001b[1;32m    <a href='file:///home/pheinemeyer/miniconda3/envs/road-emb/lib/python3.9/site-packages/pandas/io/parsers.py?line=816'>817</a>\u001b[0m     \u001b[39mself\u001b[39m\u001b[39m.\u001b[39moptions[\u001b[39m\"\u001b[39m\u001b[39mhas_index_names\u001b[39m\u001b[39m\"\u001b[39m] \u001b[39m=\u001b[39m kwds[\u001b[39m\"\u001b[39m\u001b[39mhas_index_names\u001b[39m\u001b[39m\"\u001b[39m]\n\u001b[0;32m--> <a href='file:///home/pheinemeyer/miniconda3/envs/road-emb/lib/python3.9/site-packages/pandas/io/parsers.py?line=818'>819</a>\u001b[0m \u001b[39mself\u001b[39m\u001b[39m.\u001b[39m_engine \u001b[39m=\u001b[39m \u001b[39mself\u001b[39;49m\u001b[39m.\u001b[39;49m_make_engine(\u001b[39mself\u001b[39;49m\u001b[39m.\u001b[39;49mengine)\n",
      "File \u001b[0;32m~/miniconda3/envs/road-emb/lib/python3.9/site-packages/pandas/io/parsers.py:1050\u001b[0m, in \u001b[0;36mTextFileReader._make_engine\u001b[0;34m(self, engine)\u001b[0m\n\u001b[1;32m   <a href='file:///home/pheinemeyer/miniconda3/envs/road-emb/lib/python3.9/site-packages/pandas/io/parsers.py?line=1045'>1046</a>\u001b[0m     \u001b[39mraise\u001b[39;00m \u001b[39mValueError\u001b[39;00m(\n\u001b[1;32m   <a href='file:///home/pheinemeyer/miniconda3/envs/road-emb/lib/python3.9/site-packages/pandas/io/parsers.py?line=1046'>1047</a>\u001b[0m         \u001b[39mf\u001b[39m\u001b[39m\"\u001b[39m\u001b[39mUnknown engine: \u001b[39m\u001b[39m{\u001b[39;00mengine\u001b[39m}\u001b[39;00m\u001b[39m (valid options are \u001b[39m\u001b[39m{\u001b[39;00mmapping\u001b[39m.\u001b[39mkeys()\u001b[39m}\u001b[39;00m\u001b[39m)\u001b[39m\u001b[39m\"\u001b[39m\n\u001b[1;32m   <a href='file:///home/pheinemeyer/miniconda3/envs/road-emb/lib/python3.9/site-packages/pandas/io/parsers.py?line=1047'>1048</a>\u001b[0m     )\n\u001b[1;32m   <a href='file:///home/pheinemeyer/miniconda3/envs/road-emb/lib/python3.9/site-packages/pandas/io/parsers.py?line=1048'>1049</a>\u001b[0m \u001b[39m# error: Too many arguments for \"ParserBase\"\u001b[39;00m\n\u001b[0;32m-> <a href='file:///home/pheinemeyer/miniconda3/envs/road-emb/lib/python3.9/site-packages/pandas/io/parsers.py?line=1049'>1050</a>\u001b[0m \u001b[39mreturn\u001b[39;00m mapping[engine](\u001b[39mself\u001b[39;49m\u001b[39m.\u001b[39;49mf, \u001b[39m*\u001b[39;49m\u001b[39m*\u001b[39;49m\u001b[39mself\u001b[39;49m\u001b[39m.\u001b[39;49moptions)\n",
      "File \u001b[0;32m~/miniconda3/envs/road-emb/lib/python3.9/site-packages/pandas/io/parsers.py:1867\u001b[0m, in \u001b[0;36mCParserWrapper.__init__\u001b[0;34m(self, src, **kwds)\u001b[0m\n\u001b[1;32m   <a href='file:///home/pheinemeyer/miniconda3/envs/road-emb/lib/python3.9/site-packages/pandas/io/parsers.py?line=1863'>1864</a>\u001b[0m kwds[\u001b[39m\"\u001b[39m\u001b[39musecols\u001b[39m\u001b[39m\"\u001b[39m] \u001b[39m=\u001b[39m \u001b[39mself\u001b[39m\u001b[39m.\u001b[39musecols\n\u001b[1;32m   <a href='file:///home/pheinemeyer/miniconda3/envs/road-emb/lib/python3.9/site-packages/pandas/io/parsers.py?line=1865'>1866</a>\u001b[0m \u001b[39m# open handles\u001b[39;00m\n\u001b[0;32m-> <a href='file:///home/pheinemeyer/miniconda3/envs/road-emb/lib/python3.9/site-packages/pandas/io/parsers.py?line=1866'>1867</a>\u001b[0m \u001b[39mself\u001b[39;49m\u001b[39m.\u001b[39;49m_open_handles(src, kwds)\n\u001b[1;32m   <a href='file:///home/pheinemeyer/miniconda3/envs/road-emb/lib/python3.9/site-packages/pandas/io/parsers.py?line=1867'>1868</a>\u001b[0m \u001b[39massert\u001b[39;00m \u001b[39mself\u001b[39m\u001b[39m.\u001b[39mhandles \u001b[39mis\u001b[39;00m \u001b[39mnot\u001b[39;00m \u001b[39mNone\u001b[39;00m\n\u001b[1;32m   <a href='file:///home/pheinemeyer/miniconda3/envs/road-emb/lib/python3.9/site-packages/pandas/io/parsers.py?line=1868'>1869</a>\u001b[0m \u001b[39mfor\u001b[39;00m key \u001b[39min\u001b[39;00m (\u001b[39m\"\u001b[39m\u001b[39mstorage_options\u001b[39m\u001b[39m\"\u001b[39m, \u001b[39m\"\u001b[39m\u001b[39mencoding\u001b[39m\u001b[39m\"\u001b[39m, \u001b[39m\"\u001b[39m\u001b[39mmemory_map\u001b[39m\u001b[39m\"\u001b[39m, \u001b[39m\"\u001b[39m\u001b[39mcompression\u001b[39m\u001b[39m\"\u001b[39m):\n",
      "File \u001b[0;32m~/miniconda3/envs/road-emb/lib/python3.9/site-packages/pandas/io/parsers.py:1362\u001b[0m, in \u001b[0;36mParserBase._open_handles\u001b[0;34m(self, src, kwds)\u001b[0m\n\u001b[1;32m   <a href='file:///home/pheinemeyer/miniconda3/envs/road-emb/lib/python3.9/site-packages/pandas/io/parsers.py?line=1357'>1358</a>\u001b[0m \u001b[39mdef\u001b[39;00m \u001b[39m_open_handles\u001b[39m(\u001b[39mself\u001b[39m, src: FilePathOrBuffer, kwds: Dict[\u001b[39mstr\u001b[39m, Any]) \u001b[39m-\u001b[39m\u001b[39m>\u001b[39m \u001b[39mNone\u001b[39;00m:\n\u001b[1;32m   <a href='file:///home/pheinemeyer/miniconda3/envs/road-emb/lib/python3.9/site-packages/pandas/io/parsers.py?line=1358'>1359</a>\u001b[0m     \u001b[39m\"\"\"\u001b[39;00m\n\u001b[1;32m   <a href='file:///home/pheinemeyer/miniconda3/envs/road-emb/lib/python3.9/site-packages/pandas/io/parsers.py?line=1359'>1360</a>\u001b[0m \u001b[39m    Let the readers open IOHanldes after they are done with their potential raises.\u001b[39;00m\n\u001b[1;32m   <a href='file:///home/pheinemeyer/miniconda3/envs/road-emb/lib/python3.9/site-packages/pandas/io/parsers.py?line=1360'>1361</a>\u001b[0m \u001b[39m    \"\"\"\u001b[39;00m\n\u001b[0;32m-> <a href='file:///home/pheinemeyer/miniconda3/envs/road-emb/lib/python3.9/site-packages/pandas/io/parsers.py?line=1361'>1362</a>\u001b[0m     \u001b[39mself\u001b[39m\u001b[39m.\u001b[39mhandles \u001b[39m=\u001b[39m get_handle(\n\u001b[1;32m   <a href='file:///home/pheinemeyer/miniconda3/envs/road-emb/lib/python3.9/site-packages/pandas/io/parsers.py?line=1362'>1363</a>\u001b[0m         src,\n\u001b[1;32m   <a href='file:///home/pheinemeyer/miniconda3/envs/road-emb/lib/python3.9/site-packages/pandas/io/parsers.py?line=1363'>1364</a>\u001b[0m         \u001b[39m\"\u001b[39;49m\u001b[39mr\u001b[39;49m\u001b[39m\"\u001b[39;49m,\n\u001b[1;32m   <a href='file:///home/pheinemeyer/miniconda3/envs/road-emb/lib/python3.9/site-packages/pandas/io/parsers.py?line=1364'>1365</a>\u001b[0m         encoding\u001b[39m=\u001b[39;49mkwds\u001b[39m.\u001b[39;49mget(\u001b[39m\"\u001b[39;49m\u001b[39mencoding\u001b[39;49m\u001b[39m\"\u001b[39;49m, \u001b[39mNone\u001b[39;49;00m),\n\u001b[1;32m   <a href='file:///home/pheinemeyer/miniconda3/envs/road-emb/lib/python3.9/site-packages/pandas/io/parsers.py?line=1365'>1366</a>\u001b[0m         compression\u001b[39m=\u001b[39;49mkwds\u001b[39m.\u001b[39;49mget(\u001b[39m\"\u001b[39;49m\u001b[39mcompression\u001b[39;49m\u001b[39m\"\u001b[39;49m, \u001b[39mNone\u001b[39;49;00m),\n\u001b[1;32m   <a href='file:///home/pheinemeyer/miniconda3/envs/road-emb/lib/python3.9/site-packages/pandas/io/parsers.py?line=1366'>1367</a>\u001b[0m         memory_map\u001b[39m=\u001b[39;49mkwds\u001b[39m.\u001b[39;49mget(\u001b[39m\"\u001b[39;49m\u001b[39mmemory_map\u001b[39;49m\u001b[39m\"\u001b[39;49m, \u001b[39mFalse\u001b[39;49;00m),\n\u001b[1;32m   <a href='file:///home/pheinemeyer/miniconda3/envs/road-emb/lib/python3.9/site-packages/pandas/io/parsers.py?line=1367'>1368</a>\u001b[0m         storage_options\u001b[39m=\u001b[39;49mkwds\u001b[39m.\u001b[39;49mget(\u001b[39m\"\u001b[39;49m\u001b[39mstorage_options\u001b[39;49m\u001b[39m\"\u001b[39;49m, \u001b[39mNone\u001b[39;49;00m),\n\u001b[1;32m   <a href='file:///home/pheinemeyer/miniconda3/envs/road-emb/lib/python3.9/site-packages/pandas/io/parsers.py?line=1368'>1369</a>\u001b[0m     )\n",
      "File \u001b[0;32m~/miniconda3/envs/road-emb/lib/python3.9/site-packages/pandas/io/common.py:642\u001b[0m, in \u001b[0;36mget_handle\u001b[0;34m(path_or_buf, mode, encoding, compression, memory_map, is_text, errors, storage_options)\u001b[0m\n\u001b[1;32m    <a href='file:///home/pheinemeyer/miniconda3/envs/road-emb/lib/python3.9/site-packages/pandas/io/common.py?line=639'>640</a>\u001b[0m         errors \u001b[39m=\u001b[39m \u001b[39m\"\u001b[39m\u001b[39mreplace\u001b[39m\u001b[39m\"\u001b[39m\n\u001b[1;32m    <a href='file:///home/pheinemeyer/miniconda3/envs/road-emb/lib/python3.9/site-packages/pandas/io/common.py?line=640'>641</a>\u001b[0m     \u001b[39m# Encoding\u001b[39;00m\n\u001b[0;32m--> <a href='file:///home/pheinemeyer/miniconda3/envs/road-emb/lib/python3.9/site-packages/pandas/io/common.py?line=641'>642</a>\u001b[0m     handle \u001b[39m=\u001b[39m \u001b[39mopen\u001b[39;49m(\n\u001b[1;32m    <a href='file:///home/pheinemeyer/miniconda3/envs/road-emb/lib/python3.9/site-packages/pandas/io/common.py?line=642'>643</a>\u001b[0m         handle,\n\u001b[1;32m    <a href='file:///home/pheinemeyer/miniconda3/envs/road-emb/lib/python3.9/site-packages/pandas/io/common.py?line=643'>644</a>\u001b[0m         ioargs\u001b[39m.\u001b[39;49mmode,\n\u001b[1;32m    <a href='file:///home/pheinemeyer/miniconda3/envs/road-emb/lib/python3.9/site-packages/pandas/io/common.py?line=644'>645</a>\u001b[0m         encoding\u001b[39m=\u001b[39;49mioargs\u001b[39m.\u001b[39;49mencoding,\n\u001b[1;32m    <a href='file:///home/pheinemeyer/miniconda3/envs/road-emb/lib/python3.9/site-packages/pandas/io/common.py?line=645'>646</a>\u001b[0m         errors\u001b[39m=\u001b[39;49merrors,\n\u001b[1;32m    <a href='file:///home/pheinemeyer/miniconda3/envs/road-emb/lib/python3.9/site-packages/pandas/io/common.py?line=646'>647</a>\u001b[0m         newline\u001b[39m=\u001b[39;49m\u001b[39m\"\u001b[39;49m\u001b[39m\"\u001b[39;49m,\n\u001b[1;32m    <a href='file:///home/pheinemeyer/miniconda3/envs/road-emb/lib/python3.9/site-packages/pandas/io/common.py?line=647'>648</a>\u001b[0m     )\n\u001b[1;32m    <a href='file:///home/pheinemeyer/miniconda3/envs/road-emb/lib/python3.9/site-packages/pandas/io/common.py?line=648'>649</a>\u001b[0m \u001b[39melse\u001b[39;00m:\n\u001b[1;32m    <a href='file:///home/pheinemeyer/miniconda3/envs/road-emb/lib/python3.9/site-packages/pandas/io/common.py?line=649'>650</a>\u001b[0m     \u001b[39m# Binary mode\u001b[39;00m\n\u001b[1;32m    <a href='file:///home/pheinemeyer/miniconda3/envs/road-emb/lib/python3.9/site-packages/pandas/io/common.py?line=650'>651</a>\u001b[0m     handle \u001b[39m=\u001b[39m \u001b[39mopen\u001b[39m(handle, ioargs\u001b[39m.\u001b[39mmode)\n",
      "\u001b[0;31mFileNotFoundError\u001b[0m: [Errno 2] No such file or directory: '../datasets/trajectories/Porto/mapped.csv'"
     ]
    }
   ],
   "source": [
    "df = pd.read_csv(\"../datasets/trajectories/Porto/mapped.csv\")\n",
    "df['POLYLINE'] = df['POLYLINE'].swifter.apply(wkt.loads)\n",
    "gdf = gpd.GeoDataFrame(df, crs='epsg:4326', geometry=\"POLYLINE\")"
   ]
  },
  {
   "cell_type": "code",
   "execution_count": 7,
   "metadata": {},
   "outputs": [
    {
     "data": {
      "text/plain": [
       "0          LINESTRING (-8.61864 41.14141, -8.61850 41.141...\n",
       "1          LINESTRING (-8.63985 41.15983, -8.64035 41.159...\n",
       "2          LINESTRING (-8.61296 41.14036, -8.61338 41.140...\n",
       "3          LINESTRING (-8.57468 41.15195, -8.57470 41.151...\n",
       "4          LINESTRING (-8.64599 41.18049, -8.64595 41.180...\n",
       "                                 ...                        \n",
       "1641019    LINESTRING (-8.60697 41.16228, -8.60697 41.162...\n",
       "1641020    LINESTRING (-8.61247 41.14602, -8.61249 41.145...\n",
       "1641021    LINESTRING (-8.61014 41.14084, -8.61017 41.140...\n",
       "1641022    LINESTRING (-8.63071 41.15489, -8.63073 41.154...\n",
       "1641023    LINESTRING (-8.61554 41.14063, -8.61542 41.140...\n",
       "Name: POLYLINE, Length: 1641024, dtype: geometry"
      ]
     },
     "execution_count": 7,
     "metadata": {},
     "output_type": "execute_result"
    }
   ],
   "source": [
    "gdf.head()\n",
    "gdf[\"POLYLINE\"]"
   ]
  },
  {
   "cell_type": "code",
   "execution_count": 3,
   "metadata": {},
   "outputs": [
    {
     "data": {
      "application/vnd.jupyter.widget-view+json": {
       "model_id": "7b166b6c8d9342e8a9a0d8dc4645b5f7",
       "version_major": 2,
       "version_minor": 0
      },
      "text/plain": [
       "Dask Apply:   0%|          | 0/16 [00:00<?, ?it/s]"
      ]
     },
     "metadata": {},
     "output_type": "display_data"
    }
   ],
   "source": [
    "gdf[\"coords\"] = gdf[\"POLYLINE\"].swifter.apply(lambda x: list(x.coords))"
   ]
  },
  {
   "cell_type": "code",
   "execution_count": 9,
   "metadata": {},
   "outputs": [
    {
     "data": {
      "text/html": [
       "<div>\n",
       "<style scoped>\n",
       "    .dataframe tbody tr th:only-of-type {\n",
       "        vertical-align: middle;\n",
       "    }\n",
       "\n",
       "    .dataframe tbody tr th {\n",
       "        vertical-align: top;\n",
       "    }\n",
       "\n",
       "    .dataframe thead th {\n",
       "        text-align: right;\n",
       "    }\n",
       "</style>\n",
       "<table border=\"1\" class=\"dataframe\">\n",
       "  <thead>\n",
       "    <tr style=\"text-align: right;\">\n",
       "      <th></th>\n",
       "      <th>Unnamed: 0</th>\n",
       "      <th>TRIP_ID</th>\n",
       "      <th>CALL_TYPE</th>\n",
       "      <th>ORIGIN_CALL</th>\n",
       "      <th>ORIGIN_STAND</th>\n",
       "      <th>TAXI_ID</th>\n",
       "      <th>TIMESTAMP</th>\n",
       "      <th>DAY_TYPE</th>\n",
       "      <th>MISSING_DATA</th>\n",
       "      <th>POLYLINE</th>\n",
       "      <th>coords</th>\n",
       "    </tr>\n",
       "  </thead>\n",
       "  <tbody>\n",
       "    <tr>\n",
       "      <th>0</th>\n",
       "      <td>0</td>\n",
       "      <td>1372636858620000589</td>\n",
       "      <td>C</td>\n",
       "      <td>NaN</td>\n",
       "      <td>NaN</td>\n",
       "      <td>20000589</td>\n",
       "      <td>1372636858</td>\n",
       "      <td>A</td>\n",
       "      <td>False</td>\n",
       "      <td>LINESTRING (-8.61864 41.14141, -8.61850 41.141...</td>\n",
       "      <td>[(-8.618643, 41.141412), (-8.618499, 41.141376...</td>\n",
       "    </tr>\n",
       "    <tr>\n",
       "      <th>1</th>\n",
       "      <td>1</td>\n",
       "      <td>1372637303620000596</td>\n",
       "      <td>B</td>\n",
       "      <td>NaN</td>\n",
       "      <td>7.0</td>\n",
       "      <td>20000596</td>\n",
       "      <td>1372637303</td>\n",
       "      <td>A</td>\n",
       "      <td>False</td>\n",
       "      <td>LINESTRING (-8.63985 41.15983, -8.64035 41.159...</td>\n",
       "      <td>[(-8.639847, 41.159826), (-8.640351, 41.159871...</td>\n",
       "    </tr>\n",
       "    <tr>\n",
       "      <th>2</th>\n",
       "      <td>2</td>\n",
       "      <td>1372636951620000320</td>\n",
       "      <td>C</td>\n",
       "      <td>NaN</td>\n",
       "      <td>NaN</td>\n",
       "      <td>20000320</td>\n",
       "      <td>1372636951</td>\n",
       "      <td>A</td>\n",
       "      <td>False</td>\n",
       "      <td>LINESTRING (-8.61296 41.14036, -8.61338 41.140...</td>\n",
       "      <td>[(-8.612964, 41.140359), (-8.613378, 41.14035)...</td>\n",
       "    </tr>\n",
       "    <tr>\n",
       "      <th>3</th>\n",
       "      <td>3</td>\n",
       "      <td>1372636854620000520</td>\n",
       "      <td>C</td>\n",
       "      <td>NaN</td>\n",
       "      <td>NaN</td>\n",
       "      <td>20000520</td>\n",
       "      <td>1372636854</td>\n",
       "      <td>A</td>\n",
       "      <td>False</td>\n",
       "      <td>LINESTRING (-8.57468 41.15195, -8.57470 41.151...</td>\n",
       "      <td>[(-8.574678, 41.151951), (-8.574705, 41.151942...</td>\n",
       "    </tr>\n",
       "    <tr>\n",
       "      <th>4</th>\n",
       "      <td>4</td>\n",
       "      <td>1372637091620000337</td>\n",
       "      <td>C</td>\n",
       "      <td>NaN</td>\n",
       "      <td>NaN</td>\n",
       "      <td>20000337</td>\n",
       "      <td>1372637091</td>\n",
       "      <td>A</td>\n",
       "      <td>False</td>\n",
       "      <td>LINESTRING (-8.64599 41.18049, -8.64595 41.180...</td>\n",
       "      <td>[(-8.645994, 41.18049), (-8.645949, 41.180517)...</td>\n",
       "    </tr>\n",
       "  </tbody>\n",
       "</table>\n",
       "</div>"
      ],
      "text/plain": [
       "   Unnamed: 0              TRIP_ID CALL_TYPE  ORIGIN_CALL  ORIGIN_STAND  \\\n",
       "0           0  1372636858620000589         C          NaN           NaN   \n",
       "1           1  1372637303620000596         B          NaN           7.0   \n",
       "2           2  1372636951620000320         C          NaN           NaN   \n",
       "3           3  1372636854620000520         C          NaN           NaN   \n",
       "4           4  1372637091620000337         C          NaN           NaN   \n",
       "\n",
       "    TAXI_ID   TIMESTAMP DAY_TYPE  MISSING_DATA  \\\n",
       "0  20000589  1372636858        A         False   \n",
       "1  20000596  1372637303        A         False   \n",
       "2  20000320  1372636951        A         False   \n",
       "3  20000520  1372636854        A         False   \n",
       "4  20000337  1372637091        A         False   \n",
       "\n",
       "                                            POLYLINE  \\\n",
       "0  LINESTRING (-8.61864 41.14141, -8.61850 41.141...   \n",
       "1  LINESTRING (-8.63985 41.15983, -8.64035 41.159...   \n",
       "2  LINESTRING (-8.61296 41.14036, -8.61338 41.140...   \n",
       "3  LINESTRING (-8.57468 41.15195, -8.57470 41.151...   \n",
       "4  LINESTRING (-8.64599 41.18049, -8.64595 41.180...   \n",
       "\n",
       "                                              coords  \n",
       "0  [(-8.618643, 41.141412), (-8.618499, 41.141376...  \n",
       "1  [(-8.639847, 41.159826), (-8.640351, 41.159871...  \n",
       "2  [(-8.612964, 41.140359), (-8.613378, 41.14035)...  \n",
       "3  [(-8.574678, 41.151951), (-8.574705, 41.151942...  \n",
       "4  [(-8.645994, 41.18049), (-8.645949, 41.180517)...  "
      ]
     },
     "execution_count": 9,
     "metadata": {},
     "output_type": "execute_result"
    }
   ],
   "source": [
    "gdf.head()"
   ]
  },
  {
   "cell_type": "code",
   "execution_count": 4,
   "metadata": {},
   "outputs": [
    {
     "ename": "Error",
     "evalue": "Canceled future for execute_request message before replies were done",
     "output_type": "error",
     "traceback": [
      "Error: Canceled future for execute_request message before replies were done",
      "at t.KernelShellFutureHandler.dispose (/Users/ironmonkeyapps/.vscode/extensions/ms-toolsai.jupyter-2022.3.1000901801/out/extension.js:2:1204175)",
      "at /Users/ironmonkeyapps/.vscode/extensions/ms-toolsai.jupyter-2022.3.1000901801/out/extension.js:2:1223227",
      "at Map.forEach (<anonymous>)",
      "at v._clearKernelState (/Users/ironmonkeyapps/.vscode/extensions/ms-toolsai.jupyter-2022.3.1000901801/out/extension.js:2:1223212)",
      "at v.dispose (/Users/ironmonkeyapps/.vscode/extensions/ms-toolsai.jupyter-2022.3.1000901801/out/extension.js:2:1216694)",
      "at /Users/ironmonkeyapps/.vscode/extensions/ms-toolsai.jupyter-2022.3.1000901801/out/extension.js:2:533674",
      "at t.swallowExceptions (/Users/ironmonkeyapps/.vscode/extensions/ms-toolsai.jupyter-2022.3.1000901801/out/extension.js:2:913059)",
      "at dispose (/Users/ironmonkeyapps/.vscode/extensions/ms-toolsai.jupyter-2022.3.1000901801/out/extension.js:2:533652)",
      "at t.RawSession.dispose (/Users/ironmonkeyapps/.vscode/extensions/ms-toolsai.jupyter-2022.3.1000901801/out/extension.js:2:537330)",
      "at runMicrotasks (<anonymous>)",
      "at processTicksAndRejections (node:internal/process/task_queues:96:5)"
     ]
    }
   ],
   "source": [
    "# Folium Heat Map\n",
    "from folium import plugins\n",
    "from folium.plugins import HeatMap\n",
    "\n",
    "map_porto = folium.Map(location=[41.18049, -8.64599],\n",
    "                    zoom_start = 10)\n",
    "\n",
    "coords = gdf.iloc[:, -1].values\n",
    "coords = np.concatenate(coords)\n",
    "heat_data = [(c[1], c[0]) for c in coords]\n",
    "\n",
    "# Plot it on the map\n",
    "HeatMap(heat_data, radius=10).add_to(map_porto)\n",
    "\n",
    "# Display the map\n",
    "# map_porto\n",
    "map_porto.save(\"heatmap_gps_points_porto.html\")"
   ]
  }
 ],
 "metadata": {
  "interpreter": {
   "hash": "cca546fdd2f6c7730d3bb3f060630f4f24d9be8a642e1cb2079226fa21b70079"
  },
  "kernelspec": {
   "display_name": "Python 3.9.12 ('road-emb')",
   "language": "python",
   "name": "python3"
  },
  "language_info": {
   "codemirror_mode": {
    "name": "ipython",
    "version": 3
   },
   "file_extension": ".py",
   "mimetype": "text/x-python",
   "name": "python",
   "nbconvert_exporter": "python",
   "pygments_lexer": "ipython3",
   "version": "3.9.12"
  },
  "orig_nbformat": 4
 },
 "nbformat": 4,
 "nbformat_minor": 2
}
