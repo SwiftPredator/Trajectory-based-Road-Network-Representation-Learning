{
   "cells": [
      {
         "cell_type": "code",
         "execution_count": 3,
         "metadata": {},
         "outputs": [
            {
               "name": "stdout",
               "output_type": "stream",
               "text": [
                  "Unexpected exception formatting exception. Falling back to standard exception\n"
               ]
            },
            {
               "name": "stderr",
               "output_type": "stream",
               "text": [
                  "Traceback (most recent call last):\n",
                  "  File \"/home/pheinemeyer/miniconda3/envs/road-emb/lib/python3.9/site-packages/IPython/core/extensions.py\", line 76, in load_extension\n",
                  "  File \"/home/pheinemeyer/miniconda3/envs/road-emb/lib/python3.9/site-packages/IPython/core/extensions.py\", line 92, in _load_extension\n",
                  "  File \"/home/pheinemeyer/miniconda3/envs/road-emb/lib/python3.9/importlib/__init__.py\", line 127, in import_module\n",
                  "  File \"<frozen importlib._bootstrap>\", line 1030, in _gcd_import\n",
                  "  File \"<frozen importlib._bootstrap>\", line 1007, in _find_and_load\n",
                  "  File \"<frozen importlib._bootstrap>\", line 984, in _find_and_load_unlocked\n",
                  "ModuleNotFoundError: No module named 'autoreload'\n",
                  "\n",
                  "During handling of the above exception, another exception occurred:\n",
                  "\n",
                  "Traceback (most recent call last):\n",
                  "  File \"/home/pheinemeyer/miniconda3/envs/road-emb/lib/python3.9/site-packages/IPython/core/interactiveshell.py\", line 3397, in run_code\n",
                  "  File \"/tmp/ipykernel_22625/2852571603.py\", line 1, in <cell line: 1>\n",
                  "    get_ipython().run_line_magic('load_ext', 'autoreload')\n",
                  "  File \"/home/pheinemeyer/miniconda3/envs/road-emb/lib/python3.9/site-packages/IPython/core/interactiveshell.py\", line 2304, in run_line_magic\n",
                  "  File \"/home/pheinemeyer/miniconda3/envs/road-emb/lib/python3.9/site-packages/IPython/core/magics/extension.py\", line 33, in load_ext\n",
                  "  File \"/home/pheinemeyer/miniconda3/envs/road-emb/lib/python3.9/site-packages/IPython/core/extensions.py\", line 80, in load_extension\n",
                  "  File \"/home/pheinemeyer/miniconda3/envs/road-emb/lib/python3.9/site-packages/IPython/core/extensions.py\", line 92, in _load_extension\n",
                  "  File \"/home/pheinemeyer/miniconda3/envs/road-emb/lib/python3.9/importlib/__init__.py\", line 127, in import_module\n",
                  "  File \"<frozen importlib._bootstrap>\", line 1030, in _gcd_import\n",
                  "  File \"<frozen importlib._bootstrap>\", line 1007, in _find_and_load\n",
                  "  File \"<frozen importlib._bootstrap>\", line 984, in _find_and_load_unlocked\n",
                  "ModuleNotFoundError: No module named 'IPython.extensions.autoreload'\n",
                  "\n",
                  "During handling of the above exception, another exception occurred:\n",
                  "\n",
                  "Traceback (most recent call last):\n",
                  "  File \"/home/pheinemeyer/miniconda3/envs/road-emb/lib/python3.9/site-packages/pygments/styles/__init__.py\", line 78, in get_style_by_name\n",
                  "ModuleNotFoundError: No module named 'pygments.styles.default'\n",
                  "\n",
                  "During handling of the above exception, another exception occurred:\n",
                  "\n",
                  "Traceback (most recent call last):\n",
                  "  File \"/home/pheinemeyer/miniconda3/envs/road-emb/lib/python3.9/site-packages/IPython/core/interactiveshell.py\", line 1992, in showtraceback\n",
                  "  File \"/home/pheinemeyer/miniconda3/envs/road-emb/lib/python3.9/site-packages/IPython/core/ultratb.py\", line 1118, in structured_traceback\n",
                  "  File \"/home/pheinemeyer/miniconda3/envs/road-emb/lib/python3.9/site-packages/IPython/core/ultratb.py\", line 1012, in structured_traceback\n",
                  "  File \"/home/pheinemeyer/miniconda3/envs/road-emb/lib/python3.9/site-packages/IPython/core/ultratb.py\", line 865, in structured_traceback\n",
                  "  File \"/home/pheinemeyer/miniconda3/envs/road-emb/lib/python3.9/site-packages/IPython/core/ultratb.py\", line 799, in format_exception_as_a_whole\n",
                  "  File \"/home/pheinemeyer/miniconda3/envs/road-emb/lib/python3.9/site-packages/IPython/core/ultratb.py\", line 844, in get_records\n",
                  "  File \"/home/pheinemeyer/miniconda3/envs/road-emb/lib/python3.9/site-packages/pygments/styles/__init__.py\", line 80, in get_style_by_name\n",
                  "pygments.util.ClassNotFound: Could not find style module 'default', though it should be builtin.\n"
               ]
            }
         ],
         "source": [
            "%load_ext autoreload\n",
            "%autoreload 2\n",
            "import os\n",
            "import sys\n",
            "\n",
            "module_path = os.path.abspath(os.path.join('..'))\n",
            "if module_path not in sys.path:\n",
            "    sys.path.append(module_path)\n",
            "\n",
            "import pandas as pd\n",
            "import geopandas as gpd\n",
            "import folium\n",
            "from shapely.geometry import LineString\n",
            "from shapely import wkt\n",
            "import numpy as np\n",
            "import swifter\n"
         ]
      },
      {
         "cell_type": "code",
         "execution_count": 6,
         "metadata": {},
         "outputs": [],
         "source": [
            "df = pd.read_csv(\"../datasets/trajectories/Porto/train.csv\")\n",
            "def convert_to_line_string(x):\n",
            "    m = np.matrix(x).reshape(-1, 2)\n",
            "    if m.shape[0] >= 10:\n",
            "        line = LineString(m)\n",
            "        return line\n",
            "    return -1\n",
            "\n",
            "df = df[df[\"MISSING_DATA\"] == False]\n",
            "df[\"POLYLINE\"] = df[\"POLYLINE\"].swifter.apply(convert_to_line_string)\n",
            "df = df[df[\"POLYLINE\"] != -1]\n",
            "\n",
            "df.to_csv(\"../datasets/trajectories/Porto/mapped.csv\")"
         ]
      },
      {
         "cell_type": "code",
         "execution_count": null,
         "metadata": {},
         "outputs": [],
         "source": [
            "df = pd.read_csv(\"../datasets/trajectories/Porto/mapped.csv\")\n",
            "df['POLYLINE'] = df['POLYLINE'].swifter.apply(wkt.loads)\n",
            "gdf = gpd.GeoDataFrame(df, crs='epsg:4326', geometry=\"POLYLINE\")"
         ]
      },
      {
         "cell_type": "code",
         "execution_count": null,
         "metadata": {},
         "outputs": [],
         "source": [
            "gdf.head()\n",
            "gdf[\"POLYLINE\"]"
         ]
      },
      {
         "cell_type": "code",
         "execution_count": null,
         "metadata": {},
         "outputs": [],
         "source": [
            "gdf[\"coords\"] = gdf[\"POLYLINE\"].swifter.apply(lambda x: list(x.coords))"
         ]
      },
      {
         "cell_type": "code",
         "execution_count": null,
         "metadata": {},
         "outputs": [],
         "source": [
            "gdf.head()"
         ]
      },
      {
         "cell_type": "code",
         "execution_count": null,
         "metadata": {},
         "outputs": [],
         "source": [
            "# Folium Heat Map\n",
            "from folium import plugins\n",
            "from folium.plugins import HeatMap\n",
            "from collections import defaultdict\n",
            "import branca.colormap\n",
            "\n",
            "map_porto = folium.Map(location=[41.18049, -8.64599],\n",
            "                    zoom_start = 8)\n",
            "\n",
            "coords = gdf.iloc[:, -1].values\n",
            "print(coords.shape)\n",
            "# cut down to 1/2 random choice, since full data is too big\n",
            "indices = np.random.choice(coords.shape[0], int(coords.shape[0]/10))\n",
            "reduced_coords = coords[indices]\n",
            "print(reduced_coords.shape)\n",
            "coords = np.concatenate(reduced_coords)\n",
            "print(coords.shape)\n",
            "\n",
            "heat_data = [(c[1], c[0]) for c in coords]\n",
            "\n",
            "steps=20\n",
            "colormap = branca.colormap.linear.viridis.scale(0, 1).to_step(steps)\n",
            "colormap.caption = 'Density of GPS points with 10m radius'\n",
            "gradient_map=defaultdict(dict)\n",
            "for i in range(steps):\n",
            "    gradient_map[1/steps*i] = colormap.rgb_hex_str(1/steps*i)\n",
            "colormap.add_to(map_porto)\n",
            "\n",
            "HeatMap(heat_data, radius=10, gradient=gradient_map).add_to(map_porto)\n",
            "\n",
            "\n",
            "# Display the map\n",
            "#map_porto.save(\"heatmap_gps_points_porto.html\")\n",
            "map_porto"
         ]
      },
      {
         "cell_type": "code",
         "execution_count": null,
         "metadata": {},
         "outputs": [],
         "source": [
            "map_porto.save('heatmap_gps_sample.html')"
         ]
      }
   ],
   "metadata": {
      "interpreter": {
         "hash": "cca546fdd2f6c7730d3bb3f060630f4f24d9be8a642e1cb2079226fa21b70079"
      },
      "kernelspec": {
         "display_name": "Python 3.9.12 ('road-emb')",
         "language": "python",
         "name": "python3"
      },
      "language_info": {
         "codemirror_mode": {
            "name": "ipython",
            "version": 3
         },
         "file_extension": ".py",
         "mimetype": "text/x-python",
         "name": "python",
         "nbconvert_exporter": "python",
         "pygments_lexer": "ipython3",
         "version": "3.9.12"
      },
      "orig_nbformat": 4
   },
   "nbformat": 4,
   "nbformat_minor": 2
}