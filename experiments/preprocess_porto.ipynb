{
 "cells": [
  {
   "cell_type": "code",
   "execution_count": 134,
   "metadata": {},
   "outputs": [
    {
     "name": "stdout",
     "output_type": "stream",
     "text": [
      "The autoreload extension is already loaded. To reload it, use:\n",
      "  %reload_ext autoreload\n"
     ]
    }
   ],
   "source": [
    "%load_ext autoreload\n",
    "%autoreload 2\n",
    "\n",
    "import os\n",
    "os.environ[\"CUDA_DEVICE_ORDER\"]=\"PCI_BUS_ID\" \n",
    "os.environ[\"CUDA_VISIBLE_DEVICES\"]=\"-1\"\n",
    "\n",
    "import os\n",
    "import sys\n",
    "\n",
    "module_path = os.path.abspath(os.path.join('..'))\n",
    "if module_path not in sys.path:\n",
    "    sys.path.append(module_path)\n",
    "\n",
    "import pandas as pd\n",
    "import geopandas as gpd\n",
    "import folium\n",
    "from shapely.geometry import LineString\n",
    "from shapely import wkt\n",
    "import numpy as np\n",
    "import swifter\n",
    "from generator.preprocess import *\n",
    "from generator.preprocess import remove_outlier_trajectories\n",
    "from generator.road_network import RoadNetwork"
   ]
  },
  {
   "cell_type": "code",
   "execution_count": 176,
   "metadata": {},
   "outputs": [],
   "source": [
    "# load mapped dataset\n",
    "df = pd.read_csv(\"../datasets/trajectories/Porto/train.csv\")\n",
    "# load network\n",
    "network = RoadNetwork(\"Porto, Portugal\", network_type=\"drive\", retain_all=True, truncate_by_edge=True)"
   ]
  },
  {
   "cell_type": "code",
   "execution_count": 3,
   "metadata": {},
   "outputs": [
    {
     "data": {
      "application/vnd.jupyter.widget-view+json": {
       "model_id": "c02ab06b111847698d5ae1c7bbc366de",
       "version_major": 2,
       "version_minor": 0
      },
      "text/plain": [
       "Pandas Apply:   0%|          | 0/1710660 [00:00<?, ?it/s]"
      ]
     },
     "metadata": {},
     "output_type": "display_data"
    },
    {
     "name": "stderr",
     "output_type": "stream",
     "text": [
      "/home/paul/repos/Road-Network-Embedding-Generator/generator/preprocess.py:43: SettingWithCopyWarning: \n",
      "A value is trying to be set on a copy of a slice from a DataFrame.\n",
      "Try using .loc[row_indexer,col_indexer] = value instead\n",
      "\n",
      "See the caveats in the documentation: https://pandas.pydata.org/pandas-docs/stable/user_guide/indexing.html#returning-a-view-versus-a-copy\n",
      "  df[\"POLYLINE\"] = df[\"POLYLINE\"].swifter.apply(convert_to_line_string)\n"
     ]
    },
    {
     "data": {
      "application/vnd.jupyter.widget-view+json": {
       "model_id": "78934039e8cc49f3b96c1cb83f788cf0",
       "version_major": 2,
       "version_minor": 0
      },
      "text/plain": [
       "Dask Apply:   0%|          | 0/24 [00:01<?, ?it/s]"
      ]
     },
     "metadata": {},
     "output_type": "display_data"
    }
   ],
   "source": [
    "# preprocess (clip trajectories to porto bounds and filter min points per trajectory (takes around 2h on pascal))\n",
    "# trajectories that go out of porto and then again into porto area are splitted into seperated trajectories\n",
    "fdf = preprocess_trajectories_porto(df, city_bounds=network.bounds, polyline_convert=True)\n",
    "# save dataframe\n",
    "fdf.to_csv(\"../datasets/trajectories/Porto/clipped_porto_full_10pmin_2mil.csv\")"
   ]
  },
  {
   "cell_type": "code",
   "execution_count": 4,
   "metadata": {},
   "outputs": [],
   "source": [
    "\"\"\"\n",
    "Map Timestamps to clipped dataframe. Each trajectory has a start timestamp and between each gps point are 15s.\n",
    "We need to create a column which holds an array for each trajectory with the timestamps for each gps point.\n",
    "\"\"\"\n",
    "fdf = pd.read_csv(\"../datasets/trajectories/Porto/clipped_porto_full_10pmin_2mil.csv\")\n",
    "\n"
   ]
  },
  {
   "cell_type": "code",
   "execution_count": 6,
   "metadata": {},
   "outputs": [
    {
     "data": {
      "application/vnd.jupyter.widget-view+json": {
       "model_id": "a7087217147b4b489807ba7bde8bec3b",
       "version_major": 2,
       "version_minor": 0
      },
      "text/plain": [
       "Pandas Apply:   0%|          | 0/2152277 [00:00<?, ?it/s]"
      ]
     },
     "metadata": {},
     "output_type": "display_data"
    },
    {
     "data": {
      "application/vnd.jupyter.widget-view+json": {
       "model_id": "89f01379b2d14028ad1e0a92819261e1",
       "version_major": 2,
       "version_minor": 0
      },
      "text/plain": [
       "Pandas Apply:   0%|          | 0/2152277 [00:00<?, ?it/s]"
      ]
     },
     "metadata": {},
     "output_type": "display_data"
    }
   ],
   "source": [
    "from ast import literal_eval\n",
    "# Map trajectories in the format for fmm matching and insert timestamp column\n",
    "df_fmm = fdf.loc[:, [\"TRIP_ID\", \"POLYLINE\", \"coords\"]]\n",
    "df_fmm[\"coords\"] = df_fmm[\"coords\"].swifter.apply(literal_eval)\n",
    "df_fmm[\"timestamp\"] = df_fmm[\"coords\"].swifter.apply(lambda x: list(np.arange(0, ((len(x)-1)*15)+1, 15)))\n",
    "df_fmm[\"id\"] = np.arange(1, df_fmm.shape[0]+1)\n",
    "df_fmm = df_fmm.drop([\"coords\"], axis=1)\n",
    "df_fmm.to_csv(\"../datasets/trajectories/Porto/mapped_id_poly_clipped_timestamp.csv\", sep=\";\", index=False)"
   ]
  },
  {
   "cell_type": "code",
   "execution_count": 7,
   "metadata": {},
   "outputs": [],
   "source": [
    "tdf = pd.read_csv(\"../datasets/trajectories/Porto/mapped_id_poly_clipped_timestamp.csv\", sep=\";\")\n",
    "tdf[\"timestamp\"] = tdf[\"timestamp\"].str.replace(\"[\", \"\")\n",
    "tdf[\"timestamp\"] = tdf[\"timestamp\"].str.replace(\"]\", \"\")\n",
    "tdf.to_csv(\"../datasets/trajectories/Porto/mapped_id_poly_clipped_timestamp.csv\", sep=\";\", index=False)"
   ]
  },
  {
   "cell_type": "code",
   "execution_count": 25,
   "metadata": {},
   "outputs": [],
   "source": [
    "from ast import literal_eval\n",
    "# check timestamp length = gps stamp\n",
    "tdf = pd.read_csv(\"../datasets/trajectories/Porto/mapped_id_poly_clipped_timestamp.csv\", sep=\";\")\n",
    "cdf= fdf.loc[:, [\"coords\"]]\n",
    "cdf[\"coords\"] = cdf[\"coords\"].swifter.apply(literal_eval)\n",
    "tdf[\"timestamp\"] = tdf[\"timestamp\"].swifter.apply(literal_eval)"
   ]
  },
  {
   "cell_type": "code",
   "execution_count": 20,
   "metadata": {},
   "outputs": [
    {
     "data": {
      "text/plain": [
       "29.01901335190591"
      ]
     },
     "execution_count": 20,
     "metadata": {},
     "output_type": "execute_result"
    }
   ],
   "source": [
    "df_fmm[\"timestamp\"].str.len().mean()"
   ]
  },
  {
   "cell_type": "code",
   "execution_count": null,
   "metadata": {},
   "outputs": [],
   "source": [
    "# Map gps points to road segments\n",
    "network.fmm_trajectorie_mapping(\n",
    "    input_file=\"../datasets/trajectories/Porto/mapped_id_poly_clipped_timestamp.csv\",\n",
    "    output_file=\"../datasets/trajectories/Porto/road-segment-mapping.txt\"\n",
    ")"
   ]
  },
  {
   "cell_type": "code",
   "execution_count": 142,
   "metadata": {},
   "outputs": [
    {
     "data": {
      "application/vnd.jupyter.widget-view+json": {
       "model_id": "9445f47c3c1d45c3af1ee2ea4bd2782e",
       "version_major": 2,
       "version_minor": 0
      },
      "text/plain": [
       "Pandas Apply:   0%|          | 0/1827216 [00:00<?, ?it/s]"
      ]
     },
     "metadata": {},
     "output_type": "display_data"
    },
    {
     "data": {
      "application/vnd.jupyter.widget-view+json": {
       "model_id": "87d297a02e88424e981277aa80062430",
       "version_major": 2,
       "version_minor": 0
      },
      "text/plain": [
       "Pandas Apply:   0%|          | 0/1827216 [00:00<?, ?it/s]"
      ]
     },
     "metadata": {},
     "output_type": "display_data"
    },
    {
     "data": {
      "application/vnd.jupyter.widget-view+json": {
       "model_id": "22c77f2b7aa94b7087b5788e4ac30eb2",
       "version_major": 2,
       "version_minor": 0
      },
      "text/plain": [
       "Pandas Apply:   0%|          | 0/1827216 [00:00<?, ?it/s]"
      ]
     },
     "metadata": {},
     "output_type": "display_data"
    },
    {
     "data": {
      "application/vnd.jupyter.widget-view+json": {
       "model_id": "9a1db40edfde44cfa6c961d8becda435",
       "version_major": 2,
       "version_minor": 0
      },
      "text/plain": [
       "Pandas Apply:   0%|          | 0/253901 [00:00<?, ?it/s]"
      ]
     },
     "metadata": {},
     "output_type": "display_data"
    },
    {
     "name": "stderr",
     "output_type": "stream",
     "text": [
      "/dstore/home/pheinemeyer/Road-Network-Embedding-Generator/generator/preprocess.py:98: SettingWithCopyWarning: \n",
      "A value is trying to be set on a copy of a slice from a DataFrame.\n",
      "Try using .loc[row_indexer,col_indexer] = value instead\n",
      "\n",
      "See the caveats in the documentation: https://pandas.pydata.org/pandas-docs/stable/user_guide/indexing.html#returning-a-view-versus-a-copy\n",
      "  df[(df[\"speed_mean\"] > max_speed)][\"speed\"] = df[\n"
     ]
    },
    {
     "data": {
      "application/vnd.jupyter.widget-view+json": {
       "model_id": "9a29e1eb36844381bff16936d32712a4",
       "version_major": 2,
       "version_minor": 0
      },
      "text/plain": [
       "Pandas Apply:   0%|          | 0/1798135 [00:00<?, ?it/s]"
      ]
     },
     "metadata": {},
     "output_type": "display_data"
    },
    {
     "name": "stderr",
     "output_type": "stream",
     "text": [
      "/dstore/home/pheinemeyer/Road-Network-Embedding-Generator/generator/preprocess.py:101: SettingWithCopyWarning: \n",
      "A value is trying to be set on a copy of a slice from a DataFrame.\n",
      "Try using .loc[row_indexer,col_indexer] = value instead\n",
      "\n",
      "See the caveats in the documentation: https://pandas.pydata.org/pandas-docs/stable/user_guide/indexing.html#returning-a-view-versus-a-copy\n",
      "  df[\"speed_mean\"] = df[\"speed\"].swifter.apply(np.mean)\n"
     ]
    }
   ],
   "source": [
    "from ast import literal_eval\n",
    "\n",
    "# preprocess the mapping especially the speed and distance values need to be verified\n",
    "df = pd.read_csv(\"../datasets/trajectories/Porto/road-segment-mapping.csv\", sep=\";\")\n",
    "df = remove_outlier_trajectories(df,  min_edges_traversed=3, max_speed=1e1)"
   ]
  },
  {
   "cell_type": "code",
   "execution_count": 157,
   "metadata": {},
   "outputs": [],
   "source": [
    "df.to_csv(\"../datasets/trajectories/Porto/road_segment_map_final.csv\", sep=\";\")"
   ]
  },
  {
   "cell_type": "code",
   "execution_count": 169,
   "metadata": {},
   "outputs": [
    {
     "name": "stdout",
     "output_type": "stream",
     "text": [
      "<class 'pandas.core.frame.DataFrame'>\n",
      "Int64Index: 1544234 entries, 0 to 2152276\n",
      "Data columns (total 8 columns):\n",
      " #   Column      Non-Null Count    Dtype  \n",
      "---  ------      --------------    -----  \n",
      " 0   id          1544234 non-null  int64  \n",
      " 1   opath       1544234 non-null  object \n",
      " 2   spdist      1544234 non-null  object \n",
      " 3   cpath       1544234 non-null  object \n",
      " 4   mgeom       1544234 non-null  object \n",
      " 5   duration    1544234 non-null  object \n",
      " 6   speed       1544234 non-null  object \n",
      " 7   speed_mean  1544234 non-null  float64\n",
      "dtypes: float64(1), int64(1), object(6)\n",
      "memory usage: 138.3+ MB\n"
     ]
    }
   ],
   "source": [
    "df.info()"
   ]
  },
  {
   "cell_type": "code",
   "execution_count": 185,
   "metadata": {},
   "outputs": [
    {
     "name": "stderr",
     "output_type": "stream",
     "text": [
      "/tmp/ipykernel_1405757/1914163214.py:2: SettingWithCopyWarning: \n",
      "A value is trying to be set on a copy of a slice from a DataFrame\n",
      "\n",
      "See the caveats in the documentation: https://pandas.pydata.org/pandas-docs/stable/user_guide/indexing.html#returning-a-view-versus-a-copy\n",
      "  sample[\"mgeom\"] = wkt.loads(sample[\"mgeom\"])\n"
     ]
    },
    {
     "data": {
      "text/plain": [
       "osmid                                  [715176795, 307804461]\n",
       "oneway                                                  False\n",
       "highway                                             secondary\n",
       "length                                                  71.04\n",
       "geometry    LINESTRING (-8.610926 41.1451899, -8.6109178 4...\n",
       "lanes                                                       3\n",
       "ref                                                       NaN\n",
       "maxspeed                                                   50\n",
       "bridge                                                    NaN\n",
       "name                                 Praça de Almeida Garrett\n",
       "width                                                     NaN\n",
       "access                                                    NaN\n",
       "junction                                                  NaN\n",
       "tunnel                                                    NaN\n",
       "area                                                      NaN\n",
       "Name: (129559333, 3130312347, 0), dtype: object"
      ]
     },
     "execution_count": 185,
     "metadata": {},
     "output_type": "execute_result"
    }
   ],
   "source": [
    "sample = df.iloc[3, :]\n",
    "sample[\"mgeom\"] = wkt.loads(sample[\"mgeom\"])\n",
    "# print(len(sample[\"speed\"]), len(list(sample[\"mgeom\"].coords)), len(sample[\"cpath\"]))\n",
    "\n",
    "s = sample[\"cpath\"][0]\n",
    "so = network.gdf_edges.iloc[s, :]\n",
    "so"
   ]
  },
  {
   "cell_type": "markdown",
   "metadata": {},
   "source": []
  },
  {
   "cell_type": "code",
   "execution_count": 187,
   "metadata": {},
   "outputs": [
    {
     "data": {
      "text/html": [
       "<div style=\"width:100%;\"><div style=\"position:relative;width:100%;height:0;padding-bottom:60%;\"><span style=\"color:#565656\">Make this Notebook Trusted to load map: File -> Trust Notebook</span><iframe srcdoc=\"&lt;!DOCTYPE html&gt;\n",
       "&lt;head&gt;    \n",
       "    &lt;meta http-equiv=&quot;content-type&quot; content=&quot;text/html; charset=UTF-8&quot; /&gt;\n",
       "    \n",
       "        &lt;script&gt;\n",
       "            L_NO_TOUCH = false;\n",
       "            L_DISABLE_3D = false;\n",
       "        &lt;/script&gt;\n",
       "    \n",
       "    &lt;style&gt;html, body {width: 100%;height: 100%;margin: 0;padding: 0;}&lt;/style&gt;\n",
       "    &lt;style&gt;#map {position:absolute;top:0;bottom:0;right:0;left:0;}&lt;/style&gt;\n",
       "    &lt;script src=&quot;https://cdn.jsdelivr.net/npm/leaflet@1.6.0/dist/leaflet.js&quot;&gt;&lt;/script&gt;\n",
       "    &lt;script src=&quot;https://code.jquery.com/jquery-1.12.4.min.js&quot;&gt;&lt;/script&gt;\n",
       "    &lt;script src=&quot;https://maxcdn.bootstrapcdn.com/bootstrap/3.2.0/js/bootstrap.min.js&quot;&gt;&lt;/script&gt;\n",
       "    &lt;script src=&quot;https://cdnjs.cloudflare.com/ajax/libs/Leaflet.awesome-markers/2.0.2/leaflet.awesome-markers.js&quot;&gt;&lt;/script&gt;\n",
       "    &lt;link rel=&quot;stylesheet&quot; href=&quot;https://cdn.jsdelivr.net/npm/leaflet@1.6.0/dist/leaflet.css&quot;/&gt;\n",
       "    &lt;link rel=&quot;stylesheet&quot; href=&quot;https://maxcdn.bootstrapcdn.com/bootstrap/3.2.0/css/bootstrap.min.css&quot;/&gt;\n",
       "    &lt;link rel=&quot;stylesheet&quot; href=&quot;https://maxcdn.bootstrapcdn.com/bootstrap/3.2.0/css/bootstrap-theme.min.css&quot;/&gt;\n",
       "    &lt;link rel=&quot;stylesheet&quot; href=&quot;https://maxcdn.bootstrapcdn.com/font-awesome/4.6.3/css/font-awesome.min.css&quot;/&gt;\n",
       "    &lt;link rel=&quot;stylesheet&quot; href=&quot;https://cdnjs.cloudflare.com/ajax/libs/Leaflet.awesome-markers/2.0.2/leaflet.awesome-markers.css&quot;/&gt;\n",
       "    &lt;link rel=&quot;stylesheet&quot; href=&quot;https://cdn.jsdelivr.net/gh/python-visualization/folium/folium/templates/leaflet.awesome.rotate.min.css&quot;/&gt;\n",
       "    \n",
       "            &lt;meta name=&quot;viewport&quot; content=&quot;width=device-width,\n",
       "                initial-scale=1.0, maximum-scale=1.0, user-scalable=no&quot; /&gt;\n",
       "            &lt;style&gt;\n",
       "                #map_82815f62fc7c322e387ad464e55dbad1 {\n",
       "                    position: relative;\n",
       "                    width: 100.0%;\n",
       "                    height: 100.0%;\n",
       "                    left: 0.0%;\n",
       "                    top: 0.0%;\n",
       "                }\n",
       "            &lt;/style&gt;\n",
       "        \n",
       "&lt;/head&gt;\n",
       "&lt;body&gt;    \n",
       "    \n",
       "            &lt;div class=&quot;folium-map&quot; id=&quot;map_82815f62fc7c322e387ad464e55dbad1&quot; &gt;&lt;/div&gt;\n",
       "        \n",
       "&lt;/body&gt;\n",
       "&lt;script&gt;    \n",
       "    \n",
       "            var map_82815f62fc7c322e387ad464e55dbad1 = L.map(\n",
       "                &quot;map_82815f62fc7c322e387ad464e55dbad1&quot;,\n",
       "                {\n",
       "                    center: [41.1372482, -8.689151],\n",
       "                    crs: L.CRS.EPSG3857,\n",
       "                    zoom: 13,\n",
       "                    zoomControl: true,\n",
       "                    preferCanvas: false,\n",
       "                }\n",
       "            );\n",
       "\n",
       "            \n",
       "\n",
       "        \n",
       "    \n",
       "            var tile_layer_d71741abe5fab9ebce5a98a0c7334be8 = L.tileLayer(\n",
       "                &quot;https://cartodb-basemaps-{s}.global.ssl.fastly.net/dark_all/{z}/{x}/{y}.png&quot;,\n",
       "                {&quot;attribution&quot;: &quot;\\u0026copy; \\u003ca href=\\&quot;http://www.openstreetmap.org/copyright\\&quot;\\u003eOpenStreetMap\\u003c/a\\u003e contributors \\u0026copy; \\u003ca href=\\&quot;http://cartodb.com/attributions\\&quot;\\u003eCartoDB\\u003c/a\\u003e, CartoDB \\u003ca href =\\&quot;http://cartodb.com/attributions\\&quot;\\u003eattributions\\u003c/a\\u003e&quot;, &quot;detectRetina&quot;: false, &quot;maxNativeZoom&quot;: 18, &quot;maxZoom&quot;: 18, &quot;minZoom&quot;: 0, &quot;noWrap&quot;: false, &quot;opacity&quot;: 1, &quot;subdomains&quot;: &quot;abc&quot;, &quot;tms&quot;: false}\n",
       "            ).addTo(map_82815f62fc7c322e387ad464e55dbad1);\n",
       "        \n",
       "    \n",
       "            var poly_line_4aa59d587d45c4b329f56d25259623b9 = L.polyline(\n",
       "                [[41.1456506984, -8.61086059556], [41.1457821, -8.6108404], [41.145824, -8.610827], [41.1458997, -8.6107791], [41.1459615, -8.6107256], [41.1460604, -8.6105897], [41.1461432, -8.6104788], [41.1462224, -8.6103531], [41.1462586, -8.6102893], [41.1465904, -8.6097629], [41.1466184, -8.6097198], [41.14663, -8.6097002], [41.1466801, -8.6096241], [41.146735, -8.6094973], [41.146757, -8.6093182], [41.1467864, -8.6090744], [41.1467951, -8.6090354], [41.1468128, -8.609007], [41.1468941, -8.6089463], [41.1472873, -8.6087196], [41.147333, -8.6086933], [41.1473934, -8.6086529], [41.14742, -8.6086371], [41.1474952, -8.6086005], [41.1477749, -8.6084423], [41.1481676, -8.6081967], [41.1482742, -8.6081345], [41.1485024, -8.6079991], [41.1487047, -8.6078921], [41.1487614, -8.6078621], [41.1488375, -8.6078242], [41.1499838, -8.6072398], [41.1501006, -8.6071805], [41.1501986, -8.6071279], [41.1506833, -8.6068677], [41.1508603, -8.6067727], [41.1509254, -8.6067378], [41.1510744, -8.6066521], [41.1518636, -8.6061881], [41.1520153, -8.6060991], [41.1520981, -8.6060507], [41.1521882, -8.6059983], [41.1532096, -8.6054044], [41.153264, -8.60537], [41.1533406, -8.6053052], [41.1533992, -8.605249], [41.1534529, -8.6051793], [41.1534463, -8.6048543], [41.1534533, -8.6048034], [41.153471, -8.6047566], [41.1536304, -8.6047458], [41.1548151, -8.6046934], [41.1549083, -8.6046931], [41.1566451, -8.6046039], [41.157288, -8.6045708], [41.1578191, -8.604548], [41.1581327, -8.6045356], [41.1587582, -8.6045109], [41.1601915, -8.6044449], [41.1602759, -8.6044442], [41.1603666, -8.6044477], [41.1598906, -8.6027699], [41.1594394, -8.6010628], [41.158092, -8.601595], [41.1576615, -8.6017745], [41.157156, -8.6019667], [41.1566305, -8.6021632], [41.1559079, -8.6024617], [41.1557385833, -8.60254167272]],\n",
       "                {&quot;bubblingMouseEvents&quot;: true, &quot;color&quot;: &quot;green&quot;, &quot;dashArray&quot;: null, &quot;dashOffset&quot;: null, &quot;fill&quot;: false, &quot;fillColor&quot;: &quot;green&quot;, &quot;fillOpacity&quot;: 0.2, &quot;fillRule&quot;: &quot;evenodd&quot;, &quot;lineCap&quot;: &quot;round&quot;, &quot;lineJoin&quot;: &quot;round&quot;, &quot;noClip&quot;: false, &quot;opacity&quot;: 1, &quot;smoothFactor&quot;: 1.0, &quot;stroke&quot;: true, &quot;weight&quot;: 2.5}\n",
       "            ).addTo(map_82815f62fc7c322e387ad464e55dbad1);\n",
       "        \n",
       "&lt;/script&gt;\" style=\"position:absolute;width:100%;height:100%;left:0;top:0;border:none !important;\" allowfullscreen webkitallowfullscreen mozallowfullscreen></iframe></div></div>"
      ],
      "text/plain": [
       "<folium.folium.Map at 0x7efe4545e1f0>"
      ]
     },
     "execution_count": 187,
     "metadata": {},
     "output_type": "execute_result"
    }
   ],
   "source": [
    "# plot supspecious examples\n",
    "m = folium.Map(\n",
    "    location=[41.1372482, -8.689151],\n",
    "    zoom_start=13,\n",
    "    tiles=\"cartodbdark_matter\"\n",
    ")\n",
    "\n",
    "data = [(c[1], c[0]) for c in list(sample[\"mgeom\"].coords)]\n",
    "d2 = [(c[1], c[0]) for c in list(so[\"geometry\"].coords)]\n",
    "#speed = df_an[\"speed\"][3]\n",
    "folium.PolyLine(data, color=\"green\", weight=2.5, opacity=1).add_to(m)\n",
    "#folium.PolyLine(d2, color=\"red\", weight=2.5, opacity=1).add_to(m)\n",
    "\n",
    "# folium.Marker(\n",
    "#     location=[data.iloc[i]['lat'], data.iloc[i]['lon']],\n",
    "#     popup=data.iloc[i]['name'],\n",
    "#     icon=folium.DivIcon(html=f\"\"\"<div style=\"font-family: courier new; color: blue\">{data.iloc[i]['name']}</div>\"\"\")\n",
    "# ).add_to(n)\n",
    "\n",
    "m"
   ]
  },
  {
   "cell_type": "code",
   "execution_count": 30,
   "metadata": {},
   "outputs": [
    {
     "data": {
      "text/plain": [
       "[(-8.6306538011, 41.149489488),\n",
       " (-8.6302954, 41.1499033),\n",
       " (-8.6299508, 41.1503011),\n",
       " (-8.6295157, 41.1508085),\n",
       " (-8.6294233, 41.1509158),\n",
       " (-8.6293113, 41.1510435),\n",
       " (-8.6291323, 41.1512455),\n",
       " (-8.6290736, 41.1513117),\n",
       " (-8.6289862, 41.1514767),\n",
       " (-8.6289736, 41.1515796),\n",
       " (-8.6287691, 41.1523766),\n",
       " (-8.628743, 41.1524782),\n",
       " (-8.6289655, 41.1524906),\n",
       " (-8.6296472, 41.1525286),\n",
       " (-8.6301016, 41.152554),\n",
       " (-8.6304904, 41.1525757),\n",
       " (-8.6306176, 41.1525836),\n",
       " (-8.6308068, 41.1525922),\n",
       " (-8.6309917, 41.1526006),\n",
       " (-8.6313575, 41.1526165),\n",
       " (-8.6314821, 41.1526802),\n",
       " (-8.6321685, 41.1527301),\n",
       " (-8.6323388, 41.1527262),\n",
       " (-8.6323916, 41.1527199),\n",
       " (-8.6324663, 41.1527113),\n",
       " (-8.6326352, 41.1526917),\n",
       " (-8.6328135, 41.152688),\n",
       " (-8.6328921, 41.1526593),\n",
       " (-8.6331975, 41.1526205),\n",
       " (-8.633479, 41.1525859),\n",
       " (-8.6335202, 41.1525796),\n",
       " (-8.6335704, 41.1525732),\n",
       " (-8.6339491, 41.1525251),\n",
       " (-8.6341695, 41.1524971),\n",
       " (-8.6343718, 41.1524692),\n",
       " (-8.6344234, 41.1524621),\n",
       " (-8.6345977, 41.1524387),\n",
       " (-8.6347003, 41.1524249),\n",
       " (-8.6348243, 41.1524083),\n",
       " (-8.6350422, 41.1524106),\n",
       " (-8.6355022, 41.152436),\n",
       " (-8.6359434, 41.1524604),\n",
       " (-8.6362346, 41.1525246),\n",
       " (-8.6363837, 41.1525575),\n",
       " (-8.6366768, 41.1526253),\n",
       " (-8.6368042, 41.1526548),\n",
       " (-8.63737, 41.1527919),\n",
       " (-8.6375345, 41.1528317),\n",
       " (-8.6381943, 41.1529858),\n",
       " (-8.6385893, 41.1530728),\n",
       " (-8.6387697, 41.153116),\n",
       " (-8.6401584, 41.1534455),\n",
       " (-8.6402681, 41.1534715),\n",
       " (-8.640383, 41.1535),\n",
       " (-8.640814, 41.1536068),\n",
       " (-8.641801, 41.1538865),\n",
       " (-8.6422632, 41.1540236),\n",
       " (-8.6423882, 41.1540607),\n",
       " (-8.6424267, 41.154071),\n",
       " (-8.6426014, 41.1541232),\n",
       " (-8.6438478, 41.1544954),\n",
       " (-8.6438876, 41.1545048),\n",
       " (-8.6439428, 41.1545061),\n",
       " (-8.6441986, 41.1544872),\n",
       " (-8.6454889, 41.1543736),\n",
       " (-8.646026, 41.1543254),\n",
       " (-8.6468463, 41.1542645),\n",
       " (-8.6480673, 41.1542633),\n",
       " (-8.6481883, 41.1542667),\n",
       " (-8.6483268, 41.154247),\n",
       " (-8.6484644, 41.1542784),\n",
       " (-8.6490215, 41.1543329),\n",
       " (-8.6492137, 41.1543467),\n",
       " (-8.6492759, 41.1542842),\n",
       " (-8.6493644, 41.1542436),\n",
       " (-8.6494243, 41.1542293),\n",
       " (-8.6494929, 41.1542194),\n",
       " (-8.6496389, 41.1542172),\n",
       " (-8.6497277, 41.1542127),\n",
       " (-8.6498529, 41.1541883),\n",
       " (-8.6499598, 41.1541698),\n",
       " (-8.650074, 41.1541261),\n",
       " (-8.6502034, 41.1540473),\n",
       " (-8.6502796, 41.1539777),\n",
       " (-8.650349, 41.1538878),\n",
       " (-8.6503445, 41.1538051),\n",
       " (-8.6502971, 41.1537015),\n",
       " (-8.6501371, 41.1537905),\n",
       " (-8.6497435, 41.15394),\n",
       " (-8.6494281, 41.1540316),\n",
       " (-8.6491935, 41.1540822),\n",
       " (-8.6489093, 41.1541349),\n",
       " (-8.6485461, 41.154169),\n",
       " (-8.6483431, 41.1541659),\n",
       " (-8.6481634, 41.1541517),\n",
       " (-8.6474931, 41.1541857),\n",
       " (-8.6468434, 41.1541965),\n",
       " (-8.6466009, 41.1542132),\n",
       " (-8.6463602, 41.1542431),\n",
       " (-8.6461046, 41.1542923),\n",
       " (-8.646026, 41.1543254),\n",
       " (-8.6454889, 41.1543736),\n",
       " (-8.6441986, 41.1544872),\n",
       " (-8.6439428, 41.1545061),\n",
       " (-8.6438876, 41.1545048),\n",
       " (-8.6438478, 41.1544954),\n",
       " (-8.6426014, 41.1541232),\n",
       " (-8.6424267, 41.154071),\n",
       " (-8.6423882, 41.1540607),\n",
       " (-8.6422632, 41.1540236),\n",
       " (-8.641801, 41.1538865),\n",
       " (-8.640814, 41.1536068),\n",
       " (-8.640383, 41.1535),\n",
       " (-8.6402681, 41.1534715),\n",
       " (-8.6401584, 41.1534455),\n",
       " (-8.6387697, 41.153116),\n",
       " (-8.6385893, 41.1530728),\n",
       " (-8.6381943, 41.1529858),\n",
       " (-8.6375345, 41.1528317),\n",
       " (-8.63737, 41.1527919),\n",
       " (-8.6368042, 41.1526548),\n",
       " (-8.6366768, 41.1526253),\n",
       " (-8.6363837, 41.1525575),\n",
       " (-8.6362346, 41.1525246),\n",
       " (-8.6359434, 41.1524604),\n",
       " (-8.6355022, 41.152436),\n",
       " (-8.6350422, 41.1524106),\n",
       " (-8.6348243, 41.1524083),\n",
       " (-8.6347003, 41.1524249),\n",
       " (-8.6345977, 41.1524387),\n",
       " (-8.6344234, 41.1524621),\n",
       " (-8.6343718, 41.1524692),\n",
       " (-8.6341695, 41.1524971),\n",
       " (-8.6339491, 41.1525251),\n",
       " (-8.6335704, 41.1525732),\n",
       " (-8.6335202, 41.1525796),\n",
       " (-8.633479, 41.1525859),\n",
       " (-8.6331975, 41.1526205),\n",
       " (-8.6328921, 41.1526593),\n",
       " (-8.6328406, 41.1526548),\n",
       " (-8.632729, 41.1526449),\n",
       " (-8.6326589, 41.1526435),\n",
       " (-8.6325114, 41.1526405),\n",
       " (-8.6324411, 41.1526395),\n",
       " (-8.6323878, 41.1526386),\n",
       " (-8.6322603, 41.1526376),\n",
       " (-8.6315066, 41.1525803),\n",
       " (-8.6313575, 41.1526165),\n",
       " (-8.6313658, 41.1525248),\n",
       " (-8.6313904, 41.1523228),\n",
       " (-8.631399, 41.1520837),\n",
       " (-8.6313561, 41.1519479),\n",
       " (-8.6312966, 41.1518881),\n",
       " (-8.6312531, 41.1518445),\n",
       " (-8.6310281, 41.1517015),\n",
       " (-8.6308001, 41.151644),\n",
       " (-8.6305498, 41.1516317),\n",
       " (-8.6302796, 41.1516055),\n",
       " (-8.6297608, 41.1515533),\n",
       " (-8.6296995, 41.1515471),\n",
       " (-8.6291243, 41.1514893),\n",
       " (-8.6289862, 41.1514767),\n",
       " (-8.6290736, 41.1513117),\n",
       " (-8.6291323, 41.1512455),\n",
       " (-8.6293113, 41.1510435),\n",
       " (-8.6294233, 41.1509158),\n",
       " (-8.6295157, 41.1508085),\n",
       " (-8.6299508, 41.1503011),\n",
       " (-8.6302954, 41.1499033),\n",
       " (-8.6306538011, 41.149489488)]"
      ]
     },
     "execution_count": 30,
     "metadata": {},
     "output_type": "execute_result"
    }
   ],
   "source": [
    "df_an[\"mcoords\"][15]"
   ]
  }
 ],
 "metadata": {
  "interpreter": {
   "hash": "cca546fdd2f6c7730d3bb3f060630f4f24d9be8a642e1cb2079226fa21b70079"
  },
  "kernelspec": {
   "display_name": "Python 3.9.12 ('road-emb')",
   "language": "python",
   "name": "python3"
  },
  "language_info": {
   "codemirror_mode": {
    "name": "ipython",
    "version": 3
   },
   "file_extension": ".py",
   "mimetype": "text/x-python",
   "name": "python",
   "nbconvert_exporter": "python",
   "pygments_lexer": "ipython3",
   "version": "3.9.12"
  },
  "orig_nbformat": 4
 },
 "nbformat": 4,
 "nbformat_minor": 2
}
