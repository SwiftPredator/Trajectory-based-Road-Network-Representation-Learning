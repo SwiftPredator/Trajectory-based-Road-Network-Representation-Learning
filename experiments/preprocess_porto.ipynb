{
 "cells": [
  {
   "cell_type": "code",
   "execution_count": 2,
   "metadata": {},
   "outputs": [],
   "source": [
    "%load_ext autoreload\n",
    "%autoreload 2\n",
    "\n",
    "import os\n",
    "os.environ[\"CUDA_DEVICE_ORDER\"]=\"PCI_BUS_ID\" \n",
    "os.environ[\"CUDA_VISIBLE_DEVICES\"]=\"-1\"\n",
    "\n",
    "import os\n",
    "import sys\n",
    "\n",
    "module_path = os.path.abspath(os.path.join('..'))\n",
    "if module_path not in sys.path:\n",
    "    sys.path.append(module_path)\n",
    "\n",
    "import pandas as pd\n",
    "import geopandas as gpd\n",
    "import folium\n",
    "from shapely.geometry import LineString\n",
    "from shapely import wkt\n",
    "import numpy as np\n",
    "import swifter\n",
    "from generator.preprocess import *\n",
    "from generator.road_network import RoadNetwork"
   ]
  },
  {
   "cell_type": "code",
   "execution_count": 2,
   "metadata": {},
   "outputs": [],
   "source": [
    "# load mapped dataset\n",
    "df = pd.read_csv(\"../datasets/trajectories/Porto/mapped.csv\")\n",
    "# load network\n",
    "network = RoadNetwork(\"Porto, Portugal\", network_type=\"drive\", retain_all=True, truncate_by_edge=True)"
   ]
  },
  {
   "cell_type": "code",
   "execution_count": 3,
   "metadata": {},
   "outputs": [
    {
     "data": {
      "application/vnd.jupyter.widget-view+json": {
       "model_id": "e4c7192650074ff7a40946f17cd31f9e",
       "version_major": 2,
       "version_minor": 0
      },
      "text/plain": [
       "Pandas Apply:   0%|          | 0/1641024 [00:00<?, ?it/s]"
      ]
     },
     "metadata": {},
     "output_type": "display_data"
    }
   ],
   "source": [
    "# preprocess (clip trajectories to porto bounds and filter min points per trajectory (takes around 1h on pascal))\n",
    "# trajectories that go out of porto and then again into porto area are splitted into seperated trajectories\n",
    "fdf = preprocess_trajectories_porto(df, network.bounds)\n",
    "# save dataframe\n",
    "fdf.to_csv(\"../datasets/trajectories/Porto/clipped_porto_full_10mil.csv\")"
   ]
  },
  {
   "cell_type": "code",
   "execution_count": 18,
   "metadata": {},
   "outputs": [],
   "source": [
    "\"\"\"\n",
    "Map Timestamps to clipped dataframe. Each trajectory has a start timestamp and between each gps point are 15s.\n",
    "We need to create a column which holds an array for each trajectory with the timestamps for each gps point.\n",
    "\"\"\"\n",
    "fdf = pd.read_csv(\"../datasets/trajectories/Porto/clipped_porto_10pmin_2mil.csv\")\n",
    "\n"
   ]
  },
  {
   "cell_type": "code",
   "execution_count": 19,
   "metadata": {},
   "outputs": [
    {
     "data": {
      "application/vnd.jupyter.widget-view+json": {
       "model_id": "4a9b4dd741a846e08b24c87fdbd36985",
       "version_major": 2,
       "version_minor": 0
      },
      "text/plain": [
       "Pandas Apply:   0%|          | 0/2152277 [00:00<?, ?it/s]"
      ]
     },
     "metadata": {},
     "output_type": "display_data"
    },
    {
     "data": {
      "application/vnd.jupyter.widget-view+json": {
       "model_id": "18de980677954b99b78a828c46c900e7",
       "version_major": 2,
       "version_minor": 0
      },
      "text/plain": [
       "Pandas Apply:   0%|          | 0/2152277 [00:00<?, ?it/s]"
      ]
     },
     "metadata": {},
     "output_type": "display_data"
    }
   ],
   "source": [
    "from ast import literal_eval\n",
    "# Map trajectories in the format for fmm matching and insert timestamp column\n",
    "df_fmm = fdf.loc[:, [\"TRIP_ID\", \"POLYLINE\", \"coords\"]]\n",
    "df_fmm[\"coords\"] = df_fmm[\"coords\"].swifter.apply(literal_eval)\n",
    "df_fmm[\"timestamp\"] = df_fmm[\"coords\"].swifter.apply(lambda x: list(np.arange(0, ((len(x)-1)*15)+1, 15)))\n",
    "df_fmm[\"id\"] = np.arange(1, df_fmm.shape[0]+1)\n",
    "df_fmm = df_fmm.drop([\"coords\"], axis=1)\n",
    "df_fmm.to_csv(\"../datasets/trajectories/Porto/mapped_id_poly_clipped_timestamp.csv\", sep=\";\", index=False)"
   ]
  },
  {
   "cell_type": "code",
   "execution_count": 25,
   "metadata": {},
   "outputs": [],
   "source": [
    "from ast import literal_eval\n",
    "# check timestamp length = gps stamp\n",
    "tdf = pd.read_csv(\"../datasets/trajectories/Porto/mapped_id_poly_clipped_timestamp.csv\", sep=\";\")\n",
    "cdf= fdf.loc[:, [\"coords\"]]\n",
    "cdf[\"coords\"] = cdf[\"coords\"].swifter.apply(literal_eval)\n",
    "tdf[\"timestamp\"] = tdf[\"timestamp\"].swifter.apply(literal_eval)"
   ]
  },
  {
   "cell_type": "code",
   "execution_count": 20,
   "metadata": {},
   "outputs": [
    {
     "data": {
      "text/plain": [
       "29.01901335190591"
      ]
     },
     "execution_count": 20,
     "metadata": {},
     "output_type": "execute_result"
    }
   ],
   "source": [
    "df_fmm[\"timestamp\"].str.len().mean()"
   ]
  },
  {
   "cell_type": "code",
   "execution_count": 26,
   "metadata": {},
   "outputs": [
    {
     "data": {
      "text/plain": [
       "(2152277, 4)"
      ]
     },
     "execution_count": 26,
     "metadata": {},
     "output_type": "execute_result"
    }
   ],
   "source": [
    "tdf.shape"
   ]
  }
 ],
 "metadata": {
  "interpreter": {
   "hash": "cca546fdd2f6c7730d3bb3f060630f4f24d9be8a642e1cb2079226fa21b70079"
  },
  "kernelspec": {
   "display_name": "Python 3.9.12 ('road-emb')",
   "language": "python",
   "name": "python3"
  },
  "language_info": {
   "codemirror_mode": {
    "name": "ipython",
    "version": 3
   },
   "file_extension": ".py",
   "mimetype": "text/x-python",
   "name": "python",
   "nbconvert_exporter": "python",
   "pygments_lexer": "ipython3",
   "version": "3.9.12"
  },
  "orig_nbformat": 4
 },
 "nbformat": 4,
 "nbformat_minor": 2
}
