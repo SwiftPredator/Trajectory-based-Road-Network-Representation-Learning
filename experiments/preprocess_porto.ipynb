{
 "cells": [
  {
   "cell_type": "code",
   "execution_count": 2,
   "metadata": {},
   "outputs": [],
   "source": [
    "%load_ext autoreload\n",
    "%autoreload 2\n",
    "\n",
    "import os\n",
    "os.environ[\"CUDA_DEVICE_ORDER\"]=\"PCI_BUS_ID\" \n",
    "os.environ[\"CUDA_VISIBLE_DEVICES\"]=\"-1\"\n",
    "\n",
    "import os\n",
    "import sys\n",
    "\n",
    "module_path = os.path.abspath(os.path.join('..'))\n",
    "if module_path not in sys.path:\n",
    "    sys.path.append(module_path)\n",
    "\n",
    "import pandas as pd\n",
    "import geopandas as gpd\n",
    "import folium\n",
    "from shapely.geometry import LineString\n",
    "from shapely import wkt\n",
    "import numpy as np\n",
    "import swifter\n",
    "from generator.preprocess import *\n",
    "from generator.preprocess import remove_outlier_trajectories\n",
    "from generator.road_network import RoadNetwork"
   ]
  },
  {
   "cell_type": "code",
   "execution_count": null,
   "metadata": {},
   "outputs": [],
   "source": [
    "# load mapped dataset\n",
    "df = pd.read_csv(\"../datasets/trajectories/Porto/train.csv\")\n",
    "# load network\n",
    "network = RoadNetwork()\n",
    "network.load(\"../../osm_data/porto\")"
   ]
  },
  {
   "cell_type": "code",
   "execution_count": null,
   "metadata": {},
   "outputs": [],
   "source": [
    "# preprocess (clip trajectories to porto bounds and filter min points per trajectory (takes around 2h on pascal))\n",
    "# trajectories that go out of porto and then again into porto area are splitted into seperated trajectories\n",
    "fdf = preprocess_trajectories_porto(df, city_bounds=network.bounds, polyline_convert=True)\n",
    "# save dataframe\n",
    "fdf.to_csv(\"../datasets/trajectories/Porto/clipped_porto_full_10pmin_2mil.csv\")"
   ]
  },
  {
   "cell_type": "code",
   "execution_count": null,
   "metadata": {},
   "outputs": [],
   "source": [
    "\"\"\"\n",
    "Map Timestamps to clipped dataframe. Each trajectory has a start timestamp and between each gps point are 15s.\n",
    "We need to create a column which holds an array for each trajectory with the timestamps for each gps point.\n",
    "\"\"\"\n",
    "fdf = pd.read_csv(\"../datasets/trajectories/Porto/clipped_porto_full_10pmin_2mil.csv\")"
   ]
  },
  {
   "cell_type": "code",
   "execution_count": null,
   "metadata": {},
   "outputs": [],
   "source": [
    "from ast import literal_eval\n",
    "# Map trajectories in the format for fmm matching and insert timestamp column\n",
    "df_fmm = fdf.loc[:, [\"TRIP_ID\", \"POLYLINE\", \"coords\"]]\n",
    "df_fmm[\"coords\"] = df_fmm[\"coords\"].swifter.apply(literal_eval)\n",
    "df_fmm[\"timestamp\"] = df_fmm[\"coords\"].swifter.apply(lambda x: list(np.arange(0, ((len(x)-1)*15)+1, 15)))\n",
    "df_fmm[\"id\"] = np.arange(1, df_fmm.shape[0]+1)\n",
    "df_fmm = df_fmm.drop([\"coords\"], axis=1)\n",
    "df_fmm.to_csv(\"../datasets/trajectories/Porto/mapped_id_poly_clipped_timestamp.csv\", sep=\";\", index=False)"
   ]
  },
  {
   "cell_type": "code",
   "execution_count": null,
   "metadata": {},
   "outputs": [],
   "source": [
    "tdf = pd.read_csv(\"../datasets/trajectories/Porto/mapped_id_poly_clipped_timestamp.csv\", sep=\";\")\n",
    "tdf[\"timestamp\"] = tdf[\"timestamp\"].str.replace(\"[\", \"\")\n",
    "tdf[\"timestamp\"] = tdf[\"timestamp\"].str.replace(\"]\", \"\")\n",
    "tdf.to_csv(\"../datasets/trajectories/Porto/mapped_id_poly_clipped_timestamp.csv\", sep=\";\", index=False)"
   ]
  },
  {
   "cell_type": "code",
   "execution_count": 3,
   "metadata": {},
   "outputs": [],
   "source": [
    "from ast import literal_eval\n",
    "# check timestamp length = gps stamp\n",
    "tdf = pd.read_csv(\"../datasets/trajectories/Porto/mapped_id_poly_clipped_timestamp.csv\", sep=\";\")\n",
    "cdf= fdf.loc[:, [\"coords\"]]\n",
    "cdf[\"coords\"] = cdf[\"coords\"].swifter.apply(literal_eval)\n",
    "tdf[\"timestamp\"] = tdf[\"timestamp\"].swifter.apply(literal_eval)"
   ]
  },
  {
   "cell_type": "code",
   "execution_count": null,
   "metadata": {},
   "outputs": [],
   "source": [
    "df_fmm[\"timestamp\"].str.len().mean()"
   ]
  },
  {
   "cell_type": "code",
   "execution_count": null,
   "metadata": {},
   "outputs": [],
   "source": [
    "# Map porto gps points to road segments using fmm -> takes really long!\n",
    "network.fmm_trajectorie_mapping(\n",
    "    network_file=\"../osm_data/porto/edges.shp\",\n",
    "    input_file=\"../datasets/trajectories/Porto/mapped_id_poly_clipped_timestamp.csv\",\n",
    "    output_file=\"../datasets/trajectories/Porto/road-segment-mapping.txt\"\n",
    ")"
   ]
  },
  {
   "cell_type": "code",
   "execution_count": null,
   "metadata": {},
   "outputs": [],
   "source": [
    "from ast import literal_eval\n",
    "\n",
    "# preprocess the mapping especially the speed and distance values need to be verified\n",
    "df = pd.read_csv(\"../datasets/trajectories/Porto/road-segment-mapping.csv\", sep=\";\")\n",
    "df = remove_outlier_trajectories(df,  min_edges_traversed=3, max_speed=1e1)\n",
    "df.to_csv(\"../datasets/trajectories/Porto/road_segment_map_final.csv\", sep=\";\")"
   ]
  },
  {
   "cell_type": "code",
   "execution_count": 27,
   "metadata": {},
   "outputs": [],
   "source": [
    "\"\"\"\n",
    "Test of Travel Time Dataset generation\n",
    "\"\"\"\n",
    "from generator.trajectory import Trajectory\n",
    "\n",
    "traj = Trajectory(\"../datasets/trajectories/Porto/road_segment_map_final.csv\")"
   ]
  },
  {
   "cell_type": "code",
   "execution_count": 30,
   "metadata": {},
   "outputs": [
    {
     "data": {
      "application/vnd.jupyter.widget-view+json": {
       "model_id": "b44c6ce066c5419ba47d45fb7ad535df",
       "version_major": 2,
       "version_minor": 0
      },
      "text/plain": [
       "Pandas Apply:   0%|          | 0/3088468 [00:00<?, ?it/s]"
      ]
     },
     "metadata": {},
     "output_type": "display_data"
    },
    {
     "data": {
      "application/vnd.jupyter.widget-view+json": {
       "model_id": "a746425232b246a7b3822d79e19eabcf",
       "version_major": 2,
       "version_minor": 0
      },
      "text/plain": [
       "Pandas Apply:   0%|          | 0/1544234 [00:00<?, ?it/s]"
      ]
     },
     "metadata": {},
     "output_type": "display_data"
    }
   ],
   "source": [
    "dft = traj.generate_TTE_datatset()\n",
    "dft[\"travel_time\"].describe()"
   ]
  }
 ],
 "metadata": {
  "interpreter": {
   "hash": "088070de2c6b4023b2f7ae556c412f86bcd02589c7bdb3766a0caf3cf4813fbd"
  },
  "kernelspec": {
   "display_name": "Python 3.9.13 ('road')",
   "language": "python",
   "name": "python3"
  },
  "language_info": {
   "codemirror_mode": {
    "name": "ipython",
    "version": 3
   },
   "file_extension": ".py",
   "mimetype": "text/x-python",
   "name": "python",
   "nbconvert_exporter": "python",
   "pygments_lexer": "ipython3",
   "version": "3.9.13"
  },
  "orig_nbformat": 4
 },
 "nbformat": 4,
 "nbformat_minor": 2
}
