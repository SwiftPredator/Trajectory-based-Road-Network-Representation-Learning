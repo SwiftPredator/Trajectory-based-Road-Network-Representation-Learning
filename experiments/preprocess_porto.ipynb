{
 "cells": [
  {
   "cell_type": "code",
   "execution_count": 1,
   "metadata": {},
   "outputs": [],
   "source": [
    "%load_ext autoreload\n",
    "%autoreload 2\n",
    "\n",
    "import os\n",
    "os.environ[\"CUDA_DEVICE_ORDER\"]=\"PCI_BUS_ID\" \n",
    "os.environ[\"CUDA_VISIBLE_DEVICES\"]=\"-1\"\n",
    "\n",
    "import os\n",
    "import sys\n",
    "\n",
    "module_path = os.path.abspath(os.path.join('..'))\n",
    "if module_path not in sys.path:\n",
    "    sys.path.append(module_path)\n",
    "\n",
    "import pandas as pd\n",
    "import geopandas as gpd\n",
    "import folium\n",
    "from shapely.geometry import LineString\n",
    "from shapely import wkt\n",
    "import numpy as np\n",
    "import swifter\n",
    "from generator.preprocess import *\n",
    "from generator.preprocess import remove_outlier_trajectories\n",
    "from generator.road_network import RoadNetwork"
   ]
  },
  {
   "cell_type": "code",
   "execution_count": 15,
   "metadata": {},
   "outputs": [],
   "source": [
    "# load mapped dataset\n",
    "df = pd.read_csv(\"../datasets/trajectories/porto/train.csv\")\n",
    "# load network\n",
    "network = RoadNetwork()\n",
    "network.load(\"../osm_data/porto\")"
   ]
  },
  {
   "cell_type": "code",
   "execution_count": 16,
   "metadata": {},
   "outputs": [
    {
     "data": {
      "text/plain": [
       "'Average in degree:   2.7990\\nAverage out degree:   2.7990'"
      ]
     },
     "execution_count": 16,
     "metadata": {},
     "output_type": "execute_result"
    }
   ],
   "source": [
    "# get average degree\n",
    "info = \"\"\n",
    "nnodes = network.line_graph.number_of_nodes()\n",
    "deg = sum(d for n, d in network.line_graph.in_degree()) / float(nnodes)\n",
    "info += \"Average in degree: %8.4f \\n\" % deg\n",
    "deg = sum(d for n, d in network.line_graph.out_degree()) / float(nnodes)\n",
    "info += \"Average out degree: %8.4f\" % deg\n",
    "\n",
    "info"
   ]
  },
  {
   "cell_type": "code",
   "execution_count": 4,
   "metadata": {},
   "outputs": [
    {
     "data": {
      "text/html": [
       "<div>\n",
       "<style scoped>\n",
       "    .dataframe tbody tr th:only-of-type {\n",
       "        vertical-align: middle;\n",
       "    }\n",
       "\n",
       "    .dataframe tbody tr th {\n",
       "        vertical-align: top;\n",
       "    }\n",
       "\n",
       "    .dataframe thead th {\n",
       "        text-align: right;\n",
       "    }\n",
       "</style>\n",
       "<table border=\"1\" class=\"dataframe\">\n",
       "  <thead>\n",
       "    <tr style=\"text-align: right;\">\n",
       "      <th></th>\n",
       "      <th>TRIP_ID</th>\n",
       "      <th>CALL_TYPE</th>\n",
       "      <th>ORIGIN_CALL</th>\n",
       "      <th>ORIGIN_STAND</th>\n",
       "      <th>TAXI_ID</th>\n",
       "      <th>TIMESTAMP</th>\n",
       "      <th>DAY_TYPE</th>\n",
       "      <th>MISSING_DATA</th>\n",
       "      <th>POLYLINE</th>\n",
       "    </tr>\n",
       "  </thead>\n",
       "  <tbody>\n",
       "    <tr>\n",
       "      <th>0</th>\n",
       "      <td>1372636858620000589</td>\n",
       "      <td>C</td>\n",
       "      <td>NaN</td>\n",
       "      <td>NaN</td>\n",
       "      <td>20000589</td>\n",
       "      <td>1372636858</td>\n",
       "      <td>A</td>\n",
       "      <td>False</td>\n",
       "      <td>[[-8.618643,41.141412],[-8.618499,41.141376],[...</td>\n",
       "    </tr>\n",
       "    <tr>\n",
       "      <th>1</th>\n",
       "      <td>1372637303620000596</td>\n",
       "      <td>B</td>\n",
       "      <td>NaN</td>\n",
       "      <td>7.0</td>\n",
       "      <td>20000596</td>\n",
       "      <td>1372637303</td>\n",
       "      <td>A</td>\n",
       "      <td>False</td>\n",
       "      <td>[[-8.639847,41.159826],[-8.640351,41.159871],[...</td>\n",
       "    </tr>\n",
       "    <tr>\n",
       "      <th>2</th>\n",
       "      <td>1372636951620000320</td>\n",
       "      <td>C</td>\n",
       "      <td>NaN</td>\n",
       "      <td>NaN</td>\n",
       "      <td>20000320</td>\n",
       "      <td>1372636951</td>\n",
       "      <td>A</td>\n",
       "      <td>False</td>\n",
       "      <td>[[-8.612964,41.140359],[-8.613378,41.14035],[-...</td>\n",
       "    </tr>\n",
       "    <tr>\n",
       "      <th>3</th>\n",
       "      <td>1372636854620000520</td>\n",
       "      <td>C</td>\n",
       "      <td>NaN</td>\n",
       "      <td>NaN</td>\n",
       "      <td>20000520</td>\n",
       "      <td>1372636854</td>\n",
       "      <td>A</td>\n",
       "      <td>False</td>\n",
       "      <td>[[-8.574678,41.151951],[-8.574705,41.151942],[...</td>\n",
       "    </tr>\n",
       "    <tr>\n",
       "      <th>4</th>\n",
       "      <td>1372637091620000337</td>\n",
       "      <td>C</td>\n",
       "      <td>NaN</td>\n",
       "      <td>NaN</td>\n",
       "      <td>20000337</td>\n",
       "      <td>1372637091</td>\n",
       "      <td>A</td>\n",
       "      <td>False</td>\n",
       "      <td>[[-8.645994,41.18049],[-8.645949,41.180517],[-...</td>\n",
       "    </tr>\n",
       "    <tr>\n",
       "      <th>...</th>\n",
       "      <td>...</td>\n",
       "      <td>...</td>\n",
       "      <td>...</td>\n",
       "      <td>...</td>\n",
       "      <td>...</td>\n",
       "      <td>...</td>\n",
       "      <td>...</td>\n",
       "      <td>...</td>\n",
       "      <td>...</td>\n",
       "    </tr>\n",
       "    <tr>\n",
       "      <th>1710665</th>\n",
       "      <td>1404171463620000698</td>\n",
       "      <td>C</td>\n",
       "      <td>NaN</td>\n",
       "      <td>NaN</td>\n",
       "      <td>20000698</td>\n",
       "      <td>1404171463</td>\n",
       "      <td>A</td>\n",
       "      <td>False</td>\n",
       "      <td>[[-8.612469,41.14602],[-8.612487,41.145993],[-...</td>\n",
       "    </tr>\n",
       "    <tr>\n",
       "      <th>1710666</th>\n",
       "      <td>1404171367620000670</td>\n",
       "      <td>C</td>\n",
       "      <td>NaN</td>\n",
       "      <td>NaN</td>\n",
       "      <td>20000670</td>\n",
       "      <td>1404171367</td>\n",
       "      <td>A</td>\n",
       "      <td>False</td>\n",
       "      <td>[[-8.610138,41.140845],[-8.610174,41.140935],[...</td>\n",
       "    </tr>\n",
       "    <tr>\n",
       "      <th>1710667</th>\n",
       "      <td>1388745716620000264</td>\n",
       "      <td>C</td>\n",
       "      <td>NaN</td>\n",
       "      <td>NaN</td>\n",
       "      <td>20000264</td>\n",
       "      <td>1388745716</td>\n",
       "      <td>A</td>\n",
       "      <td>False</td>\n",
       "      <td>[]</td>\n",
       "    </tr>\n",
       "    <tr>\n",
       "      <th>1710668</th>\n",
       "      <td>1404141826620000248</td>\n",
       "      <td>B</td>\n",
       "      <td>NaN</td>\n",
       "      <td>12.0</td>\n",
       "      <td>20000248</td>\n",
       "      <td>1404141826</td>\n",
       "      <td>A</td>\n",
       "      <td>False</td>\n",
       "      <td>[[-8.630712,41.154885],[-8.63073,41.154813],[-...</td>\n",
       "    </tr>\n",
       "    <tr>\n",
       "      <th>1710669</th>\n",
       "      <td>1404157147620000079</td>\n",
       "      <td>B</td>\n",
       "      <td>NaN</td>\n",
       "      <td>34.0</td>\n",
       "      <td>20000079</td>\n",
       "      <td>1404157147</td>\n",
       "      <td>A</td>\n",
       "      <td>False</td>\n",
       "      <td>[[-8.615538,41.140629],[-8.615421,41.140746],[...</td>\n",
       "    </tr>\n",
       "  </tbody>\n",
       "</table>\n",
       "<p>1710670 rows × 9 columns</p>\n",
       "</div>"
      ],
      "text/plain": [
       "                     TRIP_ID CALL_TYPE  ORIGIN_CALL  ORIGIN_STAND   TAXI_ID  \\\n",
       "0        1372636858620000589         C          NaN           NaN  20000589   \n",
       "1        1372637303620000596         B          NaN           7.0  20000596   \n",
       "2        1372636951620000320         C          NaN           NaN  20000320   \n",
       "3        1372636854620000520         C          NaN           NaN  20000520   \n",
       "4        1372637091620000337         C          NaN           NaN  20000337   \n",
       "...                      ...       ...          ...           ...       ...   \n",
       "1710665  1404171463620000698         C          NaN           NaN  20000698   \n",
       "1710666  1404171367620000670         C          NaN           NaN  20000670   \n",
       "1710667  1388745716620000264         C          NaN           NaN  20000264   \n",
       "1710668  1404141826620000248         B          NaN          12.0  20000248   \n",
       "1710669  1404157147620000079         B          NaN          34.0  20000079   \n",
       "\n",
       "          TIMESTAMP DAY_TYPE  MISSING_DATA  \\\n",
       "0        1372636858        A         False   \n",
       "1        1372637303        A         False   \n",
       "2        1372636951        A         False   \n",
       "3        1372636854        A         False   \n",
       "4        1372637091        A         False   \n",
       "...             ...      ...           ...   \n",
       "1710665  1404171463        A         False   \n",
       "1710666  1404171367        A         False   \n",
       "1710667  1388745716        A         False   \n",
       "1710668  1404141826        A         False   \n",
       "1710669  1404157147        A         False   \n",
       "\n",
       "                                                  POLYLINE  \n",
       "0        [[-8.618643,41.141412],[-8.618499,41.141376],[...  \n",
       "1        [[-8.639847,41.159826],[-8.640351,41.159871],[...  \n",
       "2        [[-8.612964,41.140359],[-8.613378,41.14035],[-...  \n",
       "3        [[-8.574678,41.151951],[-8.574705,41.151942],[...  \n",
       "4        [[-8.645994,41.18049],[-8.645949,41.180517],[-...  \n",
       "...                                                    ...  \n",
       "1710665  [[-8.612469,41.14602],[-8.612487,41.145993],[-...  \n",
       "1710666  [[-8.610138,41.140845],[-8.610174,41.140935],[...  \n",
       "1710667                                                 []  \n",
       "1710668  [[-8.630712,41.154885],[-8.63073,41.154813],[-...  \n",
       "1710669  [[-8.615538,41.140629],[-8.615421,41.140746],[...  \n",
       "\n",
       "[1710670 rows x 9 columns]"
      ]
     },
     "execution_count": 4,
     "metadata": {},
     "output_type": "execute_result"
    }
   ],
   "source": [
    "df"
   ]
  },
  {
   "cell_type": "code",
   "execution_count": null,
   "metadata": {},
   "outputs": [],
   "source": [
    "# preprocess (clip trajectories to porto bounds and filter min points per trajectory (takes around 2h on pascal))\n",
    "# trajectories that go out of porto and then again into porto area are splitted into seperated trajectories\n",
    "fdf = preprocess_trajectories_porto(df, city_bounds=network.bounds, polyline_convert=True)\n",
    "# save dataframe\n",
    "fdf.to_csv(\"../datasets/trajectories/Porto/clipped_porto_full_10pmin_2mil.csv\")"
   ]
  },
  {
   "cell_type": "code",
   "execution_count": null,
   "metadata": {},
   "outputs": [],
   "source": [
    "\"\"\"\n",
    "Map Timestamps to clipped dataframe. Each trajectory has a start timestamp and between each gps point are 15s.\n",
    "We need to create a column which holds an array for each trajectory with the timestamps for each gps point.\n",
    "\"\"\"\n",
    "fdf = pd.read_csv(\"../datasets/trajectories/Porto/clipped_porto_full_10pmin_2mil.csv\")"
   ]
  },
  {
   "cell_type": "code",
   "execution_count": null,
   "metadata": {},
   "outputs": [],
   "source": [
    "from ast import literal_eval\n",
    "# Map trajectories in the format for fmm matching and insert timestamp column\n",
    "df_fmm = fdf.loc[:, [\"TRIP_ID\", \"POLYLINE\", \"coords\"]]\n",
    "df_fmm[\"coords\"] = df_fmm[\"coords\"].swifter.apply(literal_eval)\n",
    "df_fmm[\"timestamp\"] = df_fmm[\"coords\"].swifter.apply(lambda x: list(np.arange(0, ((len(x)-1)*15)+1, 15)))\n",
    "df_fmm[\"id\"] = np.arange(1, df_fmm.shape[0]+1)\n",
    "df_fmm = df_fmm.drop([\"coords\"], axis=1)\n",
    "df_fmm.to_csv(\"../datasets/trajectories/Porto/mapped_id_poly_clipped_timestamp.csv\", sep=\";\", index=False)"
   ]
  },
  {
   "cell_type": "code",
   "execution_count": null,
   "metadata": {},
   "outputs": [],
   "source": [
    "tdf = pd.read_csv(\"../datasets/trajectories/Porto/mapped_id_poly_clipped_timestamp.csv\", sep=\";\")\n",
    "tdf[\"timestamp\"] = tdf[\"timestamp\"].str.replace(\"[\", \"\")\n",
    "tdf[\"timestamp\"] = tdf[\"timestamp\"].str.replace(\"]\", \"\")\n",
    "tdf.to_csv(\"../datasets/trajectories/Porto/mapped_id_poly_clipped_timestamp.csv\", sep=\";\", index=False)"
   ]
  },
  {
   "cell_type": "code",
   "execution_count": 3,
   "metadata": {},
   "outputs": [],
   "source": [
    "from ast import literal_eval\n",
    "# check timestamp length = gps stamp\n",
    "tdf = pd.read_csv(\"../datasets/trajectories/Porto/mapped_id_poly_clipped_timestamp.csv\", sep=\";\")\n",
    "cdf= fdf.loc[:, [\"coords\"]]\n",
    "cdf[\"coords\"] = cdf[\"coords\"].swifter.apply(literal_eval)\n",
    "tdf[\"timestamp\"] = tdf[\"timestamp\"].swifter.apply(literal_eval)"
   ]
  },
  {
   "cell_type": "code",
   "execution_count": null,
   "metadata": {},
   "outputs": [],
   "source": [
    "df_fmm[\"timestamp\"].str.len().mean()"
   ]
  },
  {
   "cell_type": "code",
   "execution_count": null,
   "metadata": {},
   "outputs": [],
   "source": [
    "# Map porto gps points to road segments using fmm -> takes really long!\n",
    "network.fmm_trajectorie_mapping(\n",
    "    network_file=\"../osm_data/porto/edges.shp\",\n",
    "    input_file=\"../datasets/trajectories/Porto/mapped_id_poly_clipped_timestamp.csv\",\n",
    "    output_file=\"../datasets/trajectories/Porto/road-segment-mapping.txt\"\n",
    ")"
   ]
  },
  {
   "cell_type": "code",
   "execution_count": null,
   "metadata": {},
   "outputs": [],
   "source": [
    "from ast import literal_eval\n",
    "\n",
    "# preprocess the mapping especially the speed and distance values need to be verified\n",
    "df = pd.read_csv(\"../datasets/trajectories/Porto/road-segment-mapping.csv\", sep=\";\")\n",
    "df = remove_outlier_trajectories(df,  min_edges_traversed=3, max_speed=1e1)\n",
    "df.to_csv(\"../datasets/trajectories/Porto/road_segment_map_final.csv\", sep=\";\")"
   ]
  },
  {
   "cell_type": "code",
   "execution_count": 27,
   "metadata": {},
   "outputs": [],
   "source": [
    "\"\"\"\n",
    "Test of Travel Time Dataset generation\n",
    "\"\"\"\n",
    "from generator.trajectory import Trajectory\n",
    "\n",
    "traj = Trajectory(\"../datasets/trajectories/Porto/road_segment_map_final.csv\")"
   ]
  },
  {
   "cell_type": "code",
   "execution_count": 30,
   "metadata": {},
   "outputs": [
    {
     "data": {
      "application/vnd.jupyter.widget-view+json": {
       "model_id": "b44c6ce066c5419ba47d45fb7ad535df",
       "version_major": 2,
       "version_minor": 0
      },
      "text/plain": [
       "Pandas Apply:   0%|          | 0/3088468 [00:00<?, ?it/s]"
      ]
     },
     "metadata": {},
     "output_type": "display_data"
    },
    {
     "data": {
      "application/vnd.jupyter.widget-view+json": {
       "model_id": "a746425232b246a7b3822d79e19eabcf",
       "version_major": 2,
       "version_minor": 0
      },
      "text/plain": [
       "Pandas Apply:   0%|          | 0/1544234 [00:00<?, ?it/s]"
      ]
     },
     "metadata": {},
     "output_type": "display_data"
    }
   ],
   "source": [
    "dft = traj.generate_TTE_datatset()\n",
    "dft[\"travel_time\"].describe()"
   ]
  }
 ],
 "metadata": {
  "interpreter": {
   "hash": "088070de2c6b4023b2f7ae556c412f86bcd02589c7bdb3766a0caf3cf4813fbd"
  },
  "kernelspec": {
   "display_name": "Python 3.9.13 ('road')",
   "language": "python",
   "name": "python3"
  },
  "language_info": {
   "codemirror_mode": {
    "name": "ipython",
    "version": 3
   },
   "file_extension": ".py",
   "mimetype": "text/x-python",
   "name": "python",
   "nbconvert_exporter": "python",
   "pygments_lexer": "ipython3",
   "version": "3.9.13"
  },
  "orig_nbformat": 4
 },
 "nbformat": 4,
 "nbformat_minor": 2
}
