{
 "cells": [
  {
   "cell_type": "code",
   "execution_count": 19,
   "metadata": {},
   "outputs": [
    {
     "name": "stdout",
     "output_type": "stream",
     "text": [
      "The autoreload extension is already loaded. To reload it, use:\n",
      "  %reload_ext autoreload\n"
     ]
    }
   ],
   "source": [
    "%load_ext autoreload\n",
    "%autoreload 2\n",
    "\n",
    "import os\n",
    "\n",
    "import os\n",
    "import sys\n",
    "\n",
    "module_path = os.path.abspath(os.path.join('..'))\n",
    "if module_path not in sys.path:\n",
    "    sys.path.append(module_path)\n",
    "\n",
    "import pandas as pd\n",
    "import geopandas as gpd\n",
    "import folium\n",
    "from shapely.geometry import LineString\n",
    "from shapely import wkt\n",
    "import numpy as np\n",
    "import swifter\n",
    "from generator.preprocess import *\n",
    "from generator.preprocess import remove_outlier_trajectories\n",
    "from generator.road_network import RoadNetwork\n",
    "import glob"
   ]
  },
  {
   "cell_type": "code",
   "execution_count": 46,
   "metadata": {},
   "outputs": [],
   "source": [
    "# read data \n",
    "network = RoadNetwork()\n",
    "network.load(\"../osm_data/sf\")\n",
    "\n",
    "all_files = glob.glob(os.path.join(\"../datasets/trajectories/SF/cabdata\" , \"*.txt\"))\n",
    "\n",
    "data = []\n",
    "\n",
    "for filename in all_files[:10]:\n",
    "    tdf = pd.read_csv(filename, index_col=None, header=None, delimiter=\" \")\n",
    "    tdf[\"tax_id\"] = filename.split(\"/\")[-1].split(\".\")[0].split(\"_\")[1]\n",
    "    data.append(tdf)\n",
    "\n",
    "df = pd.concat(data, axis=0, ignore_index=True)\n",
    "df = df.rename(columns={0: \"lat\", 1: \"long\", 2: \"occupied\", 3: \"timestamp\"})"
   ]
  },
  {
   "cell_type": "code",
   "execution_count": 48,
   "metadata": {},
   "outputs": [
    {
     "name": "stdout",
     "output_type": "stream",
     "text": [
      "abdremlu\n",
      "abgibo\n",
      "abjoolaw\n",
      "abmuyawm\n",
      "abniar\n",
      "abnovkak\n",
      "abwecnij\n",
      "abyalwif\n",
      "acdiyito\n",
      "acduou\n"
     ]
    }
   ],
   "source": [
    "df.groupby(\"tax_id\")\n",
    "for n, g in df.groupby(\"tax_id\"):\n",
    "    # generate trajectories for each taxi and create csv from data\n",
    "    print(n)"
   ]
  },
  {
   "cell_type": "code",
   "execution_count": 14,
   "metadata": {},
   "outputs": [
    {
     "data": {
      "text/plain": [
       "612853"
      ]
     },
     "execution_count": 14,
     "metadata": {},
     "output_type": "execute_result"
    }
   ],
   "source": [
    "i = 0\n",
    "for n, g in df.groupby(\"trajectory\"):\n",
    "    i +=1\n",
    "\n",
    "i"
   ]
  }
 ],
 "metadata": {
  "kernelspec": {
   "display_name": "Python 3.9.13 ('road')",
   "language": "python",
   "name": "python3"
  },
  "language_info": {
   "codemirror_mode": {
    "name": "ipython",
    "version": 3
   },
   "file_extension": ".py",
   "mimetype": "text/x-python",
   "name": "python",
   "nbconvert_exporter": "python",
   "pygments_lexer": "ipython3",
   "version": "3.9.13"
  },
  "orig_nbformat": 4,
  "vscode": {
   "interpreter": {
    "hash": "088070de2c6b4023b2f7ae556c412f86bcd02589c7bdb3766a0caf3cf4813fbd"
   }
  }
 },
 "nbformat": 4,
 "nbformat_minor": 2
}
