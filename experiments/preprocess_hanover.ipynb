{
 "cells": [
  {
   "cell_type": "code",
   "execution_count": 1,
   "metadata": {},
   "outputs": [],
   "source": [
    "%load_ext autoreload\n",
    "%autoreload 2\n",
    "\n",
    "import os\n",
    "\n",
    "import os\n",
    "import sys\n",
    "\n",
    "module_path = os.path.abspath(os.path.join('..'))\n",
    "if module_path not in sys.path:\n",
    "    sys.path.append(module_path)\n",
    "\n",
    "import pandas as pd\n",
    "import geopandas as gpd\n",
    "import folium\n",
    "from shapely.geometry import LineString\n",
    "from shapely import wkt\n",
    "import numpy as np\n",
    "import swifter\n",
    "from generator.preprocess import *\n",
    "from generator.preprocess import remove_outlier_trajectories\n",
    "from generator.road_network import RoadNetwork\n",
    "import glob\n",
    "from tqdm import tqdm"
   ]
  },
  {
   "cell_type": "code",
   "execution_count": 2,
   "metadata": {},
   "outputs": [],
   "source": [
    "df = pd.read_csv(\"../datasets/trajectories/hanover/hannover_inrix.csv\")\n",
    "network = RoadNetwork()\n",
    "network.load(\"../osm_data/hanover\")"
   ]
  },
  {
   "cell_type": "code",
   "execution_count": 3,
   "metadata": {},
   "outputs": [
    {
     "name": "stderr",
     "output_type": "stream",
     "text": [
      "100%|██████████| 77188/77188 [00:02<00:00, 34545.13it/s]"
     ]
    },
    {
     "name": "stdout",
     "output_type": "stream",
     "text": [
      "241.32424353095539\n"
     ]
    },
    {
     "name": "stderr",
     "output_type": "stream",
     "text": [
      "\n"
     ]
    }
   ],
   "source": [
    "l, c = 0, 0\n",
    "for _, g in tqdm(df.groupby(\"id\")):\n",
    "    if g.shape[0] < 5:\n",
    "        continue\n",
    "    l += g.shape[0]\n",
    "    c += 1\n",
    "\n",
    "print(l/c)\n"
   ]
  },
  {
   "cell_type": "code",
   "execution_count": 3,
   "metadata": {},
   "outputs": [
    {
     "name": "stderr",
     "output_type": "stream",
     "text": [
      "100%|██████████| 77188/77188 [03:20<00:00, 384.35it/s]\n"
     ]
    },
    {
     "data": {
      "text/html": [
       "<div>\n",
       "<style scoped>\n",
       "    .dataframe tbody tr th:only-of-type {\n",
       "        vertical-align: middle;\n",
       "    }\n",
       "\n",
       "    .dataframe tbody tr th {\n",
       "        vertical-align: top;\n",
       "    }\n",
       "\n",
       "    .dataframe thead th {\n",
       "        text-align: right;\n",
       "    }\n",
       "</style>\n",
       "<table border=\"1\" class=\"dataframe\">\n",
       "  <thead>\n",
       "    <tr style=\"text-align: right;\">\n",
       "      <th></th>\n",
       "      <th>POLYLINE</th>\n",
       "      <th>timestamp</th>\n",
       "      <th>start_stamp</th>\n",
       "      <th>end_stamp</th>\n",
       "    </tr>\n",
       "  </thead>\n",
       "  <tbody>\n",
       "    <tr>\n",
       "      <th>0</th>\n",
       "      <td>LINESTRING (9.8288 52.3326, 9.819705 52.331356...</td>\n",
       "      <td>[0, 80, 424, 535, 613, 1094, 1171, 1453, 1528,...</td>\n",
       "      <td>1565974403</td>\n",
       "      <td>1565982018</td>\n",
       "    </tr>\n",
       "    <tr>\n",
       "      <th>1</th>\n",
       "      <td>LINESTRING (9.6472 52.2823, 9.643848 52.283978...</td>\n",
       "      <td>[0, 30, 60, 90, 120, 172, 202, 232, 262, 292, ...</td>\n",
       "      <td>1567075203</td>\n",
       "      <td>1567075868</td>\n",
       "    </tr>\n",
       "    <tr>\n",
       "      <th>2</th>\n",
       "      <td>LINESTRING (9.7376 52.5465, 9.72797 52.541855,...</td>\n",
       "      <td>[0, 138, 300, 485, 668, 801, 882]</td>\n",
       "      <td>1566184436</td>\n",
       "      <td>1566185318</td>\n",
       "    </tr>\n",
       "    <tr>\n",
       "      <th>3</th>\n",
       "      <td>LINESTRING (9.7119 52.343, 9.716048 52.344969,...</td>\n",
       "      <td>[0, 90, 180, 229, 319, 409, 492, 582, 672, 762]</td>\n",
       "      <td>1568621637</td>\n",
       "      <td>1568622399</td>\n",
       "    </tr>\n",
       "    <tr>\n",
       "      <th>4</th>\n",
       "      <td>LINESTRING (9.7585 52.3363, 9.762929 52.34235,...</td>\n",
       "      <td>[0, 79, 141, 224, 377, 453, 580, 685, 763, 881...</td>\n",
       "      <td>1566671810</td>\n",
       "      <td>1566673656</td>\n",
       "    </tr>\n",
       "    <tr>\n",
       "      <th>...</th>\n",
       "      <td>...</td>\n",
       "      <td>...</td>\n",
       "      <td>...</td>\n",
       "      <td>...</td>\n",
       "    </tr>\n",
       "    <tr>\n",
       "      <th>73924</th>\n",
       "      <td>LINESTRING (10.0369 53.3593, 10.037012 53.3582...</td>\n",
       "      <td>[0, 5, 8, 14, 15, 19, 25, 28, 30, 34, 39, 44, ...</td>\n",
       "      <td>1569563606</td>\n",
       "      <td>1569569649</td>\n",
       "    </tr>\n",
       "    <tr>\n",
       "      <th>73925</th>\n",
       "      <td>LINESTRING (9.7278 52.3654, 9.727219 52.365731...</td>\n",
       "      <td>[0, 5, 8, 16, 19, 20, 25, 29, 35, 40, 46, 49, ...</td>\n",
       "      <td>1575029942</td>\n",
       "      <td>1575031187</td>\n",
       "    </tr>\n",
       "    <tr>\n",
       "      <th>73926</th>\n",
       "      <td>LINESTRING (9.8726 52.9458, 9.718267 52.63466,...</td>\n",
       "      <td>[0, 599, 703, 718, 733, 748, 763, 778, 1295, 1...</td>\n",
       "      <td>1573224957</td>\n",
       "      <td>1573226965</td>\n",
       "    </tr>\n",
       "    <tr>\n",
       "      <th>73927</th>\n",
       "      <td>LINESTRING (9.738963 52.382663, 9.738996 52.38...</td>\n",
       "      <td>[0, 5, 10, 15, 20, 25, 30, 35, 45, 50, 55, 60,...</td>\n",
       "      <td>1574319815</td>\n",
       "      <td>1574320945</td>\n",
       "    </tr>\n",
       "    <tr>\n",
       "      <th>73928</th>\n",
       "      <td>LINESTRING (9.7822 52.4016, 9.782285 52.401667...</td>\n",
       "      <td>[0, 8, 15, 30, 45, 60, 75, 90, 105, 120, 135, ...</td>\n",
       "      <td>1566152132</td>\n",
       "      <td>1566159550</td>\n",
       "    </tr>\n",
       "  </tbody>\n",
       "</table>\n",
       "<p>73929 rows × 4 columns</p>\n",
       "</div>"
      ],
      "text/plain": [
       "                                                POLYLINE  \\\n",
       "0      LINESTRING (9.8288 52.3326, 9.819705 52.331356...   \n",
       "1      LINESTRING (9.6472 52.2823, 9.643848 52.283978...   \n",
       "2      LINESTRING (9.7376 52.5465, 9.72797 52.541855,...   \n",
       "3      LINESTRING (9.7119 52.343, 9.716048 52.344969,...   \n",
       "4      LINESTRING (9.7585 52.3363, 9.762929 52.34235,...   \n",
       "...                                                  ...   \n",
       "73924  LINESTRING (10.0369 53.3593, 10.037012 53.3582...   \n",
       "73925  LINESTRING (9.7278 52.3654, 9.727219 52.365731...   \n",
       "73926  LINESTRING (9.8726 52.9458, 9.718267 52.63466,...   \n",
       "73927  LINESTRING (9.738963 52.382663, 9.738996 52.38...   \n",
       "73928  LINESTRING (9.7822 52.4016, 9.782285 52.401667...   \n",
       "\n",
       "                                               timestamp  start_stamp  \\\n",
       "0      [0, 80, 424, 535, 613, 1094, 1171, 1453, 1528,...   1565974403   \n",
       "1      [0, 30, 60, 90, 120, 172, 202, 232, 262, 292, ...   1567075203   \n",
       "2                      [0, 138, 300, 485, 668, 801, 882]   1566184436   \n",
       "3        [0, 90, 180, 229, 319, 409, 492, 582, 672, 762]   1568621637   \n",
       "4      [0, 79, 141, 224, 377, 453, 580, 685, 763, 881...   1566671810   \n",
       "...                                                  ...          ...   \n",
       "73924  [0, 5, 8, 14, 15, 19, 25, 28, 30, 34, 39, 44, ...   1569563606   \n",
       "73925  [0, 5, 8, 16, 19, 20, 25, 29, 35, 40, 46, 49, ...   1575029942   \n",
       "73926  [0, 599, 703, 718, 733, 748, 763, 778, 1295, 1...   1573224957   \n",
       "73927  [0, 5, 10, 15, 20, 25, 30, 35, 45, 50, 55, 60,...   1574319815   \n",
       "73928  [0, 8, 15, 30, 45, 60, 75, 90, 105, 120, 135, ...   1566152132   \n",
       "\n",
       "        end_stamp  \n",
       "0      1565982018  \n",
       "1      1567075868  \n",
       "2      1566185318  \n",
       "3      1568622399  \n",
       "4      1566673656  \n",
       "...           ...  \n",
       "73924  1569569649  \n",
       "73925  1575031187  \n",
       "73926  1573226965  \n",
       "73927  1574320945  \n",
       "73928  1566159550  \n",
       "\n",
       "[73929 rows x 4 columns]"
      ]
     },
     "execution_count": 3,
     "metadata": {},
     "output_type": "execute_result"
    }
   ],
   "source": [
    "rows = []\n",
    "for _, g in tqdm(df.groupby(\"id\")):\n",
    "    if g.shape[0] < 5:\n",
    "        continue\n",
    "    traj = g[[\"longitude\", \"latitude\", \"time\"]].copy()\n",
    "    traj.loc[:, \"time\"] = pd.to_datetime(traj[\"time\"], infer_datetime_format=True).dt.floor('s')\n",
    "    traj.loc[:, \"time\"] = traj[\"time\"].values.astype(np.int64) // 10 ** 9\n",
    "    \n",
    "    data = traj.to_numpy()\n",
    "    time = data[1:, 2] - data[0, 2]\n",
    "    time = np.insert(time, 0, 0)\n",
    "    seq = LineString(data[:, :2])\n",
    "    rows.append((seq, time.astype(int).tolist(), traj.iloc[0, 2], traj.iloc[-1, 2]))\n",
    "\n",
    "processed_df = pd.DataFrame(rows, columns=[\"POLYLINE\", \"timestamp\", \"start_stamp\", \"end_stamp\"])\n",
    "processed_df"
   ]
  },
  {
   "cell_type": "code",
   "execution_count": 51,
   "metadata": {},
   "outputs": [
    {
     "data": {
      "text/plain": [
       "(73928, 0)"
      ]
     },
     "execution_count": 51,
     "metadata": {},
     "output_type": "execute_result"
    }
   ],
   "source": [
    "city_bounds = network.bounds\n",
    "df_clipped = clip_trajectories(processed_df.copy(), city_bounds, polyline_convert=True)\n",
    "df_clipped = filter_min_points(df_clipped, 5)"
   ]
  },
  {
   "cell_type": "code",
   "execution_count": 9,
   "metadata": {},
   "outputs": [],
   "source": [
    "df_clipped[\"id\"] = np.arange(1, df_clipped.shape[0]+1)\n",
    "df_clipped.drop(\"coords\", inplace=True, axis=1)\n",
    "df_clipped[\"timestamp\"] = df_clipped[\"timestamp\"].astype(str)\n",
    "df_clipped[\"timestamp\"] = df_clipped[\"timestamp\"].str.replace(\"[\", \"\")\n",
    "df_clipped[\"timestamp\"] = df_clipped[\"timestamp\"].str.replace(\"]\", \"\")\n",
    "#df_clipped[\"timestamp\"] = df_clipped[\"timestamp\"].str.replace(\"  \", \", \")\n",
    "df_clipped.to_csv(\"../datasets/trajectories/hanover/mapped_id_poly_clipped.csv\", sep=\";\", index=False)"
   ]
  },
  {
   "cell_type": "code",
   "execution_count": 10,
   "metadata": {},
   "outputs": [
    {
     "data": {
      "text/html": [
       "<div>\n",
       "<style scoped>\n",
       "    .dataframe tbody tr th:only-of-type {\n",
       "        vertical-align: middle;\n",
       "    }\n",
       "\n",
       "    .dataframe tbody tr th {\n",
       "        vertical-align: top;\n",
       "    }\n",
       "\n",
       "    .dataframe thead th {\n",
       "        text-align: right;\n",
       "    }\n",
       "</style>\n",
       "<table border=\"1\" class=\"dataframe\">\n",
       "  <thead>\n",
       "    <tr style=\"text-align: right;\">\n",
       "      <th></th>\n",
       "      <th>timestamp</th>\n",
       "      <th>start_stamp</th>\n",
       "      <th>end_stamp</th>\n",
       "      <th>POLYLINE</th>\n",
       "      <th>id</th>\n",
       "    </tr>\n",
       "  </thead>\n",
       "  <tbody>\n",
       "    <tr>\n",
       "      <th>0</th>\n",
       "      <td>0, 80, 424, 535, 613, 1094, 1171, 1453, 1528, ...</td>\n",
       "      <td>1565974403</td>\n",
       "      <td>1565982018</td>\n",
       "      <td>LINESTRING (9.8288 52.3326, 9.819705 52.331356...</td>\n",
       "      <td>1</td>\n",
       "    </tr>\n",
       "    <tr>\n",
       "      <th>1</th>\n",
       "      <td>0, 30, 60, 90, 120, 172, 202, 232, 262, 292, 5...</td>\n",
       "      <td>1567075203</td>\n",
       "      <td>1567075868</td>\n",
       "      <td>LINESTRING (9.660448261338471 52.3136182, 9.66...</td>\n",
       "      <td>2</td>\n",
       "    </tr>\n",
       "    <tr>\n",
       "      <th>2</th>\n",
       "      <td>0, 90, 180, 229, 319, 409, 492, 582, 672, 762</td>\n",
       "      <td>1568621637</td>\n",
       "      <td>1568622399</td>\n",
       "      <td>LINESTRING (9.7119 52.343, 9.716048 52.344969,...</td>\n",
       "      <td>3</td>\n",
       "    </tr>\n",
       "    <tr>\n",
       "      <th>3</th>\n",
       "      <td>0, 79, 141, 224, 377, 453, 580, 685, 763, 881,...</td>\n",
       "      <td>1566671810</td>\n",
       "      <td>1566673656</td>\n",
       "      <td>LINESTRING (9.7585 52.3363, 9.762929 52.34235,...</td>\n",
       "      <td>4</td>\n",
       "    </tr>\n",
       "    <tr>\n",
       "      <th>4</th>\n",
       "      <td>0, 1, 9, 15, 26, 30, 34, 41, 46, 51, 60, 66, 7...</td>\n",
       "      <td>1574157039</td>\n",
       "      <td>1574159903</td>\n",
       "      <td>LINESTRING (9.6138059 52.428522640720765, 9.62...</td>\n",
       "      <td>5</td>\n",
       "    </tr>\n",
       "    <tr>\n",
       "      <th>...</th>\n",
       "      <td>...</td>\n",
       "      <td>...</td>\n",
       "      <td>...</td>\n",
       "      <td>...</td>\n",
       "      <td>...</td>\n",
       "    </tr>\n",
       "    <tr>\n",
       "      <th>143854</th>\n",
       "      <td>0, 5, 8, 14, 15, 19, 25, 28, 30, 34, 39, 44, 4...</td>\n",
       "      <td>1569563606</td>\n",
       "      <td>1569569649</td>\n",
       "      <td>LINESTRING (9.718658264790285 52.4474529, 9.71...</td>\n",
       "      <td>143855</td>\n",
       "    </tr>\n",
       "    <tr>\n",
       "      <th>143855</th>\n",
       "      <td>0, 5, 8, 16, 19, 20, 25, 29, 35, 40, 46, 49, 5...</td>\n",
       "      <td>1575029942</td>\n",
       "      <td>1575031187</td>\n",
       "      <td>LINESTRING (9.7278 52.3654, 9.727219 52.365731...</td>\n",
       "      <td>143856</td>\n",
       "    </tr>\n",
       "    <tr>\n",
       "      <th>143856</th>\n",
       "      <td>0, 599, 703, 718, 733, 748, 763, 778, 1295, 16...</td>\n",
       "      <td>1573224957</td>\n",
       "      <td>1573226965</td>\n",
       "      <td>LINESTRING (9.782460425078042 52.4474529, 9.78...</td>\n",
       "      <td>143857</td>\n",
       "    </tr>\n",
       "    <tr>\n",
       "      <th>143857</th>\n",
       "      <td>0, 5, 10, 15, 20, 25, 30, 35, 45, 50, 55, 60, ...</td>\n",
       "      <td>1574319815</td>\n",
       "      <td>1574320945</td>\n",
       "      <td>LINESTRING (9.738963 52.382663, 9.738996 52.38...</td>\n",
       "      <td>143858</td>\n",
       "    </tr>\n",
       "    <tr>\n",
       "      <th>143858</th>\n",
       "      <td>0, 8, 15, 30, 45, 60, 75, 90, 105, 120, 135, 1...</td>\n",
       "      <td>1566152132</td>\n",
       "      <td>1566159550</td>\n",
       "      <td>LINESTRING (9.7822 52.4016, 9.782285 52.401667...</td>\n",
       "      <td>143859</td>\n",
       "    </tr>\n",
       "  </tbody>\n",
       "</table>\n",
       "<p>143859 rows × 5 columns</p>\n",
       "</div>"
      ],
      "text/plain": [
       "                                                timestamp  start_stamp  \\\n",
       "0       0, 80, 424, 535, 613, 1094, 1171, 1453, 1528, ...   1565974403   \n",
       "1       0, 30, 60, 90, 120, 172, 202, 232, 262, 292, 5...   1567075203   \n",
       "2           0, 90, 180, 229, 319, 409, 492, 582, 672, 762   1568621637   \n",
       "3       0, 79, 141, 224, 377, 453, 580, 685, 763, 881,...   1566671810   \n",
       "4       0, 1, 9, 15, 26, 30, 34, 41, 46, 51, 60, 66, 7...   1574157039   \n",
       "...                                                   ...          ...   \n",
       "143854  0, 5, 8, 14, 15, 19, 25, 28, 30, 34, 39, 44, 4...   1569563606   \n",
       "143855  0, 5, 8, 16, 19, 20, 25, 29, 35, 40, 46, 49, 5...   1575029942   \n",
       "143856  0, 599, 703, 718, 733, 748, 763, 778, 1295, 16...   1573224957   \n",
       "143857  0, 5, 10, 15, 20, 25, 30, 35, 45, 50, 55, 60, ...   1574319815   \n",
       "143858  0, 8, 15, 30, 45, 60, 75, 90, 105, 120, 135, 1...   1566152132   \n",
       "\n",
       "         end_stamp                                           POLYLINE      id  \n",
       "0       1565982018  LINESTRING (9.8288 52.3326, 9.819705 52.331356...       1  \n",
       "1       1567075868  LINESTRING (9.660448261338471 52.3136182, 9.66...       2  \n",
       "2       1568622399  LINESTRING (9.7119 52.343, 9.716048 52.344969,...       3  \n",
       "3       1566673656  LINESTRING (9.7585 52.3363, 9.762929 52.34235,...       4  \n",
       "4       1574159903  LINESTRING (9.6138059 52.428522640720765, 9.62...       5  \n",
       "...            ...                                                ...     ...  \n",
       "143854  1569569649  LINESTRING (9.718658264790285 52.4474529, 9.71...  143855  \n",
       "143855  1575031187  LINESTRING (9.7278 52.3654, 9.727219 52.365731...  143856  \n",
       "143856  1573226965  LINESTRING (9.782460425078042 52.4474529, 9.78...  143857  \n",
       "143857  1574320945  LINESTRING (9.738963 52.382663, 9.738996 52.38...  143858  \n",
       "143858  1566159550  LINESTRING (9.7822 52.4016, 9.782285 52.401667...  143859  \n",
       "\n",
       "[143859 rows x 5 columns]"
      ]
     },
     "execution_count": 10,
     "metadata": {},
     "output_type": "execute_result"
    }
   ],
   "source": [
    "df = pd.read_csv(\"../datasets/trajectories/hanover/mapped_id_poly_clipped.csv\", sep=\";\")\n",
    "df"
   ]
  },
  {
   "cell_type": "code",
   "execution_count": 6,
   "metadata": {},
   "outputs": [
    {
     "data": {
      "application/vnd.jupyter.widget-view+json": {
       "model_id": "46e7922305ad41539f1ce1664e47dde1",
       "version_major": 2,
       "version_minor": 0
      },
      "text/plain": [
       "Pandas Apply:   0%|          | 0/153576 [00:00<?, ?it/s]"
      ]
     },
     "metadata": {},
     "output_type": "display_data"
    }
   ],
   "source": [
    "df[\"POLYLINE\"] = df[\"POLYLINE\"].swifter.apply(wkt.loads)\n",
    "gdf = gpd.GeoDataFrame(df, crs=\"epsg:4326\", geometry=\"POLYLINE\")"
   ]
  },
  {
   "cell_type": "code",
   "execution_count": 7,
   "metadata": {},
   "outputs": [],
   "source": [
    "network.fmm_trajectorie_mapping(\n",
    "    \n",
    "    network_file=\"../osm_data/hanover/edges.shp\",\n",
    "    input_file=\"../datasets/trajectories/Hanover/mapped_id_poly_clipped.csv\",\n",
    "    output_file=\"../datasets/trajectories/Hanover/road-segment-mapping.txt\"\n",
    ")"
   ]
  },
  {
   "cell_type": "code",
   "execution_count": 30,
   "metadata": {},
   "outputs": [
    {
     "data": {
      "application/vnd.jupyter.widget-view+json": {
       "model_id": "1a442e7d677d470396dc5455d1e44b75",
       "version_major": 2,
       "version_minor": 0
      },
      "text/plain": [
       "Pandas Apply:   0%|          | 0/82406 [00:00<?, ?it/s]"
      ]
     },
     "metadata": {},
     "output_type": "display_data"
    },
    {
     "data": {
      "application/vnd.jupyter.widget-view+json": {
       "model_id": "014f799bf7c74392846861ddbddad5fe",
       "version_major": 2,
       "version_minor": 0
      },
      "text/plain": [
       "Pandas Apply:   0%|          | 0/82406 [00:00<?, ?it/s]"
      ]
     },
     "metadata": {},
     "output_type": "display_data"
    },
    {
     "name": "stderr",
     "output_type": "stream",
     "text": [
      "/dstore/home/pheinemeyer/Road-Network-Embedding-Generator/generator/preprocess.py:106: SettingWithCopyWarning: \n",
      "A value is trying to be set on a copy of a slice from a DataFrame.\n",
      "Try using .loc[row_indexer,col_indexer] = value instead\n",
      "\n",
      "See the caveats in the documentation: https://pandas.pydata.org/pandas-docs/stable/user_guide/indexing.html#returning-a-view-versus-a-copy\n",
      "  df[(df[\"speed_mean\"] > max_speed)][\"speed\"] = df[(df[\"speed_mean\"] > max_speed)][\n"
     ]
    },
    {
     "data": {
      "application/vnd.jupyter.widget-view+json": {
       "model_id": "d6f1c643e7a54413994c6763f1fdea34",
       "version_major": 2,
       "version_minor": 0
      },
      "text/plain": [
       "Pandas Apply:   0%|          | 0/56921 [00:00<?, ?it/s]"
      ]
     },
     "metadata": {},
     "output_type": "display_data"
    },
    {
     "name": "stderr",
     "output_type": "stream",
     "text": [
      "/dstore/home/pheinemeyer/Road-Network-Embedding-Generator/generator/preprocess.py:109: SettingWithCopyWarning: \n",
      "A value is trying to be set on a copy of a slice from a DataFrame.\n",
      "Try using .loc[row_indexer,col_indexer] = value instead\n",
      "\n",
      "See the caveats in the documentation: https://pandas.pydata.org/pandas-docs/stable/user_guide/indexing.html#returning-a-view-versus-a-copy\n",
      "  df[\"speed_mean\"] = df[\"speed\"].swifter.apply(np.mean)\n"
     ]
    }
   ],
   "source": [
    "# preprocess the mapping especially the speed and distance values need to be verified\n",
    "df = pd.read_csv(\"../datasets/trajectories/hanover/road-segment-mapping.csv\", sep=\";\")\n",
    "df_prep = remove_outlier_trajectories(df.copy(), min_edges_traversed=3, max_speed=0.000251)\n",
    "df_prep.to_csv(\"../datasets/trajectories/hanover/road_segment_map_final.csv\", sep=\";\")"
   ]
  },
  {
   "cell_type": "code",
   "execution_count": 13,
   "metadata": {},
   "outputs": [
    {
     "data": {
      "application/vnd.jupyter.widget-view+json": {
       "model_id": "58792e3240b64b40894b2e2103ce4413",
       "version_major": 2,
       "version_minor": 0
      },
      "text/plain": [
       "Pandas Apply:   0%|          | 0/42357 [00:00<?, ?it/s]"
      ]
     },
     "metadata": {},
     "output_type": "display_data"
    },
    {
     "data": {
      "application/vnd.jupyter.widget-view+json": {
       "model_id": "94e5c006b6234f979f19b9dd69e4645d",
       "version_major": 2,
       "version_minor": 0
      },
      "text/plain": [
       "Pandas Apply:   0%|          | 0/42357 [00:00<?, ?it/s]"
      ]
     },
     "metadata": {},
     "output_type": "display_data"
    },
    {
     "data": {
      "application/vnd.jupyter.widget-view+json": {
       "model_id": "33ba3e8500c043f9b7ce6072459b8a25",
       "version_major": 2,
       "version_minor": 0
      },
      "text/plain": [
       "Pandas Apply:   0%|          | 0/42357 [00:00<?, ?it/s]"
      ]
     },
     "metadata": {},
     "output_type": "display_data"
    }
   ],
   "source": [
    "\"\"\"\n",
    "Test of Travel Time Dataset generation\n",
    "\"\"\"\n",
    "from generator.trajectory import Trajectory\n",
    "\n",
    "traj = Trajectory(\"../datasets/trajectories/hanover/road_segment_map_final.csv\", nrows=1000000)"
   ]
  },
  {
   "cell_type": "code",
   "execution_count": 14,
   "metadata": {},
   "outputs": [
    {
     "name": "stderr",
     "output_type": "stream",
     "text": [
      "42357it [00:21, 1989.20it/s]\n"
     ]
    }
   ],
   "source": [
    "\"\"\"\n",
    "Generate traj features \n",
    "\"\"\"\n",
    "features = traj.generate_speed_features(network)\n",
    "features.to_csv(\"../datasets/trajectories/hanover/speed_features_unnormalized.csv\")"
   ]
  },
  {
   "cell_type": "code",
   "execution_count": 15,
   "metadata": {},
   "outputs": [
    {
     "data": {
      "text/html": [
       "<div>\n",
       "<style scoped>\n",
       "    .dataframe tbody tr th:only-of-type {\n",
       "        vertical-align: middle;\n",
       "    }\n",
       "\n",
       "    .dataframe tbody tr th {\n",
       "        vertical-align: top;\n",
       "    }\n",
       "\n",
       "    .dataframe thead th {\n",
       "        text-align: right;\n",
       "    }\n",
       "</style>\n",
       "<table border=\"1\" class=\"dataframe\">\n",
       "  <thead>\n",
       "    <tr style=\"text-align: right;\">\n",
       "      <th></th>\n",
       "      <th>id</th>\n",
       "      <th>util</th>\n",
       "      <th>avg_speed</th>\n",
       "    </tr>\n",
       "  </thead>\n",
       "  <tbody>\n",
       "    <tr>\n",
       "      <th>count</th>\n",
       "      <td>18576.000000</td>\n",
       "      <td>18576.000000</td>\n",
       "      <td>13751.000000</td>\n",
       "    </tr>\n",
       "    <tr>\n",
       "      <th>mean</th>\n",
       "      <td>9287.500000</td>\n",
       "      <td>42.012220</td>\n",
       "      <td>38.970848</td>\n",
       "    </tr>\n",
       "    <tr>\n",
       "      <th>std</th>\n",
       "      <td>5362.573636</td>\n",
       "      <td>106.154144</td>\n",
       "      <td>20.793826</td>\n",
       "    </tr>\n",
       "    <tr>\n",
       "      <th>min</th>\n",
       "      <td>0.000000</td>\n",
       "      <td>0.000000</td>\n",
       "      <td>0.000000</td>\n",
       "    </tr>\n",
       "    <tr>\n",
       "      <th>25%</th>\n",
       "      <td>4643.750000</td>\n",
       "      <td>1.000000</td>\n",
       "      <td>25.955203</td>\n",
       "    </tr>\n",
       "    <tr>\n",
       "      <th>50%</th>\n",
       "      <td>9287.500000</td>\n",
       "      <td>5.000000</td>\n",
       "      <td>37.289088</td>\n",
       "    </tr>\n",
       "    <tr>\n",
       "      <th>75%</th>\n",
       "      <td>13931.250000</td>\n",
       "      <td>31.000000</td>\n",
       "      <td>48.714460</td>\n",
       "    </tr>\n",
       "    <tr>\n",
       "      <th>max</th>\n",
       "      <td>18575.000000</td>\n",
       "      <td>1712.000000</td>\n",
       "      <td>194.398395</td>\n",
       "    </tr>\n",
       "  </tbody>\n",
       "</table>\n",
       "</div>"
      ],
      "text/plain": [
       "                 id          util     avg_speed\n",
       "count  18576.000000  18576.000000  13751.000000\n",
       "mean    9287.500000     42.012220     38.970848\n",
       "std     5362.573636    106.154144     20.793826\n",
       "min        0.000000      0.000000      0.000000\n",
       "25%     4643.750000      1.000000     25.955203\n",
       "50%     9287.500000      5.000000     37.289088\n",
       "75%    13931.250000     31.000000     48.714460\n",
       "max    18575.000000   1712.000000    194.398395"
      ]
     },
     "execution_count": 15,
     "metadata": {},
     "output_type": "execute_result"
    }
   ],
   "source": [
    "features.describe()"
   ]
  },
  {
   "cell_type": "code",
   "execution_count": 16,
   "metadata": {},
   "outputs": [
    {
     "name": "stdout",
     "output_type": "stream",
     "text": [
      "(42357, 10)\n"
     ]
    }
   ],
   "source": [
    "print(traj.df.shape)"
   ]
  }
 ],
 "metadata": {
  "kernelspec": {
   "display_name": "Python 3.9.13 ('road')",
   "language": "python",
   "name": "python3"
  },
  "language_info": {
   "codemirror_mode": {
    "name": "ipython",
    "version": 3
   },
   "file_extension": ".py",
   "mimetype": "text/x-python",
   "name": "python",
   "nbconvert_exporter": "python",
   "pygments_lexer": "ipython3",
   "version": "3.9.13"
  },
  "orig_nbformat": 4,
  "vscode": {
   "interpreter": {
    "hash": "088070de2c6b4023b2f7ae556c412f86bcd02589c7bdb3766a0caf3cf4813fbd"
   }
  }
 },
 "nbformat": 4,
 "nbformat_minor": 2
}
