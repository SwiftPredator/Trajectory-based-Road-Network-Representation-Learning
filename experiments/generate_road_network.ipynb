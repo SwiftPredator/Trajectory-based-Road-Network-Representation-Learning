{
 "cells": [
  {
   "cell_type": "code",
   "execution_count": null,
   "metadata": {},
   "outputs": [],
   "source": [
    "%load_ext autoreload\n",
    "%autoreload 2\n",
    "import os\n",
    "import sys\n",
    "from IPython.display import IFrame\n",
    "\n",
    "module_path = os.path.abspath(os.path.join('..'))\n",
    "if module_path not in sys.path:\n",
    "    sys.path.append(module_path)\n",
    "\n",
    "from generator import RoadNetwork\n",
    "import osmnx as ox\n",
    "import pandas as pd\n",
    "import geopandas as gpd\n",
    "import numpy as np\n",
    "# import fmm\n",
    "from shapely.geometry import LineString\n",
    "import swifter"
   ]
  },
  {
   "cell_type": "code",
   "execution_count": null,
   "metadata": {},
   "outputs": [],
   "source": [
    "network = RoadNetwork(\"Porto, Portugal\", network_type=\"drive\", retain_all=True, truncate_by_edge=True)"
   ]
  },
  {
   "cell_type": "code",
   "execution_count": null,
   "metadata": {},
   "outputs": [],
   "source": [
    "import folium\n",
    "gdf_nodes, gdf_edges = ox.graph_to_gdfs(network.G)\n",
    "bounds = gdf_nodes.geometry.total_bounds\n",
    "print(bounds)\n",
    "m = folium.Map(\n",
    "    location=[41.1372482, -8.689151],\n",
    "    zoom_start=11,\n",
    ")\n",
    "\n",
    "folium.Rectangle(bounds=[(bounds[1], bounds[0]),(bounds[3], bounds[2])], color='#ff7800', fill=True, fill_color='#ffff00', fill_opacity=0.2).add_to(m)\n",
    "m"
   ]
  },
  {
   "cell_type": "code",
   "execution_count": null,
   "metadata": {},
   "outputs": [],
   "source": [
    "from shapely.geometry import box\n",
    "\n",
    "bbox = box(*bounds)\n",
    "poly_gdf = gpd.GeoDataFrame([1], geometry=[bbox], crs=\"EPSG:4326\")\n",
    "poly_gdf"
   ]
  },
  {
   "cell_type": "code",
   "execution_count": null,
   "metadata": {},
   "outputs": [],
   "source": [
    "from shapely import wkt\n",
    "df = pd.read_csv(\"../datasets/trajectories/Porto/mapped.csv\")\n",
    "df['POLYLINE'] = df['POLYLINE'].swifter.apply(wkt.loads)\n",
    "gdf = gpd.GeoDataFrame(df, crs='epsg:4326', geometry=\"POLYLINE\")"
   ]
  },
  {
   "cell_type": "code",
   "execution_count": null,
   "metadata": {},
   "outputs": [],
   "source": [
    "gdf_clipped = gdf.clip(poly_gdf, keep_geom_type=True)"
   ]
  },
  {
   "cell_type": "code",
   "execution_count": null,
   "metadata": {},
   "outputs": [],
   "source": [
    "network.save(path=\"../osm_data/porto\")\n"
   ]
  },
  {
   "cell_type": "code",
   "execution_count": null,
   "metadata": {},
   "outputs": [],
   "source": [
    "G = network.G\n",
    "gdf_nodes, gdf_edges = ox.graph_to_gdfs(\n",
    "        G,\n",
    "        nodes=True, edges=True,\n",
    "        node_geometry=True,\n",
    "        fill_edge_geometry=True)\n",
    "\n",
    "gdf_edges.describe(include='all')"
   ]
  },
  {
   "cell_type": "code",
   "execution_count": null,
   "metadata": {},
   "outputs": [],
   "source": [
    "m1 = ox.plot_graph_folium(G, popup_attribute=\"name\", weight=2, color=\"#FFFFFF\", tiles=\"cartodbdark_matter\")\n",
    "filepath = \"graph.html\"\n",
    "m1.save(filepath)\n",
    "#IFrame(filepath, width=600, height=500)"
   ]
  },
  {
   "cell_type": "code",
   "execution_count": null,
   "metadata": {},
   "outputs": [],
   "source": [
    "# load porto trajectory dataset\n",
    "td = pd.read_csv(\"../datasets/trajectories/Porto/train.csv\")"
   ]
  },
  {
   "cell_type": "code",
   "execution_count": null,
   "metadata": {},
   "outputs": [],
   "source": [
    "td = td[td[\"MISSING_DATA\"]==False]\n",
    "sample = np.matrix(td.loc[0, \"POLYLINE\"]).reshape(-1, 2)\n",
    "gtd = gpd.GeoDataFrame(data=sample, index=np.arange(1, len(sample)+1), columns=[\"LONG\", \"LAT\"], crs=\"EPSG:4326\", geometry=gpd.points_from_xy(sample[:, 0], sample[:, 1]))\n",
    "print(gtd.to_wkt())\n",
    "#network.map_trajectorie(coordinates=gtd)"
   ]
  },
  {
   "cell_type": "code",
   "execution_count": null,
   "metadata": {},
   "outputs": [],
   "source": [
    "df = td = pd.read_csv(\"../datasets/trajectories/Porto/road-segment-mapping.csv\", sep=\";\")"
   ]
  },
  {
   "cell_type": "code",
   "execution_count": null,
   "metadata": {},
   "outputs": [],
   "source": [
    "#df.dropna(inplace=True)\n",
    "df.head()"
   ]
  },
  {
   "cell_type": "code",
   "execution_count": null,
   "metadata": {},
   "outputs": [],
   "source": [
    "\n",
    "x = 5e-5\n",
    "\n",
    "x"
   ]
  }
 ],
 "metadata": {
  "interpreter": {
   "hash": "cca546fdd2f6c7730d3bb3f060630f4f24d9be8a642e1cb2079226fa21b70079"
  },
  "kernelspec": {
   "display_name": "Python 3.9.12 ('road-emb')",
   "language": "python",
   "name": "python3"
  },
  "language_info": {
   "codemirror_mode": {
    "name": "ipython",
    "version": 3
   },
   "file_extension": ".py",
   "mimetype": "text/x-python",
   "name": "python",
   "nbconvert_exporter": "python",
   "pygments_lexer": "ipython3",
   "version": "3.9.12"
  },
  "orig_nbformat": 4
 },
 "nbformat": 4,
 "nbformat_minor": 2
}
