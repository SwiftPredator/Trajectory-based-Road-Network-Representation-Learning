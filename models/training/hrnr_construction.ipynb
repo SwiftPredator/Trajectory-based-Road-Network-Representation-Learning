{
 "cells": [
  {
   "cell_type": "code",
   "execution_count": 1,
   "metadata": {},
   "outputs": [],
   "source": [
    "%load_ext autoreload\n",
    "%autoreload 2\n",
    "\n",
    "import os\n",
    "import sys\n",
    "os.environ['LD_LIBRARY_PATH'] = \"$LD_LIBRARY_PATH:/usr/local/cuda-11.3/lib64/\"\n",
    "module_path = os.path.abspath(os.path.join('../..'))\n",
    "if module_path not in sys.path:\n",
    "    sys.path.append(module_path)\n",
    "\n",
    "from generator import RoadNetwork, Trajectory\n",
    "#import torch\n",
    "#import torch.nn as nn\n",
    "#from torch.utils.data import DataLoader\n",
    "#import pandas as pd\n",
    "import networkx as nx\n",
    "import osmnx as ox\n",
    "from models.hrnr_original.utils import *\n",
    "from models.hrnr_original.conf import beijing_hparams\n",
    "# from models.hrnr_original.train import train_struct_cmt, train_fnc_cmt_rst\n",
    "from models.hrnr_original.model import *\n",
    "import torch\n",
    "import torch.nn.functional as F\n",
    "from torch import optim\n",
    "from models.training.hrnr_data_generation import *\n",
    "from models import HRNRModel"
   ]
  },
  {
   "cell_type": "code",
   "execution_count": 2,
   "metadata": {},
   "outputs": [],
   "source": [
    "torch.cuda.set_device(1)"
   ]
  },
  {
   "cell_type": "code",
   "execution_count": null,
   "metadata": {},
   "outputs": [],
   "source": [
    "# try on original\n",
    "hparams = dict_to_object(beijing_hparams)\n",
    "hparams.device = torch.device(\"cuda\" if torch.cuda.is_available() else \"cpu\")\n",
    "adj, features, sp_label = load_gae_data(hparams) "
   ]
  },
  {
   "cell_type": "code",
   "execution_count": null,
   "metadata": {},
   "outputs": [],
   "source": [
    "print(len(np.unique(features[:, 2])))"
   ]
  },
  {
   "cell_type": "code",
   "execution_count": null,
   "metadata": {},
   "outputs": [],
   "source": [
    "train_struct_cmt()"
   ]
  },
  {
   "cell_type": "code",
   "execution_count": null,
   "metadata": {},
   "outputs": [],
   "source": [
    "train_fnc_cmt_rst()"
   ]
  },
  {
   "cell_type": "code",
   "execution_count": 20,
   "metadata": {},
   "outputs": [],
   "source": [
    "# load road network\n",
    "network = RoadNetwork()\n",
    "network.load(\"../../osm_data/porto\")\n",
    "data = network.generate_road_segment_pyg_dataset()\n"
   ]
  },
  {
   "cell_type": "code",
   "execution_count": null,
   "metadata": {},
   "outputs": [],
   "source": [
    "trajectory = Trajectory(\n",
    "    \"../../datasets/trajectories/Porto/road_segment_map_final.csv\", nrows=10000000\n",
    ")"
   ]
  },
  {
   "cell_type": "code",
   "execution_count": null,
   "metadata": {},
   "outputs": [],
   "source": [
    "adjp, featuresp, sp_labelp, t_adjp = get_data(network, trajectory)"
   ]
  },
  {
   "cell_type": "code",
   "execution_count": null,
   "metadata": {},
   "outputs": [],
   "source": [
    "# train structural region and functional region matrices\n",
    "train_struct_cmt_custom(adjp, featuresp, sp_labelp)\n",
    "train_fnc_cmt_rst_custom(adjp, featuresp, sp_labelp, t_adjp)"
   ]
  },
  {
   "cell_type": "code",
   "execution_count": 26,
   "metadata": {},
   "outputs": [],
   "source": [
    "# Build model\n",
    "device = torch.device(\"cuda:1\" if torch.cuda.is_available() else \"cpu\")\n",
    "model = HRNRModel(data, device=device, network=network, data_path=\"hrnr_data\")"
   ]
  },
  {
   "cell_type": "code",
   "execution_count": 27,
   "metadata": {},
   "outputs": [
    {
     "name": "stderr",
     "output_type": "stream",
     "text": [
      "/home/pheinemeyer/miniconda3/envs/road/lib/python3.9/site-packages/torch/nn/functional.py:1944: UserWarning: nn.functional.sigmoid is deprecated. Use torch.sigmoid instead.\n",
      "  warnings.warn(\"nn.functional.sigmoid is deprecated. Use torch.sigmoid instead.\")\n"
     ]
    },
    {
     "name": "stdout",
     "output_type": "stream",
     "text": [
      "Epoch: 50, avg_loss: 5.587236075401306\n",
      "Epoch: 100, avg_loss: 4.113418843746185\n",
      "Epoch: 150, avg_loss: 3.5936533387502037\n",
      "Epoch: 200, avg_loss: 3.276423048377037\n",
      "Epoch: 250, avg_loss: 3.005496003627777\n",
      "Epoch: 300, avg_loss: 2.8228054213523865\n",
      "Epoch: 350, avg_loss: 2.6892074278422764\n",
      "Epoch: 400, avg_loss: 2.5974207600951194\n",
      "Epoch: 450, avg_loss: 2.5260202746921117\n",
      "Epoch: 500, avg_loss: 2.4614560291767122\n",
      "Epoch: 550, avg_loss: 2.4080251513827933\n",
      "Epoch: 600, avg_loss: 2.3620931841929753\n",
      "Epoch: 650, avg_loss: 2.337940115745251\n",
      "Epoch: 700, avg_loss: 2.3058624608176097\n",
      "Epoch: 750, avg_loss: 2.2762662822405497\n",
      "Epoch: 800, avg_loss: 2.250242542475462\n",
      "Epoch: 850, avg_loss: 2.2266648065342625\n",
      "Epoch: 900, avg_loss: 2.2051778309875063\n",
      "Epoch: 950, avg_loss: 2.186329327257056\n"
     ]
    }
   ],
   "source": [
    "model.train()"
   ]
  },
  {
   "cell_type": "code",
   "execution_count": 28,
   "metadata": {},
   "outputs": [],
   "source": [
    "model.save_model(\"../model_states/hrnr\")"
   ]
  },
  {
   "cell_type": "code",
   "execution_count": 29,
   "metadata": {},
   "outputs": [
    {
     "name": "stderr",
     "output_type": "stream",
     "text": [
      "/home/pheinemeyer/miniconda3/envs/road/lib/python3.9/site-packages/torch/nn/functional.py:1944: UserWarning: nn.functional.sigmoid is deprecated. Use torch.sigmoid instead.\n",
      "  warnings.warn(\"nn.functional.sigmoid is deprecated. Use torch.sigmoid instead.\")\n"
     ]
    }
   ],
   "source": [
    "z = model.load_emb()"
   ]
  },
  {
   "cell_type": "code",
   "execution_count": 30,
   "metadata": {},
   "outputs": [
    {
     "name": "stdout",
     "output_type": "stream",
     "text": [
      "(11331, 128)\n"
     ]
    }
   ],
   "source": [
    "print(z.shape)"
   ]
  }
 ],
 "metadata": {
  "kernelspec": {
   "display_name": "Python 3.9.13 ('road')",
   "language": "python",
   "name": "python3"
  },
  "language_info": {
   "codemirror_mode": {
    "name": "ipython",
    "version": 3
   },
   "file_extension": ".py",
   "mimetype": "text/x-python",
   "name": "python",
   "nbconvert_exporter": "python",
   "pygments_lexer": "ipython3",
   "version": "3.9.13"
  },
  "orig_nbformat": 4,
  "vscode": {
   "interpreter": {
    "hash": "088070de2c6b4023b2f7ae556c412f86bcd02589c7bdb3766a0caf3cf4813fbd"
   }
  }
 },
 "nbformat": 4,
 "nbformat_minor": 2
}
