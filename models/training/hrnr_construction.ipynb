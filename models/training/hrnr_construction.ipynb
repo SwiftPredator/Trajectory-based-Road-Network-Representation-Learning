{
 "cells": [
  {
   "cell_type": "code",
   "execution_count": 1,
   "metadata": {},
   "outputs": [],
   "source": [
    "%load_ext autoreload\n",
    "%autoreload 2\n",
    "\n",
    "import os\n",
    "import sys\n",
    "os.environ['LD_LIBRARY_PATH'] = \"$LD_LIBRARY_PATH:/usr/local/cuda-11.3/lib64/\"\n",
    "module_path = os.path.abspath(os.path.join('../..'))\n",
    "if module_path not in sys.path:\n",
    "    sys.path.append(module_path)\n",
    "\n",
    "from generator import RoadNetwork, Trajectory\n",
    "#import torch\n",
    "#import torch.nn as nn\n",
    "#from torch.utils.data import DataLoader\n",
    "#import pandas as pd\n",
    "import networkx as nx\n",
    "import osmnx as ox\n",
    "from models.hrnr_original.utils import *\n",
    "from models.hrnr_original.conf import beijing_hparams\n",
    "# from models.hrnr_original.train import train_struct_cmt, train_fnc_cmt_rst\n",
    "from models.hrnr_original.model import *\n",
    "import torch\n",
    "import torch.nn.functional as F\n",
    "from torch import optim\n",
    "from models.training.hrnr_data_generation import *\n",
    "from models import HRNRModel"
   ]
  },
  {
   "cell_type": "code",
   "execution_count": 2,
   "metadata": {},
   "outputs": [],
   "source": [
    "torch.cuda.set_device(1)"
   ]
  },
  {
   "cell_type": "code",
   "execution_count": null,
   "metadata": {},
   "outputs": [],
   "source": [
    "# try on original\n",
    "hparams = dict_to_object(beijing_hparams)\n",
    "hparams.device = torch.device(\"cuda\" if torch.cuda.is_available() else \"cpu\")\n",
    "adj, features, sp_label = load_gae_data(hparams) "
   ]
  },
  {
   "cell_type": "code",
   "execution_count": null,
   "metadata": {},
   "outputs": [],
   "source": [
    "print(len(np.unique(features[:, 2])))"
   ]
  },
  {
   "cell_type": "code",
   "execution_count": null,
   "metadata": {},
   "outputs": [],
   "source": [
    "train_struct_cmt()"
   ]
  },
  {
   "cell_type": "code",
   "execution_count": null,
   "metadata": {},
   "outputs": [],
   "source": [
    "train_fnc_cmt_rst()"
   ]
  },
  {
   "cell_type": "code",
   "execution_count": 20,
   "metadata": {},
   "outputs": [],
   "source": [
    "# load road network\n",
    "network = RoadNetwork()\n",
    "network.load(\"../../osm_data/porto\")\n",
    "data = network.generate_road_segment_pyg_dataset()\n"
   ]
  },
  {
   "cell_type": "code",
   "execution_count": null,
   "metadata": {},
   "outputs": [],
   "source": [
    "trajectory = Trajectory(\n",
    "    \"../../datasets/trajectories/Porto/road_segment_map_final.csv\", nrows=10000000\n",
    ")"
   ]
  },
  {
   "cell_type": "code",
   "execution_count": null,
   "metadata": {},
   "outputs": [],
   "source": [
    "adjp, featuresp, sp_labelp, t_adjp = get_data(network, trajectory)"
   ]
  },
  {
   "cell_type": "code",
   "execution_count": null,
   "metadata": {},
   "outputs": [],
   "source": [
    "# train structural region and functional region matrices\n",
    "train_struct_cmt_custom(adjp, featuresp, sp_labelp)\n",
    "train_fnc_cmt_rst_custom(adjp, featuresp, sp_labelp, t_adjp)"
   ]
  },
  {
   "cell_type": "code",
   "execution_count": 22,
   "metadata": {},
   "outputs": [],
   "source": [
    "# Build model\n",
    "device = torch.device(\"cuda:1\" if torch.cuda.is_available() else \"cpu\")\n",
    "model = HRNRModel(data, device=device, network=network, data_path=\"hrnr_data\")"
   ]
  },
  {
   "cell_type": "code",
   "execution_count": 24,
   "metadata": {},
   "outputs": [
    {
     "name": "stdout",
     "output_type": "stream",
     "text": [
      "Epoch: 50, avg_loss: 10.62707805633545\n",
      "Epoch: 100, avg_loss: 9.070786776542663\n",
      "Epoch: 150, avg_loss: 8.482849162419637\n",
      "Epoch: 200, avg_loss: 8.188240172863006\n",
      "Epoch: 250, avg_loss: 8.019556133270264\n",
      "Epoch: 300, avg_loss: 7.897234807014465\n",
      "Epoch: 350, avg_loss: 7.773711346217564\n",
      "Epoch: 400, avg_loss: 7.6341262578964235\n",
      "Epoch: 450, avg_loss: 7.497073660956489\n",
      "Epoch: 500, avg_loss: 7.3783053178787235\n",
      "Epoch: 550, avg_loss: 7.27694990678267\n",
      "Epoch: 600, avg_loss: 7.190355363686879\n",
      "Epoch: 650, avg_loss: 7.116316309708815\n",
      "Epoch: 700, avg_loss: 7.051003857340132\n",
      "Epoch: 750, avg_loss: 6.993310122807821\n",
      "Epoch: 800, avg_loss: 6.942462683320046\n",
      "Epoch: 850, avg_loss: 6.896953110414393\n",
      "Epoch: 900, avg_loss: 6.856034824583266\n",
      "Epoch: 950, avg_loss: 6.818019250066657\n"
     ]
    }
   ],
   "source": [
    "model.train()"
   ]
  },
  {
   "cell_type": "code",
   "execution_count": 25,
   "metadata": {},
   "outputs": [],
   "source": [
    "model.save_model(\"../model_states/hrnr\")"
   ]
  }
 ],
 "metadata": {
  "kernelspec": {
   "display_name": "Python 3.9.13 ('road')",
   "language": "python",
   "name": "python3"
  },
  "language_info": {
   "codemirror_mode": {
    "name": "ipython",
    "version": 3
   },
   "file_extension": ".py",
   "mimetype": "text/x-python",
   "name": "python",
   "nbconvert_exporter": "python",
   "pygments_lexer": "ipython3",
   "version": "3.9.13"
  },
  "orig_nbformat": 4,
  "vscode": {
   "interpreter": {
    "hash": "088070de2c6b4023b2f7ae556c412f86bcd02589c7bdb3766a0caf3cf4813fbd"
   }
  }
 },
 "nbformat": 4,
 "nbformat_minor": 2
}
