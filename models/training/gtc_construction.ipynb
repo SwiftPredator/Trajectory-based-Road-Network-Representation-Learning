{
 "cells": [
  {
   "cell_type": "code",
   "execution_count": 1,
   "metadata": {},
   "outputs": [],
   "source": [
    "%load_ext autoreload\n",
    "%autoreload 2\n",
    "\n",
    "import os\n",
    "import sys\n",
    "\n",
    "module_path = os.path.abspath(os.path.join('../..'))\n",
    "if module_path not in sys.path:\n",
    "    sys.path.append(module_path)\n",
    "\n",
    "from generator import RoadNetwork, Trajectory\n",
    "import torch\n",
    "import torch.nn as nn\n",
    "from torch.utils.data import DataLoader\n",
    "import pandas as pd\n",
    "import networkx as nx\n",
    "import numpy as np\n",
    "from tqdm import tqdm\n",
    "import matplotlib.pyplot as plt\n",
    "import torch_geometric.transforms as T\n",
    "\n",
    "from models import GTNModel, GTCModel, GAEModel, Node2VecModel, GCNEncoder, Traj2VecModel\n",
    "from evaluation.tasks import TravelTimeEstimation, NextLocationPrediciton, DestinationPrediciton"
   ]
  },
  {
   "cell_type": "code",
   "execution_count": 4,
   "metadata": {},
   "outputs": [],
   "source": [
    "city = \"sf\"\n",
    "city_traj = \"sf\""
   ]
  },
  {
   "cell_type": "code",
   "execution_count": 30,
   "metadata": {},
   "outputs": [],
   "source": [
    "test = pd.read_pickle(\n",
    "        f\"../../datasets/trajectories/Porto/traj_train_test_split/test_69.pkl\"\n",
    "    )\n",
    "test[\"seg_seq\"] = test[\"seg_seq\"].map(np.array)"
   ]
  },
  {
   "cell_type": "code",
   "execution_count": 5,
   "metadata": {},
   "outputs": [
    {
     "data": {
      "application/vnd.jupyter.widget-view+json": {
       "model_id": "15a559b498c940e5966661e1d206de47",
       "version_major": 2,
       "version_minor": 0
      },
      "text/plain": [
       "Pandas Apply:   0%|          | 0/249765 [00:00<?, ?it/s]"
      ]
     },
     "metadata": {},
     "output_type": "display_data"
    },
    {
     "data": {
      "application/vnd.jupyter.widget-view+json": {
       "model_id": "2e15016e3d094b86ba9c5271b9c875b2",
       "version_major": 2,
       "version_minor": 0
      },
      "text/plain": [
       "Pandas Apply:   0%|          | 0/249765 [00:00<?, ?it/s]"
      ]
     },
     "metadata": {},
     "output_type": "display_data"
    },
    {
     "data": {
      "application/vnd.jupyter.widget-view+json": {
       "model_id": "b128374594914f2a8e7c5a91109e6029",
       "version_major": 2,
       "version_minor": 0
      },
      "text/plain": [
       "Pandas Apply:   0%|          | 0/249765 [00:00<?, ?it/s]"
      ]
     },
     "metadata": {},
     "output_type": "display_data"
    },
    {
     "data": {
      "application/vnd.jupyter.widget-view+json": {
       "model_id": "8a575c40f4d545db9a0fb0b392c10120",
       "version_major": 2,
       "version_minor": 0
      },
      "text/plain": [
       "Pandas Apply:   0%|          | 0/249765 [00:00<?, ?it/s]"
      ]
     },
     "metadata": {},
     "output_type": "display_data"
    },
    {
     "data": {
      "application/vnd.jupyter.widget-view+json": {
       "model_id": "d47127de9bd04baab5cf84f5b3a67d66",
       "version_major": 2,
       "version_minor": 0
      },
      "text/plain": [
       "Pandas Apply:   0%|          | 0/249765 [00:00<?, ?it/s]"
      ]
     },
     "metadata": {},
     "output_type": "display_data"
    }
   ],
   "source": [
    "network = RoadNetwork()\n",
    "network.load(f\"../../osm_data/{city}\")\n",
    "trajectory = Trajectory(f\"../../datasets/trajectories/{city_traj}/road_segment_map_final.csv\", nrows=100000000).generate_TTE_datatset()\n",
    "\n",
    "traj_features = pd.read_csv(f\"../../datasets/trajectories/{city_traj}/speed_features_unnormalized.csv\")\n",
    "traj_features.set_index([\"u\", \"v\", \"key\"], inplace=True)\n",
    "traj_features[\"util\"] = (traj_features[\"util\"] - traj_features[\"util\"].min()) / (traj_features[\"util\"].max() - traj_features[\"util\"].min())  # min max normalization\n",
    "traj_features[\"avg_speed\"] = (traj_features[\"avg_speed\"] - traj_features[\"avg_speed\"].min()) / (traj_features[\"avg_speed\"].max() - traj_features[\"avg_speed\"].min())  # min max normalization\n",
    "traj_features.fillna(0, inplace=True)\n",
    "\n",
    "# data = network.generate_road_segment_pyg_dataset(drop_labels=[\"highway_enc\"])"
   ]
  },
  {
   "cell_type": "code",
   "execution_count": 4,
   "metadata": {},
   "outputs": [],
   "source": [
    "data_roadclf_normal = network.generate_road_segment_pyg_dataset(include_coords=True, drop_labels=[\"highway_enc\"], dataset=city)\n",
    "# data_meanspeed = network.generate_road_segment_pyg_dataset(include_coords=True, drop_labels=[\"avg_speed\"], traj_data=traj_features.copy())\n",
    "data_rest_normal = network.generate_road_segment_pyg_dataset(include_coords=True, dataset=city)\n",
    "data_roadclf_traj_all = network.generate_road_segment_pyg_dataset(include_coords=True, drop_labels=[\"highway_enc\"], traj_data=traj_features.copy(), dataset=city)\n",
    "data_rest_traj_all = network.generate_road_segment_pyg_dataset(include_coords=True, traj_data=traj_features.copy(), dataset=city)\n",
    "data_roadclf_traj_speed = network.generate_road_segment_pyg_dataset(include_coords=True, drop_labels=[\"highway_enc\"], traj_data=traj_features[[\"id\", \"avg_speed\"]].copy(), dataset=city)\n",
    "data_rest_traj_speed = network.generate_road_segment_pyg_dataset(include_coords=True, traj_data=traj_features[[\"id\", \"avg_speed\"]].copy(), dataset=city)\n",
    "data_roadclf_traj_util = network.generate_road_segment_pyg_dataset(include_coords=True, drop_labels=[\"highway_enc\"], traj_data=traj_features[[\"id\", \"util\"]].copy(), dataset=city)\n",
    "data_rest_traj_util = network.generate_road_segment_pyg_dataset(include_coords=True, traj_data=traj_features[[\"id\", \"util\"]].copy(), dataset=city)"
   ]
  },
  {
   "cell_type": "code",
   "execution_count": 18,
   "metadata": {},
   "outputs": [],
   "source": [
    "adj_bi = np.loadtxt(\"./gtn_precalc_adj/traj_adj_k_2.gz\") # for traj2vec 'traj_adj_k_1_False_no_selfloops_smoothed'\n",
    "# adj_bi_3 = np.loadtxt(\"./gtn_precalc_adj/traj_adj_k_3.gz\")\n",
    "# adj_for = np.loadtxt(\"./gtn_precalc_adj/traj_adj_k_1_False.gz\")\n",
    "adj_t2v = np.loadtxt(\"./gtn_precalc_adj/traj_adj_k_1_False_no_selfloops_smoothed.gz\")"
   ]
  },
  {
   "cell_type": "code",
   "execution_count": null,
   "metadata": {},
   "outputs": [],
   "source": [
    "walks = Traj2Vec.traj_walk(adj, 5, 10000*[0], 10)\n",
    "print(walks)"
   ]
  },
  {
   "cell_type": "code",
   "execution_count": null,
   "metadata": {},
   "outputs": [],
   "source": [
    "from _walker import random_walks as _random_walks\n",
    "from scipy import sparse\n",
    "\n",
    "A = sparse.csr_matrix(adj)\n",
    "indptr = A.indptr.astype(np.uint32)\n",
    "indices = A.indices.astype(np.uint32)\n",
    "weights = A.data.astype(np.float32)\n",
    "\n",
    "_random_walks(indptr, indices, weights, [100,100,100], 5, 6)"
   ]
  },
  {
   "cell_type": "code",
   "execution_count": 20,
   "metadata": {},
   "outputs": [
    {
     "name": "stdout",
     "output_type": "stream",
     "text": [
      "Epoch: 1, avg_loss: 6.776964562662532\n",
      "Epoch: 2, avg_loss: 4.008293081535382\n",
      "Epoch: 3, avg_loss: 2.9950759252358914\n",
      "Epoch: 4, avg_loss: 2.4623804777190927\n",
      "Epoch: 5, avg_loss: 2.132790532808625\n",
      "Epoch: 6, avg_loss: 1.908378163303775\n",
      "Epoch: 7, avg_loss: 1.745553978947537\n",
      "Epoch: 8, avg_loss: 1.621949648421802\n",
      "Epoch: 9, avg_loss: 1.5248633210876312\n",
      "Epoch: 10, avg_loss: 1.4465672851948255\n",
      "Epoch: 11, avg_loss: 1.3820638252351818\n",
      "Epoch: 12, avg_loss: 1.327999779124385\n",
      "Epoch: 13, avg_loss: 1.2820220363480115\n",
      "Epoch: 14, avg_loss: 1.2424397820645694\n",
      "Epoch: 15, avg_loss: 1.2080002906617153\n",
      "Epoch: 16, avg_loss: 1.17776218709651\n",
      "Epoch: 17, avg_loss: 1.1510022712005974\n",
      "Epoch: 18, avg_loss: 1.127149498752887\n",
      "Epoch: 19, avg_loss: 1.1057565973610093\n",
      "Epoch: 20, avg_loss: 1.086463117666459\n",
      "Epoch: 21, avg_loss: 1.0689751313866749\n",
      "Epoch: 22, avg_loss: 1.0530486172017577\n",
      "Epoch: 23, avg_loss: 1.0384866305834852\n",
      "Epoch: 24, avg_loss: 1.025122787845269\n",
      "Epoch: 25, avg_loss: 1.0128146629387076\n",
      "Epoch: 26, avg_loss: 1.0014401123301164\n",
      "Epoch: 27, avg_loss: 0.990900398094457\n",
      "Epoch: 28, avg_loss: 0.9811068723280207\n",
      "Epoch: 29, avg_loss: 0.971981975331135\n",
      "Epoch: 30, avg_loss: 0.9634611029973194\n",
      "Epoch: 31, avg_loss: 0.9554863539931135\n",
      "Epoch: 32, avg_loss: 0.9480081147441035\n",
      "Epoch: 33, avg_loss: 0.940981555845529\n",
      "Epoch: 34, avg_loss: 0.9343664163953803\n",
      "Epoch: 35, avg_loss: 0.9281286527792868\n",
      "Epoch: 36, avg_loss: 0.9222365274895146\n",
      "Epoch: 37, avg_loss: 0.9166613945184853\n",
      "Epoch: 38, avg_loss: 0.9113790212405073\n",
      "Epoch: 39, avg_loss: 0.9063677953835765\n",
      "Epoch: 40, avg_loss: 0.9016068286607775\n",
      "Epoch: 41, avg_loss: 0.8970774824274962\n",
      "Epoch: 42, avg_loss: 0.89276478496575\n",
      "Epoch: 43, avg_loss: 0.8886523633330928\n",
      "Epoch: 44, avg_loss: 0.8847267318125035\n",
      "Epoch: 45, avg_loss: 0.8809758313883855\n",
      "Epoch: 46, avg_loss: 0.8773883663128805\n",
      "Epoch: 47, avg_loss: 0.8739553403261602\n",
      "Epoch: 48, avg_loss: 0.8706647360257889\n",
      "Epoch: 49, avg_loss: 0.8675091112870958\n",
      "Epoch: 50, avg_loss: 0.8644801897011446\n",
      "Epoch: 51, avg_loss: 0.8615698753986414\n",
      "Epoch: 52, avg_loss: 0.8587713858230216\n",
      "Epoch: 53, avg_loss: 0.8560794756426154\n",
      "Epoch: 54, avg_loss: 0.8534867619406519\n",
      "Epoch: 55, avg_loss: 0.8509890462575336\n",
      "Epoch: 56, avg_loss: 0.848581273377803\n",
      "Epoch: 57, avg_loss: 0.8462577932406855\n",
      "Epoch: 58, avg_loss: 0.8440145759654573\n",
      "Epoch: 59, avg_loss: 0.8418479216732178\n",
      "Epoch: 60, avg_loss: 0.8397533766674192\n",
      "Epoch: 61, avg_loss: 0.8377273444269525\n",
      "Epoch: 62, avg_loss: 0.8357672482437309\n",
      "Epoch: 63, avg_loss: 0.8338693109918497\n",
      "Epoch: 64, avg_loss: 0.8320309319167158\n",
      "Epoch: 65, avg_loss: 0.8302492374887526\n",
      "Epoch: 66, avg_loss: 0.8285221817402522\n",
      "Epoch: 67, avg_loss: 0.8268477045088313\n",
      "Epoch: 68, avg_loss: 0.8252215298177074\n",
      "Epoch: 69, avg_loss: 0.8236431950584062\n",
      "Epoch: 70, avg_loss: 0.8221104564100361\n",
      "Epoch: 71, avg_loss: 0.8206203306451367\n",
      "Epoch: 72, avg_loss: 0.8191718792405617\n",
      "Epoch: 73, avg_loss: 0.8177628330089358\n",
      "Epoch: 74, avg_loss: 0.8163925733133323\n",
      "Epoch: 75, avg_loss: 0.8150582596871737\n",
      "Epoch: 76, avg_loss: 0.8137593999249495\n",
      "Epoch: 77, avg_loss: 0.812494330913781\n",
      "Epoch: 78, avg_loss: 0.8112622966978608\n",
      "Epoch: 79, avg_loss: 0.8100611640742047\n",
      "Epoch: 80, avg_loss: 0.8088899072971237\n",
      "Epoch: 81, avg_loss: 0.807747359099873\n",
      "Epoch: 82, avg_loss: 0.8066331675180707\n",
      "Epoch: 83, avg_loss: 0.8055461060376296\n",
      "Epoch: 84, avg_loss: 0.8044849798330463\n",
      "Epoch: 85, avg_loss: 0.8034489035921546\n",
      "Epoch: 86, avg_loss: 0.8024368136147778\n",
      "Epoch: 87, avg_loss: 0.8014486694496055\n",
      "Epoch: 88, avg_loss: 0.8004823306896959\n",
      "Epoch: 89, avg_loss: 0.7995374968611462\n",
      "Epoch: 90, avg_loss: 0.7986138400364756\n",
      "Epoch: 91, avg_loss: 0.7977107320395292\n",
      "Epoch: 92, avg_loss: 0.7968277667986223\n",
      "Epoch: 93, avg_loss: 0.795962769577321\n",
      "Epoch: 94, avg_loss: 0.7951163925282158\n",
      "Epoch: 95, avg_loss: 0.7942877560801086\n",
      "Epoch: 96, avg_loss: 0.7934769075084827\n",
      "Epoch: 97, avg_loss: 0.7926817114985888\n",
      "Epoch: 98, avg_loss: 0.7919034972851824\n",
      "Epoch: 99, avg_loss: 0.7911409038634728\n",
      "Epoch: 100, avg_loss: 0.7903934346624975\n",
      "Epoch: 101, avg_loss: 0.7896613778440981\n",
      "Epoch: 102, avg_loss: 0.7889436525470177\n",
      "Epoch: 103, avg_loss: 0.7882395271673917\n",
      "Epoch: 104, avg_loss: 0.7875488461184419\n",
      "Epoch: 105, avg_loss: 0.7868717567623458\n",
      "Epoch: 106, avg_loss: 0.786206885088746\n",
      "Epoch: 107, avg_loss: 0.7855547695153402\n",
      "Epoch: 108, avg_loss: 0.7849143792751477\n",
      "Epoch: 109, avg_loss: 0.7842864704161573\n",
      "Epoch: 110, avg_loss: 0.7836695355036895\n",
      "Epoch: 111, avg_loss: 0.7830636523394754\n",
      "Epoch: 112, avg_loss: 0.7824689565677895\n",
      "Epoch: 113, avg_loss: 0.7818848244816974\n",
      "Epoch: 114, avg_loss: 0.7813107540227712\n",
      "Epoch: 115, avg_loss: 0.7807462311862559\n",
      "Epoch: 116, avg_loss: 0.7801919815060889\n",
      "Epoch: 117, avg_loss: 0.7796474098472352\n",
      "Epoch: 118, avg_loss: 0.779111514095351\n",
      "Epoch: 119, avg_loss: 0.7785848302427426\n",
      "Epoch: 120, avg_loss: 0.7780670220429976\n",
      "Epoch: 121, avg_loss: 0.7775572913527011\n",
      "Epoch: 122, avg_loss: 0.7770559194174055\n",
      "Epoch: 123, avg_loss: 0.7765629570527937\n",
      "Epoch: 124, avg_loss: 0.7760779913481095\n",
      "Epoch: 125, avg_loss: 0.7756007197894406\n",
      "Epoch: 126, avg_loss: 0.7751310661565347\n",
      "Epoch: 127, avg_loss: 0.7746689675983406\n",
      "Epoch: 128, avg_loss: 0.7742140072010707\n",
      "Epoch: 129, avg_loss: 0.7737657418442917\n",
      "Epoch: 130, avg_loss: 0.7733247051954061\n",
      "Epoch: 131, avg_loss: 0.7728904205751371\n",
      "Epoch: 132, avg_loss: 0.772462674913497\n",
      "Epoch: 133, avg_loss: 0.7720413795947181\n",
      "Epoch: 134, avg_loss: 0.771626438982391\n",
      "Epoch: 135, avg_loss: 0.7712174720333556\n",
      "Epoch: 136, avg_loss: 0.7708144614772139\n",
      "Epoch: 137, avg_loss: 0.7704176270550153\n",
      "Epoch: 138, avg_loss: 0.7700261557515677\n",
      "Epoch: 139, avg_loss: 0.7696403129948204\n",
      "Epoch: 140, avg_loss: 0.7692603534670547\n",
      "Epoch: 141, avg_loss: 0.7688853986776816\n",
      "Epoch: 142, avg_loss: 0.7685159524703141\n",
      "Epoch: 143, avg_loss: 0.7681514323998799\n",
      "Epoch: 144, avg_loss: 0.7677920096868952\n",
      "Epoch: 145, avg_loss: 0.7674375573316776\n",
      "Epoch: 146, avg_loss: 0.7670878847736713\n",
      "Epoch: 147, avg_loss: 0.7667431447298747\n",
      "Epoch: 148, avg_loss: 0.7664030972554838\n",
      "Epoch: 149, avg_loss: 0.7660679128831457\n",
      "Epoch: 150, avg_loss: 0.7657370854049138\n",
      "Epoch: 151, avg_loss: 0.7654107029048252\n",
      "Epoch: 152, avg_loss: 0.7650885825887506\n",
      "Epoch: 153, avg_loss: 0.7647704100122077\n",
      "Epoch: 154, avg_loss: 0.7644564255769801\n",
      "Epoch: 155, avg_loss: 0.7641464382766509\n",
      "Epoch: 156, avg_loss: 0.7638408515320081\n",
      "Epoch: 157, avg_loss: 0.7635386006053886\n",
      "Epoch: 158, avg_loss: 0.7632404721880208\n",
      "Epoch: 159, avg_loss: 0.7629462049989831\n",
      "Epoch: 160, avg_loss: 0.7626552354586257\n",
      "Epoch: 161, avg_loss: 0.7623681373053429\n",
      "Epoch: 162, avg_loss: 0.7620844234869902\n",
      "Epoch: 163, avg_loss: 0.7618042246958631\n",
      "Epoch: 164, avg_loss: 0.7615273932245665\n",
      "Epoch: 165, avg_loss: 0.7612538833743175\n",
      "Epoch: 166, avg_loss: 0.7609839640266277\n",
      "Epoch: 167, avg_loss: 0.7607170463025404\n",
      "Epoch: 168, avg_loss: 0.7604533983837989\n",
      "Epoch: 169, avg_loss: 0.7601925661197549\n",
      "Epoch: 170, avg_loss: 0.7599350283733677\n",
      "Epoch: 171, avg_loss: 0.7596806764868979\n",
      "Epoch: 172, avg_loss: 0.7594287880280945\n",
      "Epoch: 173, avg_loss: 0.7591800501015676\n",
      "Epoch: 174, avg_loss: 0.7589341512056461\n",
      "Epoch: 175, avg_loss: 0.7586911238253975\n",
      "Epoch: 176, avg_loss: 0.7584509349811488\n",
      "Epoch: 177, avg_loss: 0.758213552181239\n",
      "Epoch: 178, avg_loss: 0.7579787446195586\n",
      "Epoch: 179, avg_loss: 0.7577465467927115\n",
      "Epoch: 180, avg_loss: 0.7575169920623673\n",
      "Epoch: 181, avg_loss: 0.7572900294421349\n",
      "Epoch: 182, avg_loss: 0.7570651831421119\n",
      "Epoch: 183, avg_loss: 0.7568430226576834\n",
      "Epoch: 184, avg_loss: 0.7566232279372551\n",
      "Epoch: 185, avg_loss: 0.7564058123697742\n",
      "Epoch: 186, avg_loss: 0.7561906064508673\n",
      "Epoch: 187, avg_loss: 0.755977809088939\n",
      "Epoch: 188, avg_loss: 0.7557670666203666\n",
      "Epoch: 189, avg_loss: 0.7555585976241139\n",
      "Epoch: 190, avg_loss: 0.7553523204405582\n",
      "Epoch: 191, avg_loss: 0.7551484255098132\n",
      "Epoch: 192, avg_loss: 0.7549463500153647\n",
      "Epoch: 193, avg_loss: 0.7547464806805764\n",
      "Epoch: 194, avg_loss: 0.7545489355564445\n",
      "Epoch: 195, avg_loss: 0.7543533364691328\n",
      "Epoch: 196, avg_loss: 0.7541598369532069\n",
      "Epoch: 197, avg_loss: 0.7539681346949657\n",
      "Epoch: 198, avg_loss: 0.7537783201402949\n",
      "Epoch: 199, avg_loss: 0.7535904518000845\n"
     ]
    }
   ],
   "source": [
    "device = torch.device('cuda:2' if torch.cuda.is_available() else 'cpu')\n",
    "traj2vec = Traj2VecModel(\n",
    "            data_rest_normal,\n",
    "            network,\n",
    "            adj=adj_t2v,\n",
    "            device=device,\n",
    "            emb_dim=128,\n",
    "            walk_length=30,\n",
    "            context_size=5,\n",
    "            walks_per_node=25,\n",
    "            num_neg=10,\n",
    "        )\n",
    "traj2vec.train(epochs=200)"
   ]
  },
  {
   "cell_type": "code",
   "execution_count": 22,
   "metadata": {},
   "outputs": [],
   "source": [
    "traj2vec.save_model(path=\"../model_states/gtc/\")"
   ]
  },
  {
   "cell_type": "code",
   "execution_count": null,
   "metadata": {},
   "outputs": [],
   "source": [
    "data.x = None\n",
    "data = T.OneHotDegree(128)(data)"
   ]
  },
  {
   "cell_type": "code",
   "execution_count": null,
   "metadata": {},
   "outputs": [],
   "source": [
    "device = torch.device('cuda:0' if torch.cuda.is_available() else 'cpu')\n",
    "# precalc adj matrices\n",
    "GTCModel(data_rest_normal, device, network, trajectory, k=6, bidirectional=False, add_self_loops=True)"
   ]
  },
  {
   "cell_type": "code",
   "execution_count": 7,
   "metadata": {},
   "outputs": [],
   "source": [
    "models = []\n",
    "device = torch.device('cuda:2' if torch.cuda.is_available() else 'cpu')\n",
    "model = GTCModel(data_roadclf_normal, device, network, adj=adj_bi)\n",
    "# model2 = GTCModel(data_roadclf, device, network, trajectory, adj=adj_for)\n",
    "# model2 = GTNModel(data2, device, network, trajectory, load_traj_adj_path=\"./gtn_precalc_adj/traj_adj_k_1.gz\", norm=True)\n",
    "# model3 = GAEModel(data2, device=device, encoder=GCNEncoder, emb_dim=128, layers=1)\n",
    "# model4 = GAEModel(data2, device=device, encoder=GCNEncoder, emb_dim=128, layers=1)\n",
    "# model5 = Node2VecModel(data_roadclf, device=device, q=4, p=1)\n",
    "#model6 = Traj2VecModel(data_roadclf, network, adj, device=device, emb_dim=128, walk_length=30, context_size=5, walks_per_node=25, num_neg=10)\n",
    "\n",
    "# models.extend([(model, 5000), (model2, 5000)]) # (model3, 5000), (model4, 5000)"
   ]
  },
  {
   "cell_type": "code",
   "execution_count": 16,
   "metadata": {},
   "outputs": [
    {
     "name": "stdout",
     "output_type": "stream",
     "text": [
      "Epoch: 1000, avg_loss: 1.3443331545591355\n",
      "Epoch: 2000, avg_loss: 1.3247767307758331\n",
      "Epoch: 3000, avg_loss: 1.3144745394388835\n",
      "Epoch: 4000, avg_loss: 1.3079453474283218\n",
      "Epoch: 5000, avg_loss: 1.303352767586708\n",
      "Epoch: 6000, avg_loss: 1.2998951516946158\n",
      "Epoch: 7000, avg_loss: 1.2972147925240654\n",
      "Epoch: 8000, avg_loss: 1.2950811286568642\n",
      "Epoch: 9000, avg_loss: 1.2933379623492558\n"
     ]
    }
   ],
   "source": [
    "# device = torch.device('cuda' if torch.cuda.is_available() else 'cpu')\n",
    "# for k in [1]:\n",
    "#     model = GTNModel(data, device, network, trajectory, load_traj_adj_path=\"./traj_adj_k_{}.gz\".format(k))\n",
    "#     model.train(epochs=1000)\n",
    "#     models.append(model)\n",
    "\n",
    "model.train(epochs=10000)"
   ]
  },
  {
   "cell_type": "code",
   "execution_count": 11,
   "metadata": {},
   "outputs": [
    {
     "data": {
      "text/plain": [
       "(27039, 128)"
      ]
     },
     "execution_count": 11,
     "metadata": {},
     "output_type": "execute_result"
    }
   ],
   "source": [
    "z = model.load_emb()\n",
    "z.shape"
   ]
  },
  {
   "cell_type": "code",
   "execution_count": null,
   "metadata": {},
   "outputs": [],
   "source": [
    "print(models)"
   ]
  },
  {
   "cell_type": "code",
   "execution_count": null,
   "metadata": {},
   "outputs": [],
   "source": [
    "model.save_model(path=\"../model_states/gtc/\")"
   ]
  },
  {
   "cell_type": "code",
   "execution_count": null,
   "metadata": {},
   "outputs": [],
   "source": [
    "from torch_geometric.nn.norm import LayerNorm\n",
    "# load node2vec emb\n",
    "model5.load_model(\"../model_states/node2vec/model_base.pt\")\n",
    "z2 = model5.load_emb()\n",
    "model6.load_model(\"../model_states/traj2vec/model_base.pt\")\n",
    "z3 = model6.load_emb()\n",
    "\n",
    "norm = LayerNorm(z3.shape[1], affine=False)\n",
    "z4 = norm(torch.Tensor(z2)).detach().cpu().numpy()\n",
    "z5 = norm(torch.Tensor(z3)).detach().cpu().numpy()"
   ]
  },
  {
   "cell_type": "code",
   "execution_count": 14,
   "metadata": {},
   "outputs": [],
   "source": [
    "gae = GAEModel(data_roadclf_normal, device=device, encoder=GCNEncoder, emb_dim=128)\n",
    "gae.load_model(\"../model_states/gaegcn/model_noroad_sf.pt\")\n",
    "# node2vec = Node2VecModel(data_rest_normal, device=device, q=4, p=1)\n",
    "# node2vec.load_model(\"../model_states/node2vec/model_base.pt\")\n",
    "# n2v_emb = node2vec.load_emb()\n",
    "# gae_emb = gae.load_emb()\n",
    "gtc = GTCModel(data_roadclf_normal, device, network, adj=adj_bi)\n",
    "gtc.load_model(\"../model_states/gtc/model_noroad_sf.pt\")\n",
    "# gtc2 = GTCModel(data_rest, device, network, adj=adj_bi_3)\n",
    "# gtc2.load_model(\"../model_states/gtc/model_base_k3_20k.pt\")\n",
    "# t2v = Traj2VecModel(data_rest, network, adj_bi, device=device)\n",
    "# t2v.load_model(\"../model_states/traj2vec/model_base.pt\")\n",
    "# z = np.concatenate([gtc.load_emb(), t2v.load_emb()], axis=1)\n",
    "# z2 = np.concatenate([gtc2.load_emb(), t2v.load_emb()], axis=1)\n",
    "# rand_emb = np.random.randn(*z.shape)"
   ]
  },
  {
   "cell_type": "code",
   "execution_count": 54,
   "metadata": {},
   "outputs": [
    {
     "name": "stdout",
     "output_type": "stream",
     "text": [
      "[[-0.03461973 -0.7446656  -0.36518294 ... -0.12940633 -0.19541745\n",
      "  -0.41113168]\n",
      " [-0.06902651 -0.30286184 -0.42417783 ... -0.11377949 -0.24691841\n",
      "  -0.15814777]\n",
      " [-0.10037328 -0.67797256 -0.45901316 ... -0.14502342 -0.143866\n",
      "  -0.5151305 ]\n",
      " ...\n",
      " [-0.03662838  0.23067358  0.02284841 ...  0.09844947 -0.02313899\n",
      "   0.28437442]\n",
      " [-0.52729726 -0.24934813  0.35677475 ... -0.5402291  -0.09656639\n",
      "   0.44079298]\n",
      " [-0.52729726 -0.24934813  0.35677475 ... -0.5402291  -0.09656639\n",
      "   0.44079298]]\n",
      "--------\n",
      "[[ 0.14195527  0.71312606  0.27853405 ...  0.08516737 -0.62053263\n",
      "   0.17841183]\n",
      " [ 0.00569221  0.5116822   0.06596196 ...  0.01285282 -0.41922888\n",
      "   0.14586426]\n",
      " [ 0.00964291  0.76392955  0.12494162 ... -0.02320814 -0.6379421\n",
      "   0.17545395]\n",
      " ...\n",
      " [ 0.00233091  0.13886695  0.01223819 ...  0.01058747 -0.02673449\n",
      "  -0.24037123]\n",
      " [-0.40296662 -0.1827692   0.13607268 ...  0.56599444  0.04516564\n",
      "  -0.09180278]\n",
      " [-0.44287586 -0.19512364  0.13986318 ...  0.57609206  0.10952294\n",
      "  -0.09739541]]\n"
     ]
    }
   ],
   "source": [
    "print(gtc.load_emb())\n",
    "print(\"--------\")\n",
    "print(t2v.load_emb())"
   ]
  },
  {
   "cell_type": "code",
   "execution_count": 19,
   "metadata": {},
   "outputs": [],
   "source": [
    "from sklearn.model_selection import train_test_split\n",
    "\n",
    "train, test = train_test_split(trajectory, test_size=0.3, random_state=123)"
   ]
  },
  {
   "cell_type": "code",
   "execution_count": 20,
   "metadata": {},
   "outputs": [
    {
     "name": "stdout",
     "output_type": "stream",
     "text": [
      "(74930, 3) (174835, 3)\n"
     ]
    }
   ],
   "source": [
    "print(test.shape, train.shape)"
   ]
  },
  {
   "cell_type": "code",
   "execution_count": 22,
   "metadata": {},
   "outputs": [],
   "source": [
    "train.to_pickle(\"../../datasets/trajectories/sf/traj_train_test_split/test_123.pkl\")"
   ]
  },
  {
   "cell_type": "code",
   "execution_count": 13,
   "metadata": {},
   "outputs": [
    {
     "name": "stdout",
     "output_type": "stream",
     "text": [
      "0.180948404776296\n",
      "0.07026817849554132\n"
     ]
    }
   ],
   "source": [
    "from sklearn import model_selection\n",
    "from sklearn import linear_model\n",
    "from sklearn import metrics\n",
    "from sklearn.tree import DecisionTreeClassifier\n",
    "from sklearn.ensemble import RandomForestClassifier\n",
    "from sklearn.model_selection import cross_val_score\n",
    "from sklearn.metrics import make_scorer\n",
    "\n",
    "# n2v = models[-1]\n",
    "idxs = np.arange(len(network.line_graph.nodes))\n",
    "train_idx, test_idx = model_selection.train_test_split(idxs, test_size=0.2, random_state=69)\n",
    "y = np.array([network.gdf_edges.loc[n][\"highway_enc\"] for n in network.line_graph.nodes])\n",
    "\n",
    "# for m, e in models:\n",
    "    # m.train(epochs=e)\n",
    "    # zn = m.load_emb()\n",
    "    # zcn = np.concatenate((zn, z2), axis=1)\n",
    "    # zct = np.concatenate((zn, z3), axis=1)\n",
    "    # zcnn = np.concatenate((zn, z4), axis=1)\n",
    "    # zctn = np.concatenate((zn, z5), axis=1)\n",
    "    # X = z # embedding for each node\n",
    "eva = [gtc.load_emb(), gae.load_emb()] # gtc.load_emb(), gae_emb, rand_emb\n",
    "for X in eva:\n",
    "    X_train, X_test, y_train, y_test = X[train_idx], X[test_idx], y[train_idx], y[test_idx]\n",
    "\n",
    "    lm = linear_model.LogisticRegression(multi_class=\"multinomial\", max_iter=1000)\n",
    "    # lm.fit(X_train, y_train)\n",
    "    scorer = make_scorer(metrics.f1_score, average=\"macro\")\n",
    "    print(np.mean(cross_val_score(estimator=lm, X=X, y=y, scoring=scorer, cv=5)))\n",
    "    #print(metrics.classification_report(y_test, lm.predict(X_test)))"
   ]
  },
  {
   "cell_type": "code",
   "execution_count": 14,
   "metadata": {},
   "outputs": [
    {
     "name": "stdout",
     "output_type": "stream",
     "text": [
      "13.312834306701841\n"
     ]
    }
   ],
   "source": [
    "from sklearn.model_selection import cross_val_score\n",
    "from sklearn.metrics import make_scorer\n",
    "from sklearn.neural_network import MLPRegressor\n",
    "\n",
    "tf = pd.read_csv(f\"../../datasets/trajectories/{city_traj}/speed_features_unnormalized.csv\")\n",
    "tf.set_index([\"u\", \"v\", \"key\"], inplace=True)\n",
    "map_id = {j: i for i, j in enumerate(network.line_graph.nodes)}\n",
    "tf[\"idx\"] = tf.index.map(map_id)\n",
    "tf.sort_values(by=\"idx\", axis=0, inplace=True)\n",
    "\n",
    "# idxs = np.arange(len(network.line_graph.nodes))\n",
    "#train_idx, test_idx = model_selection.train_test_split(idxs, test_size=0.2, random_state=69)\n",
    "\n",
    "y = tf[\"avg_speed\"]\n",
    "y.fillna(0, inplace=True)\n",
    "y = y.round(2)\n",
    "y = y.values\n",
    "\n",
    "# for m, e in models:\n",
    "#     m.train(epochs=e)\n",
    "    \n",
    "    # zn = m.load_emb()\n",
    "    # zcn = np.concatenate((zn, z2), axis=1)\n",
    "    # zct = np.concatenate((zn, z3), axis=1)\n",
    "    # zcnn = np.concatenate((zn, z4), axis=1)\n",
    "    # zctn = np.concatenate((zn, z5), axis=1)\n",
    "    # X = z # embedding for each node\n",
    "eva = [z] # z, z2, gtc.load_emb(), gtc2.load_emb(), gae_emb, rand_emb] || gtc.load_emb(), gae_emb, rand_emb\n",
    "for X in eva:\n",
    "    decoder = MLPRegressor(hidden_layer_sizes=(1024), random_state=88, max_iter=30)\n",
    "\n",
    "    # X_train, X_test, y_train, y_test = X[train_idx], X[test_idx], y[train_idx], y[test_idx]\n",
    "\n",
    "    # decoder.fit(X_train, y_train)\n",
    "    scorer = make_scorer(metrics.mean_absolute_error)\n",
    "    print(np.mean(cross_val_score(estimator=decoder, X=X, y=y, scoring=scorer, cv=5)))"
   ]
  },
  {
   "cell_type": "code",
   "execution_count": 39,
   "metadata": {},
   "outputs": [
    {
     "name": "stdout",
     "output_type": "stream",
     "text": [
      "[[-0.07796444 -0.55997896 -0.34868354 ...  0.08516737 -0.62053263\n",
      "   0.17841183]\n",
      " [-0.17300586 -0.313582   -0.3508929  ...  0.01285282 -0.41922888\n",
      "   0.14586426]\n",
      " [-0.08473617 -0.48305732 -0.47893226 ... -0.02320814 -0.6379421\n",
      "   0.17545395]\n",
      " ...\n",
      " [-0.03662838  0.23067358  0.02284841 ...  0.01058747 -0.02673449\n",
      "  -0.24037123]\n",
      " [-0.52729726 -0.24934813  0.35677475 ...  0.56599444  0.04516564\n",
      "  -0.09180278]\n",
      " [-0.52729726 -0.24934813  0.35677475 ...  0.57609206  0.10952294\n",
      "  -0.09739541]]\n"
     ]
    },
    {
     "name": "stderr",
     "output_type": "stream",
     "text": [
      "Current task: 100%|██████████| 1/1 [02:10<00:00, 130.97s/it]"
     ]
    },
    {
     "name": "stdout",
     "output_type": "stream",
     "text": [
      "[('meanspeed',                 MSE        MAE       RMSE\n",
      "concat   366.677423  12.915396  19.113661\n",
      "concat2  369.236217  12.931941  19.173809)]\n"
     ]
    },
    {
     "name": "stderr",
     "output_type": "stream",
     "text": [
      "\n"
     ]
    }
   ],
   "source": [
    "from evaluation.tasks.task_loader import *\n",
    "from evaluation.evaluation import Evaluation\n",
    "from models import ConcateAdapterModel\n",
    "\n",
    "eva = Evaluation()\n",
    "eva.register_task(\"meanspeed\", init_meanspeed(None, network, 88))\n",
    "\n",
    "model = ConcateAdapterModel(None, None, models=[gtc, t2v], aggregator=\"concate\")\n",
    "model2 = ConcateAdapterModel(None, None, models=[gtc2, t2v], aggregator=\"concate\")\n",
    "\n",
    "eva.register_model(\"concat\", model)\n",
    "eva.register_model(\"concat2\", model2)\n",
    "res = eva.run()\n",
    "\n",
    "print(res)"
   ]
  },
  {
   "cell_type": "code",
   "execution_count": 80,
   "metadata": {},
   "outputs": [
    {
     "name": "stdout",
     "output_type": "stream",
     "text": [
      "{'MSE': 9949.570608700878, 'MAE': 71.89226948661805}\n",
      "{'MSE': 11646.49069475799, 'MAE': 81.10363915457725}\n",
      "{'MSE': 10092.045623252046, 'MAE': 72.39778632850647}\n"
     ]
    }
   ],
   "source": [
    "travel_time_est = TravelTimeEstimation(\n",
    "    traj_dataset=trajectory,\n",
    "    network=network,\n",
    "    device=device,\n",
    "    batch_size=128,\n",
    "    epochs=3,\n",
    "    seed=88,\n",
    ")\n",
    "travel_time_est.register_metric(\n",
    "    name=\"MSE\", metric_func=metrics.mean_squared_error, args={}\n",
    ")\n",
    "travel_time_est.register_metric(\n",
    "    name=\"MAE\", metric_func=metrics.mean_absolute_error, args={}\n",
    ")\n",
    "\n",
    "# for i, (m, e) in enumerate(models):\n",
    "# m.train(epochs=e)\n",
    "# zn = m.load_emb()\n",
    "# zcn = np.concatenate((zn, z2), axis=1)\n",
    "# zct = np.concatenate((zn, z3), axis=1)\n",
    "# X = z # embedding for each node\n",
    "eva = [z, z2, gtc.load_emb(), gtc2.load_emb(), gae_emb, rand_emb]\n",
    "for X in eva:\n",
    "    print(travel_time_est.evaluate(X))"
   ]
  },
  {
   "cell_type": "code",
   "execution_count": 18,
   "metadata": {},
   "outputs": [
    {
     "data": {
      "application/vnd.jupyter.widget-view+json": {
       "model_id": "52657f3e9e2c406983ea3940fedf1411",
       "version_major": 2,
       "version_minor": 0
      },
      "text/plain": [
       "Pandas Apply:   0%|          | 0/108096 [00:00<?, ?it/s]"
      ]
     },
     "metadata": {},
     "output_type": "display_data"
    },
    {
     "data": {
      "application/vnd.jupyter.widget-view+json": {
       "model_id": "1c7c3433ba4c45189f400fc67fb59ead",
       "version_major": 2,
       "version_minor": 0
      },
      "text/plain": [
       "Pandas Apply:   0%|          | 0/108096 [00:00<?, ?it/s]"
      ]
     },
     "metadata": {},
     "output_type": "display_data"
    },
    {
     "data": {
      "application/vnd.jupyter.widget-view+json": {
       "model_id": "b8ea7c3530864f2dbc1106cb5c8ac398",
       "version_major": 2,
       "version_minor": 0
      },
      "text/plain": [
       "Pandas Apply:   0%|          | 0/46328 [00:00<?, ?it/s]"
      ]
     },
     "metadata": {},
     "output_type": "display_data"
    },
    {
     "data": {
      "application/vnd.jupyter.widget-view+json": {
       "model_id": "2efd01c9660f4091a12564d2163acbbf",
       "version_major": 2,
       "version_minor": 0
      },
      "text/plain": [
       "Pandas Apply:   0%|          | 0/46328 [00:00<?, ?it/s]"
      ]
     },
     "metadata": {},
     "output_type": "display_data"
    },
    {
     "name": "stderr",
     "output_type": "stream",
     "text": [
      "                                                 \r"
     ]
    },
    {
     "name": "stdout",
     "output_type": "stream",
     "text": [
      "Average training loss in episode 0: 93.13604711136728\n"
     ]
    },
    {
     "name": "stderr",
     "output_type": "stream",
     "text": [
      "                                                 \r"
     ]
    },
    {
     "name": "stdout",
     "output_type": "stream",
     "text": [
      "Average training loss in episode 1: 60.42360982355082\n"
     ]
    },
    {
     "name": "stderr",
     "output_type": "stream",
     "text": [
      "                                                 \r"
     ]
    },
    {
     "name": "stdout",
     "output_type": "stream",
     "text": [
      "Average training loss in episode 2: 42.60375679663892\n"
     ]
    },
    {
     "name": "stderr",
     "output_type": "stream",
     "text": [
      "                                                 \r"
     ]
    },
    {
     "name": "stdout",
     "output_type": "stream",
     "text": [
      "Average training loss in episode 3: 33.21575438301518\n"
     ]
    },
    {
     "name": "stderr",
     "output_type": "stream",
     "text": [
      "                                                 \r"
     ]
    },
    {
     "name": "stdout",
     "output_type": "stream",
     "text": [
      "Average training loss in episode 4: 27.45381045791338\n"
     ]
    },
    {
     "name": "stderr",
     "output_type": "stream",
     "text": [
      "                                                 \r"
     ]
    },
    {
     "name": "stdout",
     "output_type": "stream",
     "text": [
      "Average training loss in episode 5: 23.018663941689258\n"
     ]
    },
    {
     "name": "stderr",
     "output_type": "stream",
     "text": [
      "                                                 \r"
     ]
    },
    {
     "name": "stdout",
     "output_type": "stream",
     "text": [
      "Average training loss in episode 6: 19.585921386502825\n"
     ]
    },
    {
     "name": "stderr",
     "output_type": "stream",
     "text": [
      "                                                 \r"
     ]
    },
    {
     "name": "stdout",
     "output_type": "stream",
     "text": [
      "Average training loss in episode 7: 17.329670883574575\n"
     ]
    },
    {
     "name": "stderr",
     "output_type": "stream",
     "text": [
      "                                                 \r"
     ]
    },
    {
     "name": "stdout",
     "output_type": "stream",
     "text": [
      "Average training loss in episode 8: 15.814587629066324\n"
     ]
    },
    {
     "name": "stderr",
     "output_type": "stream",
     "text": [
      "                                                 \r"
     ]
    },
    {
     "name": "stdout",
     "output_type": "stream",
     "text": [
      "Average training loss in episode 9: 14.090249111067575\n",
      "{'accuracy': 0.6325116560179589}\n"
     ]
    },
    {
     "name": "stderr",
     "output_type": "stream",
     "text": [
      "                                                 \r"
     ]
    },
    {
     "name": "stdout",
     "output_type": "stream",
     "text": [
      "Average training loss in episode 0: 99.54299696436468\n"
     ]
    },
    {
     "name": "stderr",
     "output_type": "stream",
     "text": [
      "                                                 \r"
     ]
    },
    {
     "name": "stdout",
     "output_type": "stream",
     "text": [
      "Average training loss in episode 1: 76.37419421717806\n"
     ]
    },
    {
     "name": "stderr",
     "output_type": "stream",
     "text": [
      "                                                 \r"
     ]
    },
    {
     "name": "stdout",
     "output_type": "stream",
     "text": [
      "Average training loss in episode 2: 59.97953197191347\n"
     ]
    },
    {
     "name": "stderr",
     "output_type": "stream",
     "text": [
      "                                                 \r"
     ]
    },
    {
     "name": "stdout",
     "output_type": "stream",
     "text": [
      "Average training loss in episode 3: 49.218008239314244\n"
     ]
    },
    {
     "name": "stderr",
     "output_type": "stream",
     "text": [
      "                                                 \r"
     ]
    },
    {
     "name": "stdout",
     "output_type": "stream",
     "text": [
      "Average training loss in episode 4: 41.48823459193392\n"
     ]
    },
    {
     "name": "stderr",
     "output_type": "stream",
     "text": [
      "                                                 \r"
     ]
    },
    {
     "name": "stdout",
     "output_type": "stream",
     "text": [
      "Average training loss in episode 5: 36.14445158220687\n"
     ]
    },
    {
     "name": "stderr",
     "output_type": "stream",
     "text": [
      "                                                 \r"
     ]
    },
    {
     "name": "stdout",
     "output_type": "stream",
     "text": [
      "Average training loss in episode 6: 31.431394756964917\n"
     ]
    },
    {
     "name": "stderr",
     "output_type": "stream",
     "text": [
      "                                                 \r"
     ]
    },
    {
     "name": "stdout",
     "output_type": "stream",
     "text": [
      "Average training loss in episode 7: 28.38374802751361\n"
     ]
    },
    {
     "name": "stderr",
     "output_type": "stream",
     "text": [
      "                                                 \r"
     ]
    },
    {
     "name": "stdout",
     "output_type": "stream",
     "text": [
      "Average training loss in episode 8: 25.533734420560442\n"
     ]
    },
    {
     "name": "stderr",
     "output_type": "stream",
     "text": [
      "                                                 \r"
     ]
    },
    {
     "name": "stdout",
     "output_type": "stream",
     "text": [
      "Average training loss in episode 9: 23.22743212501958\n",
      "{'accuracy': 0.5691374546710413}\n"
     ]
    },
    {
     "name": "stderr",
     "output_type": "stream",
     "text": [
      "                                                 \r"
     ]
    },
    {
     "name": "stdout",
     "output_type": "stream",
     "text": [
      "Average training loss in episode 0: 95.28560181383817\n"
     ]
    },
    {
     "name": "stderr",
     "output_type": "stream",
     "text": [
      "                                                 \r"
     ]
    },
    {
     "name": "stdout",
     "output_type": "stream",
     "text": [
      "Average training loss in episode 1: 65.81340795193078\n"
     ]
    },
    {
     "name": "stderr",
     "output_type": "stream",
     "text": [
      "                                                 \r"
     ]
    },
    {
     "name": "stdout",
     "output_type": "stream",
     "text": [
      "Average training loss in episode 2: 48.93731500517647\n"
     ]
    },
    {
     "name": "stderr",
     "output_type": "stream",
     "text": [
      "                                                 \r"
     ]
    },
    {
     "name": "stdout",
     "output_type": "stream",
     "text": [
      "Average training loss in episode 3: 39.55925354867611\n"
     ]
    },
    {
     "name": "stderr",
     "output_type": "stream",
     "text": [
      "                                                 \r"
     ]
    },
    {
     "name": "stdout",
     "output_type": "stream",
     "text": [
      "Average training loss in episode 4: 33.625449108627606\n"
     ]
    },
    {
     "name": "stderr",
     "output_type": "stream",
     "text": [
      "                                                 \r"
     ]
    },
    {
     "name": "stdout",
     "output_type": "stream",
     "text": [
      "Average training loss in episode 5: 29.306134313907265\n"
     ]
    },
    {
     "name": "stderr",
     "output_type": "stream",
     "text": [
      "                                                 \r"
     ]
    },
    {
     "name": "stdout",
     "output_type": "stream",
     "text": [
      "Average training loss in episode 6: 26.167263624803077\n"
     ]
    },
    {
     "name": "stderr",
     "output_type": "stream",
     "text": [
      "                                                 \r"
     ]
    },
    {
     "name": "stdout",
     "output_type": "stream",
     "text": [
      "Average training loss in episode 7: 23.8469948858585\n"
     ]
    },
    {
     "name": "stderr",
     "output_type": "stream",
     "text": [
      "                                                 \r"
     ]
    },
    {
     "name": "stdout",
     "output_type": "stream",
     "text": [
      "Average training loss in episode 8: 21.672283620204567\n"
     ]
    },
    {
     "name": "stderr",
     "output_type": "stream",
     "text": [
      "                                                 \r"
     ]
    },
    {
     "name": "stdout",
     "output_type": "stream",
     "text": [
      "Average training loss in episode 9: 20.182108267298286\n",
      "{'accuracy': 0.5863192885512002}\n"
     ]
    },
    {
     "name": "stderr",
     "output_type": "stream",
     "text": [
      "                                                 \r"
     ]
    },
    {
     "name": "stdout",
     "output_type": "stream",
     "text": [
      "Average training loss in episode 0: 71.99475444937652\n"
     ]
    },
    {
     "name": "stderr",
     "output_type": "stream",
     "text": [
      "                                                 \r"
     ]
    },
    {
     "name": "stdout",
     "output_type": "stream",
     "text": [
      "Average training loss in episode 1: 41.86305915184741\n"
     ]
    },
    {
     "name": "stderr",
     "output_type": "stream",
     "text": [
      "                                                 \r"
     ]
    },
    {
     "name": "stdout",
     "output_type": "stream",
     "text": [
      "Average training loss in episode 2: 32.94744706603716\n"
     ]
    },
    {
     "name": "stderr",
     "output_type": "stream",
     "text": [
      "                                                 \r"
     ]
    },
    {
     "name": "stdout",
     "output_type": "stream",
     "text": [
      "Average training loss in episode 3: 28.265848897538095\n"
     ]
    },
    {
     "name": "stderr",
     "output_type": "stream",
     "text": [
      "                                                 \r"
     ]
    },
    {
     "name": "stdout",
     "output_type": "stream",
     "text": [
      "Average training loss in episode 4: 25.153848009289437\n"
     ]
    },
    {
     "name": "stderr",
     "output_type": "stream",
     "text": [
      "                                                 \r"
     ]
    },
    {
     "name": "stdout",
     "output_type": "stream",
     "text": [
      "Average training loss in episode 5: 23.122095629854023\n"
     ]
    },
    {
     "name": "stderr",
     "output_type": "stream",
     "text": [
      "                                                 \r"
     ]
    },
    {
     "name": "stdout",
     "output_type": "stream",
     "text": [
      "Average training loss in episode 6: 22.05950561559425\n"
     ]
    },
    {
     "name": "stderr",
     "output_type": "stream",
     "text": [
      "                                                 \r"
     ]
    },
    {
     "name": "stdout",
     "output_type": "stream",
     "text": [
      "Average training loss in episode 7: 20.81006624563685\n"
     ]
    },
    {
     "name": "stderr",
     "output_type": "stream",
     "text": [
      "                                                 \r"
     ]
    },
    {
     "name": "stdout",
     "output_type": "stream",
     "text": [
      "Average training loss in episode 8: 19.88060889603957\n"
     ]
    },
    {
     "name": "stderr",
     "output_type": "stream",
     "text": [
      "                                                 \r"
     ]
    },
    {
     "name": "stdout",
     "output_type": "stream",
     "text": [
      "Average training loss in episode 9: 19.166528063000374\n",
      "{'accuracy': 0.6014721118977724}\n"
     ]
    }
   ],
   "source": [
    "from sklearn import metrics\n",
    "\n",
    "nextlocation_pred = NextLocationPrediciton(\n",
    "    traj_dataset=test,\n",
    "    network=network,\n",
    "    device=device,\n",
    "    batch_size=512,\n",
    "    epochs=10,\n",
    "    seed=88,\n",
    ")\n",
    "\n",
    "nextlocation_pred.register_metric(\n",
    "    name=\"accuracy\",\n",
    "    metric_func=metrics.accuracy_score,\n",
    "    args={\"normalize\": True},\n",
    ")\n",
    "\n",
    "# for i, (m, e) in enumerate(models):\n",
    "#     m.train(epochs=e)\n",
    "#     zn = m.load_emb()\n",
    "#     zcn = np.concatenate((zn, z2), axis=1)\n",
    "#     zct = np.concatenate((zn, z3), axis=1)\n",
    "#     zcnn = np.concatenate((zn, z4), axis=1)\n",
    "#     zctn = np.concatenate((zn, z5), axis=1)\n",
    "    # X = z # embedding for each node\n",
    "eva = [z, gtc.load_emb(), gae_emb, rand_emb]\n",
    "for X in eva:\n",
    "    print(nextlocation_pred.evaluate(X))"
   ]
  },
  {
   "cell_type": "code",
   "execution_count": 12,
   "metadata": {},
   "outputs": [
    {
     "data": {
      "application/vnd.jupyter.widget-view+json": {
       "model_id": "eff00ee58d914a26bd5860f26f78c1df",
       "version_major": 2,
       "version_minor": 0
      },
      "text/plain": [
       "Pandas Apply:   0%|          | 0/123539 [00:00<?, ?it/s]"
      ]
     },
     "metadata": {},
     "output_type": "display_data"
    },
    {
     "data": {
      "application/vnd.jupyter.widget-view+json": {
       "model_id": "8ad903222ee5416399212217de33ce01",
       "version_major": 2,
       "version_minor": 0
      },
      "text/plain": [
       "Pandas Apply:   0%|          | 0/123539 [00:00<?, ?it/s]"
      ]
     },
     "metadata": {},
     "output_type": "display_data"
    },
    {
     "data": {
      "application/vnd.jupyter.widget-view+json": {
       "model_id": "178b221888d14626acf24c31de7f5d69",
       "version_major": 2,
       "version_minor": 0
      },
      "text/plain": [
       "Pandas Apply:   0%|          | 0/30885 [00:00<?, ?it/s]"
      ]
     },
     "metadata": {},
     "output_type": "display_data"
    },
    {
     "data": {
      "application/vnd.jupyter.widget-view+json": {
       "model_id": "12f2676cd55c4736977135ab960ac6ca",
       "version_major": 2,
       "version_minor": 0
      },
      "text/plain": [
       "Pandas Apply:   0%|          | 0/30885 [00:00<?, ?it/s]"
      ]
     },
     "metadata": {},
     "output_type": "display_data"
    },
    {
     "name": "stdout",
     "output_type": "stream",
     "text": [
      "Average training loss in episode 0: 6.2683917234751805\n",
      "Average training loss in episode 1: 4.742232066540678\n",
      "Average training loss in episode 2: 4.220941295308515\n",
      "Average training loss in episode 3: 3.9358672327246547\n",
      "Average training loss in episode 4: 3.7397250705514073\n",
      "Average training loss in episode 5: 3.5961661328954144\n",
      "Average training loss in episode 6: 3.4801360575620794\n",
      "Average training loss in episode 7: 3.38823694828128\n",
      "Average training loss in episode 8: 3.305245636908476\n",
      "Average training loss in episode 9: 3.23989734373802\n",
      "{'accuracy': 0.22379796017484216}\n",
      "Average training loss in episode 0: 7.007847854913759\n",
      "Average training loss in episode 1: 5.371428521211482\n",
      "Average training loss in episode 2: 4.630616056032418\n",
      "Average training loss in episode 3: 4.208322242271802\n",
      "Average training loss in episode 4: 3.923272815617648\n",
      "Average training loss in episode 5: 3.7201888344504614\n",
      "Average training loss in episode 6: 3.554557291929387\n",
      "Average training loss in episode 7: 3.4300487179401493\n",
      "Average training loss in episode 8: 3.320073540545692\n",
      "Average training loss in episode 9: 3.2232929970607285\n",
      "{'accuracy': 0.22389509470616803}\n",
      "Average training loss in episode 0: 6.918336346129741\n",
      "Average training loss in episode 1: 5.294326926065871\n",
      "Average training loss in episode 2: 4.577869322674333\n",
      "Average training loss in episode 3: 4.176272491778224\n",
      "Average training loss in episode 4: 3.906866460792289\n",
      "Average training loss in episode 5: 3.706249051842808\n",
      "Average training loss in episode 6: 3.5478444917142884\n",
      "Average training loss in episode 7: 3.4190413922317755\n",
      "Average training loss in episode 8: 3.3121756019671103\n",
      "Average training loss in episode 9: 3.2179376418925516\n",
      "{'accuracy': 0.22735955965679133}\n",
      "Average training loss in episode 0: 6.200944669975722\n",
      "Average training loss in episode 1: 4.674991424418678\n",
      "Average training loss in episode 2: 4.156577164476568\n",
      "Average training loss in episode 3: 3.85529058334256\n",
      "Average training loss in episode 4: 3.658902547576211\n",
      "Average training loss in episode 5: 3.5071448235472373\n",
      "Average training loss in episode 6: 3.383146968754855\n",
      "Average training loss in episode 7: 3.2776759350595395\n",
      "Average training loss in episode 8: 3.188526904287417\n",
      "Average training loss in episode 9: 3.1071624952899524\n",
      "{'accuracy': 0.23639307107009874}\n",
      "Average training loss in episode 0: 6.7243845502207105\n",
      "Average training loss in episode 1: 5.1345663208606815\n",
      "Average training loss in episode 2: 4.578179363376838\n",
      "Average training loss in episode 3: 4.2820696150961\n",
      "Average training loss in episode 4: 4.112245539988368\n",
      "Average training loss in episode 5: 3.9778335104303912\n",
      "Average training loss in episode 6: 3.8773331888451064\n",
      "Average training loss in episode 7: 3.811617039451914\n",
      "Average training loss in episode 8: 3.767630442114901\n",
      "Average training loss in episode 9: 3.7373755510188333\n",
      "{'accuracy': 0.2028169014084507}\n"
     ]
    }
   ],
   "source": [
    "from sklearn import metrics\n",
    "\n",
    "dest_pred = DestinationPrediciton(\n",
    "    traj_dataset=test,\n",
    "    network=network,\n",
    "    device=device,\n",
    "    batch_size=512,\n",
    "    epochs=10,\n",
    "    seed=88,\n",
    ")\n",
    "\n",
    "dest_pred.register_metric(\n",
    "    name=\"accuracy\",\n",
    "    metric_func=metrics.accuracy_score,\n",
    "    args={\"normalize\": True},\n",
    ")\n",
    "\n",
    "\n",
    "eva = [z, gtc.load_emb(), gae_emb, n2v_emb, rand_emb]\n",
    "for X in eva:\n",
    "    print(dest_pred.evaluate(X))"
   ]
  },
  {
   "cell_type": "code",
   "execution_count": null,
   "metadata": {},
   "outputs": [],
   "source": []
  }
 ],
 "metadata": {
  "kernelspec": {
   "display_name": "Python 3.9.13 ('road')",
   "language": "python",
   "name": "python3"
  },
  "language_info": {
   "codemirror_mode": {
    "name": "ipython",
    "version": 3
   },
   "file_extension": ".py",
   "mimetype": "text/x-python",
   "name": "python",
   "nbconvert_exporter": "python",
   "pygments_lexer": "ipython3",
   "version": "3.9.13"
  },
  "orig_nbformat": 4,
  "vscode": {
   "interpreter": {
    "hash": "088070de2c6b4023b2f7ae556c412f86bcd02589c7bdb3766a0caf3cf4813fbd"
   }
  }
 },
 "nbformat": 4,
 "nbformat_minor": 2
}
