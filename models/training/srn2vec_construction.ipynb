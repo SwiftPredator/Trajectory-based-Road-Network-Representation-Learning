{
 "cells": [
  {
   "cell_type": "code",
   "execution_count": 1,
   "metadata": {},
   "outputs": [],
   "source": [
    "%load_ext autoreload\n",
    "%autoreload 2\n",
    "\n",
    "import os\n",
    "import sys\n",
    "\n",
    "module_path = os.path.abspath(os.path.join('../..'))\n",
    "if module_path not in sys.path:\n",
    "    sys.path.append(module_path)\n",
    "\n",
    "from generator import RoadNetwork\n",
    "import torch\n",
    "import torch.nn as nn\n",
    "from torch.utils.data import DataLoader\n",
    "import pandas as pd\n",
    "import networkx as nx\n",
    "import numpy as np\n",
    "from tqdm import tqdm\n",
    "\n",
    "from models import SRN2VecModel\n",
    "import json"
   ]
  },
  {
   "cell_type": "code",
   "execution_count": 2,
   "metadata": {},
   "outputs": [],
   "source": [
    "network = RoadNetwork()\n",
    "network.load(\"../../osm_data/porto\")"
   ]
  },
  {
   "cell_type": "code",
   "execution_count": 7,
   "metadata": {},
   "outputs": [],
   "source": [
    "device = torch.device('cuda:3' if torch.cuda.is_available() else 'cpu')\n",
    "model = SRN2VecModel(None, device, network)"
   ]
  },
  {
   "cell_type": "code",
   "execution_count": null,
   "metadata": {},
   "outputs": [],
   "source": [
    "model.generate_data(n_shortest_paths=100, number_negative=3, window_size=900, save_batch_size=100)"
   ]
  },
  {
   "cell_type": "code",
   "execution_count": null,
   "metadata": {},
   "outputs": [],
   "source": [
    "%lprun -f model.extract_pairs model.generate_train_pairs(network, paths, 900, 7)"
   ]
  },
  {
   "cell_type": "code",
   "execution_count": null,
   "metadata": {},
   "outputs": [],
   "source": [
    "with open(\"srn2vec-traindata.json\", \"r\") as fp:\n",
    "    a = json.load(fp)"
   ]
  },
  {
   "cell_type": "code",
   "execution_count": 17,
   "metadata": {},
   "outputs": [],
   "source": [
    "\"\"\"\n",
    "Build and train model\n",
    "\"\"\"\n",
    "network = RoadNetwork()\n",
    "network.load(\"../../osm_data/porto\")\n",
    "device = torch.device('cuda:3' if torch.cuda.is_available() else 'cpu')\n",
    "model = SRN2VecModel(None, device, network, remove_highway_label=True)\n",
    "model.load_dataset(\"./srn2vec-traindata.json\")"
   ]
  },
  {
   "cell_type": "code",
   "execution_count": 18,
   "metadata": {},
   "outputs": [
    {
     "name": "stdout",
     "output_type": "stream",
     "text": [
      "Epoch: 0, Iteration: 0, sample_loss: 0.7244336605072021, Avg. Loss: 0.7244336605072021\n",
      "Epoch: 0, Iteration: 1000, sample_loss: 0.6133495569229126, Avg. Loss: 0.6258018823651286\n",
      "Epoch: 0, Iteration: 2000, sample_loss: 0.6045035123825073, Avg. Loss: 0.6102273479990218\n",
      "Epoch: 0, Iteration: 3000, sample_loss: 0.6053149700164795, Avg. Loss: 0.6046309277678442\n",
      "Epoch: 0, Iteration: 4000, sample_loss: 0.6026860475540161, Avg. Loss: 0.6016880611990786\n",
      "Epoch: 0, Iteration: 5000, sample_loss: 0.5851001739501953, Avg. Loss: 0.6000700907167542\n",
      "Epoch: 0, Iteration: 6000, sample_loss: 0.6103091239929199, Avg. Loss: 0.5989909757576154\n",
      "Epoch: 0, Iteration: 7000, sample_loss: 0.5944563150405884, Avg. Loss: 0.5981639968448155\n",
      "Epoch: 0, Iteration: 8000, sample_loss: 0.6560654640197754, Avg. Loss: 0.5974557065781974\n",
      "Epoch: 0, Iteration: 9000, sample_loss: 0.548535943031311, Avg. Loss: 0.5966067338715578\n",
      "Epoch: 0, Iteration: 10000, sample_loss: 0.5428558588027954, Avg. Loss: 0.5946249320302983\n",
      "Epoch: 0, Iteration: 11000, sample_loss: 0.47175925970077515, Avg. Loss: 0.5896584360223067\n",
      "Epoch: 0, Iteration: 12000, sample_loss: 0.42933353781700134, Avg. Loss: 0.5798871982083719\n",
      "Epoch: 0, Iteration: 13000, sample_loss: 0.29383862018585205, Avg. Loss: 0.5639459958097841\n",
      "Epoch: 0, Iteration: 14000, sample_loss: 0.2047690451145172, Avg. Loss: 0.5425237751941103\n",
      "Epoch: 0, Iteration: 15000, sample_loss: 0.14113284647464752, Avg. Loss: 0.5180613727987202\n",
      "Epoch: 0, Iteration: 16000, sample_loss: 0.16463369131088257, Avg. Loss: 0.4928949729826225\n",
      "Epoch: 0, Iteration: 17000, sample_loss: 0.026765601709485054, Avg. Loss: 0.46873267754867676\n",
      "Average training loss in episode 0: 0.4557984429639796\n",
      "Epoch: 1, Iteration: 0, sample_loss: 0.01991109363734722, Avg. Loss: 0.01991109363734722\n",
      "Epoch: 1, Iteration: 1000, sample_loss: 0.08397868275642395, Avg. Loss: 0.0560059069751666\n",
      "Epoch: 1, Iteration: 2000, sample_loss: 0.015071912668645382, Avg. Loss: 0.05055653243239546\n",
      "Epoch: 1, Iteration: 3000, sample_loss: 0.07190928608179092, Avg. Loss: 0.04626986690834463\n",
      "Epoch: 1, Iteration: 4000, sample_loss: 0.03056635707616806, Avg. Loss: 0.04287072841948147\n",
      "Epoch: 1, Iteration: 5000, sample_loss: 0.004265449475497007, Avg. Loss: 0.03971951244468973\n",
      "Epoch: 1, Iteration: 6000, sample_loss: 0.011072436347603798, Avg. Loss: 0.0365448900441571\n",
      "Epoch: 1, Iteration: 7000, sample_loss: 0.0033731258008629084, Avg. Loss: 0.03377411351964881\n",
      "Epoch: 1, Iteration: 8000, sample_loss: 0.022317668423056602, Avg. Loss: 0.031179481638058736\n",
      "Epoch: 1, Iteration: 9000, sample_loss: 0.006498225964605808, Avg. Loss: 0.02891874664682767\n",
      "Epoch: 1, Iteration: 10000, sample_loss: 0.004448593128472567, Avg. Loss: 0.02692877803991426\n",
      "Epoch: 1, Iteration: 11000, sample_loss: 0.0021649650298058987, Avg. Loss: 0.025252493542658034\n",
      "Epoch: 1, Iteration: 12000, sample_loss: 0.005541499704122543, Avg. Loss: 0.023743908008553243\n",
      "Epoch: 1, Iteration: 13000, sample_loss: 0.0006644540699198842, Avg. Loss: 0.022417952977407327\n",
      "Epoch: 1, Iteration: 14000, sample_loss: 0.000982819008640945, Avg. Loss: 0.021262098015458645\n",
      "Epoch: 1, Iteration: 15000, sample_loss: 0.0010774573311209679, Avg. Loss: 0.020239466467382294\n",
      "Epoch: 1, Iteration: 16000, sample_loss: 0.001076475833542645, Avg. Loss: 0.01931325813693435\n",
      "Epoch: 1, Iteration: 17000, sample_loss: 0.00043843372259289026, Avg. Loss: 0.018520666957908074\n",
      "Average training loss in episode 1: 0.018109130881565075\n",
      "Epoch: 2, Iteration: 0, sample_loss: 0.0006807023892179132, Avg. Loss: 0.0006807023892179132\n",
      "Epoch: 2, Iteration: 1000, sample_loss: 0.00037055398570373654, Avg. Loss: 0.004821950364568327\n",
      "Epoch: 2, Iteration: 2000, sample_loss: 0.00033055682433769107, Avg. Loss: 0.0047241977970362515\n",
      "Epoch: 2, Iteration: 3000, sample_loss: 0.0011739351321011782, Avg. Loss: 0.00443771926693965\n",
      "Epoch: 2, Iteration: 4000, sample_loss: 0.0006532953702844679, Avg. Loss: 0.004341794901684848\n",
      "Epoch: 2, Iteration: 5000, sample_loss: 0.0008528742473572493, Avg. Loss: 0.0042639923110562895\n",
      "Epoch: 2, Iteration: 6000, sample_loss: 0.002586721908301115, Avg. Loss: 0.00425664676743931\n",
      "Epoch: 2, Iteration: 7000, sample_loss: 0.00034817412961274385, Avg. Loss: 0.004321664767392953\n",
      "Epoch: 2, Iteration: 8000, sample_loss: 0.0005148453637957573, Avg. Loss: 0.004303154720488772\n",
      "Epoch: 2, Iteration: 9000, sample_loss: 0.0011413462925702333, Avg. Loss: 0.004312072559101525\n",
      "Epoch: 2, Iteration: 10000, sample_loss: 0.0009448351338505745, Avg. Loss: 0.004356048251760516\n",
      "Epoch: 2, Iteration: 11000, sample_loss: 0.024695003405213356, Avg. Loss: 0.004345359228451629\n",
      "Epoch: 2, Iteration: 12000, sample_loss: 0.0006999033503234386, Avg. Loss: 0.004276108079995266\n",
      "Epoch: 2, Iteration: 13000, sample_loss: 0.018454786390066147, Avg. Loss: 0.00429172306188791\n",
      "Epoch: 2, Iteration: 14000, sample_loss: 0.0008871806203387678, Avg. Loss: 0.004273363538546596\n",
      "Epoch: 2, Iteration: 15000, sample_loss: 0.027987690642476082, Avg. Loss: 0.004251027860267255\n",
      "Epoch: 2, Iteration: 16000, sample_loss: 0.0005884048296138644, Avg. Loss: 0.004249128433868864\n",
      "Epoch: 2, Iteration: 17000, sample_loss: 0.0003935262211598456, Avg. Loss: 0.004240774548415723\n",
      "Average training loss in episode 2: 0.004237197219903257\n",
      "Epoch: 3, Iteration: 0, sample_loss: 0.0005832207389175892, Avg. Loss: 0.0005832207389175892\n",
      "Epoch: 3, Iteration: 1000, sample_loss: 0.000620558625087142, Avg. Loss: 0.0034552724032032934\n",
      "Epoch: 3, Iteration: 2000, sample_loss: 0.00023261329624801874, Avg. Loss: 0.003347138769140452\n",
      "Epoch: 3, Iteration: 3000, sample_loss: 0.0006766070146113634, Avg. Loss: 0.003326928642084036\n",
      "Epoch: 3, Iteration: 4000, sample_loss: 0.0001999206724576652, Avg. Loss: 0.0032565630626027273\n",
      "Epoch: 3, Iteration: 5000, sample_loss: 0.000713900662958622, Avg. Loss: 0.003317515169756285\n",
      "Epoch: 3, Iteration: 6000, sample_loss: 0.0011325592640787363, Avg. Loss: 0.003309479743564234\n",
      "Epoch: 3, Iteration: 7000, sample_loss: 0.0006766726728528738, Avg. Loss: 0.0033388307263149133\n",
      "Epoch: 3, Iteration: 8000, sample_loss: 0.0004080680082552135, Avg. Loss: 0.00340193881345813\n",
      "Epoch: 3, Iteration: 9000, sample_loss: 0.000297294813208282, Avg. Loss: 0.003464027615124828\n",
      "Epoch: 3, Iteration: 10000, sample_loss: 0.0003763137210626155, Avg. Loss: 0.0034485212210932127\n",
      "Epoch: 3, Iteration: 11000, sample_loss: 0.0006229259888641536, Avg. Loss: 0.0034767890779169816\n",
      "Epoch: 3, Iteration: 12000, sample_loss: 0.00035986147122457623, Avg. Loss: 0.003489672453357374\n",
      "Epoch: 3, Iteration: 13000, sample_loss: 0.00046570756239816546, Avg. Loss: 0.0034992338104617576\n",
      "Epoch: 3, Iteration: 14000, sample_loss: 0.000997647875919938, Avg. Loss: 0.003545717384309367\n",
      "Epoch: 3, Iteration: 15000, sample_loss: 0.0003941096365451813, Avg. Loss: 0.0035669450848705036\n",
      "Epoch: 3, Iteration: 16000, sample_loss: 0.0005396978813223541, Avg. Loss: 0.0035679854088131874\n",
      "Epoch: 3, Iteration: 17000, sample_loss: 0.0008072968339547515, Avg. Loss: 0.0035799749488508222\n",
      "Average training loss in episode 3: 0.0035835375072128493\n",
      "Epoch: 4, Iteration: 0, sample_loss: 0.0003713685437105596, Avg. Loss: 0.0003713685437105596\n",
      "Epoch: 4, Iteration: 1000, sample_loss: 0.017567360773682594, Avg. Loss: 0.002891841546648515\n",
      "Epoch: 4, Iteration: 2000, sample_loss: 0.0010063989320769906, Avg. Loss: 0.002966593997038838\n",
      "Epoch: 4, Iteration: 3000, sample_loss: 0.000842504552565515, Avg. Loss: 0.003020715810640466\n",
      "Epoch: 4, Iteration: 4000, sample_loss: 0.0005238177254796028, Avg. Loss: 0.0030225616479461707\n",
      "Epoch: 4, Iteration: 5000, sample_loss: 0.00024250532442238182, Avg. Loss: 0.0031548240694166613\n",
      "Epoch: 4, Iteration: 6000, sample_loss: 0.0004629617906175554, Avg. Loss: 0.0031576086074837965\n",
      "Epoch: 4, Iteration: 7000, sample_loss: 0.010388956405222416, Avg. Loss: 0.003198849347927593\n",
      "Epoch: 4, Iteration: 8000, sample_loss: 0.0002988824562635273, Avg. Loss: 0.0031603755275681693\n",
      "Epoch: 4, Iteration: 9000, sample_loss: 0.0011011199094355106, Avg. Loss: 0.003141387159246032\n",
      "Epoch: 4, Iteration: 10000, sample_loss: 0.00018685187387745827, Avg. Loss: 0.003138892364898716\n",
      "Epoch: 4, Iteration: 11000, sample_loss: 0.0009580034529790282, Avg. Loss: 0.0031713381282749364\n",
      "Epoch: 4, Iteration: 12000, sample_loss: 0.0009415242820978165, Avg. Loss: 0.0031752649518869878\n",
      "Epoch: 4, Iteration: 13000, sample_loss: 0.00022688560420647264, Avg. Loss: 0.0031661982815475937\n",
      "Epoch: 4, Iteration: 14000, sample_loss: 0.018903445452451706, Avg. Loss: 0.0032050374212392\n",
      "Epoch: 4, Iteration: 15000, sample_loss: 0.0015008591581135988, Avg. Loss: 0.003225354105108135\n",
      "Epoch: 4, Iteration: 16000, sample_loss: 0.00022819312289357185, Avg. Loss: 0.0032356308921277395\n",
      "Epoch: 4, Iteration: 17000, sample_loss: 0.0008954684599302709, Avg. Loss: 0.003241502200290935\n",
      "Average training loss in episode 4: 0.0032376865953327727\n"
     ]
    }
   ],
   "source": [
    "model.train(epochs=5, batch_size=256)"
   ]
  },
  {
   "cell_type": "code",
   "execution_count": 19,
   "metadata": {},
   "outputs": [],
   "source": [
    "model.save_model(path=\"../model_states/srn2vec/\")"
   ]
  }
 ],
 "metadata": {
  "interpreter": {
   "hash": "088070de2c6b4023b2f7ae556c412f86bcd02589c7bdb3766a0caf3cf4813fbd"
  },
  "kernelspec": {
   "display_name": "Python 3.9.13 ('road')",
   "language": "python",
   "name": "python3"
  },
  "language_info": {
   "codemirror_mode": {
    "name": "ipython",
    "version": 3
   },
   "file_extension": ".py",
   "mimetype": "text/x-python",
   "name": "python",
   "nbconvert_exporter": "python",
   "pygments_lexer": "ipython3",
   "version": "3.9.13"
  },
  "orig_nbformat": 4
 },
 "nbformat": 4,
 "nbformat_minor": 2
}
