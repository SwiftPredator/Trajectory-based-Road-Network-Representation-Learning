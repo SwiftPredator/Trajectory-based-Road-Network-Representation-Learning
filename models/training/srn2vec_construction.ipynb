{
 "cells": [
  {
   "cell_type": "code",
   "execution_count": null,
   "metadata": {},
   "outputs": [],
   "source": [
    "%load_ext autoreload\n",
    "%autoreload 2\n",
    "\n",
    "import os\n",
    "import sys\n",
    "\n",
    "module_path = os.path.abspath(os.path.join('../..'))\n",
    "if module_path not in sys.path:\n",
    "    sys.path.append(module_path)\n",
    "\n",
    "from generator import RoadNetwork\n",
    "import torch\n",
    "import torch.nn as nn\n",
    "from torch.utils.data import DataLoader\n",
    "import pandas as pd\n",
    "import networkx as nx\n",
    "import numpy as np\n",
    "from tqdm import tqdm\n",
    "\n",
    "from models import SRN2VecModel\n",
    "import json"
   ]
  },
  {
   "cell_type": "code",
   "execution_count": null,
   "metadata": {},
   "outputs": [],
   "source": [
    "network = RoadNetwork()\n",
    "network.load(\"../../osm_data/porto\")"
   ]
  },
  {
   "cell_type": "code",
   "execution_count": 4,
   "metadata": {},
   "outputs": [],
   "source": [
    "device = torch.device('cuda' if torch.cuda.is_available() else 'cpu')\n",
    "model = SRN2VecModel(None, device, network)"
   ]
  },
  {
   "cell_type": "code",
   "execution_count": null,
   "metadata": {},
   "outputs": [],
   "source": [
    "model.generate_data(n_shortest_paths=100, number_negative=3, window_size=900, save_batch_size=100)"
   ]
  },
  {
   "cell_type": "code",
   "execution_count": null,
   "metadata": {},
   "outputs": [],
   "source": [
    "%lprun -f model.extract_pairs model.generate_train_pairs(network, paths, 900, 7)"
   ]
  },
  {
   "cell_type": "code",
   "execution_count": null,
   "metadata": {},
   "outputs": [],
   "source": [
    "with open(\"srn2vec-traindata.json\", \"r\") as fp:\n",
    "    a = json.load(fp)"
   ]
  },
  {
   "cell_type": "code",
   "execution_count": 37,
   "metadata": {},
   "outputs": [],
   "source": [
    "\"\"\"\n",
    "Build and train model\n",
    "\"\"\"\n",
    "network = RoadNetwork()\n",
    "network.load(\"../../osm_data/porto\")\n",
    "device = torch.device('cuda' if torch.cuda.is_available() else 'cpu')\n",
    "model = SRN2VecModel(None, device, network)\n",
    "model.load_dataset(\"./srn2vec-traindata.json\")"
   ]
  },
  {
   "cell_type": "code",
   "execution_count": 38,
   "metadata": {},
   "outputs": [
    {
     "name": "stdout",
     "output_type": "stream",
     "text": [
      "Epoch: 0, Iteration: 0, sample_loss: 0.7239810228347778, Avg. Loss: 0.7239810228347778\n",
      "Epoch: 0, Iteration: 1000, sample_loss: 0.5584360361099243, Avg. Loss: 0.615629504908334\n",
      "Epoch: 0, Iteration: 2000, sample_loss: 0.5639439225196838, Avg. Loss: 0.5965400131448158\n",
      "Epoch: 0, Iteration: 3000, sample_loss: 0.6287178993225098, Avg. Loss: 0.5890835301155489\n",
      "Epoch: 0, Iteration: 4000, sample_loss: 0.5672624111175537, Avg. Loss: 0.5853222552402947\n",
      "Epoch: 0, Iteration: 5000, sample_loss: 0.5696268081665039, Avg. Loss: 0.5832011812962287\n",
      "Epoch: 0, Iteration: 6000, sample_loss: 0.5925624370574951, Avg. Loss: 0.5818337734699885\n",
      "Epoch: 0, Iteration: 7000, sample_loss: 0.5950089693069458, Avg. Loss: 0.5806902458396678\n",
      "Epoch: 0, Iteration: 8000, sample_loss: 0.5632270574569702, Avg. Loss: 0.579303998724995\n",
      "Epoch: 0, Iteration: 9000, sample_loss: 0.5652724504470825, Avg. Loss: 0.5768814296930873\n",
      "Epoch: 0, Iteration: 10000, sample_loss: 0.516416072845459, Avg. Loss: 0.5721476304359453\n",
      "Epoch: 0, Iteration: 11000, sample_loss: 0.4797312617301941, Avg. Loss: 0.5639390610107649\n",
      "Epoch: 0, Iteration: 12000, sample_loss: 0.35813388228416443, Avg. Loss: 0.5517318133522735\n",
      "Epoch: 0, Iteration: 13000, sample_loss: 0.3164560794830322, Avg. Loss: 0.5357140212627606\n",
      "Epoch: 0, Iteration: 14000, sample_loss: 0.2416841685771942, Avg. Loss: 0.5170148272421452\n",
      "Epoch: 0, Iteration: 15000, sample_loss: 0.19071239233016968, Avg. Loss: 0.49711060009633024\n",
      "Epoch: 0, Iteration: 16000, sample_loss: 0.14815595746040344, Avg. Loss: 0.4772136518190998\n",
      "Epoch: 0, Iteration: 17000, sample_loss: 0.18040066957473755, Avg. Loss: 0.4580797562690652\n",
      "Average training loss in episode 0: 0.447666057985942\n",
      "Epoch: 1, Iteration: 0, sample_loss: 0.15088489651679993, Avg. Loss: 0.15088489651679993\n",
      "Epoch: 1, Iteration: 1000, sample_loss: 0.1187235414981842, Avg. Loss: 0.11928962191918513\n",
      "Epoch: 1, Iteration: 2000, sample_loss: 0.09048537164926529, Avg. Loss: 0.11343800619817984\n",
      "Epoch: 1, Iteration: 3000, sample_loss: 0.09815579652786255, Avg. Loss: 0.10792389445029192\n",
      "Epoch: 1, Iteration: 4000, sample_loss: 0.08929504454135895, Avg. Loss: 0.10294275316606459\n",
      "Epoch: 1, Iteration: 5000, sample_loss: 0.08138260990381241, Avg. Loss: 0.09836969904749066\n",
      "Epoch: 1, Iteration: 6000, sample_loss: 0.08163853734731674, Avg. Loss: 0.09443965014129246\n",
      "Epoch: 1, Iteration: 7000, sample_loss: 0.06124568730592728, Avg. Loss: 0.09075268821857593\n",
      "Epoch: 1, Iteration: 8000, sample_loss: 0.0609729140996933, Avg. Loss: 0.08719535027508989\n",
      "Epoch: 1, Iteration: 9000, sample_loss: 0.06500652432441711, Avg. Loss: 0.0839172455446695\n",
      "Epoch: 1, Iteration: 10000, sample_loss: 0.06030076742172241, Avg. Loss: 0.08100703648541936\n",
      "Epoch: 1, Iteration: 11000, sample_loss: 0.03602379560470581, Avg. Loss: 0.0782468807244816\n",
      "Epoch: 1, Iteration: 12000, sample_loss: 0.053397245705127716, Avg. Loss: 0.07573220699667961\n",
      "Epoch: 1, Iteration: 13000, sample_loss: 0.04307162016630173, Avg. Loss: 0.07329412664235001\n",
      "Epoch: 1, Iteration: 14000, sample_loss: 0.04942531883716583, Avg. Loss: 0.07101758374467318\n",
      "Epoch: 1, Iteration: 15000, sample_loss: 0.02328617498278618, Avg. Loss: 0.06882418206422372\n",
      "Epoch: 1, Iteration: 16000, sample_loss: 0.03793372958898544, Avg. Loss: 0.06678753275847735\n",
      "Epoch: 1, Iteration: 17000, sample_loss: 0.03485909849405289, Avg. Loss: 0.06479855679974997\n",
      "Average training loss in episode 1: 0.06370573619522553\n",
      "Epoch: 2, Iteration: 0, sample_loss: 0.028986049816012383, Avg. Loss: 0.028986049816012383\n",
      "Epoch: 2, Iteration: 1000, sample_loss: 0.029372818768024445, Avg. Loss: 0.026239006399092348\n",
      "Epoch: 2, Iteration: 2000, sample_loss: 0.012992165051400661, Avg. Loss: 0.02511821192913111\n",
      "Epoch: 2, Iteration: 3000, sample_loss: 0.013747088611125946, Avg. Loss: 0.02399557101922293\n",
      "Epoch: 2, Iteration: 4000, sample_loss: 0.018218576908111572, Avg. Loss: 0.023107493520600052\n",
      "Epoch: 2, Iteration: 5000, sample_loss: 0.0327518954873085, Avg. Loss: 0.02231521005251543\n",
      "Epoch: 2, Iteration: 6000, sample_loss: 0.012405688874423504, Avg. Loss: 0.02143153955669069\n",
      "Epoch: 2, Iteration: 7000, sample_loss: 0.023780910298228264, Avg. Loss: 0.02062557812898137\n",
      "Epoch: 2, Iteration: 8000, sample_loss: 0.006468750070780516, Avg. Loss: 0.019762001679019453\n",
      "Epoch: 2, Iteration: 9000, sample_loss: 0.009293459355831146, Avg. Loss: 0.019025483314694856\n",
      "Epoch: 2, Iteration: 10000, sample_loss: 0.021068722009658813, Avg. Loss: 0.01831780945970528\n",
      "Epoch: 2, Iteration: 11000, sample_loss: 0.013474816456437111, Avg. Loss: 0.017669719856752798\n",
      "Epoch: 2, Iteration: 12000, sample_loss: 0.0024512899108231068, Avg. Loss: 0.017004032129588755\n",
      "Epoch: 2, Iteration: 13000, sample_loss: 0.01171316858381033, Avg. Loss: 0.016404890864581412\n",
      "Epoch: 2, Iteration: 14000, sample_loss: 0.004150263033807278, Avg. Loss: 0.01582916809335278\n",
      "Epoch: 2, Iteration: 15000, sample_loss: 0.03116007149219513, Avg. Loss: 0.01526903219248\n",
      "Epoch: 2, Iteration: 16000, sample_loss: 0.0050359368324279785, Avg. Loss: 0.01476898278468899\n",
      "Epoch: 2, Iteration: 17000, sample_loss: 0.009577731601893902, Avg. Loss: 0.014289842859275275\n",
      "Average training loss in episode 2: 0.014029789008662478\n",
      "Epoch: 3, Iteration: 0, sample_loss: 0.007404761854559183, Avg. Loss: 0.007404761854559183\n",
      "Epoch: 3, Iteration: 1000, sample_loss: 0.007086934521794319, Avg. Loss: 0.004523571485341373\n",
      "Epoch: 3, Iteration: 2000, sample_loss: 0.000889222661498934, Avg. Loss: 0.004258618461838954\n",
      "Epoch: 3, Iteration: 3000, sample_loss: 0.000575997750274837, Avg. Loss: 0.0042327710098764414\n",
      "Epoch: 3, Iteration: 4000, sample_loss: 0.0004812434781342745, Avg. Loss: 0.00415842993211853\n",
      "Epoch: 3, Iteration: 5000, sample_loss: 0.0004337884020060301, Avg. Loss: 0.004100438249972863\n",
      "Epoch: 3, Iteration: 6000, sample_loss: 0.001351320999674499, Avg. Loss: 0.004054240749967237\n",
      "Epoch: 3, Iteration: 7000, sample_loss: 0.009194974787533283, Avg. Loss: 0.004001052024388608\n",
      "Epoch: 3, Iteration: 8000, sample_loss: 0.0004901553620584309, Avg. Loss: 0.003940600854141445\n",
      "Epoch: 3, Iteration: 9000, sample_loss: 0.000418738869484514, Avg. Loss: 0.0038817621645709038\n",
      "Epoch: 3, Iteration: 10000, sample_loss: 0.0009522278560325503, Avg. Loss: 0.003829684837214769\n",
      "Epoch: 3, Iteration: 11000, sample_loss: 0.0005309580592438579, Avg. Loss: 0.003768465473323986\n",
      "Epoch: 3, Iteration: 12000, sample_loss: 0.0006298805237747729, Avg. Loss: 0.0036980388361010333\n",
      "Epoch: 3, Iteration: 13000, sample_loss: 0.0008574113016948104, Avg. Loss: 0.0036284112046264918\n",
      "Epoch: 3, Iteration: 14000, sample_loss: 0.0008616301347501576, Avg. Loss: 0.003585436646656902\n",
      "Epoch: 3, Iteration: 15000, sample_loss: 0.000575804675463587, Avg. Loss: 0.0035348473820782595\n",
      "Epoch: 3, Iteration: 16000, sample_loss: 0.0009322176920250058, Avg. Loss: 0.0034844749057022276\n",
      "Epoch: 3, Iteration: 17000, sample_loss: 0.0005880040116608143, Avg. Loss: 0.0034424098892710912\n",
      "Average training loss in episode 3: 0.003409801584160836\n",
      "Epoch: 4, Iteration: 0, sample_loss: 0.000502637994941324, Avg. Loss: 0.000502637994941324\n",
      "Epoch: 4, Iteration: 1000, sample_loss: 0.00024750991724431515, Avg. Loss: 0.0022846780279129103\n",
      "Epoch: 4, Iteration: 2000, sample_loss: 0.01098838821053505, Avg. Loss: 0.002061575360414139\n",
      "Epoch: 4, Iteration: 3000, sample_loss: 0.00016512718866579235, Avg. Loss: 0.0020193446607569697\n",
      "Epoch: 4, Iteration: 4000, sample_loss: 0.0007962657837197185, Avg. Loss: 0.002021257254113692\n",
      "Epoch: 4, Iteration: 5000, sample_loss: 0.0005065923323854804, Avg. Loss: 0.0020373954626757788\n",
      "Epoch: 4, Iteration: 6000, sample_loss: 0.0005080858827568591, Avg. Loss: 0.002039371101012434\n",
      "Epoch: 4, Iteration: 7000, sample_loss: 0.00020861065422650427, Avg. Loss: 0.0020221878664341613\n",
      "Epoch: 4, Iteration: 8000, sample_loss: 0.0008449231390841305, Avg. Loss: 0.0020234017027769523\n",
      "Epoch: 4, Iteration: 9000, sample_loss: 0.00017045633285306394, Avg. Loss: 0.0019785858737403103\n",
      "Epoch: 4, Iteration: 10000, sample_loss: 0.008122612722218037, Avg. Loss: 0.001984620933112393\n",
      "Epoch: 4, Iteration: 11000, sample_loss: 0.00039917349931783974, Avg. Loss: 0.001965239468336321\n",
      "Epoch: 4, Iteration: 12000, sample_loss: 0.011115606874227524, Avg. Loss: 0.001966495261986702\n",
      "Epoch: 4, Iteration: 13000, sample_loss: 0.006822782568633556, Avg. Loss: 0.0019586745906387103\n",
      "Epoch: 4, Iteration: 14000, sample_loss: 0.0004123547114431858, Avg. Loss: 0.001954864416534376\n",
      "Epoch: 4, Iteration: 15000, sample_loss: 0.00026926101418212056, Avg. Loss: 0.001947648356489009\n",
      "Epoch: 4, Iteration: 16000, sample_loss: 0.00011753012950066477, Avg. Loss: 0.0019564529725632535\n",
      "Epoch: 4, Iteration: 17000, sample_loss: 0.00022471063130069524, Avg. Loss: 0.0019629329885359637\n",
      "Average training loss in episode 4: 0.001967989751208006\n"
     ]
    }
   ],
   "source": [
    "model.train(epochs=5, batch_size=256)"
   ]
  },
  {
   "cell_type": "code",
   "execution_count": 39,
   "metadata": {},
   "outputs": [],
   "source": [
    "model.save_model(path=\"../model_states/srn2vec/\")"
   ]
  }
 ],
 "metadata": {
  "interpreter": {
   "hash": "088070de2c6b4023b2f7ae556c412f86bcd02589c7bdb3766a0caf3cf4813fbd"
  },
  "kernelspec": {
   "display_name": "Python 3.9.13 ('road')",
   "language": "python",
   "name": "python3"
  },
  "language_info": {
   "codemirror_mode": {
    "name": "ipython",
    "version": 3
   },
   "file_extension": ".py",
   "mimetype": "text/x-python",
   "name": "python",
   "nbconvert_exporter": "python",
   "pygments_lexer": "ipython3",
   "version": "3.9.13"
  },
  "orig_nbformat": 4
 },
 "nbformat": 4,
 "nbformat_minor": 2
}
