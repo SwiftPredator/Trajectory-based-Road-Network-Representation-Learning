{
 "cells": [
  {
   "cell_type": "code",
   "execution_count": 1,
   "metadata": {},
   "outputs": [],
   "source": [
    "%load_ext autoreload\n",
    "%autoreload 2\n",
    "\n",
    "import os\n",
    "import sys\n",
    "\n",
    "module_path = os.path.abspath(os.path.join('../..'))\n",
    "if module_path not in sys.path:\n",
    "    sys.path.append(module_path)\n",
    "\n",
    "from generator import RoadNetwork\n",
    "import torch\n",
    "import torch.nn as nn\n",
    "from torch.utils.data import DataLoader\n",
    "import pandas as pd\n",
    "import networkx as nx\n",
    "import numpy as np\n",
    "from tqdm import tqdm\n",
    "\n",
    "from models import SRN2VecModel\n",
    "import json"
   ]
  },
  {
   "cell_type": "code",
   "execution_count": 2,
   "metadata": {},
   "outputs": [],
   "source": [
    "network = RoadNetwork()\n",
    "network.load(\"../../osm_data/porto\")"
   ]
  },
  {
   "cell_type": "code",
   "execution_count": 39,
   "metadata": {},
   "outputs": [],
   "source": [
    "device = torch.device('cuda' if torch.cuda.is_available() else 'cpu')\n",
    "model = SRN2VecModel(None, device, network)"
   ]
  },
  {
   "cell_type": "code",
   "execution_count": 59,
   "metadata": {},
   "outputs": [
    {
     "name": "stderr",
     "output_type": "stream",
     "text": [
      "100%|██████████| 11331/11331 [01:51<00:00, 101.56it/s]\n",
      "100%|██████████| 1/1 [10:14<00:00, 614.46s/it]\n"
     ]
    }
   ],
   "source": [
    "model.generate_data(n_shortest_paths=100, number_negative=3, window_size=900, save_batch_size=100)"
   ]
  },
  {
   "cell_type": "code",
   "execution_count": 4,
   "metadata": {},
   "outputs": [
    {
     "name": "stderr",
     "output_type": "stream",
     "text": [
      "100%|██████████| 11331/11331 [00:04<00:00, 2342.42it/s]\n"
     ]
    }
   ],
   "source": [
    "paths = model.generate_shortest_paths(\n",
    "            network.line_graph, n_shortest_paths=2\n",
    ")"
   ]
  },
  {
   "cell_type": "code",
   "execution_count": 42,
   "metadata": {},
   "outputs": [
    {
     "name": "stdout",
     "output_type": "stream",
     "text": [
      "Timer unit: 1e-06 s\n",
      "\n",
      "Total time: 82.5101 s\n",
      "File: /dstore/home/pheinemeyer/Road-Network-Embedding-Generator/models/srn2vec.py\n",
      "Function: extract_pairs at line 90\n",
      "\n",
      "Line #      Hits         Time  Per Hit   % Time  Line Contents\n",
      "==============================================================\n",
      "    90                                               def extract_pairs(\n",
      "    91                                                   self,\n",
      "    92                                                   info_length,\n",
      "    93                                                   info_highway,\n",
      "    94                                                   node_list,\n",
      "    95                                                   node_paths,\n",
      "    96                                                   window_size,\n",
      "    97                                                   number_negative,\n",
      "    98                                               ):\n",
      "    99     11331      13911.0      1.2      0.0          res = []\n",
      "   100     22662     138555.0      6.1      0.2          orig_lengths = np.array(\n",
      "   101     11331      54636.0      4.8      0.1              [0] + [len(x) for x in node_paths]\n",
      "   102                                                   ).cumsum()  # lengths of orginal sequences in flatted\n",
      "   103     11331      78929.0      7.0      0.1          flatted = list(chain.from_iterable(node_paths))\n",
      "   104                                                   # flat array and save indices -> loc on all and reshape after\n",
      "   105                                                   # get all lengths of sequence roads\n",
      "   106     11331     155668.0     13.7      0.2          flat_lengths = info_length[flatted]\n",
      "   107     11331       9677.0      0.9      0.0          node_combs = []\n",
      "   108     33993      41403.0      1.2      0.1          for i in range(len(orig_lengths) - 1):\n",
      "   109     22662      51991.0      2.3      0.1              lengths = flat_lengths[orig_lengths[i] : orig_lengths[i + 1]]\n",
      "   110                                                       # cumsum = lengths.cumsum()\n",
      "   111    912211     726357.0      0.8      0.9              for j in range(len(lengths)):\n",
      "   112    889549    9146650.0     10.3     11.1                  mask = (lengths[j:].cumsum() < window_size).sum()\n",
      "   113                                                           # idx = (np.abs(lengths[j:].cumsum() - window_size)).argmin()\n",
      "   114    889549    1522389.0      1.7      1.8                  window = node_paths[i][j : j + mask]\n",
      "   115    889549     833181.0      0.9      1.0                  if len(window) > 1:\n",
      "   116    819589    8835948.0     10.8     10.7                      combs = tuple(chain.from_iterable(list(combinations(window, 2))))\n",
      "   117    819589    1020198.0      1.2      1.2                      node_combs.extend(combs)\n",
      "   118     11331    3513719.0    310.1      4.3          highways = info_highway[node_combs].reshape(int(len(node_combs) / 2), 2)\n",
      "   119     33993    1752971.0     51.6      2.1          pairs = np.c_[\n",
      "   120     22662    3265857.0    144.1      4.0              np.array(node_combs).reshape(int(len(node_combs) / 2), 2),\n",
      "   121     11331     181513.0     16.0      0.2              np.ones(highways.shape[0]),\n",
      "   122     11331     373080.0     32.9      0.5              highways[:, 0] == highways[:, 1],\n",
      "   123                                                   ].astype(\n",
      "   124     11331      15115.0      1.3      0.0              int\n",
      "   125                                                   )  # same type\n",
      "   126                                           \n",
      "   127     11331    2986124.0    263.5      3.6          res.extend(tuple(pairs))\n",
      "   128                                           \n",
      "   129                                                   # generate negative sample\n",
      "   130     22662    2471439.0    109.1      3.0          neg_nodes = np.random.choice(\n",
      "   131     11331    9155902.0    808.0     11.1              np.setdiff1d(np.arange(0, len(node_list)), node_combs),\n",
      "   132     11331      24782.0      2.2      0.0              size=pairs.shape[0] * number_negative,\n",
      "   133                                                   )\n",
      "   134     11331      86902.0      7.7      0.1          neg_pairs = pairs.copy()\n",
      "   135     11331    1357268.0    119.8      1.6          neg_pairs = neg_pairs.repeat(repeats=number_negative, axis=0)\n",
      "   136     11331    1018992.0     89.9      1.2          replace_mask = np.random.randint(0, 2, size=neg_pairs.shape[0]).astype(bool)\n",
      "   137     11331    1985746.0    175.2      2.4          neg_pairs[replace_mask, 0] = neg_nodes[replace_mask]\n",
      "   138     11331    2024387.0    178.7      2.5          neg_pairs[~replace_mask, 1] = neg_nodes[~replace_mask]\n",
      "   139     11331     318791.0     28.1      0.4          neg_pairs[:, 2] -= 1\n",
      "   140                                           \n",
      "   141     22662    4971057.0    219.4      6.0          neg_highways = info_highway[neg_pairs[:, :2].flatten()].reshape(\n",
      "   142     11331      20261.0      1.8      0.0              neg_pairs.shape[0], 2\n",
      "   143                                                   )\n",
      "   144                                           \n",
      "   145     11331    3562819.0    314.4      4.3          neg_pairs[:, 3] = neg_highways[:, 0] == neg_highways[:, 1]\n",
      "   146                                           \n",
      "   147     11331   20780585.0   1834.0     25.2          res.extend(tuple(neg_pairs))\n",
      "   148                                                   # print(res[:3])\n",
      "   149     11331      13294.0      1.2      0.0          return res"
     ]
    }
   ],
   "source": [
    "%lprun -f model.extract_pairs model.generate_train_pairs(network, paths, 900, 7)"
   ]
  },
  {
   "cell_type": "code",
   "execution_count": 29,
   "metadata": {},
   "outputs": [
    {
     "name": "stdout",
     "output_type": "stream",
     "text": [
      "Timer unit: 1e-06 s\n",
      "\n",
      "Total time: 2983.19 s\n",
      "File: /dstore/home/pheinemeyer/Road-Network-Embedding-Generator/models/srn2vec.py\n",
      "Function: extract_pairs at line 79\n",
      "\n",
      "Line #      Hits         Time  Per Hit   % Time  Line Contents\n",
      "==============================================================\n",
      "    79                                               def extract_pairs(self, info, node_list, node_paths, window_size, number_negative):\n",
      "    80     11331      14823.0      1.3      0.0          res = []\n",
      "    81     22662     157941.0      7.0      0.0          orig_lengths = np.array(\n",
      "    82     11331      46284.0      4.1      0.0              [0] + [len(x) for x in node_paths]\n",
      "    83                                                   ).cumsum()  # lengths of orginal sequences in flatted\n",
      "    84     11331      80400.0      7.1      0.0          flatted = list(chain.from_iterable(node_paths))\n",
      "    85                                                   # flat array and save indices -> loc on all and reshape after\n",
      "    86                                                   # get all lengths of sequence roads\n",
      "    87     11331   70140065.0   6190.1      2.4          flat_lengths = info.loc[node_list[flatted].astype(list), \"length\"]\n",
      "    88     11331      19550.0      1.7      0.0          node_combs = []\n",
      "    89     33993      41729.0      1.2      0.0          for i in range(len(orig_lengths) - 1):\n",
      "    90     22662    4528268.0    199.8      0.2              lengths = flat_lengths[orig_lengths[i] : orig_lengths[i + 1]]\n",
      "    91                                                       # cumsum = lengths.cumsum()\n",
      "    92    912211    1008328.0      1.1      0.0              for j in range(len(lengths)):\n",
      "    93    889549  614778213.0    691.1     20.6                  # mask = (lengths[j:].cumsum() < window_size).sum()\n",
      "    94    889549    2866365.0      3.2      0.1                  idx = (np.abs(lengths[j:].cumsum() - window_size)).argmin()\n",
      "    95    889549    1228396.0      1.4      0.0                  window = node_paths[i][j : j + idx + 1]\n",
      "    96    819589    6017149.0      7.3      0.2                  if len(window) > 1:\n",
      "    97    819589    1431099.0      1.7      0.0                      combs = tuple(chain.from_iterable(list(combinations(window, 2))))\n",
      "    98     11331       9248.0      0.8      0.0                      node_combs.extend(combs)\n",
      "    99     22662  266737318.0  11770.2      8.9          highways = (\n",
      "   100                                                       info.loc[node_list[node_combs].astype(list), \"highway\"]\n",
      "   101     11331      34386.0      3.0      0.0              .to_numpy()\n",
      "   102                                                       .reshape(int(len(node_combs) / 2), 2)\n",
      "   103     33993    1812673.0     53.3      0.1          )\n",
      "   104     22662    3208092.0    141.6      0.1          pairs = np.c_[\n",
      "   105     11331     187294.0     16.5      0.0              np.array(node_combs).reshape(int(len(node_combs) / 2), 2),\n",
      "   106     11331     392240.0     34.6      0.0              np.ones(highways.shape[0]),\n",
      "   107                                                       highways[:, 0] == highways[:, 1],\n",
      "   108     11331      15258.0      1.3      0.0          ].astype(\n",
      "   109                                                       int\n",
      "   110                                                   )  # same type\n",
      "   111     11331    2181861.0    192.6      0.1  \n",
      "   112                                                   res.extend(tuple(pairs))\n",
      "   113                                           \n",
      "   114     22662    1805383.0     79.7      0.1          # generate negative sample\n",
      "   115     11331    7680688.0    677.8      0.3          neg_nodes = np.random.choice(\n",
      "   116     11331      24561.0      2.2      0.0              np.setdiff1d(np.arange(0, len(node_list)), node_combs),\n",
      "   117                                                       size=pairs.shape[0] * number_negative,\n",
      "   118     11331      79773.0      7.0      0.0          )\n",
      "   119     11331     437098.0     38.6      0.0          neg_pairs = pairs.copy()\n",
      "   120     11331     713163.0     62.9      0.0          neg_pairs = neg_pairs.repeat(repeats=number_negative, axis=0)\n",
      "   121     11331    1159790.0    102.4      0.0          replace_mask = np.random.randint(0, 2, size=neg_pairs.shape[0]).astype(bool)\n",
      "   122     11331    1170446.0    103.3      0.0          neg_pairs[replace_mask, 0] = neg_nodes[replace_mask]\n",
      "   123     11331     232471.0     20.5      0.0          neg_pairs[~replace_mask, 1] = neg_nodes[~replace_mask]\n",
      "   124                                                   neg_pairs[:, 2] -= 1\n",
      "   125     11331       9527.0      0.8      0.0  \n",
      "   126     22662 1980375903.0  87387.5     66.4          neg_highways = (\n",
      "   127                                                       info.loc[node_list[neg_pairs[:, :2].flatten()].astype(list), \"highway\"]\n",
      "   128     11331      30319.0      2.7      0.0              .to_numpy()\n",
      "   129                                                       .reshape(neg_pairs.shape[0], 2)\n",
      "   130                                                   )\n",
      "   131     11331    3470368.0    306.3      0.1  \n",
      "   132                                                   neg_pairs[:, 3] = neg_highways[:, 0] == neg_highways[:, 1]\n",
      "   133     11331    9053585.0    799.0      0.3  \n",
      "   134                                                   res.extend(tuple(neg_pairs))\n",
      "   135     11331      12937.0      1.1      0.0          # print(res[:3])\n",
      "   136                                                   return res"
     ]
    }
   ],
   "source": [
    "#%load_ext line_profiler\n",
    "%lprun -f model.extract_pairs model.generate_train_pairs(network, paths, 600, 3)"
   ]
  },
  {
   "cell_type": "code",
   "execution_count": 10,
   "metadata": {},
   "outputs": [
    {
     "name": "stdout",
     "output_type": "stream",
     "text": [
      "[[0, 2, 1, 1], [0, 6, 1, 1], [0, 15, 1, 1], [0, 17, 1, 0], [0, 403, 1, 0], [2, 6, 1, 1], [2, 15, 1, 1], [2, 17, 1, 0], [2, 403, 1, 0], [6, 15, 1, 1], [6, 17, 1, 0], [6, 403, 1, 0], [15, 17, 1, 0], [15, 403, 1, 0], [17, 403, 1, 1], [15, 410, 1, 0], [15, 413, 1, 1], [15, 416, 1, 0], [17, 410, 1, 1], [17, 413, 1, 0], [17, 416, 1, 0], [403, 410, 1, 1], [403, 413, 1, 0], [403, 416, 1, 0], [410, 413, 1, 0], [410, 416, 1, 0], [413, 416, 1, 0], [17, 1749, 1, 0], [17, 1752, 1, 0], [17, 6482, 1, 0], [403, 1749, 1, 0], [403, 1752, 1, 0], [403, 6482, 1, 0], [410, 1749, 1, 0], [410, 1752, 1, 0], [410, 6482, 1, 0], [413, 1749, 1, 0], [413, 1752, 1, 0], [413, 6482, 1, 0], [416, 1749, 1, 0]]\n"
     ]
    }
   ],
   "source": [
    "print(model.data[:40])"
   ]
  },
  {
   "cell_type": "code",
   "execution_count": 25,
   "metadata": {},
   "outputs": [
    {
     "data": {
      "text/html": [
       "<div>\n",
       "<style scoped>\n",
       "    .dataframe tbody tr th:only-of-type {\n",
       "        vertical-align: middle;\n",
       "    }\n",
       "\n",
       "    .dataframe tbody tr th {\n",
       "        vertical-align: top;\n",
       "    }\n",
       "\n",
       "    .dataframe thead th {\n",
       "        text-align: right;\n",
       "    }\n",
       "</style>\n",
       "<table border=\"1\" class=\"dataframe\">\n",
       "  <thead>\n",
       "    <tr style=\"text-align: right;\">\n",
       "      <th></th>\n",
       "      <th></th>\n",
       "      <th></th>\n",
       "      <th>osmid</th>\n",
       "      <th>oneway</th>\n",
       "      <th>highway</th>\n",
       "      <th>length</th>\n",
       "      <th>lanes</th>\n",
       "      <th>ref</th>\n",
       "      <th>maxspeed</th>\n",
       "      <th>bridge</th>\n",
       "      <th>name</th>\n",
       "      <th>width</th>\n",
       "      <th>access</th>\n",
       "      <th>junction</th>\n",
       "      <th>tunnel</th>\n",
       "      <th>area</th>\n",
       "      <th>fid</th>\n",
       "      <th>geometry</th>\n",
       "      <th>highway_enc</th>\n",
       "    </tr>\n",
       "    <tr>\n",
       "      <th>u</th>\n",
       "      <th>v</th>\n",
       "      <th>key</th>\n",
       "      <th></th>\n",
       "      <th></th>\n",
       "      <th></th>\n",
       "      <th></th>\n",
       "      <th></th>\n",
       "      <th></th>\n",
       "      <th></th>\n",
       "      <th></th>\n",
       "      <th></th>\n",
       "      <th></th>\n",
       "      <th></th>\n",
       "      <th></th>\n",
       "      <th></th>\n",
       "      <th></th>\n",
       "      <th></th>\n",
       "      <th></th>\n",
       "      <th></th>\n",
       "    </tr>\n",
       "  </thead>\n",
       "  <tbody>\n",
       "    <tr>\n",
       "      <th>126580884</th>\n",
       "      <th>126580298</th>\n",
       "      <th>0</th>\n",
       "      <td>13713844</td>\n",
       "      <td>1</td>\n",
       "      <td>motorway_link</td>\n",
       "      <td>62.279</td>\n",
       "      <td>None</td>\n",
       "      <td>None</td>\n",
       "      <td>None</td>\n",
       "      <td>None</td>\n",
       "      <td>None</td>\n",
       "      <td>None</td>\n",
       "      <td>None</td>\n",
       "      <td>None</td>\n",
       "      <td>None</td>\n",
       "      <td>None</td>\n",
       "      <td>561</td>\n",
       "      <td>LINESTRING (-8.64759 41.16445, -8.64791 41.164...</td>\n",
       "      <td>2</td>\n",
       "    </tr>\n",
       "    <tr>\n",
       "      <th>497690739</th>\n",
       "      <th>497690735</th>\n",
       "      <th>0</th>\n",
       "      <td>450854292</td>\n",
       "      <td>1</td>\n",
       "      <td>secondary</td>\n",
       "      <td>59.811</td>\n",
       "      <td>None</td>\n",
       "      <td>None</td>\n",
       "      <td>None</td>\n",
       "      <td>None</td>\n",
       "      <td>Rua de São João Bosco</td>\n",
       "      <td>None</td>\n",
       "      <td>None</td>\n",
       "      <td>None</td>\n",
       "      <td>None</td>\n",
       "      <td>None</td>\n",
       "      <td>4241</td>\n",
       "      <td>LINESTRING (-8.64854 41.16463, -8.64898 41.164...</td>\n",
       "      <td>6</td>\n",
       "    </tr>\n",
       "  </tbody>\n",
       "</table>\n",
       "</div>"
      ],
      "text/plain": [
       "                             osmid  oneway        highway  length lanes   ref  \\\n",
       "u         v         key                                                         \n",
       "126580884 126580298 0     13713844       1  motorway_link  62.279  None  None   \n",
       "497690739 497690735 0    450854292       1      secondary  59.811  None  None   \n",
       "\n",
       "                        maxspeed bridge                   name width access  \\\n",
       "u         v         key                                                       \n",
       "126580884 126580298 0       None   None                   None  None   None   \n",
       "497690739 497690735 0       None   None  Rua de São João Bosco  None   None   \n",
       "\n",
       "                        junction tunnel  area   fid  \\\n",
       "u         v         key                               \n",
       "126580884 126580298 0       None   None  None   561   \n",
       "497690739 497690735 0       None   None  None  4241   \n",
       "\n",
       "                                                                  geometry  \\\n",
       "u         v         key                                                      \n",
       "126580884 126580298 0    LINESTRING (-8.64759 41.16445, -8.64791 41.164...   \n",
       "497690739 497690735 0    LINESTRING (-8.64854 41.16463, -8.64898 41.164...   \n",
       "\n",
       "                         highway_enc  \n",
       "u         v         key               \n",
       "126580884 126580298 0              2  \n",
       "497690739 497690735 0              6  "
      ]
     },
     "execution_count": 25,
     "metadata": {},
     "output_type": "execute_result"
    }
   ],
   "source": [
    "n1 = list(network.line_graph.nodes)[413]\n",
    "n2 = list(network.line_graph.nodes)[1749]\n",
    "network.gdf_edges.loc[[n1, n2]]"
   ]
  },
  {
   "cell_type": "code",
   "execution_count": 28,
   "metadata": {},
   "outputs": [
    {
     "data": {
      "text/plain": [
       "{}"
      ]
     },
     "execution_count": 28,
     "metadata": {},
     "output_type": "execute_result"
    }
   ],
   "source": [
    "network.line_graph.get_edge_data(list(network.line_graph.nodes)[2], list(network.line_graph.nodes)[6])"
   ]
  },
  {
   "cell_type": "code",
   "execution_count": 28,
   "metadata": {},
   "outputs": [],
   "source": [
    "if not os.path.isfile(\"srn2vec-traindata.json\"):\n",
    "    with open(\"srn2vec-traindata.json\", \"w\") as fp:\n",
    "        json.dump(model.data, fp)\n",
    "else:\n",
    "    with open(\"srn2vec-traindata.json\", \"r\") as fp:\n",
    "        a = json.load(fp)\n",
    "    with open(\"srn2vec-traindata.json\", \"w\") as fp:\n",
    "        a.append(model.data)\n",
    "        json.dump(a, fp)"
   ]
  },
  {
   "cell_type": "code",
   "execution_count": 60,
   "metadata": {},
   "outputs": [],
   "source": [
    "with open(\"srn2vec-traindata.json\", \"r\") as fp:\n",
    "    a = json.load(fp)"
   ]
  },
  {
   "cell_type": "code",
   "execution_count": 61,
   "metadata": {},
   "outputs": [
    {
     "name": "stdout",
     "output_type": "stream",
     "text": [
      "3188608\n",
      "[[ 0  1  1  1]\n",
      " [ 0  2  1  1]\n",
      " [ 0  5  1  0]\n",
      " [ 0  6  1  1]\n",
      " [ 0  7  0  0]\n",
      " [ 0  9  1  0]\n",
      " [ 0 11  1  1]\n",
      " [ 0 12  1  1]\n",
      " [ 0 13  0  0]\n",
      " [ 0 14  1  0]]\n"
     ]
    }
   ],
   "source": [
    "print(len(a))\n",
    "b = np.unique(np.array(a), axis=0)\n",
    "print(b[:10, :])"
   ]
  }
 ],
 "metadata": {
  "interpreter": {
   "hash": "088070de2c6b4023b2f7ae556c412f86bcd02589c7bdb3766a0caf3cf4813fbd"
  },
  "kernelspec": {
   "display_name": "Python 3.9.13 ('road')",
   "language": "python",
   "name": "python3"
  },
  "language_info": {
   "codemirror_mode": {
    "name": "ipython",
    "version": 3
   },
   "file_extension": ".py",
   "mimetype": "text/x-python",
   "name": "python",
   "nbconvert_exporter": "python",
   "pygments_lexer": "ipython3",
   "version": "3.9.13"
  },
  "orig_nbformat": 4
 },
 "nbformat": 4,
 "nbformat_minor": 2
}
