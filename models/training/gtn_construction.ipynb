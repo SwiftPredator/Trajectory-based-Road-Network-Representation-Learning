{
 "cells": [
  {
   "cell_type": "code",
   "execution_count": 1,
   "metadata": {},
   "outputs": [],
   "source": [
    "%load_ext autoreload\n",
    "%autoreload 2\n",
    "\n",
    "import os\n",
    "import sys\n",
    "\n",
    "module_path = os.path.abspath(os.path.join('../..'))\n",
    "if module_path not in sys.path:\n",
    "    sys.path.append(module_path)\n",
    "\n",
    "from generator import RoadNetwork, Trajectory\n",
    "import torch\n",
    "import torch.nn as nn\n",
    "from torch.utils.data import DataLoader\n",
    "import pandas as pd\n",
    "import networkx as nx\n",
    "import numpy as np\n",
    "from tqdm import tqdm\n",
    "import matplotlib.pyplot as plt\n",
    "import torch_geometric.transforms as T\n",
    "\n",
    "from models import GTNModel, GTCModel, Traj2VecModel\n",
    "from evaluation.tasks import TravelTimeEstimation, NextLocationPrediciton"
   ]
  },
  {
   "cell_type": "code",
   "execution_count": 2,
   "metadata": {},
   "outputs": [
    {
     "data": {
      "application/vnd.jupyter.widget-view+json": {
       "model_id": "268c84e3def94f9da39409eec0f95430",
       "version_major": 2,
       "version_minor": 0
      },
      "text/plain": [
       "Pandas Apply:   0%|          | 0/300000 [00:00<?, ?it/s]"
      ]
     },
     "metadata": {},
     "output_type": "display_data"
    },
    {
     "data": {
      "application/vnd.jupyter.widget-view+json": {
       "model_id": "0acf08ce68d64943bf7217a66a04987c",
       "version_major": 2,
       "version_minor": 0
      },
      "text/plain": [
       "Pandas Apply:   0%|          | 0/300000 [00:00<?, ?it/s]"
      ]
     },
     "metadata": {},
     "output_type": "display_data"
    },
    {
     "data": {
      "application/vnd.jupyter.widget-view+json": {
       "model_id": "0a244d8124fe4a23835b261dac23572a",
       "version_major": 2,
       "version_minor": 0
      },
      "text/plain": [
       "Pandas Apply:   0%|          | 0/300000 [00:00<?, ?it/s]"
      ]
     },
     "metadata": {},
     "output_type": "display_data"
    },
    {
     "data": {
      "application/vnd.jupyter.widget-view+json": {
       "model_id": "75b4d917e9c942728f4db46d7a616340",
       "version_major": 2,
       "version_minor": 0
      },
      "text/plain": [
       "Pandas Apply:   0%|          | 0/300000 [00:00<?, ?it/s]"
      ]
     },
     "metadata": {},
     "output_type": "display_data"
    },
    {
     "data": {
      "application/vnd.jupyter.widget-view+json": {
       "model_id": "978b3f6688f441b89411be7a71f760f4",
       "version_major": 2,
       "version_minor": 0
      },
      "text/plain": [
       "Pandas Apply:   0%|          | 0/300000 [00:00<?, ?it/s]"
      ]
     },
     "metadata": {},
     "output_type": "display_data"
    }
   ],
   "source": [
    "network = RoadNetwork()\n",
    "network.load(\"../../osm_data/porto\")\n",
    "trajectory = Trajectory(\"../../datasets/trajectories/Porto/road_segment_map_final.csv\", nrows=300000).generate_TTE_datatset()\n",
    "\n",
    "data_roadclf = network.generate_road_segment_pyg_dataset(include_coords=True, drop_labels=[\"highway_enc\"], traj_data=None)\n",
    "data_rest = network.generate_road_segment_pyg_dataset(include_coords=True, traj_data=None)\n",
    "\n",
    "adj = np.loadtxt(\"./gtn_precalc_adj/traj_adj_k_1.gz\")"
   ]
  },
  {
   "cell_type": "code",
   "execution_count": 3,
   "metadata": {},
   "outputs": [],
   "source": [
    "# create init emb from gtc and traj2vec concat\n",
    "device = torch.device('cuda:1' if torch.cuda.is_available() else 'cpu')\n",
    "traj2vec = Traj2VecModel(data_roadclf, network, adj, device=device, emb_dim=128)\n",
    "traj2vec.load_model(\"../model_states/traj2vec/model_base.pt\")\n",
    "gtc = GTCModel(data_roadclf, device, network, None, adj=adj)\n",
    "gtc.load_model(\"../model_states/gtc/model_noroad.pt\")\n",
    "\n",
    "init_emb = torch.Tensor(np.concatenate([gtc.load_emb(), traj2vec.load_emb()], axis=1))\n"
   ]
  },
  {
   "cell_type": "code",
   "execution_count": 15,
   "metadata": {},
   "outputs": [],
   "source": [
    "# init GTN Model\n",
    "model = GTNModel(data_roadclf, device, network, trajectory, init_emb, batch_size=256)"
   ]
  },
  {
   "cell_type": "code",
   "execution_count": 16,
   "metadata": {},
   "outputs": [
    {
     "name": "stdout",
     "output_type": "stream",
     "text": [
      "Epoch: 0, iter 0 loss: 1.8436007499694824\n",
      "Epoch: 0, iter 100 loss: 1.442795753479004\n",
      "Epoch: 0, iter 200 loss: 1.5422964096069336\n",
      "Epoch: 0, iter 300 loss: 1.493300437927246\n",
      "Epoch: 0, iter 400 loss: 1.5058035850524902\n",
      "Epoch: 0, iter 500 loss: 1.4990227222442627\n",
      "Epoch: 0, iter 600 loss: 1.5653284788131714\n",
      "Epoch: 0, iter 700 loss: 1.5668137073516846\n",
      "Epoch: 0, iter 800 loss: 1.4899424314498901\n",
      "Epoch: 0, iter 900 loss: 1.5259298086166382\n",
      "Epoch: 0, iter 1000 loss: 1.3216097354888916\n",
      "Epoch: 0, iter 1100 loss: 1.4453686475753784\n",
      "Epoch: 1, iter 0 loss: 1.5750726461410522\n",
      "Epoch: 1, iter 100 loss: 1.500986933708191\n",
      "Epoch: 1, iter 200 loss: 1.4377771615982056\n",
      "Epoch: 1, iter 300 loss: 1.4004288911819458\n",
      "Epoch: 1, iter 400 loss: 1.4504314661026\n",
      "Epoch: 1, iter 500 loss: 1.4789103269577026\n",
      "Epoch: 1, iter 600 loss: 1.5336271524429321\n",
      "Epoch: 1, iter 700 loss: 1.4764974117279053\n",
      "Epoch: 1, iter 800 loss: 1.4078818559646606\n",
      "Epoch: 1, iter 900 loss: 1.4049170017242432\n",
      "Epoch: 1, iter 1000 loss: 1.5029305219650269\n",
      "Epoch: 1, iter 1100 loss: 1.4391206502914429\n",
      "Epoch: 2, iter 0 loss: 1.5605716705322266\n",
      "Epoch: 2, iter 100 loss: 1.4306962490081787\n",
      "Epoch: 2, iter 200 loss: 1.5449386835098267\n",
      "Epoch: 2, iter 300 loss: 1.4278295040130615\n",
      "Epoch: 2, iter 400 loss: 1.4783334732055664\n",
      "Epoch: 2, iter 500 loss: 1.491451621055603\n",
      "Epoch: 2, iter 600 loss: 1.5840405225753784\n",
      "Epoch: 2, iter 700 loss: 1.4641302824020386\n",
      "Epoch: 2, iter 800 loss: 1.446175456047058\n",
      "Epoch: 2, iter 900 loss: 1.4253755807876587\n",
      "Epoch: 2, iter 1000 loss: 1.3983991146087646\n",
      "Epoch: 2, iter 1100 loss: 1.408828854560852\n",
      "Epoch: 3, iter 0 loss: 1.5572378635406494\n",
      "Epoch: 3, iter 100 loss: 1.42241632938385\n",
      "Epoch: 3, iter 200 loss: 1.3589001893997192\n",
      "Epoch: 3, iter 300 loss: 1.514824628829956\n",
      "Epoch: 3, iter 400 loss: 1.3529921770095825\n",
      "Epoch: 3, iter 500 loss: 1.3986327648162842\n",
      "Epoch: 3, iter 600 loss: 1.3925776481628418\n",
      "Epoch: 3, iter 700 loss: 1.476035714149475\n",
      "Epoch: 3, iter 800 loss: 1.4743626117706299\n",
      "Epoch: 3, iter 900 loss: 1.4269310235977173\n",
      "Epoch: 3, iter 1000 loss: 1.3771988153457642\n",
      "Epoch: 3, iter 1100 loss: 1.4300366640090942\n"
     ]
    }
   ],
   "source": [
    "model.train(epochs=4)"
   ]
  },
  {
   "cell_type": "code",
   "execution_count": 17,
   "metadata": {},
   "outputs": [
    {
     "data": {
      "text/plain": [
       "(11331, 256)"
      ]
     },
     "execution_count": 17,
     "metadata": {},
     "output_type": "execute_result"
    }
   ],
   "source": [
    "emb = model.model.transformer.embed.tok_embed.weight.data.cpu().numpy()\n",
    "emb.shape"
   ]
  },
  {
   "cell_type": "code",
   "execution_count": 19,
   "metadata": {},
   "outputs": [],
   "source": [
    "torch.save(model.model.state_dict(), os.path.join(\"../model_states/gtn/\" + \"/model.pt\"))"
   ]
  },
  {
   "cell_type": "code",
   "execution_count": 18,
   "metadata": {},
   "outputs": [
    {
     "name": "stdout",
     "output_type": "stream",
     "text": [
      "0.2769757234281964\n",
      "0.3655384219445935\n",
      "0.48479595960566313\n"
     ]
    }
   ],
   "source": [
    "from sklearn import model_selection\n",
    "from sklearn import linear_model\n",
    "from sklearn import metrics\n",
    "from sklearn.tree import DecisionTreeClassifier\n",
    "from sklearn.ensemble import RandomForestClassifier\n",
    "from sklearn.model_selection import cross_val_score\n",
    "from sklearn.metrics import make_scorer\n",
    "\n",
    "idxs = np.arange(len(network.line_graph.nodes))\n",
    "train_idx, test_idx = model_selection.train_test_split(idxs, test_size=0.2, random_state=69)\n",
    "y = np.array([network.gdf_edges.loc[n][\"highway_enc\"] for n in network.line_graph.nodes])\n",
    "\n",
    "z = emb\n",
    "zct = np.concatenate((emb, init_emb), axis=1)\n",
    "# zcnn = np.concatenate((zn, z4), axis=1)\n",
    "# zctn = np.concatenate((zn, z5), axis=1)\n",
    "# X = z # embedding for each node\n",
    "eva = [z, zct, init_emb]\n",
    "for X in eva:\n",
    "    X_train, X_test, y_train, y_test = X[train_idx], X[test_idx], y[train_idx], y[test_idx]\n",
    "\n",
    "    lm = linear_model.LogisticRegression(multi_class=\"multinomial\", max_iter=1000)\n",
    "    lm.fit(X_train, y_train)\n",
    "    scorer = make_scorer(metrics.f1_score, average=\"macro\")\n",
    "    print(np.mean(cross_val_score(estimator=lm, X=X_test, y=y_test, scoring=scorer, cv=5)))"
   ]
  }
 ],
 "metadata": {
  "kernelspec": {
   "display_name": "Python 3.9.13 ('road')",
   "language": "python",
   "name": "python3"
  },
  "language_info": {
   "codemirror_mode": {
    "name": "ipython",
    "version": 3
   },
   "file_extension": ".py",
   "mimetype": "text/x-python",
   "name": "python",
   "nbconvert_exporter": "python",
   "pygments_lexer": "ipython3",
   "version": "3.9.13"
  },
  "orig_nbformat": 4,
  "vscode": {
   "interpreter": {
    "hash": "088070de2c6b4023b2f7ae556c412f86bcd02589c7bdb3766a0caf3cf4813fbd"
   }
  }
 },
 "nbformat": 4,
 "nbformat_minor": 2
}
