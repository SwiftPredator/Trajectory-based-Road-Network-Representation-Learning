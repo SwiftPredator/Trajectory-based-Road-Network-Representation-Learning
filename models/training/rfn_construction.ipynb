{
 "cells": [
  {
   "cell_type": "code",
   "execution_count": 6,
   "metadata": {},
   "outputs": [
    {
     "name": "stdout",
     "output_type": "stream",
     "text": [
      "The autoreload extension is already loaded. To reload it, use:\n",
      "  %reload_ext autoreload\n"
     ]
    }
   ],
   "source": [
    "%load_ext autoreload\n",
    "%autoreload 2\n",
    "\n",
    "import os\n",
    "import sys\n",
    "os.environ['LD_LIBRARY_PATH'] = \"$LD_LIBRARY_PATH:/usr/local/cuda-11.3/lib64/\"\n",
    "module_path = os.path.abspath(os.path.join('../..'))\n",
    "if module_path not in sys.path:\n",
    "    sys.path.append(module_path)\n",
    "\n",
    "from generator import RoadNetwork\n",
    "#import torch\n",
    "#import torch.nn as nn\n",
    "#from torch.utils.data import DataLoader\n",
    "#import pandas as pd\n",
    "import networkx as nx\n",
    "import osmnx as ox\n",
    "#import numpy as np\n",
    "#from tqdm import tqdm\n",
    "\n",
    "from models import RFNModel"
   ]
  },
  {
   "cell_type": "code",
   "execution_count": 2,
   "metadata": {},
   "outputs": [],
   "source": [
    "network = RoadNetwork()\n",
    "network.load(\"../../osm_data/porto\")"
   ]
  },
  {
   "cell_type": "code",
   "execution_count": 3,
   "metadata": {},
   "outputs": [
    {
     "name": "stdout",
     "output_type": "stream",
     "text": [
      "[(25503936, 4722746638, 0), (25503936, 281726624, 0), (4722746638, 4722746637, 0)] [(25503936, 4722746638, 0), (4722746638, 4722746637, 0), (4722746638, 25504027, 0)] [(25503936, 4722746638, 0), (25503936, 281726624, 0), (4722746638, 4722746637, 0)]\n",
      "[8159, 4888, 8556, 5014]\n",
      "Primal V,E: (5358, 11331), Dual V,E: (11331, 26617)\n"
     ]
    },
    {
     "name": "stderr",
     "output_type": "stream",
     "text": [
      "[21:56:17] ../src/base.cc:79: cuDNN lib mismatch: linked-against version 8201 != compiled-against version 8101.  Set MXNET_CUDNN_LIB_CHECKING=0 to quiet this warning.\n"
     ]
    },
    {
     "name": "stdout",
     "output_type": "stream",
     "text": [
      "FeatureInfo(no_node_features=2, no_edge_features=16, no_between_edge_features=4)\n"
     ]
    }
   ],
   "source": [
    "model = RFNModel(None, None, network)"
   ]
  },
  {
   "cell_type": "code",
   "execution_count": 4,
   "metadata": {},
   "outputs": [
    {
     "name": "stdout",
     "output_type": "stream",
     "text": [
      "Loss at Epoch 100: 1.10438871383667\n",
      "Loss at Epoch 200: 1.0221422910690308\n"
     ]
    },
    {
     "data": {
      "text/plain": [
       "[1.3938422,\n",
       " 1.3776329,\n",
       " 1.36296,\n",
       " 1.3488052,\n",
       " 1.3303618,\n",
       " 1.313101,\n",
       " 1.2968051,\n",
       " 1.2802949,\n",
       " 1.268782,\n",
       " 1.2587417,\n",
       " 1.2482145,\n",
       " 1.2369217,\n",
       " 1.2305205,\n",
       " 1.225518,\n",
       " 1.2150041,\n",
       " 1.2100843,\n",
       " 1.2012769,\n",
       " 1.1931684,\n",
       " 1.1847575,\n",
       " 1.1794273,\n",
       " 1.1704394,\n",
       " 1.164083,\n",
       " 1.1581519,\n",
       " 1.1543367,\n",
       " 1.1509247,\n",
       " 1.1490109,\n",
       " 1.1417149,\n",
       " 1.1386077,\n",
       " 1.1375693,\n",
       " 1.1326065,\n",
       " 1.1270955,\n",
       " 1.1244795,\n",
       " 1.1138257,\n",
       " 1.114039,\n",
       " 1.114096,\n",
       " 1.1106583,\n",
       " 1.1022367,\n",
       " 1.1008494,\n",
       " 1.1009289,\n",
       " 1.0981426,\n",
       " 1.0949849,\n",
       " 1.0914495,\n",
       " 1.088956,\n",
       " 1.0857717,\n",
       " 1.0829308,\n",
       " 1.0803099,\n",
       " 1.0836732,\n",
       " 1.0776867,\n",
       " 1.0721582,\n",
       " 1.0755392,\n",
       " 1.0716574,\n",
       " 1.0671823,\n",
       " 1.0688227,\n",
       " 1.0664792,\n",
       " 1.0635298,\n",
       " 1.0657642,\n",
       " 1.059382,\n",
       " 1.0571153,\n",
       " 1.0550704,\n",
       " 1.0500596,\n",
       " 1.05047,\n",
       " 1.0513556,\n",
       " 1.0486654,\n",
       " 1.0456886,\n",
       " 1.0475278,\n",
       " 1.0455421,\n",
       " 1.039873,\n",
       " 1.0422552,\n",
       " 1.0389531,\n",
       " 1.0384859,\n",
       " 1.0369626,\n",
       " 1.0378177,\n",
       " 1.0349056,\n",
       " 1.0373346,\n",
       " 1.0332133,\n",
       " 1.0298,\n",
       " 1.0275143,\n",
       " 1.027529,\n",
       " 1.0224208,\n",
       " 1.0251658,\n",
       " 1.023872,\n",
       " 1.0213399,\n",
       " 1.0189161,\n",
       " 1.0185735,\n",
       " 1.0173339,\n",
       " 1.0195924,\n",
       " 1.0129533,\n",
       " 1.0081764,\n",
       " 1.0108432,\n",
       " 1.0118666,\n",
       " 1.0076807,\n",
       " 1.0070186,\n",
       " 1.0026469,\n",
       " 1.0006893,\n",
       " 1.0007327,\n",
       " 0.9975097,\n",
       " 0.994303,\n",
       " 0.9914667,\n",
       " 0.9889512,\n",
       " 0.98585194,\n",
       " 0.9881469,\n",
       " 0.98327947,\n",
       " 0.9841348,\n",
       " 0.981194,\n",
       " 0.9803822,\n",
       " 0.97582877,\n",
       " 0.9768774,\n",
       " 0.9698622,\n",
       " 0.97433853,\n",
       " 0.9719935,\n",
       " 0.9696789,\n",
       " 0.97208697,\n",
       " 0.96687883,\n",
       " 0.9693005,\n",
       " 0.96627045,\n",
       " 0.96427405,\n",
       " 0.9654389,\n",
       " 0.96180415,\n",
       " 0.9634491,\n",
       " 0.96145356,\n",
       " 0.96114993,\n",
       " 0.9573364,\n",
       " 0.95861536,\n",
       " 0.9616275,\n",
       " 0.9558883,\n",
       " 0.9596605,\n",
       " 0.9564936,\n",
       " 0.9565735,\n",
       " 0.95515436,\n",
       " 0.9518409,\n",
       " 0.9541053,\n",
       " 0.9501873,\n",
       " 0.948346,\n",
       " 0.9445859,\n",
       " 0.94914496,\n",
       " 0.9480537,\n",
       " 0.9472517,\n",
       " 0.9448565,\n",
       " 0.9452849,\n",
       " 0.9465798,\n",
       " 0.9434544,\n",
       " 0.94359064,\n",
       " 0.940237,\n",
       " 0.937806,\n",
       " 0.94169027,\n",
       " 0.9398295,\n",
       " 0.94002,\n",
       " 0.93646955,\n",
       " 0.9391715,\n",
       " 0.93427366,\n",
       " 0.93727905,\n",
       " 0.9358934,\n",
       " 0.93469834,\n",
       " 0.9351379,\n",
       " 0.9322141,\n",
       " 0.93161863,\n",
       " 0.9309228,\n",
       " 0.9270999,\n",
       " 0.93036,\n",
       " 0.9281192,\n",
       " 0.92832416,\n",
       " 0.9289232,\n",
       " 0.92747235,\n",
       " 0.92493886,\n",
       " 0.93016547,\n",
       " 0.92695934,\n",
       " 0.9234223,\n",
       " 0.929099,\n",
       " 0.9254034,\n",
       " 0.92489266,\n",
       " 0.92470735,\n",
       " 0.9218836,\n",
       " 0.92287594,\n",
       " 0.92294276,\n",
       " 0.92311245,\n",
       " 0.9197681,\n",
       " 0.9233114,\n",
       " 0.9262788,\n",
       " 0.922191,\n",
       " 0.917331,\n",
       " 0.9178502,\n",
       " 0.9183353,\n",
       " 0.91818887,\n",
       " 0.91760457,\n",
       " 0.9190006,\n",
       " 0.91691667,\n",
       " 0.91728383,\n",
       " 0.91479784,\n",
       " 0.91820705,\n",
       " 0.9171247,\n",
       " 0.91352737,\n",
       " 0.9106736,\n",
       " 0.91229874,\n",
       " 0.9087461,\n",
       " 0.9117644,\n",
       " 0.9107495,\n",
       " 0.90787137,\n",
       " 0.9116123,\n",
       " 0.91012806,\n",
       " 0.91515356]"
      ]
     },
     "execution_count": 4,
     "metadata": {},
     "output_type": "execute_result"
    }
   ],
   "source": [
    "model.train(epochs=200)"
   ]
  },
  {
   "cell_type": "code",
   "execution_count": 5,
   "metadata": {},
   "outputs": [],
   "source": [
    "model.save_model(path=\"../model_states/rfn\")"
   ]
  },
  {
   "cell_type": "code",
   "execution_count": 6,
   "metadata": {},
   "outputs": [],
   "source": [
    "model.load_model(path=\"../model_states/rfn/model.pt\")"
   ]
  }
 ],
 "metadata": {
  "kernelspec": {
   "display_name": "Python 3.9.13 ('road')",
   "language": "python",
   "name": "python3"
  },
  "language_info": {
   "codemirror_mode": {
    "name": "ipython",
    "version": 3
   },
   "file_extension": ".py",
   "mimetype": "text/x-python",
   "name": "python",
   "nbconvert_exporter": "python",
   "pygments_lexer": "ipython3",
   "version": "3.9.13"
  },
  "orig_nbformat": 4,
  "vscode": {
   "interpreter": {
    "hash": "088070de2c6b4023b2f7ae556c412f86bcd02589c7bdb3766a0caf3cf4813fbd"
   }
  }
 },
 "nbformat": 4,
 "nbformat_minor": 2
}
