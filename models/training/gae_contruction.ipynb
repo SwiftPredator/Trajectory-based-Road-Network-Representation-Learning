{
 "cells": [
  {
   "cell_type": "code",
   "execution_count": 1,
   "metadata": {},
   "outputs": [],
   "source": [
    "%load_ext autoreload\n",
    "%autoreload 2\n",
    "\n",
    "import os\n",
    "import sys\n",
    "\n",
    "module_path = os.path.abspath(os.path.join('../..'))\n",
    "if module_path not in sys.path:\n",
    "    sys.path.append(module_path)\n",
    "\n",
    "from generator import RoadNetwork\n",
    "import torch\n",
    "import torch.nn as nn\n",
    "from torch.utils.data import DataLoader\n",
    "import pandas as pd\n",
    "import networkx as nx\n",
    "import numpy as np\n",
    "from tqdm import tqdm\n",
    "\n",
    "from models import GAEModel, GCNEncoder, GATEncoder"
   ]
  },
  {
   "cell_type": "code",
   "execution_count": 2,
   "metadata": {},
   "outputs": [],
   "source": [
    "network = RoadNetwork()\n",
    "network.load(\"../../osm_data/porto\")\n",
    "# df = pd.read_csv(\"../datasets/trajectories/Porto/road_segment_map_final.csv\", sep=\";\", usecols=[\"id\", \"cpath\"])\n",
    "traj_features = pd.read_csv(\"../../datasets/trajectories/Porto/speed_features_unnormalized.csv\")\n",
    "traj_features.set_index([\"u\", \"v\", \"key\"], inplace=True)\n",
    "traj_features[\"util\"] = (traj_features[\"util\"] - traj_features[\"util\"].min()) / (traj_features[\"util\"].max() - traj_features[\"util\"].min())  # min max normalization\n",
    "traj_features[\"avg_speed\"] = (traj_features[\"avg_speed\"] - traj_features[\"avg_speed\"].min()) / (traj_features[\"avg_speed\"].max() - traj_features[\"avg_speed\"].min())  # min max normalization\n",
    "traj_features.fillna(0, inplace=True)"
   ]
  },
  {
   "cell_type": "code",
   "execution_count": 3,
   "metadata": {},
   "outputs": [
    {
     "name": "stdout",
     "output_type": "stream",
     "text": [
      "<class 'pandas.core.frame.DataFrame'>\n",
      "MultiIndex: 11331 entries, (25503936, 4722746638, 0) to (9709007543, 415754684, 0)\n",
      "Data columns (total 3 columns):\n",
      " #   Column     Non-Null Count  Dtype  \n",
      "---  ------     --------------  -----  \n",
      " 0   id         11331 non-null  int64  \n",
      " 1   util       11331 non-null  float64\n",
      " 2   avg_speed  11331 non-null  float64\n",
      "dtypes: float64(2), int64(1)\n",
      "memory usage: 662.5 KB\n",
      "None\n"
     ]
    }
   ],
   "source": [
    "torch.cuda.set_device(1)\n",
    "torch.cuda.is_available()\n",
    "\n",
    "print(traj_features.info())"
   ]
  },
  {
   "cell_type": "code",
   "execution_count": 4,
   "metadata": {},
   "outputs": [],
   "source": [
    "data = network.generate_road_segment_pyg_dataset(traj_data=traj_features)"
   ]
  },
  {
   "cell_type": "code",
   "execution_count": 5,
   "metadata": {},
   "outputs": [
    {
     "data": {
      "text/plain": [
       "tensor([[0.2306, 0.0033, 0.0000,  ..., 0.0000, 0.0000, 0.0000],\n",
       "        [0.3033, 0.0033, 0.0000,  ..., 0.0000, 0.0000, 0.0000],\n",
       "        [0.3040, 0.0123, 0.0000,  ..., 0.0000, 0.0000, 0.0000],\n",
       "        ...,\n",
       "        [0.0000, 0.0115, 0.0000,  ..., 0.0000, 0.0000, 0.0000],\n",
       "        [0.0000, 0.0425, 0.0000,  ..., 0.0000, 0.0000, 0.0000],\n",
       "        [0.0000, 0.0425, 0.0000,  ..., 0.0000, 0.0000, 0.0000]],\n",
       "       dtype=torch.float64)"
      ]
     },
     "execution_count": 5,
     "metadata": {},
     "output_type": "execute_result"
    }
   ],
   "source": [
    "data.x"
   ]
  },
  {
   "cell_type": "code",
   "execution_count": 6,
   "metadata": {},
   "outputs": [],
   "source": [
    "# for training without features\n",
    "data.x = None"
   ]
  },
  {
   "cell_type": "code",
   "execution_count": 7,
   "metadata": {},
   "outputs": [
    {
     "name": "stderr",
     "output_type": "stream",
     "text": [
      "/home/pheinemeyer/miniconda3/envs/road/lib/python3.9/site-packages/torch_geometric/data/storage.py:261: UserWarning: Unable to accurately infer 'num_nodes' from the attribute set '{'edge_index'}'. Please explicitly set 'num_nodes' as an attribute of 'data' to suppress this warning\n",
      "  warnings.warn(\n"
     ]
    },
    {
     "name": "stdout",
     "output_type": "stream",
     "text": [
      "torch.Size([11331, 129])\n",
      "Epoch: 500, avg_loss: 1.078448539018631\n",
      "Epoch: 1000, avg_loss: 1.0693705228567123\n",
      "Epoch: 1500, avg_loss: 1.0628761025269826\n",
      "Epoch: 2000, avg_loss: 1.058221438884735\n",
      "Epoch: 2500, avg_loss: 1.0548021503925324\n",
      "Epoch: 3000, avg_loss: 1.0522288338343302\n",
      "Epoch: 3500, avg_loss: 1.0511149499416352\n",
      "Epoch: 4000, avg_loss: 1.0494538285136223\n",
      "Epoch: 4500, avg_loss: 1.0479780311849383\n",
      "Epoch: 5000, avg_loss: 1.0467378011226653\n",
      "Epoch: 5500, avg_loss: 1.045554447889328\n",
      "Epoch: 6000, avg_loss: 1.0461784299016\n",
      "Epoch: 6500, avg_loss: 1.045638972557508\n",
      "Epoch: 7000, avg_loss: 1.0449535868849074\n",
      "Epoch: 7500, avg_loss: 1.0442159131368\n",
      "Epoch: 8000, avg_loss: 1.0435227753967047\n",
      "Epoch: 8500, avg_loss: 1.042878923921024\n",
      "Epoch: 9000, avg_loss: 1.0422102374368243\n",
      "Epoch: 9500, avg_loss: 1.0415169450483823\n",
      "Epoch: 10000, avg_loss: 1.0408845550656318\n",
      "Epoch: 10500, avg_loss: 1.0403793281487057\n",
      "Epoch: 11000, avg_loss: 1.0397985401803798\n",
      "Epoch: 11500, avg_loss: 1.039260646218839\n",
      "Epoch: 12000, avg_loss: 1.0387146487335364\n",
      "Epoch: 12500, avg_loss: 1.038239793767929\n",
      "Epoch: 13000, avg_loss: 1.0376651558784338\n",
      "Epoch: 13500, avg_loss: 1.037109225096526\n",
      "Epoch: 14000, avg_loss: 1.0366022902982575\n",
      "Epoch: 14500, avg_loss: 1.0361269557640471\n",
      "Epoch: 15000, avg_loss: 1.0357985752344132\n",
      "Epoch: 15500, avg_loss: 1.0352614790008914\n",
      "Epoch: 16000, avg_loss: 1.0347023994475604\n",
      "Epoch: 16500, avg_loss: 1.03415566536152\n",
      "Epoch: 17000, avg_loss: 1.0337554653111627\n",
      "Epoch: 17500, avg_loss: 1.0332298892974854\n",
      "Epoch: 18000, avg_loss: 1.0327304248611133\n",
      "Epoch: 18500, avg_loss: 1.0322434947748442\n",
      "Epoch: 19000, avg_loss: 1.0317788851574847\n",
      "Epoch: 19500, avg_loss: 1.031342501915418\n",
      "Epoch: 20000, avg_loss: 1.030886908239126\n",
      "Epoch: 20500, avg_loss: 1.0304661541711992\n",
      "Epoch: 21000, avg_loss: 1.030099394738674\n",
      "Epoch: 21500, avg_loss: 1.0296877211664999\n",
      "Epoch: 22000, avg_loss: 1.0293116726631468\n",
      "Epoch: 22500, avg_loss: 1.0289647948821385\n",
      "Epoch: 23000, avg_loss: 1.0286192039899205\n",
      "Epoch: 23500, avg_loss: 1.0283026548268948\n",
      "Epoch: 24000, avg_loss: 1.028056252318124\n",
      "Epoch: 24500, avg_loss: 1.0277113319124493\n",
      "Epoch: 25000, avg_loss: 1.0273976710414887\n",
      "Epoch: 25500, avg_loss: 1.0270914160083322\n",
      "Epoch: 26000, avg_loss: 1.0267887369348452\n",
      "Epoch: 26500, avg_loss: 1.0264955184482178\n",
      "Epoch: 27000, avg_loss: 1.0261838584365668\n",
      "Epoch: 27500, avg_loss: 1.0258836459138176\n",
      "Epoch: 28000, avg_loss: 1.0255849916956254\n",
      "Epoch: 28500, avg_loss: 1.025307360253836\n",
      "Epoch: 29000, avg_loss: 1.0250395734022404\n",
      "Epoch: 29500, avg_loss: 1.0247475951566534\n",
      "Epoch: 30000, avg_loss: 1.0244951590597628\n",
      "Epoch: 30500, avg_loss: 1.0242357378475002\n",
      "Epoch: 31000, avg_loss: 1.023982467803263\n",
      "Epoch: 31500, avg_loss: 1.023736414875303\n",
      "Epoch: 32000, avg_loss: 1.0234880838859826\n",
      "Epoch: 32500, avg_loss: 1.0232586690425873\n",
      "Epoch: 33000, avg_loss: 1.0230334508184231\n",
      "Epoch: 33500, avg_loss: 1.0228043256695591\n",
      "Epoch: 34000, avg_loss: 1.0226039842191865\n",
      "Epoch: 34500, avg_loss: 1.0224155966941861\n",
      "Epoch: 35000, avg_loss: 1.0222055886200496\n",
      "Epoch: 35500, avg_loss: 1.0220214961028435\n",
      "Epoch: 36000, avg_loss: 1.0218218525813685\n",
      "Epoch: 36500, avg_loss: 1.021647538358218\n",
      "Epoch: 37000, avg_loss: 1.0214729506470062\n",
      "Epoch: 37500, avg_loss: 1.0213013666963577\n",
      "Epoch: 38000, avg_loss: 1.0211258909906211\n",
      "Epoch: 38500, avg_loss: 1.0209631153438\n",
      "Epoch: 39000, avg_loss: 1.0208025906513898\n",
      "Epoch: 39500, avg_loss: 1.0206480237366278\n",
      "Epoch: 40000, avg_loss: 1.0204872780248522\n",
      "Epoch: 40500, avg_loss: 1.0203462984061535\n",
      "Epoch: 41000, avg_loss: 1.0202663960471385\n",
      "Epoch: 41500, avg_loss: 1.0203011148478611\n",
      "Epoch: 42000, avg_loss: 1.0202112326778117\n",
      "Epoch: 42500, avg_loss: 1.020111177053171\n",
      "Epoch: 43000, avg_loss: 1.0200006356183873\n",
      "Epoch: 43500, avg_loss: 1.0198968148272614\n",
      "Epoch: 44000, avg_loss: 1.0198169472190466\n",
      "Epoch: 44500, avg_loss: 1.0196941566614623\n",
      "Epoch: 45000, avg_loss: 1.0196275867117777\n",
      "Epoch: 45500, avg_loss: 1.0196333897886696\n",
      "Epoch: 46000, avg_loss: 1.019547480089509\n",
      "Epoch: 46500, avg_loss: 1.0194568389423433\n",
      "Epoch: 47000, avg_loss: 1.0193704211141201\n",
      "Epoch: 47500, avg_loss: 1.019275097907217\n",
      "Epoch: 48000, avg_loss: 1.0191897395029663\n",
      "Epoch: 48500, avg_loss: 1.0190866988491767\n",
      "Epoch: 49000, avg_loss: 1.0189938301529202\n",
      "Epoch: 49500, avg_loss: 1.0188913445966412\n"
     ]
    }
   ],
   "source": [
    "from torch_geometric.data import Data\n",
    "import torch_geometric.transforms as T\n",
    "\n",
    "# create pyg dataset\n",
    "device = torch.device('cuda' if torch.cuda.is_available() else 'cpu')\n",
    "transform = T.Compose([\n",
    "    T.OneHotDegree(128), # training without features\n",
    "    T.ToDevice(device),\n",
    "])\n",
    "data = transform(data)\n",
    "print(data.x.shape)\n",
    "model = GAEModel(data, device=device, encoder=GATEncoder, emb_dim=128)\n",
    "model.train(epochs=50000)\n",
    "# model.save_model(path=\"../model_states/gaegcn/\")\n",
    "# model.save_emb(path=\"../model_states/gaegcn/\")\n"
   ]
  },
  {
   "cell_type": "code",
   "execution_count": 10,
   "metadata": {},
   "outputs": [
    {
     "data": {
      "text/plain": [
       "torch.Size([11331, 128])"
      ]
     },
     "execution_count": 10,
     "metadata": {},
     "output_type": "execute_result"
    }
   ],
   "source": [
    "z = model.model.encode(data.x, data.edge_index)\n",
    "z.shape"
   ]
  },
  {
   "cell_type": "code",
   "execution_count": 8,
   "metadata": {},
   "outputs": [],
   "source": [
    "model.save_model(path=\"../model_states/gaegat/no_features\")"
   ]
  },
  {
   "cell_type": "code",
   "execution_count": 6,
   "metadata": {},
   "outputs": [],
   "source": [
    "z = model.load_emb(\"../../model_states/gaegcn/embedding.out\")"
   ]
  },
  {
   "cell_type": "code",
   "execution_count": 13,
   "metadata": {},
   "outputs": [
    {
     "name": "stdout",
     "output_type": "stream",
     "text": [
      "X_train dimension=  (9064, 128)\n",
      "X_test dimension=  (2267, 128)\n",
      "y_train dimension=  (9064,)\n",
      "y_test dimension=  (2267,)\n"
     ]
    }
   ],
   "source": [
    "from sklearn import model_selection\n",
    "from sklearn import linear_model\n",
    "from sklearn import metrics\n",
    "from sklearn.tree import DecisionTreeClassifier\n",
    "from sklearn.ensemble import RandomForestClassifier\n",
    "\n",
    "X = z.detach().cpu().numpy() # embedding for each node\n",
    "# train simple classifier on 80% of data with cross validation\n",
    "y = np.array([network.gdf_edges.loc[n][\"highway_enc\"] for n in network.line_graph.nodes])\n",
    "\n",
    "# mask = ((y==11) | (y==10) | (y==9) | (y==4) | (y==1) | (y==2) | (y==12) | (y==7)) # remove uncommon tags\n",
    "# X = X[~mask, :]\n",
    "# y = y[~mask]\n",
    "# print(np.unique(y, return_counts=True))\n",
    "\n",
    "X_train, X_test, y_train, y_test = model_selection.train_test_split(X, y, test_size= 0.2, random_state = 1)\n",
    "\n",
    "print('X_train dimension= ', X_train.shape)\n",
    "print('X_test dimension= ', X_test.shape)\n",
    "print('y_train dimension= ', y_train.shape)\n",
    "print('y_test dimension= ', y_test.shape)"
   ]
  },
  {
   "cell_type": "code",
   "execution_count": 14,
   "metadata": {},
   "outputs": [
    {
     "name": "stdout",
     "output_type": "stream",
     "text": [
      "              precision    recall  f1-score   support\n",
      "\n",
      "           0       0.38      0.02      0.03       309\n",
      "           1       0.18      0.22      0.20        18\n",
      "           2       0.43      0.10      0.16        31\n",
      "           3       0.67      0.05      0.08       133\n",
      "           4       1.00      0.08      0.14        13\n",
      "           5       0.54      0.95      0.69      1175\n",
      "           6       0.34      0.17      0.23       301\n",
      "           7       0.00      0.00      0.00        20\n",
      "           8       0.14      0.00      0.01       221\n",
      "           9       0.00      0.00      0.00         5\n",
      "          10       0.00      0.00      0.00         4\n",
      "          11       0.00      0.00      0.00         3\n",
      "          12       0.00      0.00      0.00        34\n",
      "\n",
      "    accuracy                           0.52      2267\n",
      "   macro avg       0.28      0.12      0.12      2267\n",
      "weighted avg       0.44      0.52      0.40      2267\n",
      "\n"
     ]
    },
    {
     "name": "stderr",
     "output_type": "stream",
     "text": [
      "/home/pheinemeyer/miniconda3/envs/road/lib/python3.9/site-packages/sklearn/linear_model/_logistic.py:444: ConvergenceWarning: lbfgs failed to converge (status=1):\n",
      "STOP: TOTAL NO. of ITERATIONS REACHED LIMIT.\n",
      "\n",
      "Increase the number of iterations (max_iter) or scale the data as shown in:\n",
      "    https://scikit-learn.org/stable/modules/preprocessing.html\n",
      "Please also refer to the documentation for alternative solver options:\n",
      "    https://scikit-learn.org/stable/modules/linear_model.html#logistic-regression\n",
      "  n_iter_i = _check_optimize_result(\n",
      "/home/pheinemeyer/miniconda3/envs/road/lib/python3.9/site-packages/sklearn/metrics/_classification.py:1327: UndefinedMetricWarning: Precision and F-score are ill-defined and being set to 0.0 in labels with no predicted samples. Use `zero_division` parameter to control this behavior.\n",
      "  _warn_prf(average, modifier, msg_start, len(result))\n",
      "/home/pheinemeyer/miniconda3/envs/road/lib/python3.9/site-packages/sklearn/metrics/_classification.py:1327: UndefinedMetricWarning: Precision and F-score are ill-defined and being set to 0.0 in labels with no predicted samples. Use `zero_division` parameter to control this behavior.\n",
      "  _warn_prf(average, modifier, msg_start, len(result))\n",
      "/home/pheinemeyer/miniconda3/envs/road/lib/python3.9/site-packages/sklearn/metrics/_classification.py:1327: UndefinedMetricWarning: Precision and F-score are ill-defined and being set to 0.0 in labels with no predicted samples. Use `zero_division` parameter to control this behavior.\n",
      "  _warn_prf(average, modifier, msg_start, len(result))\n"
     ]
    }
   ],
   "source": [
    "lm = linear_model.LogisticRegression(multi_class=\"multinomial\", max_iter=1000)\n",
    "lm.fit(X_train, y_train)\n",
    "print(metrics.classification_report(y_test, lm.predict(X_test)))"
   ]
  },
  {
   "cell_type": "code",
   "execution_count": 7,
   "metadata": {},
   "outputs": [
    {
     "data": {
      "text/plain": [
       "Data(x=[2708, 1433], edge_index=[2, 8976], y=[2708], train_mask=[2708], val_mask=[2708], test_mask=[2708], pos_edge_label=[4488], pos_edge_label_index=[2, 4488])"
      ]
     },
     "execution_count": 7,
     "metadata": {},
     "output_type": "execute_result"
    }
   ],
   "source": [
    "from torch_geometric.datasets import Planetoid\n",
    "import torch_geometric.transforms as T\n",
    "\n",
    "device = torch.device('cpu')\n",
    "transform = T.Compose([\n",
    "    T.NormalizeFeatures(),\n",
    "    T.ToDevice(device),\n",
    "    T.RandomLinkSplit(num_val=0.05, num_test=0.1, is_undirected=True,\n",
    "                      split_labels=True, add_negative_train_samples=False),\n",
    "])\n",
    "dataset = Planetoid(\".\", \"Cora\", transform=transform)\n",
    "t,v, te = dataset[0]\n",
    "t"
   ]
  },
  {
   "cell_type": "code",
   "execution_count": 21,
   "metadata": {},
   "outputs": [
    {
     "name": "stdout",
     "output_type": "stream",
     "text": [
      "Data(x=[11331, 8], edge_index=[2, 26617])\n"
     ]
    },
    {
     "name": "stderr",
     "output_type": "stream",
     "text": [
      "/home/pheinemeyer/miniconda3/envs/road/lib/python3.9/site-packages/torch_geometric/deprecation.py:12: UserWarning: 'train_test_split_edges' is deprecated, use 'transforms.RandomLinkSplit' instead\n",
      "  warnings.warn(out)\n"
     ]
    },
    {
     "name": "stdout",
     "output_type": "stream",
     "text": [
      "Data(x=[11331, 8], val_pos_edge_index=[2, 699], test_pos_edge_index=[2, 1399], train_pos_edge_index=[2, 23788], train_neg_adj_mask=[11331, 11331], val_neg_edge_index=[2, 699], test_neg_edge_index=[2, 1399])\n"
     ]
    }
   ],
   "source": [
    "from torch_geometric.utils import train_test_split_edges\n",
    "device = torch.device('cpu')\n",
    "transform = T.Compose([\n",
    "    T.NormalizeFeatures(),\n",
    "    T.ToDevice(device),\n",
    "    T.RandomLinkSplit(num_val=0.05, num_test=0.1, is_undirected=True,\n",
    "                      split_labels=True, add_negative_train_samples=False)\n",
    "])\n",
    "print(data)\n",
    "transform(data)\n",
    "test = train_test_split_edges(data)\n",
    "\n",
    "print(test)"
   ]
  }
 ],
 "metadata": {
  "interpreter": {
   "hash": "088070de2c6b4023b2f7ae556c412f86bcd02589c7bdb3766a0caf3cf4813fbd"
  },
  "kernelspec": {
   "display_name": "Python 3.9.12 ('road')",
   "language": "python",
   "name": "python3"
  },
  "language_info": {
   "codemirror_mode": {
    "name": "ipython",
    "version": 3
   },
   "file_extension": ".py",
   "mimetype": "text/x-python",
   "name": "python",
   "nbconvert_exporter": "python",
   "pygments_lexer": "ipython3",
   "version": "3.9.13"
  },
  "orig_nbformat": 4
 },
 "nbformat": 4,
 "nbformat_minor": 2
}
