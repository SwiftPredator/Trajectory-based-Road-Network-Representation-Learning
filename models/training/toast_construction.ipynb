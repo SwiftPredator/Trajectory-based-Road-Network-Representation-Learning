{
 "cells": [
  {
   "cell_type": "code",
   "execution_count": 1,
   "metadata": {},
   "outputs": [],
   "source": [
    "%load_ext autoreload\n",
    "%autoreload 2\n",
    "\n",
    "import os\n",
    "import sys\n",
    "\n",
    "module_path = os.path.abspath(os.path.join('../..'))\n",
    "if module_path not in sys.path:\n",
    "    sys.path.append(module_path)\n",
    "\n",
    "from generator import RoadNetwork\n",
    "import torch\n",
    "import torch.nn as nn\n",
    "from torch.utils.data import DataLoader\n",
    "import pandas as pd\n",
    "import networkx as nx\n",
    "import numpy as np\n",
    "from tqdm import tqdm\n",
    "\n",
    "from models import Toast"
   ]
  },
  {
   "cell_type": "code",
   "execution_count": 4,
   "metadata": {},
   "outputs": [],
   "source": [
    "# load dataset and bring it in format for toast\n",
    "network = RoadNetwork()\n",
    "network.load(\"../../osm_data/porto\")\n",
    "# df = pd.read_csv(\"../datasets/trajectories/Porto/road_segment_map_final.csv\", sep=\";\", usecols=[\"id\", \"cpath\"])"
   ]
  },
  {
   "cell_type": "code",
   "execution_count": 3,
   "metadata": {},
   "outputs": [
    {
     "name": "stdout",
     "output_type": "stream",
     "text": [
      "(5358, 6)\n"
     ]
    }
   ],
   "source": [
    "print(network.gdf_nodes.shape)\n",
    "#dG = nx.DiGraph(network.G)\n",
    "dG = nx.line_graph(network.G, create_using=nx.DiGraph)\n",
    "index = np.arange(len(list(dG.nodes)))\n",
    "nx.set_node_attributes(dG, dict(zip(list(dG.nodes), index)), name=\"index\")\n"
   ]
  },
  {
   "cell_type": "code",
   "execution_count": 5,
   "metadata": {},
   "outputs": [
    {
     "data": {
      "text/plain": [
       "True"
      ]
     },
     "execution_count": 5,
     "metadata": {},
     "output_type": "execute_result"
    }
   ],
   "source": [
    "torch.cuda.is_available()"
   ]
  },
  {
   "cell_type": "code",
   "execution_count": 43,
   "metadata": {},
   "outputs": [
    {
     "name": "stdout",
     "output_type": "stream",
     "text": [
      "11331\n"
     ]
    }
   ],
   "source": [
    "network.gdf_edges.loc[[(25503936, 4722746638, 0), (25503936, 4722746638, 0)]][\"highway_enc\"].tolist()\n",
    "print(len(network.line_graph.nodes))"
   ]
  },
  {
   "cell_type": "code",
   "execution_count": 54,
   "metadata": {},
   "outputs": [
    {
     "name": "stdout",
     "output_type": "stream",
     "text": [
      "Random walks - T=0.16s\n"
     ]
    },
    {
     "ename": "KeyboardInterrupt",
     "evalue": "",
     "output_type": "error",
     "traceback": [
      "\u001b[0;31m---------------------------------------------------------------------------\u001b[0m",
      "\u001b[0;31mKeyboardInterrupt\u001b[0m                         Traceback (most recent call last)",
      "\u001b[1;32m/home/pheinemeyer/Road-Network-Embedding-Generator/models/training/toast_construction.ipynb Cell 6'\u001b[0m in \u001b[0;36m<cell line: 2>\u001b[0;34m()\u001b[0m\n\u001b[1;32m      <a href='vscode-notebook-cell://ssh-remote%2Bpascal02/home/pheinemeyer/Road-Network-Embedding-Generator/models/training/toast_construction.ipynb#ch0000004vscode-remote?line=0'>1</a>\u001b[0m toast \u001b[39m=\u001b[39m Toast(dG, network\u001b[39m.\u001b[39mgdf_edges)\n\u001b[0;32m----> <a href='vscode-notebook-cell://ssh-remote%2Bpascal02/home/pheinemeyer/Road-Network-Embedding-Generator/models/training/toast_construction.ipynb#ch0000004vscode-remote?line=1'>2</a>\u001b[0m toast\u001b[39m.\u001b[39;49mtrain(epochs\u001b[39m=\u001b[39;49m\u001b[39m25\u001b[39;49m, num_walks\u001b[39m=\u001b[39;49m\u001b[39m20\u001b[39;49m)\n",
      "File \u001b[0;32m/dstore/home/pheinemeyer/Road-Network-Embedding-Generator/models/toast.py:40\u001b[0m, in \u001b[0;36mToast.train\u001b[0;34m(self, epochs, num_walks, skip_window, num_neg)\u001b[0m\n\u001b[1;32m     <a href='file:///dstore/home/pheinemeyer/Road-Network-Embedding-Generator/models/toast.py?line=35'>36</a>\u001b[0m \u001b[39mfor\u001b[39;00m i \u001b[39min\u001b[39;00m \u001b[39mrange\u001b[39m(epochs):\n\u001b[1;32m     <a href='file:///dstore/home/pheinemeyer/Road-Network-Embedding-Generator/models/toast.py?line=36'>37</a>\u001b[0m     \u001b[39mself\u001b[39m\u001b[39m.\u001b[39msentences \u001b[39m=\u001b[39m walker\u001b[39m.\u001b[39mrandom_walks(\n\u001b[1;32m     <a href='file:///dstore/home/pheinemeyer/Road-Network-Embedding-Generator/models/toast.py?line=37'>38</a>\u001b[0m         \u001b[39mself\u001b[39m\u001b[39m.\u001b[39mG, n_walks\u001b[39m=\u001b[39mnum_walks, walk_len\u001b[39m=\u001b[39mrandom\u001b[39m.\u001b[39mrandint(\u001b[39m5\u001b[39m, \u001b[39m100\u001b[39m)\n\u001b[1;32m     <a href='file:///dstore/home/pheinemeyer/Road-Network-Embedding-Generator/models/toast.py?line=38'>39</a>\u001b[0m     )  \u001b[39m# self.walker.generate_sentences(num_walks=num_walks)\u001b[39;00m\n\u001b[0;32m---> <a href='file:///dstore/home/pheinemeyer/Road-Network-Embedding-Generator/models/toast.py?line=39'>40</a>\u001b[0m     \u001b[39mself\u001b[39m\u001b[39m.\u001b[39msentences \u001b[39m=\u001b[39m \u001b[39mself\u001b[39;49m\u001b[39m.\u001b[39;49mmap_label(\u001b[39mself\u001b[39;49m\u001b[39m.\u001b[39;49msentences)\n\u001b[1;32m     <a href='file:///dstore/home/pheinemeyer/Road-Network-Embedding-Generator/models/toast.py?line=40'>41</a>\u001b[0m     pipeline \u001b[39m=\u001b[39m DataPipeline(\u001b[39mself\u001b[39m\u001b[39m.\u001b[39msentences, \u001b[39mself\u001b[39m\u001b[39m.\u001b[39mvocabs, \u001b[39mself\u001b[39m\u001b[39m.\u001b[39mroad_length)\n\u001b[1;32m     <a href='file:///dstore/home/pheinemeyer/Road-Network-Embedding-Generator/models/toast.py?line=41'>42</a>\u001b[0m     avg_loss \u001b[39m=\u001b[39m \u001b[39m0\u001b[39m\n",
      "File \u001b[0;32m/dstore/home/pheinemeyer/Road-Network-Embedding-Generator/models/toast.py:100\u001b[0m, in \u001b[0;36mToast.map_label\u001b[0;34m(self, sentences)\u001b[0m\n\u001b[1;32m     <a href='file:///dstore/home/pheinemeyer/Road-Network-Embedding-Generator/models/toast.py?line=96'>97</a>\u001b[0m gnodes \u001b[39m=\u001b[39m np\u001b[39m.\u001b[39marray(\u001b[39mlist\u001b[39m(\u001b[39mself\u001b[39m\u001b[39m.\u001b[39mG\u001b[39m.\u001b[39mnodes), dtype\u001b[39m=\u001b[39m\u001b[39m\"\u001b[39m\u001b[39ml,l,l\u001b[39m\u001b[39m\"\u001b[39m)\n\u001b[1;32m     <a href='file:///dstore/home/pheinemeyer/Road-Network-Embedding-Generator/models/toast.py?line=97'>98</a>\u001b[0m sentences \u001b[39m=\u001b[39m np\u001b[39m.\u001b[39marray(sentences)\n\u001b[1;32m     <a href='file:///dstore/home/pheinemeyer/Road-Network-Embedding-Generator/models/toast.py?line=98'>99</a>\u001b[0m labels \u001b[39m=\u001b[39m (\n\u001b[0;32m--> <a href='file:///dstore/home/pheinemeyer/Road-Network-Embedding-Generator/models/toast.py?line=99'>100</a>\u001b[0m     \u001b[39mself\u001b[39m\u001b[39m.\u001b[39medge_data\u001b[39m.\u001b[39mloc[\u001b[39mlist\u001b[39m(gnodes[sentences\u001b[39m.\u001b[39;49mflatten()]\u001b[39m.\u001b[39mastype(\u001b[39mlist\u001b[39m))][\n\u001b[1;32m    <a href='file:///dstore/home/pheinemeyer/Road-Network-Embedding-Generator/models/toast.py?line=100'>101</a>\u001b[0m         \u001b[39m\"\u001b[39m\u001b[39mhighway_enc\u001b[39m\u001b[39m\"\u001b[39m\n\u001b[1;32m    <a href='file:///dstore/home/pheinemeyer/Road-Network-Embedding-Generator/models/toast.py?line=101'>102</a>\u001b[0m     ]\n\u001b[1;32m    <a href='file:///dstore/home/pheinemeyer/Road-Network-Embedding-Generator/models/toast.py?line=102'>103</a>\u001b[0m     \u001b[39m.\u001b[39mto_numpy()\n\u001b[1;32m    <a href='file:///dstore/home/pheinemeyer/Road-Network-Embedding-Generator/models/toast.py?line=103'>104</a>\u001b[0m     \u001b[39m.\u001b[39mreshape(sentences\u001b[39m.\u001b[39mshape)\n\u001b[1;32m    <a href='file:///dstore/home/pheinemeyer/Road-Network-Embedding-Generator/models/toast.py?line=104'>105</a>\u001b[0m )\n\u001b[1;32m    <a href='file:///dstore/home/pheinemeyer/Road-Network-Embedding-Generator/models/toast.py?line=105'>106</a>\u001b[0m res \u001b[39m=\u001b[39m np\u001b[39m.\u001b[39marray([sentences, labels])\u001b[39m.\u001b[39mswapaxes(\u001b[39m0\u001b[39m, \u001b[39m1\u001b[39m)\u001b[39m.\u001b[39mtolist()\n\u001b[1;32m    <a href='file:///dstore/home/pheinemeyer/Road-Network-Embedding-Generator/models/toast.py?line=107'>108</a>\u001b[0m \u001b[39mreturn\u001b[39;00m res\n",
      "\u001b[0;31mKeyboardInterrupt\u001b[0m: "
     ]
    }
   ],
   "source": [
    "device = torch.device(\"cuda\" if torch.cuda.is_available() else \"cpu\")\n",
    "toast = Toast(data=None, device=device, network=network)\n",
    "toast.train(epochs=25, num_walks=20)"
   ]
  },
  {
   "cell_type": "code",
   "execution_count": 8,
   "metadata": {},
   "outputs": [],
   "source": [
    "toast = Toast(dG, network.gdf_edges)\n",
    "toast.load_model(\"../model_states/toast/model_rw_init_epoch3.pt\")"
   ]
  },
  {
   "cell_type": "code",
   "execution_count": 83,
   "metadata": {},
   "outputs": [
    {
     "name": "stdout",
     "output_type": "stream",
     "text": [
      "(array([0, 3, 5, 6, 8]), array([1680,  577, 5832, 1451, 1213]))\n",
      "X_train dimension=  torch.Size([8602, 128])\n",
      "X_test dimension=  torch.Size([2151, 128])\n",
      "y_train dimension=  (8602,)\n",
      "y_test dimension=  (2151,)\n"
     ]
    }
   ],
   "source": [
    "from sklearn import model_selection\n",
    "from sklearn import linear_model\n",
    "from sklearn import metrics\n",
    "from sklearn.tree import DecisionTreeClassifier\n",
    "from sklearn.ensemble import RandomForestClassifier\n",
    "\n",
    "X = toast.load_embed()[2:] # embedding for each node\n",
    "# train simple classifier on 80% of data with cross validation\n",
    "y = np.array([network.gdf_edges.loc[n][\"highway_enc\"] for n in dG.nodes])\n",
    "\n",
    "mask = ((y==11) | (y==10) | (y==9) | (y==4) | (y==1) | (y==2) | (y==12) | (y==7)) # remove uncommon tags\n",
    "X = X[~mask, :]\n",
    "y = y[~mask]\n",
    "print(np.unique(y, return_counts=True))\n",
    "\n",
    "X_train, X_test, y_train, y_test = model_selection.train_test_split(X, y, test_size= 0.2, random_state = 1)\n",
    "\n",
    "print('X_train dimension= ', X_train.shape)\n",
    "print('X_test dimension= ', X_test.shape)\n",
    "print('y_train dimension= ', y_train.shape)\n",
    "print('y_test dimension= ', y_test.shape)"
   ]
  },
  {
   "cell_type": "code",
   "execution_count": 84,
   "metadata": {},
   "outputs": [
    {
     "data": {
      "text/html": [
       "<style>#sk-container-id-16 {color: black;background-color: white;}#sk-container-id-16 pre{padding: 0;}#sk-container-id-16 div.sk-toggleable {background-color: white;}#sk-container-id-16 label.sk-toggleable__label {cursor: pointer;display: block;width: 100%;margin-bottom: 0;padding: 0.3em;box-sizing: border-box;text-align: center;}#sk-container-id-16 label.sk-toggleable__label-arrow:before {content: \"▸\";float: left;margin-right: 0.25em;color: #696969;}#sk-container-id-16 label.sk-toggleable__label-arrow:hover:before {color: black;}#sk-container-id-16 div.sk-estimator:hover label.sk-toggleable__label-arrow:before {color: black;}#sk-container-id-16 div.sk-toggleable__content {max-height: 0;max-width: 0;overflow: hidden;text-align: left;background-color: #f0f8ff;}#sk-container-id-16 div.sk-toggleable__content pre {margin: 0.2em;color: black;border-radius: 0.25em;background-color: #f0f8ff;}#sk-container-id-16 input.sk-toggleable__control:checked~div.sk-toggleable__content {max-height: 200px;max-width: 100%;overflow: auto;}#sk-container-id-16 input.sk-toggleable__control:checked~label.sk-toggleable__label-arrow:before {content: \"▾\";}#sk-container-id-16 div.sk-estimator input.sk-toggleable__control:checked~label.sk-toggleable__label {background-color: #d4ebff;}#sk-container-id-16 div.sk-label input.sk-toggleable__control:checked~label.sk-toggleable__label {background-color: #d4ebff;}#sk-container-id-16 input.sk-hidden--visually {border: 0;clip: rect(1px 1px 1px 1px);clip: rect(1px, 1px, 1px, 1px);height: 1px;margin: -1px;overflow: hidden;padding: 0;position: absolute;width: 1px;}#sk-container-id-16 div.sk-estimator {font-family: monospace;background-color: #f0f8ff;border: 1px dotted black;border-radius: 0.25em;box-sizing: border-box;margin-bottom: 0.5em;}#sk-container-id-16 div.sk-estimator:hover {background-color: #d4ebff;}#sk-container-id-16 div.sk-parallel-item::after {content: \"\";width: 100%;border-bottom: 1px solid gray;flex-grow: 1;}#sk-container-id-16 div.sk-label:hover label.sk-toggleable__label {background-color: #d4ebff;}#sk-container-id-16 div.sk-serial::before {content: \"\";position: absolute;border-left: 1px solid gray;box-sizing: border-box;top: 0;bottom: 0;left: 50%;z-index: 0;}#sk-container-id-16 div.sk-serial {display: flex;flex-direction: column;align-items: center;background-color: white;padding-right: 0.2em;padding-left: 0.2em;position: relative;}#sk-container-id-16 div.sk-item {position: relative;z-index: 1;}#sk-container-id-16 div.sk-parallel {display: flex;align-items: stretch;justify-content: center;background-color: white;position: relative;}#sk-container-id-16 div.sk-item::before, #sk-container-id-16 div.sk-parallel-item::before {content: \"\";position: absolute;border-left: 1px solid gray;box-sizing: border-box;top: 0;bottom: 0;left: 50%;z-index: -1;}#sk-container-id-16 div.sk-parallel-item {display: flex;flex-direction: column;z-index: 1;position: relative;background-color: white;}#sk-container-id-16 div.sk-parallel-item:first-child::after {align-self: flex-end;width: 50%;}#sk-container-id-16 div.sk-parallel-item:last-child::after {align-self: flex-start;width: 50%;}#sk-container-id-16 div.sk-parallel-item:only-child::after {width: 0;}#sk-container-id-16 div.sk-dashed-wrapped {border: 1px dashed gray;margin: 0 0.4em 0.5em 0.4em;box-sizing: border-box;padding-bottom: 0.4em;background-color: white;}#sk-container-id-16 div.sk-label label {font-family: monospace;font-weight: bold;display: inline-block;line-height: 1.2em;}#sk-container-id-16 div.sk-label-container {text-align: center;}#sk-container-id-16 div.sk-container {/* jupyter's `normalize.less` sets `[hidden] { display: none; }` but bootstrap.min.css set `[hidden] { display: none !important; }` so we also need the `!important` here to be able to override the default hidden behavior on the sphinx rendered scikit-learn.org. See: https://github.com/scikit-learn/scikit-learn/issues/21755 */display: inline-block !important;position: relative;}#sk-container-id-16 div.sk-text-repr-fallback {display: none;}</style><div id=\"sk-container-id-16\" class=\"sk-top-container\"><div class=\"sk-text-repr-fallback\"><pre>LogisticRegression(max_iter=1000, multi_class=&#x27;multinomial&#x27;)</pre><b>In a Jupyter environment, please rerun this cell to show the HTML representation or trust the notebook. <br />On GitHub, the HTML representation is unable to render, please try loading this page with nbviewer.org.</b></div><div class=\"sk-container\" hidden><div class=\"sk-item\"><div class=\"sk-estimator sk-toggleable\"><input class=\"sk-toggleable__control sk-hidden--visually\" id=\"sk-estimator-id-16\" type=\"checkbox\" checked><label for=\"sk-estimator-id-16\" class=\"sk-toggleable__label sk-toggleable__label-arrow\">LogisticRegression</label><div class=\"sk-toggleable__content\"><pre>LogisticRegression(max_iter=1000, multi_class=&#x27;multinomial&#x27;)</pre></div></div></div></div></div>"
      ],
      "text/plain": [
       "LogisticRegression(max_iter=1000, multi_class='multinomial')"
      ]
     },
     "execution_count": 84,
     "metadata": {},
     "output_type": "execute_result"
    }
   ],
   "source": [
    "lm = linear_model.LogisticRegression(multi_class=\"multinomial\", max_iter=1000)\n",
    "lm.fit(X_train, y_train)"
   ]
  },
  {
   "cell_type": "code",
   "execution_count": 85,
   "metadata": {},
   "outputs": [
    {
     "name": "stdout",
     "output_type": "stream",
     "text": [
      "              precision    recall  f1-score   support\n",
      "\n",
      "           0       0.77      0.17      0.28       343\n",
      "           3       1.00      0.07      0.14       121\n",
      "           5       0.57      0.98      0.72      1135\n",
      "           6       0.73      0.21      0.33       305\n",
      "           8       0.57      0.05      0.10       247\n",
      "\n",
      "    accuracy                           0.58      2151\n",
      "   macro avg       0.73      0.30      0.31      2151\n",
      "weighted avg       0.65      0.58      0.49      2151\n",
      "\n"
     ]
    }
   ],
   "source": [
    "print(metrics.classification_report(y_test, lm.predict(X_test)))"
   ]
  },
  {
   "cell_type": "code",
   "execution_count": 22,
   "metadata": {},
   "outputs": [
    {
     "data": {
      "image/png": "[encoded data removed]",
      "text/plain": [
       "<Figure size 720x432 with 2 Axes>"
      ]
     },
     "metadata": {
      "needs_background": "light"
     },
     "output_type": "display_data"
    }
   ],
   "source": [
    "import matplotlib.pyplot as plt\n",
    "fig, ax = plt.subplots(figsize=(10, 6))\n",
    "ax.set_title('Confusion Matrx')\n",
    "\n",
    "disp = metrics.plot_confusion_matrix(lm, X_test, y_test, ax = ax)"
   ]
  },
  {
   "cell_type": "code",
   "execution_count": null,
   "metadata": {},
   "outputs": [],
   "source": []
  }
 ],
 "metadata": {
  "interpreter": {
   "hash": "088070de2c6b4023b2f7ae556c412f86bcd02589c7bdb3766a0caf3cf4813fbd"
  },
  "kernelspec": {
   "display_name": "Python 3.9.12 ('road')",
   "language": "python",
   "name": "python3"
  },
  "language_info": {
   "codemirror_mode": {
    "name": "ipython",
    "version": 3
   },
   "file_extension": ".py",
   "mimetype": "text/x-python",
   "name": "python",
   "nbconvert_exporter": "python",
   "pygments_lexer": "ipython3",
   "version": "3.9.13"
  },
  "orig_nbformat": 4
 },
 "nbformat": 4,
 "nbformat_minor": 2
}
