{
 "cells": [
  {
   "cell_type": "code",
   "execution_count": 1,
   "metadata": {},
   "outputs": [],
   "source": [
    "%load_ext autoreload\n",
    "%autoreload 2\n",
    "\n",
    "import os\n",
    "import sys\n",
    "\n",
    "module_path = os.path.abspath(os.path.join('..'))\n",
    "if module_path not in sys.path:\n",
    "    sys.path.append(module_path)\n",
    "\n",
    "from generator import RoadNetwork\n",
    "import torch\n",
    "import torch.nn as nn\n",
    "from torch.utils.data import DataLoader\n",
    "import pandas as pd\n",
    "import networkx as nx\n",
    "import numpy as np\n",
    "from tqdm import tqdm\n",
    "\n",
    "from models import Node2VecModel"
   ]
  },
  {
   "cell_type": "code",
   "execution_count": 2,
   "metadata": {},
   "outputs": [],
   "source": [
    "network = RoadNetwork()\n",
    "network.load(\"../osm_data/porto\")"
   ]
  },
  {
   "cell_type": "code",
   "execution_count": 3,
   "metadata": {},
   "outputs": [
    {
     "name": "stdout",
     "output_type": "stream",
     "text": [
      "torch.Size([2, 26617]) 26617\n"
     ]
    }
   ],
   "source": [
    "LG = network.line_graph\n",
    "# create edge_index\n",
    "map_id = {j:i for i,j in enumerate(LG.nodes)}\n",
    "edge_list = nx.to_pandas_edgelist(LG)\n",
    "edge_list[\"sidx\"] = edge_list[\"source\"].map(map_id)\n",
    "edge_list[\"tidx\"] = edge_list[\"target\"].map(map_id)\n",
    "\n",
    "edge_index = np.array(edge_list[[\"sidx\", \"tidx\"]].values).T\n",
    "edge_index = torch.tensor(edge_index, dtype=torch.long).contiguous()\n",
    "\n",
    "print(edge_index.shape, len(list(LG.edges)))"
   ]
  },
  {
   "cell_type": "code",
   "execution_count": null,
   "metadata": {},
   "outputs": [],
   "source": [
    "torch.cuda.is_available()"
   ]
  },
  {
   "cell_type": "code",
   "execution_count": 4,
   "metadata": {},
   "outputs": [
    {
     "name": "stdout",
     "output_type": "stream",
     "text": [
      "Epoch: 10, avg_loss: 1.7161345858922168\n",
      "Epoch: 20, avg_loss: 1.22438044450926\n",
      "Epoch: 30, avg_loss: 1.0582666016026832\n",
      "Epoch: 40, avg_loss: 0.9751250269205384\n",
      "Epoch: 50, avg_loss: 0.9253085849258339\n",
      "Epoch: 60, avg_loss: 0.8921480135524767\n",
      "Epoch: 70, avg_loss: 0.868477387805238\n",
      "Epoch: 80, avg_loss: 0.85072138729725\n",
      "Epoch: 90, avg_loss: 0.8369138277202064\n",
      "Epoch: 100, avg_loss: 0.8258651511387879\n",
      "Epoch: 110, avg_loss: 0.8168230262547882\n",
      "Epoch: 120, avg_loss: 0.8092834363325259\n",
      "Epoch: 130, avg_loss: 0.8029041622616448\n",
      "Epoch: 140, avg_loss: 0.7974384912470565\n",
      "Epoch: 150, avg_loss: 0.7927000573288637\n",
      "Epoch: 160, avg_loss: 0.788551892972227\n",
      "Epoch: 170, avg_loss: 0.7848923380337088\n",
      "Epoch: 180, avg_loss: 0.781640858950091\n",
      "Epoch: 190, avg_loss: 0.778729697517359\n"
     ]
    }
   ],
   "source": [
    "from torch_geometric.data import Data\n",
    "import torch_geometric.transforms as T\n",
    "\n",
    "data = Data(edge_index=edge_index)\n",
    "device = torch.device('cuda' if torch.cuda.is_available() else 'cpu')\n",
    "transform = T.Compose([\n",
    "    T.ToDevice(device),\n",
    "])\n",
    "data = transform(data)\n",
    "model = Node2VecModel(data, device=device)\n",
    "model.train(epochs=200)"
   ]
  },
  {
   "cell_type": "code",
   "execution_count": 5,
   "metadata": {},
   "outputs": [],
   "source": [
    "model.save_model(save_name=\"node2vec_200e.pt\", path=\"../model_states/node2vec/\")\n",
    "model.save_emb(path=\"../model_states/node2vec/\")"
   ]
  },
  {
   "cell_type": "code",
   "execution_count": 9,
   "metadata": {},
   "outputs": [
    {
     "name": "stdout",
     "output_type": "stream",
     "text": [
      "(array([ 0,  1,  2,  3,  4,  5,  6,  7,  8,  9, 10, 11, 12]), array([1680,   90,  144,  577,   76, 5832, 1451,   98, 1213,   20,   13,\n",
      "         11,  126]))\n",
      "X_train dimension=  (9064, 128)\n",
      "X_test dimension=  (2267, 128)\n",
      "y_train dimension=  (9064,)\n",
      "y_test dimension=  (2267,)\n"
     ]
    }
   ],
   "source": [
    "from sklearn import model_selection\n",
    "from sklearn import linear_model\n",
    "from sklearn import metrics\n",
    "from sklearn.tree import DecisionTreeClassifier\n",
    "from sklearn.ensemble import RandomForestClassifier\n",
    "\n",
    "X = model.load_emb() # embedding for each node\n",
    "# train simple classifier on 80% of data with cross validation\n",
    "y = np.array([network.gdf_edges.loc[n][\"highway_enc\"] for n in network.line_graph.nodes])\n",
    "\n",
    "#mask = ((y==11) | (y==10) | (y==9) | (y==4) | (y==1) | (y==2) | (y==12) | (y==7)) # remove uncommon tags\n",
    "#X = X[~mask, :]\n",
    "#y = y[~mask]\n",
    "print(np.unique(y, return_counts=True))\n",
    "\n",
    "X_train, X_test, y_train, y_test = model_selection.train_test_split(X, y, test_size= 0.2, random_state = 1)\n",
    "\n",
    "print('X_train dimension= ', X_train.shape)\n",
    "print('X_test dimension= ', X_test.shape)\n",
    "print('y_train dimension= ', y_train.shape)\n",
    "print('y_test dimension= ', y_test.shape)"
   ]
  },
  {
   "cell_type": "code",
   "execution_count": 10,
   "metadata": {},
   "outputs": [
    {
     "name": "stdout",
     "output_type": "stream",
     "text": [
      "              precision    recall  f1-score   support\n",
      "\n",
      "           0       0.54      0.40      0.46       309\n",
      "           1       0.57      0.44      0.50        18\n",
      "           2       0.52      0.48      0.50        31\n",
      "           3       0.47      0.32      0.38       133\n",
      "           4       0.43      0.23      0.30        13\n",
      "           5       0.62      0.85      0.72      1175\n",
      "           6       0.44      0.27      0.33       301\n",
      "           7       0.00      0.00      0.00        20\n",
      "           8       0.35      0.16      0.22       221\n",
      "           9       0.00      0.00      0.00         5\n",
      "          10       0.50      0.50      0.50         4\n",
      "          11       0.00      0.00      0.00         3\n",
      "          12       0.29      0.06      0.10        34\n",
      "\n",
      "    accuracy                           0.58      2267\n",
      "   macro avg       0.36      0.29      0.31      2267\n",
      "weighted avg       0.54      0.58      0.54      2267\n",
      "\n"
     ]
    },
    {
     "name": "stderr",
     "output_type": "stream",
     "text": [
      "/home/pheinemeyer/miniconda3/envs/road/lib/python3.9/site-packages/sklearn/metrics/_classification.py:1327: UndefinedMetricWarning: Precision and F-score are ill-defined and being set to 0.0 in labels with no predicted samples. Use `zero_division` parameter to control this behavior.\n",
      "  _warn_prf(average, modifier, msg_start, len(result))\n",
      "/home/pheinemeyer/miniconda3/envs/road/lib/python3.9/site-packages/sklearn/metrics/_classification.py:1327: UndefinedMetricWarning: Precision and F-score are ill-defined and being set to 0.0 in labels with no predicted samples. Use `zero_division` parameter to control this behavior.\n",
      "  _warn_prf(average, modifier, msg_start, len(result))\n",
      "/home/pheinemeyer/miniconda3/envs/road/lib/python3.9/site-packages/sklearn/metrics/_classification.py:1327: UndefinedMetricWarning: Precision and F-score are ill-defined and being set to 0.0 in labels with no predicted samples. Use `zero_division` parameter to control this behavior.\n",
      "  _warn_prf(average, modifier, msg_start, len(result))\n"
     ]
    }
   ],
   "source": [
    "lm = linear_model.LogisticRegression(multi_class=\"multinomial\", max_iter=1000)\n",
    "lm.fit(X_train, y_train)\n",
    "print(metrics.classification_report(y_test, lm.predict(X_test)))"
   ]
  }
 ],
 "metadata": {
  "interpreter": {
   "hash": "088070de2c6b4023b2f7ae556c412f86bcd02589c7bdb3766a0caf3cf4813fbd"
  },
  "kernelspec": {
   "display_name": "Python 3.9.13 ('road')",
   "language": "python",
   "name": "python3"
  },
  "language_info": {
   "codemirror_mode": {
    "name": "ipython",
    "version": 3
   },
   "file_extension": ".py",
   "mimetype": "text/x-python",
   "name": "python",
   "nbconvert_exporter": "python",
   "pygments_lexer": "ipython3",
   "version": "3.9.13"
  },
  "orig_nbformat": 4
 },
 "nbformat": 4,
 "nbformat_minor": 2
}
