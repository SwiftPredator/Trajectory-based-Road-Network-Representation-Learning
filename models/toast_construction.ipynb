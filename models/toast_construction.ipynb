{
 "cells": [
  {
   "cell_type": "code",
   "execution_count": 1,
   "metadata": {},
   "outputs": [],
   "source": [
    "%load_ext autoreload\n",
    "%autoreload 2\n",
    "\n",
    "import os\n",
    "import sys\n",
    "\n",
    "module_path = os.path.abspath(os.path.join('..'))\n",
    "if module_path not in sys.path:\n",
    "    sys.path.append(module_path)\n",
    "\n",
    "from generator import RoadNetwork\n",
    "import torch\n",
    "import torch.nn as nn\n",
    "from torch.utils.data import DataLoader\n",
    "import pandas as pd\n",
    "import networkx as nx\n",
    "import numpy as np\n",
    "from tqdm import tqdm\n",
    "\n",
    "from models import Toast"
   ]
  },
  {
   "cell_type": "code",
   "execution_count": 2,
   "metadata": {},
   "outputs": [],
   "source": [
    "# load dataset and bring it in format for toast\n",
    "network = RoadNetwork()\n",
    "network.load(\"../osm_data/porto\")\n",
    "df = pd.read_csv(\"../datasets/trajectories/Porto/road_segment_map_final.csv\", sep=\";\", usecols=[\"id\", \"cpath\"])"
   ]
  },
  {
   "cell_type": "code",
   "execution_count": 3,
   "metadata": {},
   "outputs": [
    {
     "name": "stdout",
     "output_type": "stream",
     "text": [
      "(5358, 6)\n"
     ]
    }
   ],
   "source": [
    "print(network.gdf_nodes.shape)\n",
    "#dG = nx.DiGraph(network.G)\n",
    "dG = nx.line_graph(network.G, create_using=nx.DiGraph)\n",
    "index = np.arange(2, len(list(dG.nodes))+2) # index shifted, since 0 and 1 are reserved for mask pad tokens\n",
    "nx.set_node_attributes(dG, dict(zip(list(dG.nodes), index)), name=\"index\")\n"
   ]
  },
  {
   "cell_type": "code",
   "execution_count": null,
   "metadata": {},
   "outputs": [],
   "source": [
    "nodes = list(dG.nodes(data=True))\n",
    "\n",
    "for n, d in nodes:\n",
    "    print(network.gdf_edges.loc[n, :][\"highway\"])\n",
    "    break\n"
   ]
  },
  {
   "cell_type": "code",
   "execution_count": 1,
   "metadata": {},
   "outputs": [
    {
     "ename": "NameError",
     "evalue": "name 'network' is not defined",
     "output_type": "error",
     "traceback": [
      "\u001b[0;31m---------------------------------------------------------------------------\u001b[0m",
      "\u001b[0;31mNameError\u001b[0m                                 Traceback (most recent call last)",
      "\u001b[1;32m/home/pheinemeyer/Road-Network-Embedding-Generator/models/toast_construction.ipynb Cell 5'\u001b[0m in \u001b[0;36m<cell line: 1>\u001b[0;34m()\u001b[0m\n\u001b[0;32m----> <a href='vscode-notebook-cell://ssh-remote%2Bpascal03/home/pheinemeyer/Road-Network-Embedding-Generator/models/toast_construction.ipynb#ch0000004vscode-remote?line=0'>1</a>\u001b[0m network\u001b[39m.\u001b[39mgdf_nodes[network\u001b[39m.\u001b[39mgdf_nodes[\u001b[39m\"\u001b[39m\u001b[39mhighway\u001b[39m\u001b[39m\"\u001b[39m]\u001b[39m==\u001b[39m\u001b[39m\"\u001b[39m\u001b[39mmini_roundabout\u001b[39m\u001b[39m\"\u001b[39m]\n",
      "\u001b[0;31mNameError\u001b[0m: name 'network' is not defined"
     ]
    }
   ],
   "source": [
    "network.gdf_nodes[network.gdf_nodes[\"highway\"]==\"mini_roundabout\"]"
   ]
  },
  {
   "cell_type": "code",
   "execution_count": 4,
   "metadata": {},
   "outputs": [
    {
     "data": {
      "text/plain": [
       "True"
      ]
     },
     "execution_count": 4,
     "metadata": {},
     "output_type": "execute_result"
    }
   ],
   "source": [
    "torch.cuda.is_available()"
   ]
  },
  {
   "cell_type": "code",
   "execution_count": 5,
   "metadata": {},
   "outputs": [
    {
     "name": "stderr",
     "output_type": "stream",
     "text": [
      "[Parallel(n_jobs=10)]: Using backend LokyBackend with 10 concurrent workers.\n",
      "[Parallel(n_jobs=10)]: Done  20 out of  20 | elapsed:  5.1min finished\n",
      "/dstore/home/pheinemeyer/Road-Network-Embedding-Generator/models/toast.py:57: UserWarning: Creating a tensor from a list of numpy.ndarrays is extremely slow. Please consider converting the list to a single numpy.ndarray with numpy.array() before converting to a tensor. (Triggered internally at  /opt/conda/conda-bld/pytorch_1646756402876/work/torch/csrc/utils/tensor_new.cpp:210.)\n",
      "  batch_types = torch.Tensor(batch_types).to(self.device)\n"
     ]
    },
    {
     "name": "stdout",
     "output_type": "stream",
     "text": [
      "Epoch: 0, iter 2500, avg_loss: 1.0869889979600906, avg_context_loss: 1.0620967585086822,  avg_type_loss: 0.024892239493131636\n",
      "Epoch: 0, iter 5000, avg_loss: 1.0119060326695442, avg_context_loss: 0.9881755385637283,  avg_type_loss: 0.02373049406912178\n",
      "Epoch: 0, iter 7500, avg_loss: 0.9766286399205526, avg_context_loss: 0.9536364086985588,  avg_type_loss: 0.022992231274520356\n",
      "Epoch: 0, iter 10000, avg_loss: 0.9579116338431836, avg_context_loss: 0.9349794899985194,  avg_type_loss: 0.022932143868971615\n",
      "Epoch: 0, iter 12500, avg_loss: 0.9463318736934662, avg_context_loss: 0.923191416438818,  avg_type_loss: 0.023140457263067366\n",
      "Epoch: 0, iter 15000, avg_loss: 0.9355294375936191, avg_context_loss: 0.9125447696000337,  avg_type_loss: 0.02298466803971678\n",
      "Epoch: 0, iter 17500, avg_loss: 0.9288981340238026, avg_context_loss: 0.9057827463967459,  avg_type_loss: 0.02311538764797151\n",
      "Epoch: 0, iter 20000, avg_loss: 0.9239716605916619, avg_context_loss: 0.9008623343877494,  avg_type_loss: 0.023109326216531917\n",
      "Epoch: 0, iter 22500, avg_loss: 0.92036183057891, avg_context_loss: 0.8971138155387508,  avg_type_loss: 0.02324801505369445\n",
      "Epoch: 0, iter 25000, avg_loss: 0.9161356162935496, avg_context_loss: 0.8930715410047769,  avg_type_loss: 0.02306407531466335\n",
      "Epoch: 0, iter 27500, avg_loss: 0.9124629279922355, avg_context_loss: 0.8893413773477078,  avg_type_loss: 0.023121550632979382\n",
      "Epoch: 0, iter 30000, avg_loss: 0.90973749623547, avg_context_loss: 0.8866399208202959,  avg_type_loss: 0.02309757536050553\n",
      "Epoch: 0, iter 32500, avg_loss: 0.9070142484130768, avg_context_loss: 0.8839333290331639,  avg_type_loss: 0.023080919323976223\n",
      "Epoch: 0, iter 35000, avg_loss: 0.9046852766662836, avg_context_loss: 0.881638879804526,  avg_type_loss: 0.023046396870698246\n",
      "Epoch: 0, iter 37500, avg_loss: 0.9025252305773894, avg_context_loss: 0.879544825095733,  avg_type_loss: 0.022980405483146508\n",
      "Epoch: 0, iter 40000, avg_loss: 0.9003253337930888, avg_context_loss: 0.8773791905477643,  avg_type_loss: 0.022946143258782102\n",
      "Epoch: 0, iter 42500, avg_loss: 0.8988644410231534, avg_context_loss: 0.8758800474023117,  avg_type_loss: 0.022984393633485718\n",
      "Epoch: 0, iter 45000, avg_loss: 0.8977319269829326, avg_context_loss: 0.8747178232845333,  avg_type_loss: 0.02301410369692991\n",
      "Epoch: 0, iter 47500, avg_loss: 0.8965684979106251, avg_context_loss: 0.8735291072167848,  avg_type_loss: 0.023039390687977796\n",
      "Epoch: 0, iter 50000, avg_loss: 0.8948559370881319, avg_context_loss: 0.8718586611205339,  avg_type_loss: 0.022997275960538535\n",
      "Epoch: 0, iter 52500, avg_loss: 0.8940160912042573, avg_context_loss: 0.8710159871819474,  avg_type_loss: 0.02300010400818927\n",
      "Epoch: 0, iter 55000, avg_loss: 0.8930951567530632, avg_context_loss: 0.8701967035301706,  avg_type_loss: 0.02289845320060849\n",
      "Epoch: 0, iter 57500, avg_loss: 0.8924104567745458, avg_context_loss: 0.8694886155561261,  avg_type_loss: 0.022921841191597608\n",
      "Epoch: 0, iter 60000, avg_loss: 0.891239851540327, avg_context_loss: 0.8683124581926813,  avg_type_loss: 0.02292739332575972\n",
      "Epoch: 0, iter 62500, avg_loss: 0.8904884196348191, avg_context_loss: 0.8675692292195558,  avg_type_loss: 0.022919190390229226\n",
      "Epoch: 0, iter 65000, avg_loss: 0.889847353790815, avg_context_loss: 0.8669334553031968,  avg_type_loss: 0.022913898460595654\n",
      "Epoch: 0, iter 67500, avg_loss: 0.8889110408844771, avg_context_loss: 0.8660080871600796,  avg_type_loss: 0.02290295371029664\n",
      "Epoch: 0, iter 70000, avg_loss: 0.8884117889808757, avg_context_loss: 0.8654398822989847,  avg_type_loss: 0.02297190666382334\n",
      "Epoch: 0, iter 72500, avg_loss: 0.8875570335100437, avg_context_loss: 0.8646182857095167,  avg_type_loss: 0.022938747772548732\n",
      "Epoch: 0, iter 75000, avg_loss: 0.8874305263857046, avg_context_loss: 0.8644777390902241,  avg_type_loss: 0.022952787267938257\n",
      "Epoch: 0, iter 77500, avg_loss: 0.8866659495334471, avg_context_loss: 0.8637183990191067,  avg_type_loss: 0.022947550495810085\n",
      "Epoch: 0, iter 80000, avg_loss: 0.8860770616903901, avg_context_loss: 0.8631569567904808,  avg_type_loss: 0.022920104893459938\n",
      "Epoch: 0, iter 82500, avg_loss: 0.8854669383283817, avg_context_loss: 0.862537482109395,  avg_type_loss: 0.022929456225297216\n",
      "Epoch: 0, iter 85000, avg_loss: 0.8850454853685463, avg_context_loss: 0.8621107040126534,  avg_type_loss: 0.02293478135934428\n",
      "Epoch: 0, iter 87500, avg_loss: 0.8845396182250976, avg_context_loss: 0.8616170275030818,  avg_type_loss: 0.02292259072038744\n",
      "Epoch: 0, iter 90000, avg_loss: 0.8843122430602709, avg_context_loss: 0.8613602958222231,  avg_type_loss: 0.022951947220321744\n",
      "Epoch: 0, iter 92500, avg_loss: 0.8838114997824301, avg_context_loss: 0.8608642531843604,  avg_type_loss: 0.022947246570915385\n",
      "Epoch: 0, iter 95000, avg_loss: 0.8831755409687757, avg_context_loss: 0.8602287016027852,  avg_type_loss: 0.02294683933868808\n",
      "Epoch: 0, iter 97500, avg_loss: 0.8826493148185504, avg_context_loss: 0.8596826070148975,  avg_type_loss: 0.02296670778043186\n",
      "Epoch: 0, iter 100000, avg_loss: 0.8822475302376598, avg_context_loss: 0.8592674970882386,  avg_type_loss: 0.022980033133393155\n",
      "Epoch: 0, iter 102500, avg_loss: 0.8819360219889661, avg_context_loss: 0.8589429356591367,  avg_type_loss: 0.022993086310639614\n",
      "Epoch: 0, iter 105000, avg_loss: 0.8812204409679132, avg_context_loss: 0.8582391630612669,  avg_type_loss: 0.022981277890432448\n",
      "Epoch: 0, iter 107500, avg_loss: 0.8804994585439909, avg_context_loss: 0.857509756558891,  avg_type_loss: 0.02298970196932381\n",
      "Epoch: 0, iter 110000, avg_loss: 0.8802777545134453, avg_context_loss: 0.8572708075229079,  avg_type_loss: 0.023006946970988065\n",
      "Epoch: 0, iter 112500, avg_loss: 0.8797267100667291, avg_context_loss: 0.8567197219811215,  avg_type_loss: 0.023006988069713116\n",
      "Epoch: 0, iter 115000, avg_loss: 0.8791949843130034, avg_context_loss: 0.856170829491868,  avg_type_loss: 0.023024154788239496\n",
      "Epoch: 0, iter 117500, avg_loss: 0.8788857229405895, avg_context_loss: 0.855801560868196,  avg_type_loss: 0.023084162037946443\n",
      "Epoch: 0, iter 120000, avg_loss: 0.8783265111865165, avg_context_loss: 0.8552253348911336,  avg_type_loss: 0.02310117625981414\n",
      "Epoch: 0, iter 122500, avg_loss: 0.8780066925239502, avg_context_loss: 0.8549165501000778,  avg_type_loss: 0.023090142389820243\n",
      "Epoch: 0, iter 125000, avg_loss: 0.8775608946765363, avg_context_loss: 0.8544470775384754,  avg_type_loss: 0.02311381709972769\n",
      "Epoch: 0, iter 127500, avg_loss: 0.8773851038047789, avg_context_loss: 0.8542730218903545,  avg_type_loss: 0.023112081880224684\n",
      "Epoch: 0, iter 130000, avg_loss: 0.877141946077089, avg_context_loss: 0.8540282585231014,  avg_type_loss: 0.023113687514857605\n",
      "Epoch: 0, iter 132500, avg_loss: 0.8766987294902497, avg_context_loss: 0.8535830374079352,  avg_type_loss: 0.02311569204857608\n",
      "Epoch: 0, iter 135000, avg_loss: 0.8761215806844196, avg_context_loss: 0.8530146812497466,  avg_type_loss: 0.023106899397958208\n",
      "Epoch: 0, iter 137500, avg_loss: 0.8758940472921594, avg_context_loss: 0.8527631178336794,  avg_type_loss: 0.023130929425656796\n",
      "Epoch: 0, iter 140000, avg_loss: 0.875539560026263, avg_context_loss: 0.8523848890682018,  avg_type_loss: 0.023154670930494156\n",
      "Epoch: 0, iter 142500, avg_loss: 0.8754998746455369, avg_context_loss: 0.8523284930269839,  avg_type_loss: 0.02317138159264598\n",
      "Epoch: 0, iter 145000, avg_loss: 0.8753300621010106, avg_context_loss: 0.852159579519966,  avg_type_loss: 0.02317048255984896\n",
      "Epoch: 0, iter 147500, avg_loss: 0.8751463056546526, avg_context_loss: 0.8519841394438834,  avg_type_loss: 0.023162166185942242\n",
      "Epoch: 0, iter 150000, avg_loss: 0.8748122186340391, avg_context_loss: 0.8516389858120307,  avg_type_loss: 0.023173232799482843\n",
      "Epoch: 0, iter 152500, avg_loss: 0.8745179646019808, avg_context_loss: 0.8513480462970426,  avg_type_loss: 0.0231699182868126\n",
      "Epoch: 0, iter 155000, avg_loss: 0.874114283833845, avg_context_loss: 0.8509231473315026,  avg_type_loss: 0.02319113647371771\n",
      "Epoch: 0, iter 157500, avg_loss: 0.8737423124021363, avg_context_loss: 0.8505663899704933,  avg_type_loss: 0.023175922407594227\n",
      "Epoch: 0, iter 160000, avg_loss: 0.8735145160627901, avg_context_loss: 0.8503326589482254,  avg_type_loss: 0.023181857088039395\n",
      "Epoch: 0, iter 162500, avg_loss: 0.8730803511641002, avg_context_loss: 0.8498768046666453,  avg_type_loss: 0.023203546472111574\n",
      "Epoch: 0, iter 165000, avg_loss: 0.8727423807429884, avg_context_loss: 0.8495455907260265,  avg_type_loss: 0.023196789986549903\n",
      "Epoch: 0, iter 167500, avg_loss: 0.8724981953990215, avg_context_loss: 0.8493056284358363,  avg_type_loss: 0.023192566934316906\n",
      "Epoch: 0, iter 170000, avg_loss: 0.8720766430873315, avg_context_loss: 0.8488640893404646,  avg_type_loss: 0.023212553713415914\n",
      "Epoch: 0, iter 172500, avg_loss: 0.8718538592146035, avg_context_loss: 0.8486309213093766,  avg_type_loss: 0.023222937876585387\n",
      "Epoch: 0, iter 175000, avg_loss: 0.8714904926401164, avg_context_loss: 0.8482586418865409,  avg_type_loss: 0.023231850721713687\n",
      "Epoch: 0, iter 177500, avg_loss: 0.8710358652878815, avg_context_loss: 0.8477777137737669,  avg_type_loss: 0.02325815148594409\n",
      "Epoch: 0, iter 180000, avg_loss: 0.870744563026126, avg_context_loss: 0.8474876107566679,  avg_type_loss: 0.023256952241751262\n",
      "Epoch: 0, iter 182500, avg_loss: 0.8704451382389216, avg_context_loss: 0.8471735405523687,  avg_type_loss: 0.023271597657357788\n",
      "Epoch: 0, iter 185000, avg_loss: 0.8699382749215574, avg_context_loss: 0.8466694457886388,  avg_type_loss: 0.023268829103836135\n",
      "Epoch: 0, iter 187500, avg_loss: 0.8696956895377238, avg_context_loss: 0.8464135753525992,  avg_type_loss: 0.02328211415934066\n",
      "Epoch: 0, iter 190000, avg_loss: 0.8695047231196181, avg_context_loss: 0.8462213976273509,  avg_type_loss: 0.023283325465847004\n",
      "Epoch: 0, iter 192500, avg_loss: 0.8690224445838046, avg_context_loss: 0.8457413676605984,  avg_type_loss: 0.02328107689486502\n",
      "Epoch: 0, iter 195000, avg_loss: 0.8685626934102044, avg_context_loss: 0.8452615978843699,  avg_type_loss: 0.023301095498926363\n",
      "Epoch: 0, iter 197500, avg_loss: 0.868001658748958, avg_context_loss: 0.8446813598394677,  avg_type_loss: 0.02332029888442234\n",
      "Epoch: 0, iter 200000, avg_loss: 0.8676403889788874, avg_context_loss: 0.8443223365444225,  avg_type_loss: 0.02331805240713991\n",
      "Epoch: 0, avg_loss=0.8676403889788874\n"
     ]
    },
    {
     "name": "stderr",
     "output_type": "stream",
     "text": [
      "[Parallel(n_jobs=10)]: Using backend LokyBackend with 10 concurrent workers.\n",
      "[Parallel(n_jobs=10)]: Done  20 out of  20 | elapsed:  5.2min finished\n"
     ]
    },
    {
     "name": "stdout",
     "output_type": "stream",
     "text": [
      "Epoch: 1, iter 2500, avg_loss: 0.8413522377938032, avg_context_loss: 0.8174359921008348,  avg_type_loss: 0.023916245751082896\n",
      "Epoch: 1, iter 5000, avg_loss: 0.8319002257697284, avg_context_loss: 0.8073533594958484,  avg_type_loss: 0.024546866443380715\n",
      "Epoch: 1, iter 7500, avg_loss: 0.8309422709268828, avg_context_loss: 0.8060587396067878,  avg_type_loss: 0.024883531313141187\n",
      "Epoch: 1, iter 10000, avg_loss: 0.8351444435967132, avg_context_loss: 0.8107007348317653,  avg_type_loss: 0.024443708800897003\n",
      "Epoch: 1, iter 12500, avg_loss: 0.8352941818575561, avg_context_loss: 0.810858448638618,  avg_type_loss: 0.024435733205378056\n",
      "Epoch: 1, iter 15000, avg_loss: 0.8328875106679896, avg_context_loss: 0.8084129560288041,  avg_type_loss: 0.024474554635956883\n",
      "Epoch: 1, iter 17500, avg_loss: 0.8330444859018283, avg_context_loss: 0.808401501976805,  avg_type_loss: 0.02464298396195684\n",
      "Epoch: 1, iter 20000, avg_loss: 0.8334478356323205, avg_context_loss: 0.8087251931250096,  avg_type_loss: 0.024722642554715277\n",
      "Epoch: 1, iter 22500, avg_loss: 0.8323171831875211, avg_context_loss: 0.807359025391274,  avg_type_loss: 0.0249581578667793\n",
      "Epoch: 1, iter 25000, avg_loss: 0.8327003897392005, avg_context_loss: 0.8075225093114377,  avg_type_loss: 0.025177880484983324\n",
      "Epoch: 1, iter 27500, avg_loss: 0.8322421078432013, avg_context_loss: 0.8070568358654325,  avg_type_loss: 0.025185272013192827\n",
      "Epoch: 1, iter 30000, avg_loss: 0.8314509361773108, avg_context_loss: 0.8063513547311226,  avg_type_loss: 0.025099581468291582\n",
      "Epoch: 1, iter 32500, avg_loss: 0.8312055533912892, avg_context_loss: 0.806123159199953,  avg_type_loss: 0.025082394247530743\n",
      "Epoch: 1, iter 35000, avg_loss: 0.8311221171591431, avg_context_loss: 0.806191668719479,  avg_type_loss: 0.024930448467843234\n",
      "Epoch: 1, iter 37500, avg_loss: 0.8311586355156203, avg_context_loss: 0.8061407137318453,  avg_type_loss: 0.02501792181464533\n",
      "Epoch: 1, iter 40000, avg_loss: 0.8301453866853379, avg_context_loss: 0.8050169113095385,  avg_type_loss: 0.02512847538802307\n",
      "Epoch: 1, iter 42500, avg_loss: 0.8294769536033273, avg_context_loss: 0.8041606342371334,  avg_type_loss: 0.025316319357581874\n",
      "Epoch: 1, iter 45000, avg_loss: 0.8287610905234184, avg_context_loss: 0.8033981019016355,  avg_type_loss: 0.025362988579418096\n",
      "Epoch: 1, iter 47500, avg_loss: 0.8281193949613131, avg_context_loss: 0.8026953132640766,  avg_type_loss: 0.02542408161965248\n",
      "Epoch: 1, iter 50000, avg_loss: 0.8272601523259282, avg_context_loss: 0.8018125167374686,  avg_type_loss: 0.02544763549661264\n",
      "Epoch: 1, iter 52500, avg_loss: 0.8267733111646204, avg_context_loss: 0.801326799090526,  avg_type_loss: 0.025446511990807597\n",
      "Epoch: 1, iter 55000, avg_loss: 0.826652197423645, avg_context_loss: 0.8012147545615041,  avg_type_loss: 0.02543744279327379\n",
      "Epoch: 1, iter 57500, avg_loss: 0.8262160756801133, avg_context_loss: 0.8007182002332871,  avg_type_loss: 0.02549787538083999\n",
      "Epoch: 1, iter 60000, avg_loss: 0.8257090954734012, avg_context_loss: 0.8001252988335676,  avg_type_loss: 0.025583796586561947\n",
      "Epoch: 1, iter 62500, avg_loss: 0.8249845802991986, avg_context_loss: 0.799287031683296,  avg_type_loss: 0.025697548576772214\n",
      "Epoch: 1, iter 65000, avg_loss: 0.8244470770647893, avg_context_loss: 0.7986920800767552,  avg_type_loss: 0.025754996948531613\n",
      "Epoch: 1, iter 67500, avg_loss: 0.8244257020357583, avg_context_loss: 0.7987325451798185,  avg_type_loss: 0.025693156819031747\n",
      "Epoch: 1, iter 70000, avg_loss: 0.8240807520244803, avg_context_loss: 0.7983535053315706,  avg_type_loss: 0.02572724666197651\n",
      "Epoch: 1, iter 72500, avg_loss: 0.8236663334680014, avg_context_loss: 0.7979065864036566,  avg_type_loss: 0.02575974704935376\n",
      "Epoch: 1, iter 75000, avg_loss: 0.822757787865003, avg_context_loss: 0.7969809695201864,  avg_type_loss: 0.025776818339315555\n",
      "Epoch: 1, iter 77500, avg_loss: 0.822068785374828, avg_context_loss: 0.796229792657134,  avg_type_loss: 0.02583899271003902\n",
      "Epoch: 1, iter 80000, avg_loss: 0.8215682415439282, avg_context_loss: 0.79567229403893,  avg_type_loss: 0.025895947483193595\n",
      "Epoch: 1, iter 82500, avg_loss: 0.8213900003391685, avg_context_loss: 0.7954090482431605,  avg_type_loss: 0.025980952079628\n",
      "Epoch: 1, iter 85000, avg_loss: 0.8208741022792809, avg_context_loss: 0.7948942957117276,  avg_type_loss: 0.02597980655419695\n",
      "Epoch: 1, iter 87500, avg_loss: 0.8200789778511013, avg_context_loss: 0.7940215633916003,  avg_type_loss: 0.026057414447761006\n",
      "Epoch: 1, iter 90000, avg_loss: 0.8193389941335966, avg_context_loss: 0.7932999053747704,  avg_type_loss: 0.026039088746481056\n",
      "Epoch: 1, iter 92500, avg_loss: 0.8185356135054618, avg_context_loss: 0.7924075247593425,  avg_type_loss: 0.026128088738316218\n",
      "Epoch: 1, iter 95000, avg_loss: 0.818638310540389, avg_context_loss: 0.792513648779102,  avg_type_loss: 0.026124661746023126\n",
      "Epoch: 1, iter 97500, avg_loss: 0.8182859990270092, avg_context_loss: 0.7920622900370986,  avg_type_loss: 0.02622370898275612\n",
      "Epoch: 1, iter 100000, avg_loss: 0.8176248709393665, avg_context_loss: 0.7912978203460946,  avg_type_loss: 0.026327050584880635\n",
      "Epoch: 1, iter 102500, avg_loss: 0.8174066536314241, avg_context_loss: 0.7910766800720881,  avg_type_loss: 0.026329973556019546\n",
      "Epoch: 1, iter 105000, avg_loss: 0.816859263987307, avg_context_loss: 0.7904888210541081,  avg_type_loss: 0.026370442927229617\n",
      "Epoch: 1, iter 107500, avg_loss: 0.8158247592703894, avg_context_loss: 0.78937451127473,  avg_type_loss: 0.026450247990314004\n",
      "Epoch: 1, iter 110000, avg_loss: 0.8150627269262278, avg_context_loss: 0.788565550407327,  avg_type_loss: 0.026497176513727756\n",
      "Epoch: 1, iter 112500, avg_loss: 0.81423234078149, avg_context_loss: 0.7877074470957451,  avg_type_loss: 0.026524893686912125\n",
      "Epoch: 1, iter 115000, avg_loss: 0.813772480168226, avg_context_loss: 0.7872118796707496,  avg_type_loss: 0.02656060049223673\n",
      "Epoch: 1, iter 117500, avg_loss: 0.81295240482726, avg_context_loss: 0.7863362880752441,  avg_type_loss: 0.02661611674967757\n",
      "Epoch: 1, iter 120000, avg_loss: 0.8123774362547013, avg_context_loss: 0.7857236486806535,  avg_type_loss: 0.026653787577998203\n",
      "Epoch: 1, iter 122500, avg_loss: 0.8117689266647915, avg_context_loss: 0.7850752932329264,  avg_type_loss: 0.0266936334380918\n",
      "Epoch: 1, iter 125000, avg_loss: 0.8111154577408135, avg_context_loss: 0.7843291166745723,  avg_type_loss: 0.026786341068930925\n",
      "Epoch: 1, iter 127500, avg_loss: 0.8108887640847587, avg_context_loss: 0.7840272906546791,  avg_type_loss: 0.026861473435923166\n",
      "Epoch: 1, iter 130000, avg_loss: 0.8099652001957194, avg_context_loss: 0.7830644890540208,  avg_type_loss: 0.026900711147716413\n",
      "Epoch: 1, iter 132500, avg_loss: 0.8096025940621517, avg_context_loss: 0.7826736845418248,  avg_type_loss: 0.02692890952907081\n",
      "Epoch: 1, iter 135000, avg_loss: 0.8088693550172503, avg_context_loss: 0.7818888621188425,  avg_type_loss: 0.026980492912929643\n",
      "Epoch: 1, iter 137500, avg_loss: 0.8084469372221015, avg_context_loss: 0.7814417555088617,  avg_type_loss: 0.027005181728743693\n",
      "Epoch: 1, iter 140000, avg_loss: 0.8075528857626553, avg_context_loss: 0.7804873430563137,  avg_type_loss: 0.027065542724602192\n",
      "Epoch: 1, iter 142500, avg_loss: 0.8069449788697587, avg_context_loss: 0.7798335358491462,  avg_type_loss: 0.027111443036971123\n",
      "Epoch: 1, iter 145000, avg_loss: 0.8066684866116093, avg_context_loss: 0.7795271380976742,  avg_type_loss: 0.027141348534674738\n",
      "Epoch: 1, iter 147500, avg_loss: 0.8063670114544236, avg_context_loss: 0.7791595590656339,  avg_type_loss: 0.027207452413067223\n",
      "Epoch: 1, iter 150000, avg_loss: 0.8057290368571878, avg_context_loss: 0.7784983026590199,  avg_type_loss: 0.027230734227852275\n",
      "Epoch: 1, iter 152500, avg_loss: 0.8051507557946639, avg_context_loss: 0.7779064202529974,  avg_type_loss: 0.027244335573795634\n",
      "Epoch: 1, iter 155000, avg_loss: 0.8046915755985364, avg_context_loss: 0.7774031421652364,  avg_type_loss: 0.027288433467759\n",
      "Epoch: 1, iter 157500, avg_loss: 0.8043844163700229, avg_context_loss: 0.7770377469486897,  avg_type_loss: 0.027346669450822095\n",
      "Epoch: 1, iter 160000, avg_loss: 0.8040114874289837, avg_context_loss: 0.776656634337944,  avg_type_loss: 0.02735485312375822\n",
      "Epoch: 1, iter 162500, avg_loss: 0.8036872585203785, avg_context_loss: 0.7762971639447945,  avg_type_loss: 0.027390094605369064\n",
      "Epoch: 1, iter 165000, avg_loss: 0.8025939326422459, avg_context_loss: 0.7751460714607753,  avg_type_loss: 0.027447861212153327\n",
      "Epoch: 1, iter 167500, avg_loss: 0.8020478677113221, avg_context_loss: 0.7745829507663179,  avg_type_loss: 0.027464916976708085\n",
      "Epoch: 1, iter 170000, avg_loss: 0.8013487745758475, avg_context_loss: 0.7738406328246874,  avg_type_loss: 0.027508141780211864\n",
      "Epoch: 1, iter 172500, avg_loss: 0.8009481288635752, avg_context_loss: 0.7733952585824589,  avg_type_loss: 0.02755287030482314\n",
      "Epoch: 1, iter 175000, avg_loss: 0.800574673543796, avg_context_loss: 0.7730125171824438,  avg_type_loss: 0.027562156388041163\n",
      "Epoch: 1, iter 177500, avg_loss: 0.7995370402578527, avg_context_loss: 0.771939231090489,  avg_type_loss: 0.02759780919859317\n",
      "Epoch: 1, iter 180000, avg_loss: 0.7990883036638506, avg_context_loss: 0.7714581471893212,  avg_type_loss: 0.027630156508750385\n",
      "Epoch: 1, iter 182500, avg_loss: 0.79862584520757, avg_context_loss: 0.7709774148826117,  avg_type_loss: 0.027648430360404597\n",
      "Epoch: 1, iter 185000, avg_loss: 0.7983121420541829, avg_context_loss: 0.7706482990102591,  avg_type_loss: 0.027663843075357176\n",
      "Epoch: 1, iter 187500, avg_loss: 0.7978295520899992, avg_context_loss: 0.7701606020581723,  avg_type_loss: 0.027668950065761803\n",
      "Epoch: 1, iter 190000, avg_loss: 0.7971496673304882, avg_context_loss: 0.7694481271525845,  avg_type_loss: 0.027701540212568484\n",
      "Epoch: 1, iter 192500, avg_loss: 0.7965601499381487, avg_context_loss: 0.7688265157078478,  avg_type_loss: 0.027733634265492874\n",
      "Epoch: 1, iter 195000, avg_loss: 0.7959299303338601, avg_context_loss: 0.7681635900902729,  avg_type_loss: 0.027766340275739248\n",
      "Epoch: 1, iter 197500, avg_loss: 0.7954808816742577, avg_context_loss: 0.7677055453753453,  avg_type_loss: 0.027775336328049814\n",
      "Epoch: 1, iter 200000, avg_loss: 0.7947615785809048, avg_context_loss: 0.7669680233867653,  avg_type_loss: 0.027793555220458656\n",
      "Epoch: 1, avg_loss=0.7947615785809048\n"
     ]
    },
    {
     "name": "stderr",
     "output_type": "stream",
     "text": [
      "[Parallel(n_jobs=10)]: Using backend LokyBackend with 10 concurrent workers.\n",
      "[Parallel(n_jobs=10)]: Done  20 out of  20 | elapsed:  5.2min finished\n"
     ]
    },
    {
     "name": "stdout",
     "output_type": "stream",
     "text": [
      "Epoch: 2, iter 2500, avg_loss: 0.7510272790849208, avg_context_loss: 0.7236459398657084,  avg_type_loss: 0.027381338972598316\n",
      "Epoch: 2, iter 5000, avg_loss: 0.7498429400283844, avg_context_loss: 0.7204401954893023,  avg_type_loss: 0.02940274466983974\n",
      "Epoch: 2, iter 7500, avg_loss: 0.7464244050614536, avg_context_loss: 0.716856334176908,  avg_type_loss: 0.02956807096103827\n",
      "Epoch: 2, iter 10000, avg_loss: 0.7468242036985233, avg_context_loss: 0.7168618450889364,  avg_type_loss: 0.02996235874146223\n",
      "Epoch: 2, iter 12500, avg_loss: 0.7482579767017067, avg_context_loss: 0.7185484425388277,  avg_type_loss: 0.029709534285515548\n",
      "Epoch: 2, iter 15000, avg_loss: 0.7434292124856263, avg_context_loss: 0.7132072307359427,  avg_type_loss: 0.030221981925641496\n",
      "Epoch: 2, iter 17500, avg_loss: 0.7455005574180612, avg_context_loss: 0.7153420304016344,  avg_type_loss: 0.03015852718065892\n",
      "Epoch: 2, iter 20000, avg_loss: 0.7450673679281026, avg_context_loss: 0.714898129866831,  avg_type_loss: 0.03016923820404336\n",
      "Epoch: 2, iter 22500, avg_loss: 0.74565589895712, avg_context_loss: 0.7156938352156017,  avg_type_loss: 0.029962063861555522\n",
      "Epoch: 2, iter 25000, avg_loss: 0.7429379936541617, avg_context_loss: 0.7125809257896244,  avg_type_loss: 0.030357067968919873\n",
      "Epoch: 2, iter 27500, avg_loss: 0.7427481739175591, avg_context_loss: 0.7121683697701855,  avg_type_loss: 0.030579804238473826\n",
      "Epoch: 2, iter 30000, avg_loss: 0.7422993984151631, avg_context_loss: 0.7118203143232813,  avg_type_loss: 0.030479084174583355\n",
      "Epoch: 2, iter 32500, avg_loss: 0.741439967540365, avg_context_loss: 0.7109674664595952,  avg_type_loss: 0.03047250112447028\n",
      "Epoch: 2, iter 35000, avg_loss: 0.7415193526272262, avg_context_loss: 0.7109815522257771,  avg_type_loss: 0.03053780045490712\n",
      "Epoch: 2, iter 37500, avg_loss: 0.7408560029710333, avg_context_loss: 0.7102172892473141,  avg_type_loss: 0.03063871379174292\n",
      "Epoch: 2, iter 40000, avg_loss: 0.7396868834679946, avg_context_loss: 0.7090121290175244,  avg_type_loss: 0.03067475452835206\n",
      "Epoch: 2, iter 42500, avg_loss: 0.7386455474684344, avg_context_loss: 0.7078947517690851,  avg_type_loss: 0.030750795786718237\n",
      "Epoch: 2, iter 45000, avg_loss: 0.7372367879610094, avg_context_loss: 0.7064839317731973,  avg_type_loss: 0.030752856258427105\n",
      "Epoch: 2, iter 47500, avg_loss: 0.7368193097861974, avg_context_loss: 0.7059993534137936,  avg_type_loss: 0.03081995643208686\n",
      "Epoch: 2, iter 50000, avg_loss: 0.7376007866066322, avg_context_loss: 0.7067675622498617,  avg_type_loss: 0.030833224413096903\n",
      "Epoch: 2, iter 52500, avg_loss: 0.735416819923779, avg_context_loss: 0.7044873473663593,  avg_type_loss: 0.03092947260464231\n",
      "Epoch: 2, iter 55000, avg_loss: 0.73468366124801, avg_context_loss: 0.7036675768874755,  avg_type_loss: 0.031016084406152368\n",
      "Epoch: 2, iter 57500, avg_loss: 0.7335455573638658, avg_context_loss: 0.7023703762466007,  avg_type_loss: 0.031175181178651427\n",
      "Epoch: 2, iter 60000, avg_loss: 0.7334386995850597, avg_context_loss: 0.7023026240774586,  avg_type_loss: 0.03113607556222317\n",
      "Epoch: 2, iter 62500, avg_loss: 0.732777712748602, avg_context_loss: 0.7016428508900553,  avg_type_loss: 0.031134861927241086\n",
      "Epoch: 2, iter 65000, avg_loss: 0.7321866214061729, avg_context_loss: 0.7010112438772876,  avg_type_loss: 0.031175377592157858\n",
      "Epoch: 2, iter 67500, avg_loss: 0.731338598441788, avg_context_loss: 0.700119723679829,  avg_type_loss: 0.031218874836726872\n",
      "Epoch: 2, iter 70000, avg_loss: 0.7312348559716051, avg_context_loss: 0.6999823702933666,  avg_type_loss: 0.03125248573870797\n",
      "Epoch: 2, iter 72500, avg_loss: 0.7310639526773244, avg_context_loss: 0.6998669672999017,  avg_type_loss: 0.031196985447008548\n",
      "Epoch: 2, iter 75000, avg_loss: 0.7304458937465276, avg_context_loss: 0.6992374815868462,  avg_type_loss: 0.031208412226053577\n",
      "Epoch: 2, iter 77500, avg_loss: 0.730298439382269, avg_context_loss: 0.6990271491459421,  avg_type_loss: 0.0312712903065667\n",
      "Epoch: 2, iter 80000, avg_loss: 0.7297216823221999, avg_context_loss: 0.6984521001790767,  avg_type_loss: 0.03126958221282111\n",
      "Epoch: 2, iter 82500, avg_loss: 0.7290601468323871, avg_context_loss: 0.6978551517413986,  avg_type_loss: 0.031204995165031515\n",
      "Epoch: 2, iter 85000, avg_loss: 0.7277186295936322, avg_context_loss: 0.6963915898508994,  avg_type_loss: 0.031327039817578214\n",
      "Epoch: 2, iter 87500, avg_loss: 0.7277610421563578, avg_context_loss: 0.6964378709382564,  avg_type_loss: 0.031323171288339155\n",
      "Epoch: 2, iter 90000, avg_loss: 0.7268469777836257, avg_context_loss: 0.6953907361061106,  avg_type_loss: 0.03145624174886487\n",
      "Epoch: 2, iter 92500, avg_loss: 0.7256231770583202, avg_context_loss: 0.6941006044290053,  avg_type_loss: 0.03152257269744736\n",
      "Epoch: 2, iter 95000, avg_loss: 0.7250550577647004, avg_context_loss: 0.6934669504439557,  avg_type_loss: 0.031588107390476294\n",
      "Epoch: 2, iter 97500, avg_loss: 0.7243762491730639, avg_context_loss: 0.6927155699234073,  avg_type_loss: 0.03166067930733164\n",
      "Epoch: 2, iter 100000, avg_loss: 0.723720691731656, avg_context_loss: 0.6920273313445691,  avg_type_loss: 0.03169336044181138\n",
      "Epoch: 2, iter 102500, avg_loss: 0.7221953120954607, avg_context_loss: 0.6904287068375454,  avg_type_loss: 0.0317666053130405\n",
      "Epoch: 2, iter 105000, avg_loss: 0.7221105464551509, avg_context_loss: 0.6903111465912224,  avg_type_loss: 0.03179939992144881\n",
      "Epoch: 2, iter 107500, avg_loss: 0.7213361750294129, avg_context_loss: 0.6895095450765432,  avg_type_loss: 0.03182663000492855\n",
      "Epoch: 2, iter 110000, avg_loss: 0.7206480683949691, avg_context_loss: 0.6887358558938161,  avg_type_loss: 0.03191221255005591\n",
      "Epoch: 2, iter 112500, avg_loss: 0.7198799755173342, avg_context_loss: 0.6878976136765298,  avg_type_loss: 0.03198236188783414\n",
      "Epoch: 2, iter 115000, avg_loss: 0.7193392045356738, avg_context_loss: 0.6872402555410709,  avg_type_loss: 0.032098949036633836\n",
      "Epoch: 2, iter 117500, avg_loss: 0.7184786946117641, avg_context_loss: 0.686312313504208,  avg_type_loss: 0.03216638114826476\n",
      "Epoch: 2, iter 120000, avg_loss: 0.7177193756642518, avg_context_loss: 0.6855136800800916,  avg_type_loss: 0.03220569562998911\n",
      "Epoch: 2, iter 122500, avg_loss: 0.716554667240328, avg_context_loss: 0.6842246122375587,  avg_type_loss: 0.03233005504735879\n",
      "Epoch: 2, iter 125000, avg_loss: 0.7158170430429875, avg_context_loss: 0.6834222073855251,  avg_type_loss: 0.03239483569589257\n",
      "Epoch: 2, iter 127500, avg_loss: 0.7147493584099646, avg_context_loss: 0.6823130281096433,  avg_type_loss: 0.03243633033696051\n",
      "Epoch: 2, iter 130000, avg_loss: 0.7141093124751575, avg_context_loss: 0.6815941720944471,  avg_type_loss: 0.03251514041056283\n",
      "Epoch: 2, iter 132500, avg_loss: 0.7133185460801535, avg_context_loss: 0.6807073098392138,  avg_type_loss: 0.032611236269399525\n",
      "Epoch: 2, iter 135000, avg_loss: 0.7126595081316032, avg_context_loss: 0.6800330359255206,  avg_type_loss: 0.032626472231518065\n",
      "Epoch: 2, iter 137500, avg_loss: 0.7117515927889062, avg_context_loss: 0.6790771484285525,  avg_type_loss: 0.032674444380395795\n",
      "Epoch: 2, iter 140000, avg_loss: 0.7108233344841416, avg_context_loss: 0.6780689826694117,  avg_type_loss: 0.032754351840534116\n",
      "Epoch: 2, iter 142500, avg_loss: 0.7099424366005745, avg_context_loss: 0.6771180921620705,  avg_type_loss: 0.032824344463123566\n",
      "Epoch: 2, iter 145000, avg_loss: 0.7094121632353885, avg_context_loss: 0.6765139175359609,  avg_type_loss: 0.032898245728773805\n",
      "Epoch: 2, iter 147500, avg_loss: 0.7085289457359494, avg_context_loss: 0.6755502262465151,  avg_type_loss: 0.03297871952055622\n",
      "Epoch: 2, iter 150000, avg_loss: 0.70778611785143, avg_context_loss: 0.6747321165680265,  avg_type_loss: 0.03305400131409988\n",
      "Epoch: 2, iter 152500, avg_loss: 0.7071997026919524, avg_context_loss: 0.674140248222759,  avg_type_loss: 0.03305945449880034\n",
      "Epoch: 2, iter 155000, avg_loss: 0.706599983203333, avg_context_loss: 0.6734834351723112,  avg_type_loss: 0.03311654806076399\n",
      "Epoch: 2, iter 157500, avg_loss: 0.7059998285648309, avg_context_loss: 0.6728302467920123,  avg_type_loss: 0.03316958180104811\n",
      "Epoch: 2, iter 160000, avg_loss: 0.7049948495557473, avg_context_loss: 0.6717835394374677,  avg_type_loss: 0.033211310144729216\n",
      "Epoch: 2, iter 162500, avg_loss: 0.7039659409212092, avg_context_loss: 0.6707118813235141,  avg_type_loss: 0.03325405962207569\n",
      "Epoch: 2, iter 165000, avg_loss: 0.7032750902863106, avg_context_loss: 0.66997210324042,  avg_type_loss: 0.033302987064223626\n",
      "Epoch: 2, iter 167500, avg_loss: 0.7028078203438044, avg_context_loss: 0.66947200762421,  avg_type_loss: 0.03333581273749804\n",
      "Epoch: 2, iter 170000, avg_loss: 0.7020250076826223, avg_context_loss: 0.6686382788548411,  avg_type_loss: 0.033386728845739407\n",
      "Epoch: 2, iter 172500, avg_loss: 0.7012522786607831, avg_context_loss: 0.6678165710828119,  avg_type_loss: 0.0334357075954423\n",
      "Epoch: 2, iter 175000, avg_loss: 0.7002925495886643, avg_context_loss: 0.6668140863277124,  avg_type_loss: 0.03347846327722605\n",
      "Epoch: 2, iter 177500, avg_loss: 0.6995817804136957, avg_context_loss: 0.6661000245015438,  avg_type_loss: 0.03348175593095661\n",
      "Epoch: 2, iter 180000, avg_loss: 0.6991605574390748, avg_context_loss: 0.6656224547043494,  avg_type_loss: 0.03353810275173229\n",
      "Epoch: 2, iter 182500, avg_loss: 0.6984550641903424, avg_context_loss: 0.6648331111347124,  avg_type_loss: 0.033621953071572196\n",
      "Epoch: 2, iter 185000, avg_loss: 0.6978926749232955, avg_context_loss: 0.6642287309411511,  avg_type_loss: 0.03366394399566123\n",
      "Epoch: 2, iter 187500, avg_loss: 0.6972698960059012, avg_context_loss: 0.6635739890404344,  avg_type_loss: 0.03369590697986881\n",
      "Epoch: 2, iter 190000, avg_loss: 0.6967505789186144, avg_context_loss: 0.663016042351311,  avg_type_loss: 0.033734536579319914\n",
      "Epoch: 2, iter 192500, avg_loss: 0.6962522859187991, avg_context_loss: 0.6624738476876701,  avg_type_loss: 0.0337784382440053\n",
      "Epoch: 2, iter 195000, avg_loss: 0.695579362930921, avg_context_loss: 0.6617972023202225,  avg_type_loss: 0.03378216061765949\n",
      "Epoch: 2, iter 197500, avg_loss: 0.6947645516517702, avg_context_loss: 0.6609152065794089,  avg_type_loss: 0.033849345082740144\n",
      "Epoch: 2, iter 200000, avg_loss: 0.6940736011565384, avg_context_loss: 0.6602153393253847,  avg_type_loss: 0.033858261836301536\n",
      "Epoch: 2, avg_loss=0.6940736011565384\n"
     ]
    },
    {
     "name": "stderr",
     "output_type": "stream",
     "text": [
      "[Parallel(n_jobs=10)]: Using backend LokyBackend with 10 concurrent workers.\n",
      "[Parallel(n_jobs=10)]: Done  20 out of  20 | elapsed:  5.3min finished\n"
     ]
    },
    {
     "name": "stdout",
     "output_type": "stream",
     "text": [
      "Epoch: 3, iter 2500, avg_loss: 0.6490672806207091, avg_context_loss: 0.6143242153625935,  avg_type_loss: 0.034743065123260024\n",
      "Epoch: 3, iter 5000, avg_loss: 0.6377480433212593, avg_context_loss: 0.6004354946380481,  avg_type_loss: 0.0373125485714525\n",
      "Epoch: 3, iter 7500, avg_loss: 0.6342901113481572, avg_context_loss: 0.5978510923831413,  avg_type_loss: 0.03643901893577228\n",
      "Epoch: 3, iter 10000, avg_loss: 0.6380334905519616, avg_context_loss: 0.6012910893333611,  avg_type_loss: 0.0367424011411611\n",
      "Epoch: 3, iter 12500, avg_loss: 0.6349910058028624, avg_context_loss: 0.598299628337212,  avg_type_loss: 0.036691377390511336\n",
      "Epoch: 3, iter 15000, avg_loss: 0.6329041096016454, avg_context_loss: 0.5960867766707825,  avg_type_loss: 0.036817332834284754\n",
      "Epoch: 3, iter 17500, avg_loss: 0.6285812831114446, avg_context_loss: 0.5917004037135414,  avg_type_loss: 0.036880879359080326\n",
      "Epoch: 3, iter 20000, avg_loss: 0.6316607870593667, avg_context_loss: 0.5948340939041227,  avg_type_loss: 0.03682669318199623\n",
      "Epoch: 3, iter 22500, avg_loss: 0.6321119172581161, avg_context_loss: 0.5949276406453923,  avg_type_loss: 0.03718427662834939\n",
      "Epoch: 3, iter 25000, avg_loss: 0.6313510954118334, avg_context_loss: 0.5940438829911686,  avg_type_loss: 0.037307212427537886\n",
      "Epoch: 3, iter 27500, avg_loss: 0.6329386207388714, avg_context_loss: 0.5958946156933396,  avg_type_loss: 0.037044005035998466\n",
      "Epoch: 3, iter 30000, avg_loss: 0.6304171757286104, avg_context_loss: 0.5932276430081421,  avg_type_loss: 0.03718953272934693\n",
      "Epoch: 3, iter 32500, avg_loss: 0.6294347929629999, avg_context_loss: 0.5921601218460127,  avg_type_loss: 0.037274671105768244\n",
      "Epoch: 3, iter 35000, avg_loss: 0.628494701562782, avg_context_loss: 0.5911921663860258,  avg_type_loss: 0.03730253518927576\n",
      "Epoch: 3, iter 37500, avg_loss: 0.6285189769697189, avg_context_loss: 0.591306942703873,  avg_type_loss: 0.03721203425930192\n",
      "Epoch: 3, iter 40000, avg_loss: 0.6265848166182288, avg_context_loss: 0.5895605805500643,  avg_type_loss: 0.03702423605044605\n",
      "Epoch: 3, iter 42500, avg_loss: 0.6255672488814549, avg_context_loss: 0.5886588089964079,  avg_type_loss: 0.03690843987321372\n",
      "Epoch: 3, iter 45000, avg_loss: 0.6254803572478187, avg_context_loss: 0.5886319697094771,  avg_type_loss: 0.03684838751737649\n",
      "Epoch: 3, iter 47500, avg_loss: 0.625162064186268, avg_context_loss: 0.588387238286465,  avg_type_loss: 0.03677482588575467\n",
      "Epoch: 3, iter 50000, avg_loss: 0.6246717474565469, avg_context_loss: 0.5878141614699643,  avg_type_loss: 0.036857585972808304\n",
      "Epoch: 3, iter 52500, avg_loss: 0.6235987662437948, avg_context_loss: 0.586723825297886,  avg_type_loss: 0.03687494093644477\n",
      "Epoch: 3, iter 55000, avg_loss: 0.6234605313836682, avg_context_loss: 0.5865674385604449,  avg_type_loss: 0.03689309282373976\n",
      "Epoch: 3, iter 57500, avg_loss: 0.6234683702869502, avg_context_loss: 0.5865607475905963,  avg_type_loss: 0.03690762268578553\n",
      "Epoch: 3, iter 60000, avg_loss: 0.6237102039858621, avg_context_loss: 0.586766540000448,  avg_type_loss: 0.036943663990745945\n",
      "Epoch: 3, iter 62500, avg_loss: 0.6235827204975039, avg_context_loss: 0.5865735582304672,  avg_type_loss: 0.03700916228364035\n",
      "Epoch: 3, iter 65000, avg_loss: 0.6230083288608979, avg_context_loss: 0.5860236320750716,  avg_type_loss: 0.0369846968060037\n",
      "Epoch: 3, iter 67500, avg_loss: 0.6222259053481536, avg_context_loss: 0.5852390584736028,  avg_type_loss: 0.0369868468874686\n",
      "Epoch: 3, iter 70000, avg_loss: 0.6215317715122897, avg_context_loss: 0.5845747049061382,  avg_type_loss: 0.03695706661519196\n",
      "Epoch: 3, iter 72500, avg_loss: 0.6206665574344838, avg_context_loss: 0.5836329047492159,  avg_type_loss: 0.037033652690669584\n",
      "Epoch: 3, iter 75000, avg_loss: 0.6201839468163004, avg_context_loss: 0.5831610889710299,  avg_type_loss: 0.03702285784917573\n",
      "Epoch: 3, iter 77500, avg_loss: 0.6195984313919419, avg_context_loss: 0.5825801282559191,  avg_type_loss: 0.03701830313426232\n",
      "Epoch: 3, iter 80000, avg_loss: 0.6195893281860568, avg_context_loss: 0.5826219955686364,  avg_type_loss: 0.0369673326179327\n",
      "Epoch: 3, iter 82500, avg_loss: 0.6194000951990316, avg_context_loss: 0.5824629290283516,  avg_type_loss: 0.03693716616968652\n",
      "Epoch: 3, iter 85000, avg_loss: 0.6188497942708652, avg_context_loss: 0.5818795867642552,  avg_type_loss: 0.036970207519297874\n",
      "Epoch: 3, iter 87500, avg_loss: 0.6178904025304797, avg_context_loss: 0.5808740508483456,  avg_type_loss: 0.037016351690861794\n",
      "Epoch: 3, iter 90000, avg_loss: 0.6174358361929138, avg_context_loss: 0.5804755122529601,  avg_type_loss: 0.036960323939239606\n",
      "Epoch: 3, iter 92500, avg_loss: 0.6176594783355809, avg_context_loss: 0.5806453542710861,  avg_type_loss: 0.03701412405546352\n",
      "Epoch: 3, iter 95000, avg_loss: 0.617365968455335, avg_context_loss: 0.5803493299373818,  avg_type_loss: 0.037016638514424036\n",
      "Epoch: 3, iter 97500, avg_loss: 0.6166939605534458, avg_context_loss: 0.5796511945081206,  avg_type_loss: 0.03704276603921197\n",
      "Epoch: 3, iter 100000, avg_loss: 0.6155801901750803, avg_context_loss: 0.5785304974140483,  avg_type_loss: 0.03704969275487121\n",
      "Epoch: 3, iter 102500, avg_loss: 0.6152162022666051, avg_context_loss: 0.5781623169150885,  avg_type_loss: 0.037053885345674324\n",
      "Epoch: 3, iter 105000, avg_loss: 0.6146488897775699, avg_context_loss: 0.5775363332823938,  avg_type_loss: 0.03711255649153054\n",
      "Epoch: 3, iter 107500, avg_loss: 0.614322620830217, avg_context_loss: 0.5772302627880516,  avg_type_loss: 0.03709235803454161\n",
      "Epoch: 3, iter 110000, avg_loss: 0.6137238151410171, avg_context_loss: 0.5766773767536083,  avg_type_loss: 0.03704643838009797\n",
      "Epoch: 3, iter 112500, avg_loss: 0.6133410897927897, avg_context_loss: 0.5763281212314384,  avg_type_loss: 0.037012968555957905\n",
      "Epoch: 3, iter 115000, avg_loss: 0.6129514539442673, avg_context_loss: 0.5759123258569683,  avg_type_loss: 0.03703912808238276\n",
      "Epoch: 3, iter 117500, avg_loss: 0.6125962164312067, avg_context_loss: 0.5755252980336171,  avg_type_loss: 0.037070918391010364\n",
      "Epoch: 3, iter 120000, avg_loss: 0.6120797002081856, avg_context_loss: 0.5749903362478692,  avg_type_loss: 0.03708936395089404\n",
      "Epoch: 3, iter 122500, avg_loss: 0.6116271129994463, avg_context_loss: 0.5745355318959213,  avg_type_loss: 0.03709158109184687\n",
      "Epoch: 3, iter 125000, avg_loss: 0.6112064688583259, avg_context_loss: 0.5740797182292696,  avg_type_loss: 0.037126750619560014\n",
      "Epoch: 3, iter 127500, avg_loss: 0.6105694835192123, avg_context_loss: 0.5734532514739142,  avg_type_loss: 0.037116232028924494\n",
      "Epoch: 3, iter 130000, avg_loss: 0.6100353236335992, avg_context_loss: 0.5729192156016415,  avg_type_loss: 0.03711610801848807\n",
      "Epoch: 3, iter 132500, avg_loss: 0.6096362511108261, avg_context_loss: 0.5725325548908444,  avg_type_loss: 0.03710369620751809\n",
      "Epoch: 3, iter 135000, avg_loss: 0.6089177168170128, avg_context_loss: 0.5717813474984771,  avg_type_loss: 0.03713636930433007\n",
      "Epoch: 3, iter 137500, avg_loss: 0.6084332058087397, avg_context_loss: 0.5713591418529506,  avg_type_loss: 0.037074063935698516\n",
      "Epoch: 3, iter 140000, avg_loss: 0.6083025664112315, avg_context_loss: 0.5712514791816656,  avg_type_loss: 0.03705108721091736\n",
      "Epoch: 3, iter 142500, avg_loss: 0.607745753457559, avg_context_loss: 0.5706879242596641,  avg_type_loss: 0.03705782918092639\n",
      "Epoch: 3, iter 145000, avg_loss: 0.6072626348715773, avg_context_loss: 0.5702083686908948,  avg_type_loss: 0.037054266162503686\n",
      "Epoch: 3, iter 147500, avg_loss: 0.6067600138594097, avg_context_loss: 0.5697294354204467,  avg_type_loss: 0.03703057841977886\n",
      "Epoch: 3, iter 150000, avg_loss: 0.606583302472538, avg_context_loss: 0.5695749561619821,  avg_type_loss: 0.03700834628786698\n",
      "Epoch: 3, iter 152500, avg_loss: 0.606185052182214, avg_context_loss: 0.569230097885784,  avg_type_loss: 0.036954954273825835\n",
      "Epoch: 3, iter 155000, avg_loss: 0.6059981198376886, avg_context_loss: 0.5690432163243693,  avg_type_loss: 0.03695490349354335\n",
      "Epoch: 3, iter 157500, avg_loss: 0.6055817621223452, avg_context_loss: 0.5686240117409754,  avg_type_loss: 0.03695775036262903\n",
      "Epoch: 3, iter 160000, avg_loss: 0.6055015534500068, avg_context_loss: 0.5685169003905146,  avg_type_loss: 0.03698465303523517\n",
      "Epoch: 3, iter 162500, avg_loss: 0.6054623641868165, avg_context_loss: 0.5685055198312609,  avg_type_loss: 0.03695684433311045\n",
      "Epoch: 3, iter 165000, avg_loss: 0.6046532373745672, avg_context_loss: 0.56767289907159,  avg_type_loss: 0.036980338286357634\n",
      "Epoch: 3, iter 167500, avg_loss: 0.6044798525428775, avg_context_loss: 0.5675047383584193,  avg_type_loss: 0.03697511417221646\n",
      "Epoch: 3, iter 170000, avg_loss: 0.6042076832285658, avg_context_loss: 0.5672570257167291,  avg_type_loss: 0.036950657502773064\n",
      "Epoch: 3, iter 172500, avg_loss: 0.6038214290023025, avg_context_loss: 0.5668421285999763,  avg_type_loss: 0.03697930039465731\n",
      "Epoch: 3, iter 175000, avg_loss: 0.6034432974294852, avg_context_loss: 0.5664730746110329,  avg_type_loss: 0.03697022281172319\n",
      "Epoch: 3, iter 177500, avg_loss: 0.6029405441158845, avg_context_loss: 0.5659938830633726,  avg_type_loss: 0.036946661049219724\n",
      "Epoch: 3, iter 180000, avg_loss: 0.6026110448589613, avg_context_loss: 0.5656276878224906,  avg_type_loss: 0.036983357033596904\n",
      "Epoch: 3, iter 182500, avg_loss: 0.6022096882378466, avg_context_loss: 0.5652326476748535,  avg_type_loss: 0.03697704055786726\n",
      "Epoch: 3, iter 185000, avg_loss: 0.6016686434282505, avg_context_loss: 0.5647018255220738,  avg_type_loss: 0.03696681790367253\n",
      "Epoch: 3, iter 187500, avg_loss: 0.6012946324106815, avg_context_loss: 0.5643598306550942,  avg_type_loss: 0.03693480175343435\n",
      "Epoch: 3, iter 190000, avg_loss: 0.6010501569468908, avg_context_loss: 0.5641325900744217,  avg_type_loss: 0.036917566865153524\n",
      "Epoch: 3, iter 192500, avg_loss: 0.6005539255462163, avg_context_loss: 0.563658266909054,  avg_type_loss: 0.03689565862988624\n",
      "Epoch: 3, iter 195000, avg_loss: 0.6001476703547312, avg_context_loss: 0.5632438988107221,  avg_type_loss: 0.03690377153083712\n",
      "Epoch: 3, iter 197500, avg_loss: 0.5997223135757944, avg_context_loss: 0.5628111748412994,  avg_type_loss: 0.036911138720843714\n",
      "Epoch: 3, iter 200000, avg_loss: 0.599294175737527, avg_context_loss: 0.5623818859123986,  avg_type_loss: 0.03691228981105174\n",
      "Epoch: 3, avg_loss=0.599294175737527\n"
     ]
    }
   ],
   "source": [
    "toast = Toast(dG, network.gdf_edges)\n",
    "toast.train(num_walks=20)"
   ]
  },
  {
   "cell_type": "code",
   "execution_count": 8,
   "metadata": {},
   "outputs": [],
   "source": [
    "toast = Toast(dG, network.gdf_edges)\n",
    "toast.load_model(\"../model_states/toast/model_rw_init_epoch3.pt\")"
   ]
  },
  {
   "cell_type": "code",
   "execution_count": 83,
   "metadata": {},
   "outputs": [
    {
     "name": "stdout",
     "output_type": "stream",
     "text": [
      "(array([0, 3, 5, 6, 8]), array([1680,  577, 5832, 1451, 1213]))\n",
      "X_train dimension=  torch.Size([8602, 128])\n",
      "X_test dimension=  torch.Size([2151, 128])\n",
      "y_train dimension=  (8602,)\n",
      "y_test dimension=  (2151,)\n"
     ]
    }
   ],
   "source": [
    "from sklearn import model_selection\n",
    "from sklearn import linear_model\n",
    "from sklearn import metrics\n",
    "from sklearn.tree import DecisionTreeClassifier\n",
    "from sklearn.ensemble import RandomForestClassifier\n",
    "\n",
    "X = toast.load_embed()[2:] # embedding for each node\n",
    "# train simple classifier on 80% of data with cross validation\n",
    "y = np.array([network.gdf_edges.loc[n][\"highway_enc\"] for n in dG.nodes])\n",
    "\n",
    "mask = ((y==11) | (y==10) | (y==9) | (y==4) | (y==1) | (y==2) | (y==12) | (y==7)) # remove uncommon tags\n",
    "X = X[~mask, :]\n",
    "y = y[~mask]\n",
    "print(np.unique(y, return_counts=True))\n",
    "\n",
    "X_train, X_test, y_train, y_test = model_selection.train_test_split(X, y, test_size= 0.2, random_state = 1)\n",
    "\n",
    "print('X_train dimension= ', X_train.shape)\n",
    "print('X_test dimension= ', X_test.shape)\n",
    "print('y_train dimension= ', y_train.shape)\n",
    "print('y_test dimension= ', y_test.shape)"
   ]
  },
  {
   "cell_type": "code",
   "execution_count": 84,
   "metadata": {},
   "outputs": [
    {
     "data": {
      "text/html": [
       "<style>#sk-container-id-16 {color: black;background-color: white;}#sk-container-id-16 pre{padding: 0;}#sk-container-id-16 div.sk-toggleable {background-color: white;}#sk-container-id-16 label.sk-toggleable__label {cursor: pointer;display: block;width: 100%;margin-bottom: 0;padding: 0.3em;box-sizing: border-box;text-align: center;}#sk-container-id-16 label.sk-toggleable__label-arrow:before {content: \"▸\";float: left;margin-right: 0.25em;color: #696969;}#sk-container-id-16 label.sk-toggleable__label-arrow:hover:before {color: black;}#sk-container-id-16 div.sk-estimator:hover label.sk-toggleable__label-arrow:before {color: black;}#sk-container-id-16 div.sk-toggleable__content {max-height: 0;max-width: 0;overflow: hidden;text-align: left;background-color: #f0f8ff;}#sk-container-id-16 div.sk-toggleable__content pre {margin: 0.2em;color: black;border-radius: 0.25em;background-color: #f0f8ff;}#sk-container-id-16 input.sk-toggleable__control:checked~div.sk-toggleable__content {max-height: 200px;max-width: 100%;overflow: auto;}#sk-container-id-16 input.sk-toggleable__control:checked~label.sk-toggleable__label-arrow:before {content: \"▾\";}#sk-container-id-16 div.sk-estimator input.sk-toggleable__control:checked~label.sk-toggleable__label {background-color: #d4ebff;}#sk-container-id-16 div.sk-label input.sk-toggleable__control:checked~label.sk-toggleable__label {background-color: #d4ebff;}#sk-container-id-16 input.sk-hidden--visually {border: 0;clip: rect(1px 1px 1px 1px);clip: rect(1px, 1px, 1px, 1px);height: 1px;margin: -1px;overflow: hidden;padding: 0;position: absolute;width: 1px;}#sk-container-id-16 div.sk-estimator {font-family: monospace;background-color: #f0f8ff;border: 1px dotted black;border-radius: 0.25em;box-sizing: border-box;margin-bottom: 0.5em;}#sk-container-id-16 div.sk-estimator:hover {background-color: #d4ebff;}#sk-container-id-16 div.sk-parallel-item::after {content: \"\";width: 100%;border-bottom: 1px solid gray;flex-grow: 1;}#sk-container-id-16 div.sk-label:hover label.sk-toggleable__label {background-color: #d4ebff;}#sk-container-id-16 div.sk-serial::before {content: \"\";position: absolute;border-left: 1px solid gray;box-sizing: border-box;top: 0;bottom: 0;left: 50%;z-index: 0;}#sk-container-id-16 div.sk-serial {display: flex;flex-direction: column;align-items: center;background-color: white;padding-right: 0.2em;padding-left: 0.2em;position: relative;}#sk-container-id-16 div.sk-item {position: relative;z-index: 1;}#sk-container-id-16 div.sk-parallel {display: flex;align-items: stretch;justify-content: center;background-color: white;position: relative;}#sk-container-id-16 div.sk-item::before, #sk-container-id-16 div.sk-parallel-item::before {content: \"\";position: absolute;border-left: 1px solid gray;box-sizing: border-box;top: 0;bottom: 0;left: 50%;z-index: -1;}#sk-container-id-16 div.sk-parallel-item {display: flex;flex-direction: column;z-index: 1;position: relative;background-color: white;}#sk-container-id-16 div.sk-parallel-item:first-child::after {align-self: flex-end;width: 50%;}#sk-container-id-16 div.sk-parallel-item:last-child::after {align-self: flex-start;width: 50%;}#sk-container-id-16 div.sk-parallel-item:only-child::after {width: 0;}#sk-container-id-16 div.sk-dashed-wrapped {border: 1px dashed gray;margin: 0 0.4em 0.5em 0.4em;box-sizing: border-box;padding-bottom: 0.4em;background-color: white;}#sk-container-id-16 div.sk-label label {font-family: monospace;font-weight: bold;display: inline-block;line-height: 1.2em;}#sk-container-id-16 div.sk-label-container {text-align: center;}#sk-container-id-16 div.sk-container {/* jupyter's `normalize.less` sets `[hidden] { display: none; }` but bootstrap.min.css set `[hidden] { display: none !important; }` so we also need the `!important` here to be able to override the default hidden behavior on the sphinx rendered scikit-learn.org. See: https://github.com/scikit-learn/scikit-learn/issues/21755 */display: inline-block !important;position: relative;}#sk-container-id-16 div.sk-text-repr-fallback {display: none;}</style><div id=\"sk-container-id-16\" class=\"sk-top-container\"><div class=\"sk-text-repr-fallback\"><pre>LogisticRegression(max_iter=1000, multi_class=&#x27;multinomial&#x27;)</pre><b>In a Jupyter environment, please rerun this cell to show the HTML representation or trust the notebook. <br />On GitHub, the HTML representation is unable to render, please try loading this page with nbviewer.org.</b></div><div class=\"sk-container\" hidden><div class=\"sk-item\"><div class=\"sk-estimator sk-toggleable\"><input class=\"sk-toggleable__control sk-hidden--visually\" id=\"sk-estimator-id-16\" type=\"checkbox\" checked><label for=\"sk-estimator-id-16\" class=\"sk-toggleable__label sk-toggleable__label-arrow\">LogisticRegression</label><div class=\"sk-toggleable__content\"><pre>LogisticRegression(max_iter=1000, multi_class=&#x27;multinomial&#x27;)</pre></div></div></div></div></div>"
      ],
      "text/plain": [
       "LogisticRegression(max_iter=1000, multi_class='multinomial')"
      ]
     },
     "execution_count": 84,
     "metadata": {},
     "output_type": "execute_result"
    }
   ],
   "source": [
    "lm = linear_model.LogisticRegression(multi_class=\"multinomial\", max_iter=1000)\n",
    "lm.fit(X_train, y_train)"
   ]
  },
  {
   "cell_type": "code",
   "execution_count": 85,
   "metadata": {},
   "outputs": [
    {
     "name": "stdout",
     "output_type": "stream",
     "text": [
      "              precision    recall  f1-score   support\n",
      "\n",
      "           0       0.77      0.17      0.28       343\n",
      "           3       1.00      0.07      0.14       121\n",
      "           5       0.57      0.98      0.72      1135\n",
      "           6       0.73      0.21      0.33       305\n",
      "           8       0.57      0.05      0.10       247\n",
      "\n",
      "    accuracy                           0.58      2151\n",
      "   macro avg       0.73      0.30      0.31      2151\n",
      "weighted avg       0.65      0.58      0.49      2151\n",
      "\n"
     ]
    }
   ],
   "source": [
    "print(metrics.classification_report(y_test, lm.predict(X_test)))"
   ]
  },
  {
   "cell_type": "code",
   "execution_count": 22,
   "metadata": {},
   "outputs": [
    {
     "data": {
      "image/png": "[encoded data removed]",
      "text/plain": [
       "<Figure size 720x432 with 2 Axes>"
      ]
     },
     "metadata": {
      "needs_background": "light"
     },
     "output_type": "display_data"
    }
   ],
   "source": [
    "import matplotlib.pyplot as plt\n",
    "fig, ax = plt.subplots(figsize=(10, 6))\n",
    "ax.set_title('Confusion Matrx')\n",
    "\n",
    "disp = metrics.plot_confusion_matrix(lm, X_test, y_test, ax = ax)"
   ]
  },
  {
   "cell_type": "code",
   "execution_count": null,
   "metadata": {},
   "outputs": [],
   "source": []
  }
 ],
 "metadata": {
  "interpreter": {
   "hash": "088070de2c6b4023b2f7ae556c412f86bcd02589c7bdb3766a0caf3cf4813fbd"
  },
  "kernelspec": {
   "display_name": "Python 3.9.12 ('road')",
   "language": "python",
   "name": "python3"
  },
  "language_info": {
   "codemirror_mode": {
    "name": "ipython",
    "version": 3
   },
   "file_extension": ".py",
   "mimetype": "text/x-python",
   "name": "python",
   "nbconvert_exporter": "python",
   "pygments_lexer": "ipython3",
   "version": "3.9.13"
  },
  "orig_nbformat": 4
 },
 "nbformat": 4,
 "nbformat_minor": 2
}
