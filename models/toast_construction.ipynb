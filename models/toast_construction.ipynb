{
 "cells": [
  {
   "cell_type": "code",
   "execution_count": 1,
   "metadata": {},
   "outputs": [],
   "source": [
    "%load_ext autoreload\n",
    "%autoreload 2\n",
    "\n",
    "import os\n",
    "import sys\n",
    "\n",
    "module_path = os.path.abspath(os.path.join('..'))\n",
    "if module_path not in sys.path:\n",
    "    sys.path.append(module_path)\n",
    "\n",
    "from generator import RoadNetwork\n",
    "import torch\n",
    "import torch.nn as nn\n",
    "from torch.utils.data import DataLoader\n",
    "import pandas as pd\n",
    "import networkx as nx\n",
    "import numpy as np\n",
    "from tqdm import tqdm\n",
    "\n",
    "from models import Toast"
   ]
  },
  {
   "cell_type": "code",
   "execution_count": 2,
   "metadata": {},
   "outputs": [],
   "source": [
    "# load dataset and bring it in format for toast\n",
    "network = RoadNetwork()\n",
    "network.load(\"../osm_data/porto\")\n",
    "df = pd.read_csv(\"../datasets/trajectories/Porto/road_segment_map_final.csv\", sep=\";\", usecols=[\"id\", \"cpath\"])"
   ]
  },
  {
   "cell_type": "code",
   "execution_count": 3,
   "metadata": {},
   "outputs": [
    {
     "name": "stdout",
     "output_type": "stream",
     "text": [
      "(5358, 6)\n"
     ]
    }
   ],
   "source": [
    "print(network.gdf_nodes.shape)\n",
    "#dG = nx.DiGraph(network.G)\n",
    "dG = nx.line_graph(network.G, create_using=nx.DiGraph)\n",
    "index = np.arange(2, len(list(dG.nodes))+2) # index shifted, since 0 and 1 are reserved for mask pad tokens\n",
    "nx.set_node_attributes(dG, dict(zip(list(dG.nodes), index)), name=\"index\")\n"
   ]
  },
  {
   "cell_type": "code",
   "execution_count": 51,
   "metadata": {},
   "outputs": [
    {
     "name": "stdout",
     "output_type": "stream",
     "text": [
      "motorway_link\n"
     ]
    }
   ],
   "source": [
    "nodes = list(dG.nodes(data=True))\n",
    "\n",
    "for n, d in nodes:\n",
    "    print(network.gdf_edges.loc[n, :][\"highway\"])\n",
    "    break\n"
   ]
  },
  {
   "cell_type": "code",
   "execution_count": 4,
   "metadata": {},
   "outputs": [],
   "source": [
    "torch.cuda.is_available()\n",
    "os.environ[\"CUDA_DEVICE_ORDER\"]=\"PCI_BUS_ID\" \n",
    "os.environ[\"CUDA_VISIBLE_DEVICES\"]=\"1\""
   ]
  },
  {
   "cell_type": "code",
   "execution_count": 5,
   "metadata": {},
   "outputs": [
    {
     "name": "stderr",
     "output_type": "stream",
     "text": [
      "100%|██████████| 11331/11331 [02:13<00:00, 84.92it/s] \n",
      "100%|██████████| 11331/11331 [02:17<00:00, 82.26it/s]\n",
      "100%|██████████| 11331/11331 [02:19<00:00, 81.50it/s]\n",
      "100%|██████████| 11331/11331 [02:19<00:00, 80.97it/s]\n",
      "100%|██████████| 11331/11331 [02:15<00:00, 83.54it/s] \n",
      "100%|██████████| 11331/11331 [02:17<00:00, 82.38it/s]\n",
      "100%|██████████| 11331/11331 [02:19<00:00, 81.50it/s]\n",
      "100%|██████████| 11331/11331 [02:19<00:00, 81.40it/s]\n",
      "100%|██████████| 11331/11331 [02:13<00:00, 84.62it/s] \n",
      "100%|██████████| 11331/11331 [02:17<00:00, 82.36it/s] \n",
      "100%|██████████| 11331/11331 [02:17<00:00, 82.24it/s]\n",
      "100%|██████████| 11331/11331 [02:20<00:00, 80.91it/s]\n",
      "100%|██████████| 11331/11331 [02:15<00:00, 83.38it/s]\n",
      "100%|██████████| 11331/11331 [02:17<00:00, 82.43it/s]\n",
      "100%|██████████| 11331/11331 [02:19<00:00, 81.16it/s]\n",
      "100%|██████████| 11331/11331 [02:19<00:00, 81.39it/s]\n",
      "100%|██████████| 11331/11331 [02:14<00:00, 84.49it/s] \n",
      "100%|██████████| 11331/11331 [02:16<00:00, 83.13it/s]\n",
      "100%|██████████| 11331/11331 [02:18<00:00, 81.79it/s] \n",
      "100%|██████████| 11331/11331 [02:19<00:00, 81.46it/s]\n",
      "/dstore/home/pheinemeyer/Road-Network-Embedding-Generator/models/toast.py:54: UserWarning: Creating a tensor from a list of numpy.ndarrays is extremely slow. Please consider converting the list to a single numpy.ndarray with numpy.array() before converting to a tensor. (Triggered internally at  /opt/conda/conda-bld/pytorch_1646756402876/work/torch/csrc/utils/tensor_new.cpp:210.)\n",
      "  batch_types = torch.Tensor(batch_types).to(self.device)\n"
     ]
    },
    {
     "name": "stdout",
     "output_type": "stream",
     "text": [
      "Epoch: 0, iter 5000, total loss: 0.8914021849632263, context loss: 0.8914021849632263, type loss: 0.0\n",
      "Epoch: 0, iter 10000, total loss: 0.8610518574714661, context loss: 0.8610518574714661, type loss: 0.0\n",
      "Epoch: 0, iter 15000, total loss: 0.8426587581634521, context loss: 0.8426587581634521, type loss: 0.0\n",
      "Epoch: 0, iter 20000, total loss: 0.8284405469894409, context loss: 0.8284405469894409, type loss: 0.0\n",
      "Epoch: 0, iter 25000, total loss: 0.8080103397369385, context loss: 0.8080103397369385, type loss: 0.0\n",
      "Epoch: 0, iter 30000, total loss: 0.9491406083106995, context loss: 0.9491406083106995, type loss: 0.0\n",
      "Epoch: 0, iter 35000, total loss: 0.8777050971984863, context loss: 0.8777050971984863, type loss: 0.0\n",
      "Epoch: 0, iter 40000, total loss: 1.0736680030822754, context loss: 0.9811930656433105, type loss: 0.09247489273548126\n",
      "Epoch: 0, iter 45000, total loss: 0.7762971520423889, context loss: 0.7762971520423889, type loss: 0.0\n",
      "Epoch: 0, iter 50000, total loss: 0.808716356754303, context loss: 0.808716356754303, type loss: 0.0\n",
      "Epoch: 0, iter 55000, total loss: 0.8854544758796692, context loss: 0.8854544758796692, type loss: 0.0\n",
      "Epoch: 0, iter 60000, total loss: 0.8373369574546814, context loss: 0.7541227340698242, type loss: 0.08321420848369598\n",
      "Epoch: 0, iter 65000, total loss: 0.8457844257354736, context loss: 0.8457844257354736, type loss: 0.0\n",
      "Epoch: 0, iter 70000, total loss: 0.8249852657318115, context loss: 0.7824760675430298, type loss: 0.042509179562330246\n",
      "Epoch: 0, iter 75000, total loss: 0.9617457389831543, context loss: 0.925446629524231, type loss: 0.03629913926124573\n",
      "Epoch: 0, iter 80000, total loss: 1.0063005685806274, context loss: 1.0063005685806274, type loss: 0.0\n",
      "Epoch: 0, iter 85000, total loss: 0.7951518297195435, context loss: 0.7951518297195435, type loss: 0.0\n",
      "Epoch: 0, iter 90000, total loss: 0.7783044576644897, context loss: 0.7783044576644897, type loss: 0.0\n",
      "Epoch: 0, iter 95000, total loss: 0.6898230314254761, context loss: 0.6898230314254761, type loss: 0.0\n",
      "Epoch: 0, iter 100000, total loss: 0.966566264629364, context loss: 0.966566264629364, type loss: 0.0\n",
      "Epoch: 0, iter 105000, total loss: 0.8496482372283936, context loss: 0.8496482372283936, type loss: 0.0\n",
      "Epoch: 0, iter 110000, total loss: 0.7982860803604126, context loss: 0.7982860803604126, type loss: 0.0\n",
      "Epoch: 0, iter 115000, total loss: 1.0490374565124512, context loss: 1.0490374565124512, type loss: 0.0\n",
      "Epoch: 0, iter 120000, total loss: 1.0909481048583984, context loss: 0.9771472215652466, type loss: 0.11380087584257126\n",
      "Epoch: 0, iter 125000, total loss: 1.072056531906128, context loss: 1.0241390466690063, type loss: 0.04791751131415367\n",
      "Epoch: 0, iter 130000, total loss: 0.8833585381507874, context loss: 0.8833585381507874, type loss: 0.0\n",
      "Epoch: 0, iter 135000, total loss: 0.5271654725074768, context loss: 0.5271654725074768, type loss: 0.0\n",
      "Epoch: 0, iter 140000, total loss: 1.0571880340576172, context loss: 0.9605535268783569, type loss: 0.09663455188274384\n",
      "Epoch: 0, iter 145000, total loss: 0.8823298811912537, context loss: 0.8823298811912537, type loss: 0.0\n",
      "Epoch: 0, iter 150000, total loss: 0.99000084400177, context loss: 0.9189655184745789, type loss: 0.07103532552719116\n",
      "Epoch: 0, iter 155000, total loss: 0.717370867729187, context loss: 0.717370867729187, type loss: 0.0\n",
      "Epoch: 0, iter 160000, total loss: 1.0305678844451904, context loss: 0.9298891425132751, type loss: 0.10067868232727051\n",
      "Epoch: 0, iter 165000, total loss: 0.5788513422012329, context loss: 0.5788513422012329, type loss: 0.0\n",
      "Epoch: 0, iter 170000, total loss: 0.6266120076179504, context loss: 0.6266120076179504, type loss: 0.0\n",
      "Epoch: 0, iter 175000, total loss: 0.6338508129119873, context loss: 0.5934700965881348, type loss: 0.04038072004914284\n",
      "Epoch: 0, iter 180000, total loss: 0.9137911796569824, context loss: 0.9137911796569824, type loss: 0.0\n",
      "Epoch: 0, iter 185000, total loss: 0.8637147545814514, context loss: 0.8637147545814514, type loss: 0.0\n",
      "Epoch: 0, iter 190000, total loss: 0.9258487820625305, context loss: 0.9258487820625305, type loss: 0.0\n",
      "Epoch: 0, iter 195000, total loss: 0.7973278164863586, context loss: 0.7973278164863586, type loss: 0.0\n",
      "Epoch: 0, iter 200000, total loss: 0.7387266159057617, context loss: 0.7387266159057617, type loss: 0.0\n",
      "Epoch: 0, avg_loss=0.868828090548208\n"
     ]
    },
    {
     "name": "stderr",
     "output_type": "stream",
     "text": [
      "100%|██████████| 11331/11331 [02:16<00:00, 83.26it/s] \n",
      "100%|██████████| 11331/11331 [02:16<00:00, 83.05it/s]\n",
      "100%|██████████| 11331/11331 [02:17<00:00, 82.38it/s]\n",
      "100%|██████████| 11331/11331 [02:18<00:00, 81.79it/s]\n",
      "  1%|▏         | 109/11331 [00:01<02:21, 79.21it/s]"
     ]
    },
    {
     "ename": "KeyboardInterrupt",
     "evalue": "",
     "output_type": "error",
     "traceback": [
      "\u001b[0;31m---------------------------------------------------------------------------\u001b[0m",
      "\u001b[0;31mKeyboardInterrupt\u001b[0m                         Traceback (most recent call last)",
      "\u001b[1;32m/home/pheinemeyer/Road-Network-Embedding-Generator/models/toast_construction.ipynb Cell 6'\u001b[0m in \u001b[0;36m<cell line: 2>\u001b[0;34m()\u001b[0m\n\u001b[1;32m      <a href='vscode-notebook-cell://ssh-remote%2Bpascal02/home/pheinemeyer/Road-Network-Embedding-Generator/models/toast_construction.ipynb#ch0000005vscode-remote?line=0'>1</a>\u001b[0m toast \u001b[39m=\u001b[39m Toast(dG, network\u001b[39m.\u001b[39mgdf_edges)\n\u001b[0;32m----> <a href='vscode-notebook-cell://ssh-remote%2Bpascal02/home/pheinemeyer/Road-Network-Embedding-Generator/models/toast_construction.ipynb#ch0000005vscode-remote?line=1'>2</a>\u001b[0m toast\u001b[39m.\u001b[39;49mtrain(num_walks\u001b[39m=\u001b[39;49m\u001b[39m20\u001b[39;49m)\n",
      "File \u001b[0;32m/dstore/home/pheinemeyer/Road-Network-Embedding-Generator/models/toast.py:35\u001b[0m, in \u001b[0;36mToast.train\u001b[0;34m(self, epochs, num_walks, skip_window, num_neg)\u001b[0m\n\u001b[1;32m     <a href='file:///dstore/home/pheinemeyer/Road-Network-Embedding-Generator/models/toast.py?line=32'>33</a>\u001b[0m \u001b[39mself\u001b[39m\u001b[39m.\u001b[39mmodel\u001b[39m.\u001b[39mto(\u001b[39mself\u001b[39m\u001b[39m.\u001b[39mdevice)\n\u001b[1;32m     <a href='file:///dstore/home/pheinemeyer/Road-Network-Embedding-Generator/models/toast.py?line=33'>34</a>\u001b[0m \u001b[39mfor\u001b[39;00m i \u001b[39min\u001b[39;00m \u001b[39mrange\u001b[39m(epochs):\n\u001b[0;32m---> <a href='file:///dstore/home/pheinemeyer/Road-Network-Embedding-Generator/models/toast.py?line=34'>35</a>\u001b[0m     \u001b[39mself\u001b[39m\u001b[39m.\u001b[39msentences \u001b[39m=\u001b[39m \u001b[39mself\u001b[39;49m\u001b[39m.\u001b[39;49mwalker\u001b[39m.\u001b[39;49mgenerate_sentences(num_walks\u001b[39m=\u001b[39;49mnum_walks)\n\u001b[1;32m     <a href='file:///dstore/home/pheinemeyer/Road-Network-Embedding-Generator/models/toast.py?line=35'>36</a>\u001b[0m     pipeline \u001b[39m=\u001b[39m DataPipeline(\u001b[39mself\u001b[39m\u001b[39m.\u001b[39msentences, \u001b[39mself\u001b[39m\u001b[39m.\u001b[39mvocabs, \u001b[39mself\u001b[39m\u001b[39m.\u001b[39mroad_length)\n\u001b[1;32m     <a href='file:///dstore/home/pheinemeyer/Road-Network-Embedding-Generator/models/toast.py?line=36'>37</a>\u001b[0m     avg_loss \u001b[39m=\u001b[39m \u001b[39m0\u001b[39m\n",
      "File \u001b[0;32m/dstore/home/pheinemeyer/Road-Network-Embedding-Generator/models/toast.py:149\u001b[0m, in \u001b[0;36mRandomWalker.generate_sentences\u001b[0;34m(self, num_walks)\u001b[0m\n\u001b[1;32m    <a href='file:///dstore/home/pheinemeyer/Road-Network-Embedding-Generator/models/toast.py?line=146'>147</a>\u001b[0m \u001b[39mdef\u001b[39;00m \u001b[39mgenerate_sentences\u001b[39m(\u001b[39mself\u001b[39m, num_walks\u001b[39m=\u001b[39m\u001b[39m24\u001b[39m):\n\u001b[1;32m    <a href='file:///dstore/home/pheinemeyer/Road-Network-Embedding-Generator/models/toast.py?line=147'>148</a>\u001b[0m     sts \u001b[39m=\u001b[39m []\n\u001b[0;32m--> <a href='file:///dstore/home/pheinemeyer/Road-Network-Embedding-Generator/models/toast.py?line=148'>149</a>\u001b[0m     sts \u001b[39m=\u001b[39m Parallel(n_jobs\u001b[39m=\u001b[39;49m\u001b[39m4\u001b[39;49m)(\n\u001b[1;32m    <a href='file:///dstore/home/pheinemeyer/Road-Network-Embedding-Generator/models/toast.py?line=149'>150</a>\u001b[0m         delayed(\u001b[39mself\u001b[39;49m\u001b[39m.\u001b[39;49mrandom_walks_type)() \u001b[39mfor\u001b[39;49;00m _ \u001b[39min\u001b[39;49;00m \u001b[39mrange\u001b[39;49m(num_walks)\n\u001b[1;32m    <a href='file:///dstore/home/pheinemeyer/Road-Network-Embedding-Generator/models/toast.py?line=150'>151</a>\u001b[0m     )\n\u001b[1;32m    <a href='file:///dstore/home/pheinemeyer/Road-Network-Embedding-Generator/models/toast.py?line=151'>152</a>\u001b[0m     \u001b[39m# for _ in range(num_walks):\u001b[39;00m\n\u001b[1;32m    <a href='file:///dstore/home/pheinemeyer/Road-Network-Embedding-Generator/models/toast.py?line=152'>153</a>\u001b[0m     \u001b[39m#     sts.extend(self.random_walks_type())\u001b[39;00m\n\u001b[1;32m    <a href='file:///dstore/home/pheinemeyer/Road-Network-Embedding-Generator/models/toast.py?line=154'>155</a>\u001b[0m     \u001b[39mreturn\u001b[39;00m \u001b[39mlist\u001b[39m(chain\u001b[39m.\u001b[39mfrom_iterable(sts))\n",
      "File \u001b[0;32m~/miniconda3/envs/road/lib/python3.9/site-packages/joblib/parallel.py:1056\u001b[0m, in \u001b[0;36mParallel.__call__\u001b[0;34m(self, iterable)\u001b[0m\n\u001b[1;32m   <a href='file:///home/pheinemeyer/miniconda3/envs/road/lib/python3.9/site-packages/joblib/parallel.py?line=1052'>1053</a>\u001b[0m     \u001b[39mself\u001b[39m\u001b[39m.\u001b[39m_iterating \u001b[39m=\u001b[39m \u001b[39mFalse\u001b[39;00m\n\u001b[1;32m   <a href='file:///home/pheinemeyer/miniconda3/envs/road/lib/python3.9/site-packages/joblib/parallel.py?line=1054'>1055</a>\u001b[0m \u001b[39mwith\u001b[39;00m \u001b[39mself\u001b[39m\u001b[39m.\u001b[39m_backend\u001b[39m.\u001b[39mretrieval_context():\n\u001b[0;32m-> <a href='file:///home/pheinemeyer/miniconda3/envs/road/lib/python3.9/site-packages/joblib/parallel.py?line=1055'>1056</a>\u001b[0m     \u001b[39mself\u001b[39;49m\u001b[39m.\u001b[39;49mretrieve()\n\u001b[1;32m   <a href='file:///home/pheinemeyer/miniconda3/envs/road/lib/python3.9/site-packages/joblib/parallel.py?line=1056'>1057</a>\u001b[0m \u001b[39m# Make sure that we get a last message telling us we are done\u001b[39;00m\n\u001b[1;32m   <a href='file:///home/pheinemeyer/miniconda3/envs/road/lib/python3.9/site-packages/joblib/parallel.py?line=1057'>1058</a>\u001b[0m elapsed_time \u001b[39m=\u001b[39m time\u001b[39m.\u001b[39mtime() \u001b[39m-\u001b[39m \u001b[39mself\u001b[39m\u001b[39m.\u001b[39m_start_time\n",
      "File \u001b[0;32m~/miniconda3/envs/road/lib/python3.9/site-packages/joblib/parallel.py:935\u001b[0m, in \u001b[0;36mParallel.retrieve\u001b[0;34m(self)\u001b[0m\n\u001b[1;32m    <a href='file:///home/pheinemeyer/miniconda3/envs/road/lib/python3.9/site-packages/joblib/parallel.py?line=932'>933</a>\u001b[0m \u001b[39mtry\u001b[39;00m:\n\u001b[1;32m    <a href='file:///home/pheinemeyer/miniconda3/envs/road/lib/python3.9/site-packages/joblib/parallel.py?line=933'>934</a>\u001b[0m     \u001b[39mif\u001b[39;00m \u001b[39mgetattr\u001b[39m(\u001b[39mself\u001b[39m\u001b[39m.\u001b[39m_backend, \u001b[39m'\u001b[39m\u001b[39msupports_timeout\u001b[39m\u001b[39m'\u001b[39m, \u001b[39mFalse\u001b[39;00m):\n\u001b[0;32m--> <a href='file:///home/pheinemeyer/miniconda3/envs/road/lib/python3.9/site-packages/joblib/parallel.py?line=934'>935</a>\u001b[0m         \u001b[39mself\u001b[39m\u001b[39m.\u001b[39m_output\u001b[39m.\u001b[39mextend(job\u001b[39m.\u001b[39;49mget(timeout\u001b[39m=\u001b[39;49m\u001b[39mself\u001b[39;49m\u001b[39m.\u001b[39;49mtimeout))\n\u001b[1;32m    <a href='file:///home/pheinemeyer/miniconda3/envs/road/lib/python3.9/site-packages/joblib/parallel.py?line=935'>936</a>\u001b[0m     \u001b[39melse\u001b[39;00m:\n\u001b[1;32m    <a href='file:///home/pheinemeyer/miniconda3/envs/road/lib/python3.9/site-packages/joblib/parallel.py?line=936'>937</a>\u001b[0m         \u001b[39mself\u001b[39m\u001b[39m.\u001b[39m_output\u001b[39m.\u001b[39mextend(job\u001b[39m.\u001b[39mget())\n",
      "File \u001b[0;32m~/miniconda3/envs/road/lib/python3.9/site-packages/joblib/_parallel_backends.py:542\u001b[0m, in \u001b[0;36mLokyBackend.wrap_future_result\u001b[0;34m(future, timeout)\u001b[0m\n\u001b[1;32m    <a href='file:///home/pheinemeyer/miniconda3/envs/road/lib/python3.9/site-packages/joblib/_parallel_backends.py?line=538'>539</a>\u001b[0m \u001b[39m\"\"\"Wrapper for Future.result to implement the same behaviour as\u001b[39;00m\n\u001b[1;32m    <a href='file:///home/pheinemeyer/miniconda3/envs/road/lib/python3.9/site-packages/joblib/_parallel_backends.py?line=539'>540</a>\u001b[0m \u001b[39mAsyncResults.get from multiprocessing.\"\"\"\u001b[39;00m\n\u001b[1;32m    <a href='file:///home/pheinemeyer/miniconda3/envs/road/lib/python3.9/site-packages/joblib/_parallel_backends.py?line=540'>541</a>\u001b[0m \u001b[39mtry\u001b[39;00m:\n\u001b[0;32m--> <a href='file:///home/pheinemeyer/miniconda3/envs/road/lib/python3.9/site-packages/joblib/_parallel_backends.py?line=541'>542</a>\u001b[0m     \u001b[39mreturn\u001b[39;00m future\u001b[39m.\u001b[39;49mresult(timeout\u001b[39m=\u001b[39;49mtimeout)\n\u001b[1;32m    <a href='file:///home/pheinemeyer/miniconda3/envs/road/lib/python3.9/site-packages/joblib/_parallel_backends.py?line=542'>543</a>\u001b[0m \u001b[39mexcept\u001b[39;00m CfTimeoutError \u001b[39mas\u001b[39;00m e:\n\u001b[1;32m    <a href='file:///home/pheinemeyer/miniconda3/envs/road/lib/python3.9/site-packages/joblib/_parallel_backends.py?line=543'>544</a>\u001b[0m     \u001b[39mraise\u001b[39;00m \u001b[39mTimeoutError\u001b[39;00m \u001b[39mfrom\u001b[39;00m \u001b[39me\u001b[39;00m\n",
      "File \u001b[0;32m~/miniconda3/envs/road/lib/python3.9/concurrent/futures/_base.py:441\u001b[0m, in \u001b[0;36mFuture.result\u001b[0;34m(self, timeout)\u001b[0m\n\u001b[1;32m    <a href='file:///home/pheinemeyer/miniconda3/envs/road/lib/python3.9/concurrent/futures/_base.py?line=437'>438</a>\u001b[0m \u001b[39melif\u001b[39;00m \u001b[39mself\u001b[39m\u001b[39m.\u001b[39m_state \u001b[39m==\u001b[39m FINISHED:\n\u001b[1;32m    <a href='file:///home/pheinemeyer/miniconda3/envs/road/lib/python3.9/concurrent/futures/_base.py?line=438'>439</a>\u001b[0m     \u001b[39mreturn\u001b[39;00m \u001b[39mself\u001b[39m\u001b[39m.\u001b[39m__get_result()\n\u001b[0;32m--> <a href='file:///home/pheinemeyer/miniconda3/envs/road/lib/python3.9/concurrent/futures/_base.py?line=440'>441</a>\u001b[0m \u001b[39mself\u001b[39;49m\u001b[39m.\u001b[39;49m_condition\u001b[39m.\u001b[39;49mwait(timeout)\n\u001b[1;32m    <a href='file:///home/pheinemeyer/miniconda3/envs/road/lib/python3.9/concurrent/futures/_base.py?line=442'>443</a>\u001b[0m \u001b[39mif\u001b[39;00m \u001b[39mself\u001b[39m\u001b[39m.\u001b[39m_state \u001b[39min\u001b[39;00m [CANCELLED, CANCELLED_AND_NOTIFIED]:\n\u001b[1;32m    <a href='file:///home/pheinemeyer/miniconda3/envs/road/lib/python3.9/concurrent/futures/_base.py?line=443'>444</a>\u001b[0m     \u001b[39mraise\u001b[39;00m CancelledError()\n",
      "File \u001b[0;32m~/miniconda3/envs/road/lib/python3.9/threading.py:312\u001b[0m, in \u001b[0;36mCondition.wait\u001b[0;34m(self, timeout)\u001b[0m\n\u001b[1;32m    <a href='file:///home/pheinemeyer/miniconda3/envs/road/lib/python3.9/threading.py?line=309'>310</a>\u001b[0m \u001b[39mtry\u001b[39;00m:    \u001b[39m# restore state no matter what (e.g., KeyboardInterrupt)\u001b[39;00m\n\u001b[1;32m    <a href='file:///home/pheinemeyer/miniconda3/envs/road/lib/python3.9/threading.py?line=310'>311</a>\u001b[0m     \u001b[39mif\u001b[39;00m timeout \u001b[39mis\u001b[39;00m \u001b[39mNone\u001b[39;00m:\n\u001b[0;32m--> <a href='file:///home/pheinemeyer/miniconda3/envs/road/lib/python3.9/threading.py?line=311'>312</a>\u001b[0m         waiter\u001b[39m.\u001b[39;49macquire()\n\u001b[1;32m    <a href='file:///home/pheinemeyer/miniconda3/envs/road/lib/python3.9/threading.py?line=312'>313</a>\u001b[0m         gotit \u001b[39m=\u001b[39m \u001b[39mTrue\u001b[39;00m\n\u001b[1;32m    <a href='file:///home/pheinemeyer/miniconda3/envs/road/lib/python3.9/threading.py?line=313'>314</a>\u001b[0m     \u001b[39melse\u001b[39;00m:\n",
      "\u001b[0;31mKeyboardInterrupt\u001b[0m: "
     ]
    }
   ],
   "source": [
    "toast = Toast(dG, network.gdf_edges)\n",
    "toast.train(num_walks=20)"
   ]
  }
 ],
 "metadata": {
  "interpreter": {
   "hash": "088070de2c6b4023b2f7ae556c412f86bcd02589c7bdb3766a0caf3cf4813fbd"
  },
  "kernelspec": {
   "display_name": "Python 3.9.12 ('road')",
   "language": "python",
   "name": "python3"
  },
  "language_info": {
   "codemirror_mode": {
    "name": "ipython",
    "version": 3
   },
   "file_extension": ".py",
   "mimetype": "text/x-python",
   "name": "python",
   "nbconvert_exporter": "python",
   "pygments_lexer": "ipython3",
   "version": "3.9.12"
  },
  "orig_nbformat": 4
 },
 "nbformat": 4,
 "nbformat_minor": 2
}
