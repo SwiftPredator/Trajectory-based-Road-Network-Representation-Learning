{
 "cells": [
  {
   "cell_type": "code",
   "execution_count": 1,
   "metadata": {},
   "outputs": [],
   "source": [
    "%load_ext autoreload\n",
    "%autoreload 2\n",
    "\n",
    "import os\n",
    "import sys\n",
    "\n",
    "module_path = os.path.abspath(os.path.join('..'))\n",
    "if module_path not in sys.path:\n",
    "    sys.path.append(module_path)\n",
    "\n",
    "from generator import RoadNetwork\n",
    "import torch\n",
    "import torch.nn as nn\n",
    "from torch.utils.data import DataLoader\n",
    "import pandas as pd\n",
    "import networkx as nx\n",
    "import numpy as np\n",
    "from tqdm import tqdm\n",
    "\n",
    "from models import GAEModel"
   ]
  },
  {
   "cell_type": "code",
   "execution_count": 2,
   "metadata": {},
   "outputs": [],
   "source": [
    "network = RoadNetwork()\n",
    "network.load(\"../osm_data/porto\")\n",
    "df = pd.read_csv(\"../datasets/trajectories/Porto/road_segment_map_final.csv\", sep=\";\", usecols=[\"id\", \"cpath\"])"
   ]
  },
  {
   "cell_type": "code",
   "execution_count": null,
   "metadata": {},
   "outputs": [
    {
     "data": {
      "text/plain": [
       "True"
      ]
     },
     "execution_count": 6,
     "metadata": {},
     "output_type": "execute_result"
    }
   ],
   "source": [
    "torch.cuda.is_available()"
   ]
  },
  {
   "cell_type": "code",
   "execution_count": 21,
   "metadata": {},
   "outputs": [
    {
     "name": "stdout",
     "output_type": "stream",
     "text": [
      "Epoch: 100, avg_loss: 1.2791578960418701\n",
      "Epoch: 200, avg_loss: 1.2312979972362519\n",
      "Epoch: 300, avg_loss: 1.1968167062600454\n",
      "Epoch: 400, avg_loss: 1.172056510746479\n",
      "Epoch: 500, avg_loss: 1.1517406213283539\n",
      "Epoch: 600, avg_loss: 1.1372365782658258\n",
      "Epoch: 700, avg_loss: 1.1262563954080853\n",
      "Epoch: 800, avg_loss: 1.1167573767900467\n",
      "Epoch: 900, avg_loss: 1.108552789290746\n",
      "Epoch: 1000, avg_loss: 1.1014245734214783\n",
      "Epoch: 1100, avg_loss: 1.0952021745118228\n",
      "Epoch: 1200, avg_loss: 1.0895548352599145\n",
      "Epoch: 1300, avg_loss: 1.0844366610967195\n",
      "Epoch: 1400, avg_loss: 1.0795425428662981\n",
      "Epoch: 1500, avg_loss: 1.0749889730612436\n",
      "Epoch: 1600, avg_loss: 1.07084790173918\n",
      "Epoch: 1700, avg_loss: 1.0670086788429933\n",
      "Epoch: 1800, avg_loss: 1.0634348378247684\n",
      "Epoch: 1900, avg_loss: 1.0602191099053935\n",
      "Epoch: 2000, avg_loss: 1.0571646459400654\n",
      "Epoch: 2100, avg_loss: 1.0542653743426005\n",
      "Epoch: 2200, avg_loss: 1.0517519599741156\n",
      "Epoch: 2300, avg_loss: 1.0491167515516282\n",
      "Epoch: 2400, avg_loss: 1.0466371060411135\n",
      "Epoch: 2500, avg_loss: 1.0443005776166916\n",
      "Epoch: 2600, avg_loss: 1.0420957409418545\n",
      "Epoch: 2700, avg_loss: 1.0399248536869332\n",
      "Epoch: 2800, avg_loss: 1.0378052188668931\n",
      "Epoch: 2900, avg_loss: 1.0357570898121802\n",
      "Epoch: 3000, avg_loss: 1.033778963446617\n",
      "Epoch: 3100, avg_loss: 1.0318083833686766\n",
      "Epoch: 3200, avg_loss: 1.0299746433831751\n",
      "Epoch: 3300, avg_loss: 1.028193969022144\n",
      "Epoch: 3400, avg_loss: 1.026488235452596\n",
      "Epoch: 3500, avg_loss: 1.0247696950605938\n",
      "Epoch: 3600, avg_loss: 1.0231287597947651\n",
      "Epoch: 3700, avg_loss: 1.0215564794959249\n",
      "Epoch: 3800, avg_loss: 1.0199884843042022\n",
      "Epoch: 3900, avg_loss: 1.0184600452582042\n",
      "Epoch: 4000, avg_loss: 1.016971727654338\n",
      "Epoch: 4100, avg_loss: 1.015520590180304\n",
      "Epoch: 4200, avg_loss: 1.0140805223584175\n",
      "Epoch: 4300, avg_loss: 1.0126933616122533\n",
      "Epoch: 4400, avg_loss: 1.011354093795473\n",
      "Epoch: 4500, avg_loss: 1.0100102751519946\n",
      "Epoch: 4600, avg_loss: 1.0086965185274248\n",
      "Epoch: 4700, avg_loss: 1.0074910538374109\n",
      "Epoch: 4800, avg_loss: 1.0062159658844272\n",
      "Epoch: 4900, avg_loss: 1.0050318616628646\n",
      "Epoch: 5000, avg_loss: 1.003814330971241\n",
      "Epoch: 5100, avg_loss: 1.0026326964182013\n",
      "Epoch: 5200, avg_loss: 1.0015048569899339\n",
      "Epoch: 5300, avg_loss: 1.0004122381277805\n",
      "Epoch: 5400, avg_loss: 0.9992845408011366\n",
      "Epoch: 5500, avg_loss: 0.9982215569777922\n",
      "Epoch: 5600, avg_loss: 0.9971460866502353\n",
      "Epoch: 5700, avg_loss: 1.0017389349874697\n",
      "Epoch: 5800, avg_loss: 1.0031226449279949\n",
      "Epoch: 5900, avg_loss: 1.0036469733614033\n",
      "Epoch: 6000, avg_loss: 1.0039199691712857\n",
      "Epoch: 6100, avg_loss: 1.0040226686489386\n",
      "Epoch: 6200, avg_loss: 1.0040417725424613\n",
      "Epoch: 6300, avg_loss: 1.0039789454142252\n",
      "Epoch: 6400, avg_loss: 1.0038730596750975\n",
      "Epoch: 6500, avg_loss: 1.003711512345534\n",
      "Epoch: 6600, avg_loss: 1.0035037111694163\n",
      "Epoch: 6700, avg_loss: 1.0032326669568445\n",
      "Epoch: 6800, avg_loss: 1.00290683354525\n",
      "Epoch: 6900, avg_loss: 1.0025457203733747\n",
      "Epoch: 7000, avg_loss: 1.002147077177252\n",
      "Epoch: 7100, avg_loss: 1.0017227799036132\n",
      "Epoch: 7200, avg_loss: 1.0012626398437554\n",
      "Epoch: 7300, avg_loss: 1.000790580486598\n",
      "Epoch: 7400, avg_loss: 1.000312669712144\n",
      "Epoch: 7500, avg_loss: 0.9998156537850698\n",
      "Epoch: 7600, avg_loss: 0.99933532732882\n",
      "Epoch: 7700, avg_loss: 0.9988229727358013\n",
      "Epoch: 7800, avg_loss: 0.9983226492848152\n",
      "Epoch: 7900, avg_loss: 0.9978112439339674\n",
      "Epoch: 8000, avg_loss: 0.997294579938054\n",
      "Epoch: 8100, avg_loss: 0.9967815071417961\n",
      "Epoch: 8200, avg_loss: 0.9962732087475498\n",
      "Epoch: 8300, avg_loss: 0.9957508533905788\n",
      "Epoch: 8400, avg_loss: 0.9952281163561911\n",
      "Epoch: 8500, avg_loss: 0.9947029098622939\n",
      "Epoch: 8600, avg_loss: 0.9941906106818554\n",
      "Epoch: 8700, avg_loss: 0.9936762091620215\n",
      "Epoch: 8800, avg_loss: 0.9931600924107161\n",
      "Epoch: 8900, avg_loss: 0.9926397498872843\n",
      "Epoch: 9000, avg_loss: 0.9921234144833353\n",
      "Epoch: 9100, avg_loss: 0.9915943887404033\n",
      "Epoch: 9200, avg_loss: 0.9910770339875118\n",
      "Epoch: 9300, avg_loss: 0.9905740033682956\n",
      "Epoch: 9400, avg_loss: 0.9900615398237046\n",
      "Epoch: 9500, avg_loss: 0.9895503404956115\n",
      "Epoch: 9600, avg_loss: 0.9890546858683229\n",
      "Epoch: 9700, avg_loss: 0.9885480379628152\n",
      "Epoch: 9800, avg_loss: 0.988053052565273\n",
      "Epoch: 9900, avg_loss: 0.9875537137912982\n"
     ]
    },
    {
     "ename": "TypeError",
     "evalue": "save_model() got an unexpected keyword argument 'save_name'",
     "output_type": "error",
     "traceback": [
      "\u001b[0;31m---------------------------------------------------------------------------\u001b[0m",
      "\u001b[0;31mTypeError\u001b[0m                                 Traceback (most recent call last)",
      "\u001b[1;32m/home/pheinemeyer/Road-Network-Embedding-Generator/models/gae_contruction.ipynb Cell 4'\u001b[0m in \u001b[0;36m<cell line: 14>\u001b[0;34m()\u001b[0m\n\u001b[1;32m     <a href='vscode-notebook-cell://ssh-remote%2Bpascal03/home/pheinemeyer/Road-Network-Embedding-Generator/models/gae_contruction.ipynb#ch0000003vscode-remote?line=11'>12</a>\u001b[0m model \u001b[39m=\u001b[39m GAEModel(data, device\u001b[39m=\u001b[39mdevice, emb_dim\u001b[39m=\u001b[39m\u001b[39m128\u001b[39m)\n\u001b[1;32m     <a href='vscode-notebook-cell://ssh-remote%2Bpascal03/home/pheinemeyer/Road-Network-Embedding-Generator/models/gae_contruction.ipynb#ch0000003vscode-remote?line=12'>13</a>\u001b[0m model\u001b[39m.\u001b[39mtrain(epochs\u001b[39m=\u001b[39m\u001b[39m10000\u001b[39m)\n\u001b[0;32m---> <a href='vscode-notebook-cell://ssh-remote%2Bpascal03/home/pheinemeyer/Road-Network-Embedding-Generator/models/gae_contruction.ipynb#ch0000003vscode-remote?line=13'>14</a>\u001b[0m model\u001b[39m.\u001b[39;49msave_model(save_name\u001b[39m=\u001b[39;49m\u001b[39m\"\u001b[39;49m\u001b[39mgae_10000e.pt\u001b[39;49m\u001b[39m\"\u001b[39;49m, path\u001b[39m=\u001b[39;49m\u001b[39m\"\u001b[39;49m\u001b[39m../model_states/gae/\u001b[39;49m\u001b[39m\"\u001b[39;49m)\n\u001b[1;32m     <a href='vscode-notebook-cell://ssh-remote%2Bpascal03/home/pheinemeyer/Road-Network-Embedding-Generator/models/gae_contruction.ipynb#ch0000003vscode-remote?line=14'>15</a>\u001b[0m model\u001b[39m.\u001b[39msave_emb(path\u001b[39m=\u001b[39m\u001b[39m\"\u001b[39m\u001b[39m../model_states/gae/\u001b[39m\u001b[39m\"\u001b[39m)\n",
      "\u001b[0;31mTypeError\u001b[0m: save_model() got an unexpected keyword argument 'save_name'"
     ]
    }
   ],
   "source": [
    "from torch_geometric.data import Data\n",
    "import torch_geometric.transforms as T\n",
    "\n",
    "# create pyg dataset\n",
    "data = network.generate_road_segment_pyg_dataset()\n",
    "device = torch.device('cuda' if torch.cuda.is_available() else 'cpu')\n",
    "transform = T.Compose([\n",
    "    T.NormalizeFeatures(),\n",
    "    T.ToDevice(device),\n",
    "])\n",
    "data = transform(data)\n",
    "model = GAEModel(data, device=device, emb_dim=128)\n",
    "model.train(epochs=10000)\n",
    "model.save_model(path=\"../model_states/gae/\")\n",
    "model.save_emb(path=\"../model_states/gae/\")\n"
   ]
  },
  {
   "cell_type": "code",
   "execution_count": 22,
   "metadata": {},
   "outputs": [
    {
     "data": {
      "text/plain": [
       "torch.Size([11331, 128])"
      ]
     },
     "execution_count": 22,
     "metadata": {},
     "output_type": "execute_result"
    }
   ],
   "source": [
    "z = model.model.encode(data.x, data.edge_index)\n",
    "z.shape"
   ]
  },
  {
   "cell_type": "code",
   "execution_count": 23,
   "metadata": {},
   "outputs": [],
   "source": [
    "model.save_model(path=\"../model_states/gae/\")\n",
    "model.save_emb(path=\"../model_states/gae/\")"
   ]
  },
  {
   "cell_type": "code",
   "execution_count": 24,
   "metadata": {},
   "outputs": [
    {
     "name": "stdout",
     "output_type": "stream",
     "text": [
      "(array([ 0,  1,  2,  3,  4,  5,  6,  7,  8,  9, 10, 11, 12]), array([1680,   90,  144,  577,   76, 5832, 1451,   98, 1213,   20,   13,\n",
      "         11,  126]))\n",
      "X_train dimension=  (9064, 128)\n",
      "X_test dimension=  (2267, 128)\n",
      "y_train dimension=  (9064,)\n",
      "y_test dimension=  (2267,)\n"
     ]
    }
   ],
   "source": [
    "from sklearn import model_selection\n",
    "from sklearn import linear_model\n",
    "from sklearn import metrics\n",
    "from sklearn.tree import DecisionTreeClassifier\n",
    "from sklearn.ensemble import RandomForestClassifier\n",
    "\n",
    "X = z.detach().cpu().numpy() # embedding for each node\n",
    "# train simple classifier on 80% of data with cross validation\n",
    "y = np.array([network.gdf_edges.loc[n][\"highway_enc\"] for n in network.line_graph.nodes])\n",
    "\n",
    "#mask = ((y==11) | (y==10) | (y==9) | (y==4) | (y==1) | (y==2) | (y==12) | (y==7)) # remove uncommon tags\n",
    "#X = X[~mask, :]\n",
    "#y = y[~mask]\n",
    "print(np.unique(y, return_counts=True))\n",
    "\n",
    "X_train, X_test, y_train, y_test = model_selection.train_test_split(X, y, test_size= 0.2, random_state = 1)\n",
    "\n",
    "print('X_train dimension= ', X_train.shape)\n",
    "print('X_test dimension= ', X_test.shape)\n",
    "print('y_train dimension= ', y_train.shape)\n",
    "print('y_test dimension= ', y_test.shape)"
   ]
  },
  {
   "cell_type": "code",
   "execution_count": 25,
   "metadata": {},
   "outputs": [
    {
     "name": "stdout",
     "output_type": "stream",
     "text": [
      "              precision    recall  f1-score   support\n",
      "\n",
      "           0       0.83      0.85      0.84       309\n",
      "           1       0.63      0.67      0.65        18\n",
      "           2       0.60      0.39      0.47        31\n",
      "           3       0.65      0.55      0.60       133\n",
      "           4       0.00      0.00      0.00        13\n",
      "           5       0.76      0.86      0.81      1175\n",
      "           6       0.57      0.40      0.47       301\n",
      "           7       0.00      0.00      0.00        20\n",
      "           8       0.62      0.67      0.65       221\n",
      "           9       0.50      0.20      0.29         5\n",
      "          10       0.50      0.25      0.33         4\n",
      "          11       0.00      0.00      0.00         3\n",
      "          12       1.00      0.47      0.64        34\n",
      "\n",
      "    accuracy                           0.73      2267\n",
      "   macro avg       0.51      0.41      0.44      2267\n",
      "weighted avg       0.71      0.73      0.72      2267\n",
      "\n"
     ]
    },
    {
     "name": "stderr",
     "output_type": "stream",
     "text": [
      "/home/pheinemeyer/miniconda3/envs/road/lib/python3.9/site-packages/sklearn/metrics/_classification.py:1327: UndefinedMetricWarning: Precision and F-score are ill-defined and being set to 0.0 in labels with no predicted samples. Use `zero_division` parameter to control this behavior.\n",
      "  _warn_prf(average, modifier, msg_start, len(result))\n",
      "/home/pheinemeyer/miniconda3/envs/road/lib/python3.9/site-packages/sklearn/metrics/_classification.py:1327: UndefinedMetricWarning: Precision and F-score are ill-defined and being set to 0.0 in labels with no predicted samples. Use `zero_division` parameter to control this behavior.\n",
      "  _warn_prf(average, modifier, msg_start, len(result))\n",
      "/home/pheinemeyer/miniconda3/envs/road/lib/python3.9/site-packages/sklearn/metrics/_classification.py:1327: UndefinedMetricWarning: Precision and F-score are ill-defined and being set to 0.0 in labels with no predicted samples. Use `zero_division` parameter to control this behavior.\n",
      "  _warn_prf(average, modifier, msg_start, len(result))\n"
     ]
    }
   ],
   "source": [
    "lm = linear_model.LogisticRegression(multi_class=\"multinomial\", max_iter=1000)\n",
    "lm.fit(X_train, y_train)\n",
    "print(metrics.classification_report(y_test, lm.predict(X_test)))"
   ]
  },
  {
   "cell_type": "code",
   "execution_count": 7,
   "metadata": {},
   "outputs": [
    {
     "data": {
      "text/plain": [
       "Data(x=[2708, 1433], edge_index=[2, 8976], y=[2708], train_mask=[2708], val_mask=[2708], test_mask=[2708], pos_edge_label=[4488], pos_edge_label_index=[2, 4488])"
      ]
     },
     "execution_count": 7,
     "metadata": {},
     "output_type": "execute_result"
    }
   ],
   "source": [
    "from torch_geometric.datasets import Planetoid\n",
    "import torch_geometric.transforms as T\n",
    "\n",
    "device = torch.device('cpu')\n",
    "transform = T.Compose([\n",
    "    T.NormalizeFeatures(),\n",
    "    T.ToDevice(device),\n",
    "    T.RandomLinkSplit(num_val=0.05, num_test=0.1, is_undirected=True,\n",
    "                      split_labels=True, add_negative_train_samples=False),\n",
    "])\n",
    "dataset = Planetoid(\".\", \"Cora\", transform=transform)\n",
    "t,v, te = dataset[0]\n",
    "t"
   ]
  },
  {
   "cell_type": "code",
   "execution_count": 21,
   "metadata": {},
   "outputs": [
    {
     "name": "stdout",
     "output_type": "stream",
     "text": [
      "Data(x=[11331, 8], edge_index=[2, 26617])\n"
     ]
    },
    {
     "name": "stderr",
     "output_type": "stream",
     "text": [
      "/home/pheinemeyer/miniconda3/envs/road/lib/python3.9/site-packages/torch_geometric/deprecation.py:12: UserWarning: 'train_test_split_edges' is deprecated, use 'transforms.RandomLinkSplit' instead\n",
      "  warnings.warn(out)\n"
     ]
    },
    {
     "name": "stdout",
     "output_type": "stream",
     "text": [
      "Data(x=[11331, 8], val_pos_edge_index=[2, 699], test_pos_edge_index=[2, 1399], train_pos_edge_index=[2, 23788], train_neg_adj_mask=[11331, 11331], val_neg_edge_index=[2, 699], test_neg_edge_index=[2, 1399])\n"
     ]
    }
   ],
   "source": [
    "from torch_geometric.utils import train_test_split_edges\n",
    "device = torch.device('cpu')\n",
    "transform = T.Compose([\n",
    "    T.NormalizeFeatures(),\n",
    "    T.ToDevice(device),\n",
    "    T.RandomLinkSplit(num_val=0.05, num_test=0.1, is_undirected=True,\n",
    "                      split_labels=True, add_negative_train_samples=False)\n",
    "])\n",
    "print(data)\n",
    "transform(data)\n",
    "test = train_test_split_edges(data)\n",
    "\n",
    "print(test)"
   ]
  }
 ],
 "metadata": {
  "interpreter": {
   "hash": "088070de2c6b4023b2f7ae556c412f86bcd02589c7bdb3766a0caf3cf4813fbd"
  },
  "kernelspec": {
   "display_name": "Python 3.9.12 ('road')",
   "language": "python",
   "name": "python3"
  },
  "language_info": {
   "codemirror_mode": {
    "name": "ipython",
    "version": 3
   },
   "file_extension": ".py",
   "mimetype": "text/x-python",
   "name": "python",
   "nbconvert_exporter": "python",
   "pygments_lexer": "ipython3",
   "version": "3.9.13"
  },
  "orig_nbformat": 4
 },
 "nbformat": 4,
 "nbformat_minor": 2
}
