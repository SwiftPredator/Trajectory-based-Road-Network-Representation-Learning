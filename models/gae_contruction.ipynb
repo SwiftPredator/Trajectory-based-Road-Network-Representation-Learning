{
 "cells": [
  {
   "cell_type": "code",
   "execution_count": 8,
   "metadata": {},
   "outputs": [
    {
     "name": "stdout",
     "output_type": "stream",
     "text": [
      "The autoreload extension is already loaded. To reload it, use:\n",
      "  %reload_ext autoreload\n"
     ]
    }
   ],
   "source": [
    "%load_ext autoreload\n",
    "%autoreload 2\n",
    "\n",
    "import os\n",
    "import sys\n",
    "\n",
    "module_path = os.path.abspath(os.path.join('..'))\n",
    "if module_path not in sys.path:\n",
    "    sys.path.append(module_path)\n",
    "\n",
    "from generator import RoadNetwork\n",
    "import torch\n",
    "import torch.nn as nn\n",
    "from torch.utils.data import DataLoader\n",
    "import pandas as pd\n",
    "import networkx as nx\n",
    "import numpy as np\n",
    "from tqdm import tqdm\n",
    "\n",
    "from models import GAEModel"
   ]
  },
  {
   "cell_type": "code",
   "execution_count": 9,
   "metadata": {},
   "outputs": [],
   "source": [
    "network = RoadNetwork()\n",
    "network.load(\"../osm_data/porto\")\n",
    "df = pd.read_csv(\"../datasets/trajectories/Porto/road_segment_map_final.csv\", sep=\";\", usecols=[\"id\", \"cpath\"])"
   ]
  },
  {
   "cell_type": "code",
   "execution_count": 10,
   "metadata": {},
   "outputs": [
    {
     "name": "stdout",
     "output_type": "stream",
     "text": [
      "torch.Size([2, 26617]) 26617\n"
     ]
    }
   ],
   "source": [
    "LG = network.line_graph\n",
    "# create edge_index\n",
    "map_id = {j:i for i,j in enumerate(LG.nodes)}\n",
    "edge_list = nx.to_pandas_edgelist(LG)\n",
    "edge_list[\"sidx\"] = edge_list[\"source\"].map(map_id)\n",
    "edge_list[\"tidx\"] = edge_list[\"target\"].map(map_id)\n",
    "\n",
    "edge_index = np.array(edge_list[[\"sidx\", \"tidx\"]].values).T\n",
    "edge_index = torch.tensor(edge_index, dtype=torch.long).contiguous()\n",
    "\n",
    "print(edge_index.shape, len(list(LG.edges)))"
   ]
  },
  {
   "cell_type": "code",
   "execution_count": 11,
   "metadata": {},
   "outputs": [],
   "source": [
    "from sklearn.impute import KNNImputer\n",
    "# create feature matrix\n",
    "df = network.gdf_edges.copy()\n",
    "df[\"idx\"] = df.index.map(map_id)\n",
    "df.sort_values(by=\"idx\", axis=0, inplace=True)\n",
    "df.drop([\"osmid\", \"fid\", \"geometry\", \"highway\", \"idx\", \"name\", \"ref\", \"access\", \"area\", \"width\"], axis=1, inplace=True)\n",
    "df.reset_index(drop=True, inplace=True)\n",
    "df[\"bridge\"] = df[\"bridge\"].fillna(0).replace([\"yes\", \"viaduct\", \"['yes', 'viaduct']\", \"cantilever\"], 1)\n",
    "df[\"tunnel\"] = df[\"tunnel\"].fillna(0).replace([\"yes\", \"building_passage\", \"culvert\"], 1)\n",
    "df[\"junction\"] = df[\"junction\"].fillna(0).replace([\"roundabout\", \"circular\"], 1)\n",
    "df[\"lanes\"] = df[\"lanes\"].str.extract(r\"(\\w+)\")\n",
    "df[\"maxspeed\"] = df[\"maxspeed\"].str.extract(r\"(\\w+)\")\n",
    "\n",
    "imputer = KNNImputer(n_neighbors=2)\n",
    "imputed = imputer.fit_transform(df)\n",
    "df[\"lanes\"] = imputed[:, 2].astype(int)\n",
    "df[\"maxspeed\"] = imputed[:, 3].astype(int)\n",
    "\n",
    "features = torch.DoubleTensor(np.array(df.values, dtype=np.double))\n"
   ]
  },
  {
   "cell_type": "code",
   "execution_count": 12,
   "metadata": {},
   "outputs": [
    {
     "data": {
      "text/plain": [
       "True"
      ]
     },
     "execution_count": 12,
     "metadata": {},
     "output_type": "execute_result"
    }
   ],
   "source": [
    "torch.cuda.is_available()"
   ]
  },
  {
   "cell_type": "code",
   "execution_count": 18,
   "metadata": {},
   "outputs": [
    {
     "name": "stdout",
     "output_type": "stream",
     "text": [
      "Epoch: 100, avg_loss: 1.2743199396133422\n",
      "Epoch: 200, avg_loss: 1.2199022823572159\n",
      "Epoch: 300, avg_loss: 1.1905180243651072\n",
      "Epoch: 400, avg_loss: 1.16825299680233\n",
      "Epoch: 500, avg_loss: 1.1495556945800782\n",
      "Epoch: 600, avg_loss: 1.1358440444866815\n",
      "Epoch: 700, avg_loss: 1.1249172048909324\n",
      "Epoch: 800, avg_loss: 1.115951492935419\n",
      "Epoch: 900, avg_loss: 1.1079810954464806\n",
      "Epoch: 1000, avg_loss: 1.1009827965497971\n",
      "Epoch: 1100, avg_loss: 1.0950275325775147\n",
      "Epoch: 1200, avg_loss: 1.089638578792413\n",
      "Epoch: 1300, avg_loss: 1.084645246909215\n",
      "Epoch: 1400, avg_loss: 1.0801280229432242\n",
      "Epoch: 1500, avg_loss: 1.075972119172414\n",
      "Epoch: 1600, avg_loss: 1.0720443864166738\n",
      "Epoch: 1700, avg_loss: 1.0683366833714878\n",
      "Epoch: 1800, avg_loss: 1.0649564906292492\n",
      "Epoch: 1900, avg_loss: 1.0616580911372837\n",
      "Epoch: 2000, avg_loss: 1.0585656130313874\n",
      "Epoch: 2100, avg_loss: 1.0557288302694048\n",
      "Epoch: 2200, avg_loss: 1.052943977686492\n",
      "Epoch: 2300, avg_loss: 1.0503115304915802\n",
      "Epoch: 2400, avg_loss: 1.0478244746476413\n",
      "Epoch: 2500, avg_loss: 1.0454171119451523\n",
      "Epoch: 2600, avg_loss: 1.0430720213972606\n",
      "Epoch: 2700, avg_loss: 1.0408789846632216\n",
      "Epoch: 2800, avg_loss: 1.0387696755996771\n",
      "Epoch: 2900, avg_loss: 1.0367823582682116\n"
     ]
    }
   ],
   "source": [
    "from torch_geometric.data import Data\n",
    "import torch_geometric.transforms as T\n",
    "\n",
    "# create pyg dataset\n",
    "data = Data(x=features, edge_index=edge_index)\n",
    "device = torch.device('cuda' if torch.cuda.is_available() else 'cpu')\n",
    "transform = T.Compose([\n",
    "    T.NormalizeFeatures(),\n",
    "    T.ToDevice(device),\n",
    "])\n",
    "data = transform(data)\n",
    "model = GAEModel(data.x.shape[1], 128, device=device)\n",
    "model.train(train_data=data, epochs=3000)\n",
    "model.save_model(save_name=\"gae_3000e.pt\", path=\"../model_states/gae/\")\n",
    "model.save_emb(path=\"../model_states/gae/\")\n"
   ]
  },
  {
   "cell_type": "code",
   "execution_count": 12,
   "metadata": {},
   "outputs": [
    {
     "data": {
      "text/plain": [
       "torch.Size([11331, 128])"
      ]
     },
     "execution_count": 12,
     "metadata": {},
     "output_type": "execute_result"
    }
   ],
   "source": [
    "z = model.model.encode(data.x, data.edge_index)\n",
    "z.shape"
   ]
  },
  {
   "cell_type": "code",
   "execution_count": 21,
   "metadata": {},
   "outputs": [
    {
     "name": "stdout",
     "output_type": "stream",
     "text": [
      "(array([0, 3, 5, 6, 8]), array([1680,  577, 5832, 1451, 1213]))\n",
      "X_train dimension=  (8602, 128)\n",
      "X_test dimension=  (2151, 128)\n",
      "y_train dimension=  (8602,)\n",
      "y_test dimension=  (2151,)\n"
     ]
    }
   ],
   "source": [
    "from sklearn import model_selection\n",
    "from sklearn import linear_model\n",
    "from sklearn import metrics\n",
    "from sklearn.tree import DecisionTreeClassifier\n",
    "from sklearn.ensemble import RandomForestClassifier\n",
    "\n",
    "X = z.detach().cpu().numpy() # embedding for each node\n",
    "# train simple classifier on 80% of data with cross validation\n",
    "y = np.array([network.gdf_edges.loc[n][\"highway_enc\"] for n in network.line_graph.nodes])\n",
    "\n",
    "mask = ((y==11) | (y==10) | (y==9) | (y==4) | (y==1) | (y==2) | (y==12) | (y==7)) # remove uncommon tags\n",
    "X = X[~mask, :]\n",
    "y = y[~mask]\n",
    "print(np.unique(y, return_counts=True))\n",
    "\n",
    "X_train, X_test, y_train, y_test = model_selection.train_test_split(X, y, test_size= 0.2, random_state = 1)\n",
    "\n",
    "print('X_train dimension= ', X_train.shape)\n",
    "print('X_test dimension= ', X_test.shape)\n",
    "print('y_train dimension= ', y_train.shape)\n",
    "print('y_test dimension= ', y_test.shape)"
   ]
  },
  {
   "cell_type": "code",
   "execution_count": 22,
   "metadata": {},
   "outputs": [
    {
     "name": "stdout",
     "output_type": "stream",
     "text": [
      "              precision    recall  f1-score   support\n",
      "\n",
      "           0       0.83      0.81      0.82       343\n",
      "           3       0.70      0.60      0.64       121\n",
      "           5       0.76      0.88      0.81      1135\n",
      "           6       0.68      0.36      0.47       305\n",
      "           8       0.75      0.71      0.73       247\n",
      "\n",
      "    accuracy                           0.76      2151\n",
      "   macro avg       0.74      0.67      0.70      2151\n",
      "weighted avg       0.76      0.76      0.75      2151\n",
      "\n"
     ]
    }
   ],
   "source": [
    "lm = linear_model.LogisticRegression(multi_class=\"multinomial\", max_iter=1000)\n",
    "lm.fit(X_train, y_train)\n",
    "print(metrics.classification_report(y_test, lm.predict(X_test)))"
   ]
  },
  {
   "cell_type": "code",
   "execution_count": 7,
   "metadata": {},
   "outputs": [
    {
     "data": {
      "text/plain": [
       "Data(x=[2708, 1433], edge_index=[2, 8976], y=[2708], train_mask=[2708], val_mask=[2708], test_mask=[2708], pos_edge_label=[4488], pos_edge_label_index=[2, 4488])"
      ]
     },
     "execution_count": 7,
     "metadata": {},
     "output_type": "execute_result"
    }
   ],
   "source": [
    "from torch_geometric.datasets import Planetoid\n",
    "import torch_geometric.transforms as T\n",
    "\n",
    "device = torch.device('cpu')\n",
    "transform = T.Compose([\n",
    "    T.NormalizeFeatures(),\n",
    "    T.ToDevice(device),\n",
    "    T.RandomLinkSplit(num_val=0.05, num_test=0.1, is_undirected=True,\n",
    "                      split_labels=True, add_negative_train_samples=False),\n",
    "])\n",
    "dataset = Planetoid(\".\", \"Cora\", transform=transform)\n",
    "t,v, te = dataset[0]\n",
    "t"
   ]
  },
  {
   "cell_type": "code",
   "execution_count": 21,
   "metadata": {},
   "outputs": [
    {
     "name": "stdout",
     "output_type": "stream",
     "text": [
      "Data(x=[11331, 8], edge_index=[2, 26617])\n"
     ]
    },
    {
     "name": "stderr",
     "output_type": "stream",
     "text": [
      "/home/pheinemeyer/miniconda3/envs/road/lib/python3.9/site-packages/torch_geometric/deprecation.py:12: UserWarning: 'train_test_split_edges' is deprecated, use 'transforms.RandomLinkSplit' instead\n",
      "  warnings.warn(out)\n"
     ]
    },
    {
     "name": "stdout",
     "output_type": "stream",
     "text": [
      "Data(x=[11331, 8], val_pos_edge_index=[2, 699], test_pos_edge_index=[2, 1399], train_pos_edge_index=[2, 23788], train_neg_adj_mask=[11331, 11331], val_neg_edge_index=[2, 699], test_neg_edge_index=[2, 1399])\n"
     ]
    }
   ],
   "source": [
    "from torch_geometric.utils import train_test_split_edges\n",
    "device = torch.device('cpu')\n",
    "transform = T.Compose([\n",
    "    T.NormalizeFeatures(),\n",
    "    T.ToDevice(device),\n",
    "    T.RandomLinkSplit(num_val=0.05, num_test=0.1, is_undirected=True,\n",
    "                      split_labels=True, add_negative_train_samples=False)\n",
    "])\n",
    "print(data)\n",
    "transform(data)\n",
    "test = train_test_split_edges(data)\n",
    "\n",
    "print(test)"
   ]
  }
 ],
 "metadata": {
  "interpreter": {
   "hash": "088070de2c6b4023b2f7ae556c412f86bcd02589c7bdb3766a0caf3cf4813fbd"
  },
  "kernelspec": {
   "display_name": "Python 3.9.12 ('road')",
   "language": "python",
   "name": "python3"
  },
  "language_info": {
   "codemirror_mode": {
    "name": "ipython",
    "version": 3
   },
   "file_extension": ".py",
   "mimetype": "text/x-python",
   "name": "python",
   "nbconvert_exporter": "python",
   "pygments_lexer": "ipython3",
   "version": "3.9.13"
  },
  "orig_nbformat": 4
 },
 "nbformat": 4,
 "nbformat_minor": 2
}
