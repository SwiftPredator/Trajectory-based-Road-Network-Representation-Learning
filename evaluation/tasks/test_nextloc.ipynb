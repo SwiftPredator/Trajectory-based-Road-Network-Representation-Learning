{
 "cells": [
  {
   "cell_type": "code",
   "execution_count": 1,
   "metadata": {},
   "outputs": [],
   "source": [
    "%load_ext autoreload\n",
    "%autoreload 2\n",
    "\n",
    "import os\n",
    "import sys\n",
    "import torch\n",
    "\n",
    "module_path = os.path.abspath(os.path.join(\"../..\"))\n",
    "if module_path not in sys.path:\n",
    "    sys.path.append(module_path)\n",
    "\n",
    "import numpy as np\n",
    "import torch\n",
    "import torch_geometric.transforms as T\n",
    "from generator import RoadNetwork, Trajectory\n",
    "\n",
    "from evaluation.tasks import (\n",
    "    NextLocationPrediciton\n",
    ")\n",
    "\n",
    "from models import PCAModel"
   ]
  },
  {
   "cell_type": "code",
   "execution_count": 27,
   "metadata": {},
   "outputs": [
    {
     "data": {
      "application/vnd.jupyter.widget-view+json": {
       "model_id": "c20ad0bc897f4f23b21466b0ad638aba",
       "version_major": 2,
       "version_minor": 0
      },
      "text/plain": [
       "Pandas Apply:   0%|          | 0/100000 [00:00<?, ?it/s]"
      ]
     },
     "metadata": {},
     "output_type": "display_data"
    },
    {
     "data": {
      "application/vnd.jupyter.widget-view+json": {
       "model_id": "9f222cda70a04ac1a7d10f7fd016e130",
       "version_major": 2,
       "version_minor": 0
      },
      "text/plain": [
       "Pandas Apply:   0%|          | 0/100000 [00:00<?, ?it/s]"
      ]
     },
     "metadata": {},
     "output_type": "display_data"
    },
    {
     "data": {
      "application/vnd.jupyter.widget-view+json": {
       "model_id": "0ca340f5380541089bb8c393240ed0cc",
       "version_major": 2,
       "version_minor": 0
      },
      "text/plain": [
       "Pandas Apply:   0%|          | 0/100000 [00:00<?, ?it/s]"
      ]
     },
     "metadata": {},
     "output_type": "display_data"
    },
    {
     "data": {
      "application/vnd.jupyter.widget-view+json": {
       "model_id": "022739095b134967bc4c4a186f4a0976",
       "version_major": 2,
       "version_minor": 0
      },
      "text/plain": [
       "Pandas Apply:   0%|          | 0/100000 [00:00<?, ?it/s]"
      ]
     },
     "metadata": {},
     "output_type": "display_data"
    },
    {
     "data": {
      "application/vnd.jupyter.widget-view+json": {
       "model_id": "f980678b84974035a79ce4ba94e47e28",
       "version_major": 2,
       "version_minor": 0
      },
      "text/plain": [
       "Pandas Apply:   0%|          | 0/100000 [00:00<?, ?it/s]"
      ]
     },
     "metadata": {},
     "output_type": "display_data"
    }
   ],
   "source": [
    "network = RoadNetwork()\n",
    "network.load(\"../../osm_data/porto\")\n",
    "trajectory = Trajectory(\n",
    "    \"../../datasets/trajectories/Porto/road_segment_map_final.csv\", nrows=100000\n",
    ")\n",
    "traj_dataset = trajectory.generate_TTE_datatset()\n",
    "data = network.generate_road_segment_pyg_dataset()\n",
    "device = torch.device(\"cuda\" if torch.cuda.is_available() else \"cpu\")"
   ]
  },
  {
   "cell_type": "code",
   "execution_count": 31,
   "metadata": {},
   "outputs": [
    {
     "data": {
      "application/vnd.jupyter.widget-view+json": {
       "model_id": "ad0c8e234a954e2a842b84c2318edc81",
       "version_major": 2,
       "version_minor": 0
      },
      "text/plain": [
       "Pandas Apply:   0%|          | 0/80000 [00:00<?, ?it/s]"
      ]
     },
     "metadata": {},
     "output_type": "display_data"
    },
    {
     "data": {
      "application/vnd.jupyter.widget-view+json": {
       "model_id": "69a0cdc225914925920fed7f47b3fc7f",
       "version_major": 2,
       "version_minor": 0
      },
      "text/plain": [
       "Pandas Apply:   0%|          | 0/80000 [00:00<?, ?it/s]"
      ]
     },
     "metadata": {},
     "output_type": "display_data"
    },
    {
     "data": {
      "application/vnd.jupyter.widget-view+json": {
       "model_id": "de24e3c3033846358ea80ee7f3b9d010",
       "version_major": 2,
       "version_minor": 0
      },
      "text/plain": [
       "Pandas Apply:   0%|          | 0/20000 [00:00<?, ?it/s]"
      ]
     },
     "metadata": {},
     "output_type": "display_data"
    },
    {
     "data": {
      "application/vnd.jupyter.widget-view+json": {
       "model_id": "2b1dae8e3dd64c928eb4df32e9e715e9",
       "version_major": 2,
       "version_minor": 0
      },
      "text/plain": [
       "Pandas Apply:   0%|          | 0/20000 [00:00<?, ?it/s]"
      ]
     },
     "metadata": {},
     "output_type": "display_data"
    }
   ],
   "source": [
    "from sklearn import metrics \n",
    "nextlocation_pred = NextLocationPrediciton(\n",
    "        traj_dataset=traj_dataset,\n",
    "        network=network,\n",
    "        device=device,\n",
    "        batch_size=256,\n",
    "        epochs=20,\n",
    "        seed=88,\n",
    "    )\n",
    "nextlocation_pred.register_metric(\n",
    "    name=\"accuracy\",\n",
    "    metric_func=metrics.accuracy_score,\n",
    "    args={\"normalize\": True},\n",
    ")"
   ]
  },
  {
   "cell_type": "code",
   "execution_count": 29,
   "metadata": {},
   "outputs": [],
   "source": [
    "model = PCAModel(data, device)\n",
    "emb = model.load_emb()"
   ]
  },
  {
   "cell_type": "code",
   "execution_count": 11,
   "metadata": {},
   "outputs": [
    {
     "name": "stdout",
     "output_type": "stream",
     "text": [
      "tensor([[  -1.2944,   -1.2944,   -0.7944, -102.1803],\n",
      "        [-101.8926, -101.8926,   -0.6931,   -0.6931],\n",
      "        [-101.4872,    0.0000, -101.6695, -101.4872]])\n"
     ]
    },
    {
     "data": {
      "text/plain": [
       "tensor([[0.1888, 0.1888, 0.3112, 0.3112],\n",
       "        [0.2554, 0.2823, 0.2311, 0.2311],\n",
       "        [0.2363, 0.2887, 0.2138, 0.2612]])"
      ]
     },
     "execution_count": 11,
     "metadata": {},
     "output_type": "execute_result"
    }
   ],
   "source": [
    "def masked_softmax(x, idxs):\n",
    "    mask = torch.zeros_like(x)\n",
    "    for row, idx in zip(mask, idxs):\n",
    "        row[idx] = 1\n",
    "    divider = torch.sum(torch.exp(x)*mask, axis=1).reshape(-1, 1)\n",
    "    mask = mask + 1e-44\n",
    "    return torch.log(torch.div(torch.exp(x)*mask, divider))\n",
    "\n",
    "soft = torch.nn.Softmax(dim=1)\n",
    "e = torch.tensor([[0,0,.5,0.5], [.3,0.4,0.2,0.2], [.2,0.4,0.1,0.3]])\n",
    "print(masked_softmax(e, [[0,1,2],[2,3], [1]]))\n",
    "soft(e)"
   ]
  },
  {
   "cell_type": "code",
   "execution_count": 32,
   "metadata": {},
   "outputs": [
    {
     "name": "stdout",
     "output_type": "stream",
     "text": [
      "Average training loss in episode 0: 109.24584405186077\n",
      "Average training loss in episode 1: 108.06136407334203\n",
      "Average training loss in episode 2: 105.29422550384228\n",
      "Average training loss in episode 3: 100.63558438334603\n",
      "Average training loss in episode 4: 94.23842501411804\n",
      "Average training loss in episode 5: 86.65973851018059\n",
      "Average training loss in episode 6: 79.05279411827794\n",
      "Average training loss in episode 7: 70.8377650812411\n",
      "Average training loss in episode 8: 63.66940263742075\n",
      "Average training loss in episode 9: 57.51557824863032\n",
      "Average training loss in episode 10: 52.55236369123855\n",
      "Average training loss in episode 11: 48.186794439443766\n",
      "Average training loss in episode 12: 44.55339768138556\n",
      "Average training loss in episode 13: 41.65924235578543\n",
      "Average training loss in episode 14: 38.845493487275824\n",
      "Average training loss in episode 15: 36.29170030222152\n",
      "Average training loss in episode 16: 34.21508403936514\n",
      "Average training loss in episode 17: 32.281467657119705\n",
      "Average training loss in episode 18: 30.352874256170598\n",
      "Average training loss in episode 19: 28.810143498186104\n"
     ]
    },
    {
     "data": {
      "text/plain": [
       "{'accuracy': 0.504}"
      ]
     },
     "execution_count": 32,
     "metadata": {},
     "output_type": "execute_result"
    }
   ],
   "source": [
    "nextlocation_pred.evaluate(emb)"
   ]
  }
 ],
 "metadata": {
  "kernelspec": {
   "display_name": "Python 3.9.13 ('road')",
   "language": "python",
   "name": "python3"
  },
  "language_info": {
   "codemirror_mode": {
    "name": "ipython",
    "version": 3
   },
   "file_extension": ".py",
   "mimetype": "text/x-python",
   "name": "python",
   "nbconvert_exporter": "python",
   "pygments_lexer": "ipython3",
   "version": "3.9.13"
  },
  "orig_nbformat": 4,
  "vscode": {
   "interpreter": {
    "hash": "088070de2c6b4023b2f7ae556c412f86bcd02589c7bdb3766a0caf3cf4813fbd"
   }
  }
 },
 "nbformat": 4,
 "nbformat_minor": 2
}
