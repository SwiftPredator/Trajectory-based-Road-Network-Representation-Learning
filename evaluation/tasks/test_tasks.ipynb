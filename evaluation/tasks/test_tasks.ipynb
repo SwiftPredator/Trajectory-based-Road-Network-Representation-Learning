{
 "cells": [
  {
   "cell_type": "code",
   "execution_count": 4,
   "metadata": {},
   "outputs": [
    {
     "name": "stdout",
     "output_type": "stream",
     "text": [
      "The autoreload extension is already loaded. To reload it, use:\n",
      "  %reload_ext autoreload\n"
     ]
    }
   ],
   "source": [
    "%load_ext autoreload\n",
    "%autoreload 2\n",
    "\n",
    "import os\n",
    "import sys\n",
    "import torch\n",
    "\n",
    "module_path = os.path.abspath(os.path.join(\"../..\"))\n",
    "if module_path not in sys.path:\n",
    "    sys.path.append(module_path)\n",
    "\n",
    "import numpy as np\n",
    "import torch\n",
    "import torch_geometric.transforms as T\n",
    "from generator import RoadNetwork, Trajectory\n",
    "\n",
    "from evaluation.tasks import (\n",
    "    NextLocationPrediciton, DestinationPrediciton, RoutePlanning\n",
    ")\n",
    "\n",
    "from models import PCAModel"
   ]
  },
  {
   "cell_type": "code",
   "execution_count": 33,
   "metadata": {},
   "outputs": [
    {
     "data": {
      "application/vnd.jupyter.widget-view+json": {
       "model_id": "11eba6a3b0f24b50bb3e049557e45a74",
       "version_major": 2,
       "version_minor": 0
      },
      "text/plain": [
       "Pandas Apply:   0%|          | 0/100000 [00:00<?, ?it/s]"
      ]
     },
     "metadata": {},
     "output_type": "display_data"
    },
    {
     "data": {
      "application/vnd.jupyter.widget-view+json": {
       "model_id": "95dde139affd45ff97f969b07000a298",
       "version_major": 2,
       "version_minor": 0
      },
      "text/plain": [
       "Pandas Apply:   0%|          | 0/100000 [00:00<?, ?it/s]"
      ]
     },
     "metadata": {},
     "output_type": "display_data"
    },
    {
     "data": {
      "application/vnd.jupyter.widget-view+json": {
       "model_id": "0b8c57007abe4d75bb4ddfe563924ded",
       "version_major": 2,
       "version_minor": 0
      },
      "text/plain": [
       "Pandas Apply:   0%|          | 0/100000 [00:00<?, ?it/s]"
      ]
     },
     "metadata": {},
     "output_type": "display_data"
    },
    {
     "data": {
      "application/vnd.jupyter.widget-view+json": {
       "model_id": "0fa6222557654e75aa96064bac9d4981",
       "version_major": 2,
       "version_minor": 0
      },
      "text/plain": [
       "Pandas Apply:   0%|          | 0/100000 [00:00<?, ?it/s]"
      ]
     },
     "metadata": {},
     "output_type": "display_data"
    },
    {
     "data": {
      "application/vnd.jupyter.widget-view+json": {
       "model_id": "e1d453a9d94c4d59b5b040a3216771e8",
       "version_major": 2,
       "version_minor": 0
      },
      "text/plain": [
       "Pandas Apply:   0%|          | 0/100000 [00:00<?, ?it/s]"
      ]
     },
     "metadata": {},
     "output_type": "display_data"
    }
   ],
   "source": [
    "network = RoadNetwork()\n",
    "network.load(\"../../osm_data/porto\")\n",
    "trajectory = Trajectory(\n",
    "    \"../../datasets/trajectories/Porto/road_segment_map_final.csv\", nrows=100000\n",
    ")\n",
    "traj_dataset = trajectory.generate_TTE_datatset()\n",
    "data = network.generate_road_segment_pyg_dataset()\n",
    "device = torch.device(\"cuda\" if torch.cuda.is_available() else \"cpu\")"
   ]
  },
  {
   "cell_type": "code",
   "execution_count": 31,
   "metadata": {},
   "outputs": [
    {
     "data": {
      "application/vnd.jupyter.widget-view+json": {
       "model_id": "ad0c8e234a954e2a842b84c2318edc81",
       "version_major": 2,
       "version_minor": 0
      },
      "text/plain": [
       "Pandas Apply:   0%|          | 0/80000 [00:00<?, ?it/s]"
      ]
     },
     "metadata": {},
     "output_type": "display_data"
    },
    {
     "data": {
      "application/vnd.jupyter.widget-view+json": {
       "model_id": "69a0cdc225914925920fed7f47b3fc7f",
       "version_major": 2,
       "version_minor": 0
      },
      "text/plain": [
       "Pandas Apply:   0%|          | 0/80000 [00:00<?, ?it/s]"
      ]
     },
     "metadata": {},
     "output_type": "display_data"
    },
    {
     "data": {
      "application/vnd.jupyter.widget-view+json": {
       "model_id": "de24e3c3033846358ea80ee7f3b9d010",
       "version_major": 2,
       "version_minor": 0
      },
      "text/plain": [
       "Pandas Apply:   0%|          | 0/20000 [00:00<?, ?it/s]"
      ]
     },
     "metadata": {},
     "output_type": "display_data"
    },
    {
     "data": {
      "application/vnd.jupyter.widget-view+json": {
       "model_id": "2b1dae8e3dd64c928eb4df32e9e715e9",
       "version_major": 2,
       "version_minor": 0
      },
      "text/plain": [
       "Pandas Apply:   0%|          | 0/20000 [00:00<?, ?it/s]"
      ]
     },
     "metadata": {},
     "output_type": "display_data"
    }
   ],
   "source": [
    "from sklearn import metrics \n",
    "nextlocation_pred = NextLocationPrediciton(\n",
    "        traj_dataset=traj_dataset,\n",
    "        network=network,\n",
    "        device=device,\n",
    "        batch_size=256,\n",
    "        epochs=20,\n",
    "        seed=88,\n",
    "    )\n",
    "nextlocation_pred.register_metric(\n",
    "    name=\"accuracy\",\n",
    "    metric_func=metrics.accuracy_score,\n",
    "    args={\"normalize\": True},\n",
    ")"
   ]
  },
  {
   "cell_type": "code",
   "execution_count": 29,
   "metadata": {},
   "outputs": [],
   "source": [
    "model = PCAModel(data, device)\n",
    "emb = model.load_emb()"
   ]
  },
  {
   "cell_type": "code",
   "execution_count": 11,
   "metadata": {},
   "outputs": [
    {
     "name": "stdout",
     "output_type": "stream",
     "text": [
      "tensor([[  -1.2944,   -1.2944,   -0.7944, -102.1803],\n",
      "        [-101.8926, -101.8926,   -0.6931,   -0.6931],\n",
      "        [-101.4872,    0.0000, -101.6695, -101.4872]])\n"
     ]
    },
    {
     "data": {
      "text/plain": [
       "tensor([[0.1888, 0.1888, 0.3112, 0.3112],\n",
       "        [0.2554, 0.2823, 0.2311, 0.2311],\n",
       "        [0.2363, 0.2887, 0.2138, 0.2612]])"
      ]
     },
     "execution_count": 11,
     "metadata": {},
     "output_type": "execute_result"
    }
   ],
   "source": [
    "def masked_softmax(x, idxs):\n",
    "    mask = torch.zeros_like(x)\n",
    "    for row, idx in zip(mask, idxs):\n",
    "        row[idx] = 1\n",
    "    divider = torch.sum(torch.exp(x)*mask, axis=1).reshape(-1, 1)\n",
    "    mask = mask + 1e-44\n",
    "    return torch.log(torch.div(torch.exp(x)*mask, divider))\n",
    "\n",
    "soft = torch.nn.Softmax(dim=1)\n",
    "e = torch.tensor([[0,0,.5,0.5], [.3,0.4,0.2,0.2], [.2,0.4,0.1,0.3]])\n",
    "print(masked_softmax(e, [[0,1,2],[2,3], [1]]))\n",
    "soft(e)"
   ]
  },
  {
   "cell_type": "code",
   "execution_count": 32,
   "metadata": {},
   "outputs": [
    {
     "name": "stdout",
     "output_type": "stream",
     "text": [
      "Average training loss in episode 0: 109.24584405186077\n",
      "Average training loss in episode 1: 108.06136407334203\n",
      "Average training loss in episode 2: 105.29422550384228\n",
      "Average training loss in episode 3: 100.63558438334603\n",
      "Average training loss in episode 4: 94.23842501411804\n",
      "Average training loss in episode 5: 86.65973851018059\n",
      "Average training loss in episode 6: 79.05279411827794\n",
      "Average training loss in episode 7: 70.8377650812411\n",
      "Average training loss in episode 8: 63.66940263742075\n",
      "Average training loss in episode 9: 57.51557824863032\n",
      "Average training loss in episode 10: 52.55236369123855\n",
      "Average training loss in episode 11: 48.186794439443766\n",
      "Average training loss in episode 12: 44.55339768138556\n",
      "Average training loss in episode 13: 41.65924235578543\n",
      "Average training loss in episode 14: 38.845493487275824\n",
      "Average training loss in episode 15: 36.29170030222152\n",
      "Average training loss in episode 16: 34.21508403936514\n",
      "Average training loss in episode 17: 32.281467657119705\n",
      "Average training loss in episode 18: 30.352874256170598\n",
      "Average training loss in episode 19: 28.810143498186104\n"
     ]
    },
    {
     "data": {
      "text/plain": [
       "{'accuracy': 0.504}"
      ]
     },
     "execution_count": 32,
     "metadata": {},
     "output_type": "execute_result"
    }
   ],
   "source": [
    "nextlocation_pred.evaluate(emb)"
   ]
  },
  {
   "cell_type": "code",
   "execution_count": 10,
   "metadata": {},
   "outputs": [
    {
     "data": {
      "application/vnd.jupyter.widget-view+json": {
       "model_id": "78ef4795aa6f4a509e2feb490e19ec15",
       "version_major": 2,
       "version_minor": 0
      },
      "text/plain": [
       "Pandas Apply:   0%|          | 0/80000 [00:00<?, ?it/s]"
      ]
     },
     "metadata": {},
     "output_type": "display_data"
    },
    {
     "data": {
      "application/vnd.jupyter.widget-view+json": {
       "model_id": "8d9130b438be42bcab5c5502ac0cece5",
       "version_major": 2,
       "version_minor": 0
      },
      "text/plain": [
       "Pandas Apply:   0%|          | 0/80000 [00:00<?, ?it/s]"
      ]
     },
     "metadata": {},
     "output_type": "display_data"
    },
    {
     "data": {
      "application/vnd.jupyter.widget-view+json": {
       "model_id": "775f079bcf374906a7bec8c1ae9bc39a",
       "version_major": 2,
       "version_minor": 0
      },
      "text/plain": [
       "Pandas Apply:   0%|          | 0/20000 [00:00<?, ?it/s]"
      ]
     },
     "metadata": {},
     "output_type": "display_data"
    },
    {
     "data": {
      "application/vnd.jupyter.widget-view+json": {
       "model_id": "fba531f762174df2b24991c72bf3d231",
       "version_major": 2,
       "version_minor": 0
      },
      "text/plain": [
       "Pandas Apply:   0%|          | 0/20000 [00:00<?, ?it/s]"
      ]
     },
     "metadata": {},
     "output_type": "display_data"
    }
   ],
   "source": [
    "# Test Destination Prediction\n",
    "from sklearn import metrics \n",
    "destination_pred = DestinationPrediciton(\n",
    "        traj_dataset=traj_dataset,\n",
    "        network=network,\n",
    "        device=device,\n",
    "        batch_size=256,\n",
    "        epochs=20,\n",
    "        seed=88,\n",
    "    )\n",
    "destination_pred.register_metric(\n",
    "    name=\"accuracy\",\n",
    "    metric_func=metrics.accuracy_score,\n",
    "    args={\"normalize\": True},\n",
    ")"
   ]
  },
  {
   "cell_type": "code",
   "execution_count": 4,
   "metadata": {},
   "outputs": [],
   "source": [
    "model = PCAModel(data, device)\n",
    "emb = model.load_emb()"
   ]
  },
  {
   "cell_type": "code",
   "execution_count": 11,
   "metadata": {},
   "outputs": [
    {
     "name": "stdout",
     "output_type": "stream",
     "text": [
      "Average training loss in episode 0: 8.002796031415652\n",
      "Average training loss in episode 1: 7.728944015198241\n",
      "Average training loss in episode 2: 7.618062226536175\n",
      "Average training loss in episode 3: 7.447741648640496\n",
      "Average training loss in episode 4: 7.154178783916437\n",
      "Average training loss in episode 5: 6.751626476312217\n",
      "Average training loss in episode 6: 6.273732733802674\n",
      "Average training loss in episode 7: 5.801170958497654\n",
      "Average training loss in episode 8: 5.36764315827586\n",
      "Average training loss in episode 9: 4.973850305088031\n",
      "Average training loss in episode 10: 4.623563499877247\n",
      "Average training loss in episode 11: 4.311056073862143\n",
      "Average training loss in episode 12: 4.0435809243601355\n",
      "Average training loss in episode 13: 3.8067675817507904\n",
      "Average training loss in episode 14: 3.5993725583195304\n",
      "Average training loss in episode 15: 3.4162518094522882\n",
      "Average training loss in episode 16: 3.2540437459183957\n",
      "Average training loss in episode 17: 3.113460920108393\n",
      "Average training loss in episode 18: 2.98144440909925\n",
      "Average training loss in episode 19: 2.862765962704302\n"
     ]
    },
    {
     "data": {
      "text/plain": [
       "{'accuracy': 0.2001}"
      ]
     },
     "execution_count": 11,
     "metadata": {},
     "output_type": "execute_result"
    }
   ],
   "source": [
    "destination_pred.evaluate(emb)"
   ]
  },
  {
   "cell_type": "code",
   "execution_count": 46,
   "metadata": {},
   "outputs": [
    {
     "data": {
      "application/vnd.jupyter.widget-view+json": {
       "model_id": "fc3baee8009d44cd9ac595a66baf6228",
       "version_major": 2,
       "version_minor": 0
      },
      "text/plain": [
       "Pandas Apply:   0%|          | 0/80000 [00:00<?, ?it/s]"
      ]
     },
     "metadata": {},
     "output_type": "display_data"
    },
    {
     "data": {
      "application/vnd.jupyter.widget-view+json": {
       "model_id": "ac7274d433cb4f5ab0320816b3846848",
       "version_major": 2,
       "version_minor": 0
      },
      "text/plain": [
       "Pandas Apply:   0%|          | 0/80000 [00:00<?, ?it/s]"
      ]
     },
     "metadata": {},
     "output_type": "display_data"
    },
    {
     "data": {
      "application/vnd.jupyter.widget-view+json": {
       "model_id": "4e377f6f33574457815c3b04bfa2ee09",
       "version_major": 2,
       "version_minor": 0
      },
      "text/plain": [
       "Pandas Apply:   0%|          | 0/20000 [00:00<?, ?it/s]"
      ]
     },
     "metadata": {},
     "output_type": "display_data"
    },
    {
     "data": {
      "application/vnd.jupyter.widget-view+json": {
       "model_id": "6a6afa9487df4a9d8d8f164f6a8c7143",
       "version_major": 2,
       "version_minor": 0
      },
      "text/plain": [
       "Pandas Apply:   0%|          | 0/20000 [00:00<?, ?it/s]"
      ]
     },
     "metadata": {},
     "output_type": "display_data"
    }
   ],
   "source": [
    "# Test RoutePlanning\n",
    "from sklearn import metrics \n",
    "route_pred = RoutePlanning(\n",
    "        traj_dataset=traj_dataset,\n",
    "        network=network,\n",
    "        device=device,\n",
    "        batch_size=256,\n",
    "        epochs=20,\n",
    "        seed=88,\n",
    "    )\n",
    "route_pred.register_metric(\n",
    "    name=\"accuracy\",\n",
    "    metric_func=metrics.accuracy_score,\n",
    "    args={\"normalize\": True},\n",
    ")"
   ]
  },
  {
   "cell_type": "markdown",
   "metadata": {},
   "source": []
  },
  {
   "cell_type": "code",
   "execution_count": 7,
   "metadata": {},
   "outputs": [],
   "source": [
    "model = PCAModel(data, device)\n",
    "emb = model.load_emb()"
   ]
  },
  {
   "cell_type": "code",
   "execution_count": 47,
   "metadata": {},
   "outputs": [
    {
     "name": "stdout",
     "output_type": "stream",
     "text": [
      "Average training loss in episode 0: 223.33841259258622\n",
      "Average training loss in episode 1: 220.99884233078637\n",
      "Average training loss in episode 2: 219.19950505948296\n",
      "Average training loss in episode 3: 216.19173497209152\n",
      "Average training loss in episode 4: 212.5699733941319\n",
      "Average training loss in episode 5: 208.74989304222618\n",
      "Average training loss in episode 6: 205.81459035660131\n",
      "Average training loss in episode 7: 203.30335998535156\n",
      "Average training loss in episode 8: 201.20129340906112\n",
      "Average training loss in episode 9: 199.44695196669704\n",
      "Average training loss in episode 10: 197.66103955351124\n",
      "Average training loss in episode 11: 196.11294984665162\n",
      "Average training loss in episode 12: 195.00290545868796\n",
      "Average training loss in episode 13: 193.93958928409856\n",
      "Average training loss in episode 14: 192.9389164836262\n",
      "Average training loss in episode 15: 192.13443865791297\n",
      "Average training loss in episode 16: 191.4252798062163\n",
      "Average training loss in episode 17: 190.77533027234549\n",
      "Average training loss in episode 18: 190.12289141085202\n",
      "Average training loss in episode 19: 189.66888959110736\n"
     ]
    },
    {
     "data": {
      "text/plain": [
       "{'accuracy': 0.008468326516222565}"
      ]
     },
     "execution_count": 47,
     "metadata": {},
     "output_type": "execute_result"
    }
   ],
   "source": [
    "route_pred.evaluate(emb)"
   ]
  }
 ],
 "metadata": {
  "kernelspec": {
   "display_name": "Python 3.9.13 ('road')",
   "language": "python",
   "name": "python3"
  },
  "language_info": {
   "codemirror_mode": {
    "name": "ipython",
    "version": 3
   },
   "file_extension": ".py",
   "mimetype": "text/x-python",
   "name": "python",
   "nbconvert_exporter": "python",
   "pygments_lexer": "ipython3",
   "version": "3.9.13"
  },
  "orig_nbformat": 4,
  "vscode": {
   "interpreter": {
    "hash": "088070de2c6b4023b2f7ae556c412f86bcd02589c7bdb3766a0caf3cf4813fbd"
   }
  }
 },
 "nbformat": 4,
 "nbformat_minor": 2
}
