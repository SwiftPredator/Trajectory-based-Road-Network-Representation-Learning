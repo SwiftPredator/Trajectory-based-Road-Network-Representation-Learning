{
 "cells": [
  {
   "cell_type": "code",
   "execution_count": 6,
   "metadata": {},
   "outputs": [
    {
     "name": "stdout",
     "output_type": "stream",
     "text": [
      "The autoreload extension is already loaded. To reload it, use:\n",
      "  %reload_ext autoreload\n"
     ]
    }
   ],
   "source": [
    "%load_ext autoreload\n",
    "%autoreload 2\n",
    "\n",
    "import os\n",
    "import sys\n",
    "\n",
    "module_path = os.path.abspath(os.path.join('..'))\n",
    "if module_path not in sys.path:\n",
    "    sys.path.append(module_path)\n",
    "    \n",
    "from tasks import RoadTypeClfTask, TravelTimeEstimation\n",
    "from sklearn import metrics, linear_model\n",
    "from evaluation import Evaluation\n",
    "from generator import RoadNetwork\n",
    "import torch\n",
    "from models import GAEModel, Node2VecModel, Toast\n",
    "import numpy as np\n",
    "import networkx as nx"
   ]
  },
  {
   "cell_type": "code",
   "execution_count": 3,
   "metadata": {},
   "outputs": [],
   "source": [
    "network = RoadNetwork()\n",
    "network.load(\"../osm_data/porto\")\n",
    "data = network.generate_road_segment_pyg_dataset()"
   ]
  },
  {
   "cell_type": "code",
   "execution_count": 43,
   "metadata": {},
   "outputs": [],
   "source": [
    "decoder = linear_model.LogisticRegression(multi_class=\"multinomial\", max_iter=1000)\n",
    "y = np.array([network.gdf_edges.loc[n][\"highway_enc\"] for n in network.line_graph.nodes])\n",
    "roadclf = RoadTypeClfTask(decoder, y)\n",
    "roadclf.register_metric(name=\"f1_micro\", metric_func=metrics.f1_score, args={\"average\": \"micro\"})\n",
    "roadclf.register_metric(name=\"f1_macro\", metric_func=metrics.f1_score, args={\"average\": \"macro\"})\n",
    "roadclf.register_metric(name=\"f1_weighted\", metric_func=metrics.f1_score, args={\"average\": \"weighted\"})\n",
    "roadclf.register_metric(name=\"accuracy\", metric_func=metrics.accuracy_score, args={\"normalize\": \"True\"})\n",
    "roadclf.register_metric(name=\"AUC\", metric_func=metrics.roc_auc_score, args={\"multi_class\": \"ovo\"}, proba=True)"
   ]
  },
  {
   "cell_type": "code",
   "execution_count": 46,
   "metadata": {},
   "outputs": [],
   "source": [
    "device = torch.device('cuda' if torch.cuda.is_available() else 'cpu')\n",
    "gae = GAEModel(1,  128, device=device) # pseudo init\n",
    "gae.load_emb(path=\"../model_states/gae/embedding.out\")\n",
    "node2vec = Node2VecModel(data=data, device=device) # pseudo init\n",
    "node2vec.load_emb(path=\"../model_states/node2vec/embedding.out\")\n",
    "dG = network.line_graph\n",
    "index = np.arange(len(list(dG.nodes))) # index shifted, since 0 and 1 are reserved for mask pad tokens\n",
    "nx.set_node_attributes(dG, dict(zip(list(dG.nodes), index)), name=\"index\")\n",
    "toast = Toast(dG, network.gdf_edges)\n",
    "toast.load_model(\"../model_states/toast/model_rw_init_epoch12.pt\")"
   ]
  },
  {
   "cell_type": "code",
   "execution_count": 47,
   "metadata": {},
   "outputs": [],
   "source": [
    "eva = Evaluation()\n",
    "eva.register_task(\"Road Type CLF\", roadclf)\n",
    "eva.register_model(\"GAE\", gae)\n",
    "eva.register_model(\"Node2Vec\", node2vec)\n",
    "eva.register_model(\"toast\", toast)\n",
    "res = eva.run()"
   ]
  },
  {
   "cell_type": "code",
   "execution_count": 48,
   "metadata": {},
   "outputs": [
    {
     "name": "stdout",
     "output_type": "stream",
     "text": [
      "Road Type CLF\n"
     ]
    },
    {
     "data": {
      "text/html": [
       "<div>\n",
       "<style scoped>\n",
       "    .dataframe tbody tr th:only-of-type {\n",
       "        vertical-align: middle;\n",
       "    }\n",
       "\n",
       "    .dataframe tbody tr th {\n",
       "        vertical-align: top;\n",
       "    }\n",
       "\n",
       "    .dataframe thead th {\n",
       "        text-align: right;\n",
       "    }\n",
       "</style>\n",
       "<table border=\"1\" class=\"dataframe\">\n",
       "  <thead>\n",
       "    <tr style=\"text-align: right;\">\n",
       "      <th></th>\n",
       "      <th>f1_micro</th>\n",
       "      <th>f1_macro</th>\n",
       "      <th>f1_weighted</th>\n",
       "      <th>accuracy</th>\n",
       "      <th>AUC</th>\n",
       "    </tr>\n",
       "  </thead>\n",
       "  <tbody>\n",
       "    <tr>\n",
       "      <th>GAE</th>\n",
       "      <td>0.715042</td>\n",
       "      <td>0.379847</td>\n",
       "      <td>0.694873</td>\n",
       "      <td>0.715042</td>\n",
       "      <td>0.920333</td>\n",
       "    </tr>\n",
       "    <tr>\n",
       "      <th>Node2Vec</th>\n",
       "      <td>0.515218</td>\n",
       "      <td>0.05284</td>\n",
       "      <td>0.353569</td>\n",
       "      <td>0.515218</td>\n",
       "      <td>0.480498</td>\n",
       "    </tr>\n",
       "    <tr>\n",
       "      <th>toast</th>\n",
       "      <td>0.737097</td>\n",
       "      <td>0.442612</td>\n",
       "      <td>0.728043</td>\n",
       "      <td>0.737097</td>\n",
       "      <td>0.921767</td>\n",
       "    </tr>\n",
       "  </tbody>\n",
       "</table>\n",
       "</div>"
      ],
      "text/plain": [
       "          f1_micro  f1_macro f1_weighted  accuracy       AUC\n",
       "GAE       0.715042  0.379847    0.694873  0.715042  0.920333\n",
       "Node2Vec  0.515218   0.05284    0.353569  0.515218  0.480498\n",
       "toast     0.737097  0.442612    0.728043  0.737097  0.921767"
      ]
     },
     "execution_count": 48,
     "metadata": {},
     "output_type": "execute_result"
    }
   ],
   "source": [
    "print(res[0][0])\n",
    "res[0][1].head()"
   ]
  }
 ],
 "metadata": {
  "interpreter": {
   "hash": "088070de2c6b4023b2f7ae556c412f86bcd02589c7bdb3766a0caf3cf4813fbd"
  },
  "kernelspec": {
   "display_name": "Python 3.9.13 ('road')",
   "language": "python",
   "name": "python3"
  },
  "language_info": {
   "codemirror_mode": {
    "name": "ipython",
    "version": 3
   },
   "file_extension": ".py",
   "mimetype": "text/x-python",
   "name": "python",
   "nbconvert_exporter": "python",
   "pygments_lexer": "ipython3",
   "version": "3.9.13"
  },
  "orig_nbformat": 4
 },
 "nbformat": 4,
 "nbformat_minor": 2
}
