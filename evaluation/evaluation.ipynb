{
 "cells": [
  {
   "cell_type": "code",
   "execution_count": 8,
   "metadata": {},
   "outputs": [
    {
     "name": "stdout",
     "output_type": "stream",
     "text": [
      "The autoreload extension is already loaded. To reload it, use:\n",
      "  %reload_ext autoreload\n"
     ]
    }
   ],
   "source": [
    "%load_ext autoreload\n",
    "%autoreload 2\n",
    "\n",
    "import os\n",
    "import sys\n",
    "\n",
    "module_path = os.path.abspath(os.path.join('..'))\n",
    "if module_path not in sys.path:\n",
    "    sys.path.append(module_path)\n",
    "    \n",
    "from tasks import RoadTypeClfTask, TravelTimeEstimation\n",
    "from sklearn import metrics, linear_model\n",
    "from evaluation import Evaluation\n",
    "from generator import RoadNetwork\n",
    "import torch\n",
    "from models import GAEModel\n",
    "import numpy as np"
   ]
  },
  {
   "cell_type": "code",
   "execution_count": 2,
   "metadata": {},
   "outputs": [],
   "source": [
    "network = RoadNetwork()\n",
    "network.load(\"../osm_data/porto\")"
   ]
  },
  {
   "cell_type": "code",
   "execution_count": 10,
   "metadata": {},
   "outputs": [],
   "source": [
    "decoder = linear_model.LogisticRegression(multi_class=\"multinomial\", max_iter=1000)\n",
    "y = np.array([network.gdf_edges.loc[n][\"highway_enc\"] for n in network.line_graph.nodes])\n",
    "roadclf = RoadTypeClfTask(decoder, y)\n",
    "roadclf.register_metric(name=\"f1_micro\", metric_func=metrics.f1_score, args={\"average\": \"micro\"})\n",
    "roadclf.register_metric(name=\"f1_macro\", metric_func=metrics.f1_score, args={\"average\": \"macro\"})\n",
    "roadclf.register_metric(name=\"f1_weighted\", metric_func=metrics.f1_score, args={\"average\": \"weighted\"})"
   ]
  },
  {
   "cell_type": "code",
   "execution_count": 11,
   "metadata": {},
   "outputs": [
    {
     "data": {
      "text/plain": [
       "array([[ 0.01818256,  0.07382999,  0.03331254, ..., -0.13202006,\n",
       "         0.33308628,  0.36450168],\n",
       "       [ 0.03449438,  0.08260331,  0.11854216, ..., -0.11856375,\n",
       "         0.4422397 ,  0.49484941],\n",
       "       [ 0.14319448,  0.24921644,  0.11281582, ..., -0.07663582,\n",
       "         0.36288461,  0.3798165 ],\n",
       "       ...,\n",
       "       [-0.00205083, -0.12101499,  0.04077854, ...,  0.19816038,\n",
       "         0.06837461,  0.05633661],\n",
       "       [-0.03523884,  0.0175008 ,  0.23978847, ..., -0.15987927,\n",
       "        -0.10179204, -0.1786136 ],\n",
       "       [-0.03523884,  0.0175008 ,  0.23978847, ..., -0.15987927,\n",
       "        -0.10179204, -0.1786136 ]])"
      ]
     },
     "execution_count": 11,
     "metadata": {},
     "output_type": "execute_result"
    }
   ],
   "source": [
    "device = torch.device('cuda' if torch.cuda.is_available() else 'cpu')\n",
    "gae = GAEModel(1,  128, device=device) # pseudo init\n",
    "gae.load_emb(path=\"../model_states/gae/embedding.out\")"
   ]
  },
  {
   "cell_type": "code",
   "execution_count": 21,
   "metadata": {},
   "outputs": [],
   "source": [
    "eva = Evaluation()\n",
    "eva.register_task(\"Road Type CLF\", roadclf)\n",
    "eva.register_model(\"GAE\", gae)\n",
    "res = eva.run()"
   ]
  },
  {
   "cell_type": "code",
   "execution_count": 22,
   "metadata": {},
   "outputs": [
    {
     "name": "stdout",
     "output_type": "stream",
     "text": [
      "Road Type CLF\n"
     ]
    },
    {
     "data": {
      "text/html": [
       "<div>\n",
       "<style scoped>\n",
       "    .dataframe tbody tr th:only-of-type {\n",
       "        vertical-align: middle;\n",
       "    }\n",
       "\n",
       "    .dataframe tbody tr th {\n",
       "        vertical-align: top;\n",
       "    }\n",
       "\n",
       "    .dataframe thead th {\n",
       "        text-align: right;\n",
       "    }\n",
       "</style>\n",
       "<table border=\"1\" class=\"dataframe\">\n",
       "  <thead>\n",
       "    <tr style=\"text-align: right;\">\n",
       "      <th></th>\n",
       "      <th>f1_micro</th>\n",
       "      <th>f1_macro</th>\n",
       "      <th>f1_weighted</th>\n",
       "    </tr>\n",
       "  </thead>\n",
       "  <tbody>\n",
       "    <tr>\n",
       "      <th>GAE</th>\n",
       "      <td>0.715042</td>\n",
       "      <td>0.379847</td>\n",
       "      <td>0.694873</td>\n",
       "    </tr>\n",
       "  </tbody>\n",
       "</table>\n",
       "</div>"
      ],
      "text/plain": [
       "     f1_micro  f1_macro f1_weighted\n",
       "GAE  0.715042  0.379847    0.694873"
      ]
     },
     "execution_count": 22,
     "metadata": {},
     "output_type": "execute_result"
    }
   ],
   "source": [
    "print(res[0][0])\n",
    "res[0][1].head()"
   ]
  }
 ],
 "metadata": {
  "interpreter": {
   "hash": "088070de2c6b4023b2f7ae556c412f86bcd02589c7bdb3766a0caf3cf4813fbd"
  },
  "kernelspec": {
   "display_name": "Python 3.9.13 ('road')",
   "language": "python",
   "name": "python3"
  },
  "language_info": {
   "codemirror_mode": {
    "name": "ipython",
    "version": 3
   },
   "file_extension": ".py",
   "mimetype": "text/x-python",
   "name": "python",
   "nbconvert_exporter": "python",
   "pygments_lexer": "ipython3",
   "version": "3.9.13"
  },
  "orig_nbformat": 4
 },
 "nbformat": 4,
 "nbformat_minor": 2
}
