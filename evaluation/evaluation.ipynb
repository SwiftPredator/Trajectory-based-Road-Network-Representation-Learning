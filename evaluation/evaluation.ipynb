{
    "cells": [
        {
            "cell_type": "code",
            "execution_count": null,
            "metadata": {},
            "outputs": [],
            "source": [
                "%load_ext autoreload\n",
                "%autoreload 2\n",
                "\n",
                "import os\n",
                "import sys\n",
                "\n",
                "module_path = os.path.abspath(os.path.join('..'))\n",
                "if module_path not in sys.path:\n",
                "    sys.path.append(module_path)\n",
                "    \n",
                "from tasks import RoadTypeClfTask, TravelTimeEstimation\n",
                "from sklearn import metrics, linear_model\n",
                "from evaluation import Evaluation\n",
                "from generator import RoadNetwork, Trajectory\n",
                "import torch\n",
                "from models import GAEModel, Node2VecModel, Toast\n",
                "import numpy as np\n",
                "import networkx as nx"
            ]
        },
        {
            "cell_type": "code",
            "execution_count": null,
            "metadata": {},
            "outputs": [],
            "source": [
                "network = RoadNetwork()\n",
                "network.load(\"../osm_data/porto\")\n",
                "data = network.generate_road_segment_pyg_dataset()\n",
                "\n",
                "trajectory = Trajectory(\"../datasets/trajectories/Porto/road_segment_map_final.csv\")\n",
                "traj_data = trajectory.generate_TTE_datatset()"
            ]
        },
        {
            "cell_type": "code",
            "execution_count": null,
            "metadata": {},
            "outputs": [],
            "source": [
                "decoder = linear_model.LogisticRegression(multi_class=\"multinomial\", max_iter=1000)\n",
                "y = np.array([network.gdf_edges.loc[n][\"highway_enc\"] for n in network.line_graph.nodes])\n",
                "roadclf = RoadTypeClfTask(decoder, y)\n",
                "roadclf.register_metric(name=\"f1_micro\", metric_func=metrics.f1_score, args={\"average\": \"micro\"})\n",
                "roadclf.register_metric(name=\"f1_macro\", metric_func=metrics.f1_score, args={\"average\": \"macro\"})\n",
                "roadclf.register_metric(name=\"f1_weighted\", metric_func=metrics.f1_score, args={\"average\": \"weighted\"})\n",
                "roadclf.register_metric(name=\"accuracy\", metric_func=metrics.accuracy_score, args={\"normalize\": True})\n",
                "roadclf.register_metric(name=\"AUC\", metric_func=metrics.roc_auc_score, args={\"multi_class\": \"ovo\"}, proba=True)"
            ]
        },
        {
            "cell_type": "code",
            "execution_count": null,
            "metadata": {},
            "outputs": [],
            "source": [
                "# \n",
                "eidx = network.gdf_edges.iloc[2].name\n",
                "print(eidx)\n",
                "fid = network.gdf_edges.iloc[2].fid\n",
                "node_idx = list(network.line_graph.nodes).index(eidx)\n",
                "print(fid, eidx, node_idx)\n"
            ]
        },
        {
            "cell_type": "code",
            "execution_count": null,
            "metadata": {},
            "outputs": [],
            "source": [
                "torch.cuda.set_device(1)\n",
                "device = torch.device('cuda' if torch.cuda.is_available() else 'cpu')\n",
                "\n",
                "travel_time_est = TravelTimeEstimation(traj_dataset=traj_data.iloc[:5000], network=network, device=device, batch_size=128)\n",
                "travel_time_est.register_metric(name=\"MSE\", metric_func=metrics.mean_squared_error, args={})\n",
                "travel_time_est.register_metric(name=\"MAE\", metric_func=metrics.mean_absolute_error, args={})\n",
                "travel_time_est.register_metric(name=\"RMSE\", metric_func=metrics.mean_squared_error, args={\"squared\": False})\n",
                "\n",
                "# dw = Node2VecModel(data=data, device=device, p=1, q=1) # p and q from \"On Representation Learning for RN\"\n",
                "# dw.load_model(model_path=\"../model_states/dw/model.pt\")\n",
                "# emb = dw.load_emb()\n",
                "# travel_time_est.evaluate(emb)"
            ]
        },
        {
            "cell_type": "code",
            "execution_count": null,
            "metadata": {},
            "outputs": [],
            "source": [
                "device = torch.device('cuda' if torch.cuda.is_available() else 'cpu')\n",
                "gae = GAEModel(data, device=device) # pseudo init\n",
                "gae.load_model(model_path=\"../model_states/gae/model.pt\")\n",
                "node2vec = Node2VecModel(data=data, device=device, p=1, q=4) # p and q from \"On Representation Learning for RN\"\n",
                "node2vec.load_model(model_path=\"../model_states/node2vec/model.pt\")\n",
                "dw = Node2VecModel(data=data, device=device, p=1, q=1) # p and q from \"On Representation Learning for RN\"\n",
                "dw.load_model(model_path=\"../model_states/dw/model.pt\")\n",
                "\n",
                "# toast\n",
                "dG = network.line_graph\n",
                "index = np.arange(len(list(dG.nodes))) # index shifted, since 0 and 1 are reserved for mask pad tokens\n",
                "nx.set_node_attributes(dG, dict(zip(list(dG.nodes), index)), name=\"index\")\n",
                "toast = Toast(dG, network.gdf_edges)\n",
                "toast.load_model(\"../model_states/toast/model_rw_init_epoch12.pt\")"
            ]
        },
        {
            "cell_type": "code",
            "execution_count": null,
            "metadata": {},
            "outputs": [],
            "source": [
                "eva = Evaluation()\n",
                "\n",
                "eva.register_task(\"Road Type CLF\", roadclf)\n",
                "eva.register_task(\"Time Travel Estimation\", travel_time_est)\n",
                "\n",
                "eva.register_model(\"GAE\", gae)\n",
                "eva.register_model(\"Node2Vec\", node2vec)\n",
                "eva.register_model(\"DW\", dw)\n",
                "eva.register_model(\"toast\", toast)\n",
                "\n",
                "res = eva.run()"
            ]
        },
        {
            "cell_type": "code",
            "execution_count": null,
            "metadata": {},
            "outputs": [],
            "source": [
                "print(res[0][0])\n",
                "res[0][1].head()"
            ]
        },
        {
            "cell_type": "code",
            "execution_count": null,
            "metadata": {},
            "outputs": [],
            "source": [
                "print(res[1][0])\n",
                "res[1][1].head()"
            ]
        }
    ],
    "metadata": {
        "interpreter": {
            "hash": "088070de2c6b4023b2f7ae556c412f86bcd02589c7bdb3766a0caf3cf4813fbd"
        },
        "kernelspec": {
            "display_name": "Python 3.9.13 ('road')",
            "language": "python",
            "name": "python3"
        },
        "language_info": {
            "codemirror_mode": {
                "name": "ipython",
                "version": 3
            },
            "file_extension": ".py",
            "mimetype": "text/x-python",
            "name": "python",
            "nbconvert_exporter": "python",
            "pygments_lexer": "ipython3",
            "version": "3.9.13"
        },
        "orig_nbformat": 4
    },
    "nbformat": 4,
    "nbformat_minor": 2
}
