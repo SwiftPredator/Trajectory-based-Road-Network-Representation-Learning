{
 "cells": [
  {
   "cell_type": "code",
   "execution_count": 1,
   "metadata": {},
   "outputs": [],
   "source": [
    "import pandas as pd\n",
    "import os\n",
    "import glob"
   ]
  },
  {
   "cell_type": "code",
   "execution_count": 13,
   "metadata": {},
   "outputs": [],
   "source": [
    "root = \"./results/temporal_evaluation_results/\"\n",
    "df = pd.DataFrame()\n",
    "for filename in glob.iglob(root + '**/nextlocation.csv', recursive=True):\n",
    "     temp = pd.read_csv(filename)\n",
    "     df = pd.concat([df, temp], axis=0)"
   ]
  },
  {
   "cell_type": "code",
   "execution_count": 14,
   "metadata": {},
   "outputs": [
    {
     "data": {
      "text/html": [
       "<div>\n",
       "<style scoped>\n",
       "    .dataframe tbody tr th:only-of-type {\n",
       "        vertical-align: middle;\n",
       "    }\n",
       "\n",
       "    .dataframe tbody tr th {\n",
       "        vertical-align: top;\n",
       "    }\n",
       "\n",
       "    .dataframe thead th {\n",
       "        text-align: right;\n",
       "    }\n",
       "</style>\n",
       "<table border=\"1\" class=\"dataframe\">\n",
       "  <thead>\n",
       "    <tr style=\"text-align: right;\">\n",
       "      <th></th>\n",
       "      <th>accuracy</th>\n",
       "    </tr>\n",
       "    <tr>\n",
       "      <th>Unnamed: 0</th>\n",
       "      <th></th>\n",
       "    </tr>\n",
       "  </thead>\n",
       "  <tbody>\n",
       "    <tr>\n",
       "      <th>gaegcn</th>\n",
       "      <td>0.559125</td>\n",
       "    </tr>\n",
       "    <tr>\n",
       "      <th>node2vec</th>\n",
       "      <td>0.664659</td>\n",
       "    </tr>\n",
       "    <tr>\n",
       "      <th>tgcn</th>\n",
       "      <td>0.621374</td>\n",
       "    </tr>\n",
       "    <tr>\n",
       "      <th>tgtc</th>\n",
       "      <td>0.654842</td>\n",
       "    </tr>\n",
       "    <tr>\n",
       "      <th>tgtc-fusion</th>\n",
       "      <td>0.474788</td>\n",
       "    </tr>\n",
       "  </tbody>\n",
       "</table>\n",
       "</div>"
      ],
      "text/plain": [
       "             accuracy\n",
       "Unnamed: 0           \n",
       "gaegcn       0.559125\n",
       "node2vec     0.664659\n",
       "tgcn         0.621374\n",
       "tgtc         0.654842\n",
       "tgtc-fusion  0.474788"
      ]
     },
     "execution_count": 14,
     "metadata": {},
     "output_type": "execute_result"
    }
   ],
   "source": [
    "df.groupby(\"Unnamed: 0\")[[\"accuracy\"]].agg(\"mean\")"
   ]
  },
  {
   "cell_type": "code",
   "execution_count": 10,
   "metadata": {},
   "outputs": [
    {
     "data": {
      "text/html": [
       "<div>\n",
       "<style scoped>\n",
       "    .dataframe tbody tr th:only-of-type {\n",
       "        vertical-align: middle;\n",
       "    }\n",
       "\n",
       "    .dataframe tbody tr th {\n",
       "        vertical-align: top;\n",
       "    }\n",
       "\n",
       "    .dataframe thead th {\n",
       "        text-align: right;\n",
       "    }\n",
       "</style>\n",
       "<table border=\"1\" class=\"dataframe\">\n",
       "  <thead>\n",
       "    <tr style=\"text-align: right;\">\n",
       "      <th></th>\n",
       "      <th>Unnamed: 0</th>\n",
       "      <th>f1_micro</th>\n",
       "      <th>f1_macro</th>\n",
       "      <th>f1_weighted</th>\n",
       "      <th>accuracy</th>\n",
       "      <th>AUC</th>\n",
       "      <th>seed</th>\n",
       "    </tr>\n",
       "  </thead>\n",
       "  <tbody>\n",
       "    <tr>\n",
       "      <th>0</th>\n",
       "      <td>tgtc-fusion</td>\n",
       "      <td>0.841154</td>\n",
       "      <td>0.549424</td>\n",
       "      <td>0.829969</td>\n",
       "      <td>0.841154</td>\n",
       "      <td>NaN</td>\n",
       "      <td>69</td>\n",
       "    </tr>\n",
       "    <tr>\n",
       "      <th>0</th>\n",
       "      <td>tgtc</td>\n",
       "      <td>0.629577</td>\n",
       "      <td>0.485075</td>\n",
       "      <td>0.623317</td>\n",
       "      <td>0.629577</td>\n",
       "      <td>NaN</td>\n",
       "      <td>69</td>\n",
       "    </tr>\n",
       "    <tr>\n",
       "      <th>0</th>\n",
       "      <td>tgcn</td>\n",
       "      <td>0.666824</td>\n",
       "      <td>0.336560</td>\n",
       "      <td>0.653190</td>\n",
       "      <td>0.666824</td>\n",
       "      <td>NaN</td>\n",
       "      <td>69</td>\n",
       "    </tr>\n",
       "    <tr>\n",
       "      <th>0</th>\n",
       "      <td>node2vec</td>\n",
       "      <td>0.532170</td>\n",
       "      <td>0.217230</td>\n",
       "      <td>0.521193</td>\n",
       "      <td>0.532170</td>\n",
       "      <td>NaN</td>\n",
       "      <td>69</td>\n",
       "    </tr>\n",
       "  </tbody>\n",
       "</table>\n",
       "</div>"
      ],
      "text/plain": [
       "    Unnamed: 0  f1_micro  f1_macro  f1_weighted  accuracy  AUC  seed\n",
       "0  tgtc-fusion  0.841154  0.549424     0.829969  0.841154  NaN    69\n",
       "0         tgtc  0.629577  0.485075     0.623317  0.629577  NaN    69\n",
       "0         tgcn  0.666824  0.336560     0.653190  0.666824  NaN    69\n",
       "0     node2vec  0.532170  0.217230     0.521193  0.532170  NaN    69"
      ]
     },
     "execution_count": 10,
     "metadata": {},
     "output_type": "execute_result"
    }
   ],
   "source": [
    "df"
   ]
  },
  {
   "cell_type": "code",
   "execution_count": 4,
   "metadata": {},
   "outputs": [],
   "source": [
    "df.to_csv(\"./results/sf_final_results_reproducable/traveltime.csv\")"
   ]
  }
 ],
 "metadata": {
  "kernelspec": {
   "display_name": "Python 3.9.13 ('road')",
   "language": "python",
   "name": "python3"
  },
  "language_info": {
   "codemirror_mode": {
    "name": "ipython",
    "version": 3
   },
   "file_extension": ".py",
   "mimetype": "text/x-python",
   "name": "python",
   "nbconvert_exporter": "python",
   "pygments_lexer": "ipython3",
   "version": "3.9.13"
  },
  "orig_nbformat": 4,
  "vscode": {
   "interpreter": {
    "hash": "088070de2c6b4023b2f7ae556c412f86bcd02589c7bdb3766a0caf3cf4813fbd"
   }
  }
 },
 "nbformat": 4,
 "nbformat_minor": 2
}
